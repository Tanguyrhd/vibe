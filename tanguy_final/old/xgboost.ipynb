{
 "cells": [
  {
   "cell_type": "code",
   "execution_count": 1,
   "id": "2775407a",
   "metadata": {},
   "outputs": [],
   "source": [
    "import pandas as pd"
   ]
  },
  {
   "cell_type": "code",
   "execution_count": 2,
   "id": "7189f5fe",
   "metadata": {},
   "outputs": [
    {
     "data": {
      "text/html": [
       "<div>\n",
       "<style scoped>\n",
       "    .dataframe tbody tr th:only-of-type {\n",
       "        vertical-align: middle;\n",
       "    }\n",
       "\n",
       "    .dataframe tbody tr th {\n",
       "        vertical-align: top;\n",
       "    }\n",
       "\n",
       "    .dataframe thead th {\n",
       "        text-align: right;\n",
       "    }\n",
       "</style>\n",
       "<table border=\"1\" class=\"dataframe\">\n",
       "  <thead>\n",
       "    <tr style=\"text-align: right;\">\n",
       "      <th></th>\n",
       "      <th>type</th>\n",
       "      <th>posts</th>\n",
       "    </tr>\n",
       "  </thead>\n",
       "  <tbody>\n",
       "    <tr>\n",
       "      <th>0</th>\n",
       "      <td>INFJ</td>\n",
       "      <td>'http://www.youtube.com/watch?v=qsXHcwe3krw|||...</td>\n",
       "    </tr>\n",
       "    <tr>\n",
       "      <th>1</th>\n",
       "      <td>ENTP</td>\n",
       "      <td>'I'm finding the lack of me in these posts ver...</td>\n",
       "    </tr>\n",
       "    <tr>\n",
       "      <th>2</th>\n",
       "      <td>INTP</td>\n",
       "      <td>'Good one  _____   https://www.youtube.com/wat...</td>\n",
       "    </tr>\n",
       "    <tr>\n",
       "      <th>3</th>\n",
       "      <td>INTJ</td>\n",
       "      <td>'Dear INTP,   I enjoyed our conversation the o...</td>\n",
       "    </tr>\n",
       "    <tr>\n",
       "      <th>4</th>\n",
       "      <td>ENTJ</td>\n",
       "      <td>'You're fired.|||That's another silly misconce...</td>\n",
       "    </tr>\n",
       "  </tbody>\n",
       "</table>\n",
       "</div>"
      ],
      "text/plain": [
       "   type                                              posts\n",
       "0  INFJ  'http://www.youtube.com/watch?v=qsXHcwe3krw|||...\n",
       "1  ENTP  'I'm finding the lack of me in these posts ver...\n",
       "2  INTP  'Good one  _____   https://www.youtube.com/wat...\n",
       "3  INTJ  'Dear INTP,   I enjoyed our conversation the o...\n",
       "4  ENTJ  'You're fired.|||That's another silly misconce..."
      ]
     },
     "execution_count": 2,
     "metadata": {},
     "output_type": "execute_result"
    }
   ],
   "source": [
    "df = pd.read_csv('../raw_data/mbti_1.csv')\n",
    "df.head(5)"
   ]
  },
  {
   "cell_type": "code",
   "execution_count": 3,
   "id": "481c995f",
   "metadata": {},
   "outputs": [],
   "source": [
    "import re\n",
    "\n",
    "def clean_posts(text):\n",
    "    # Split the tweets on ||||\n",
    "    tweets = text.split(\"|||\")\n",
    "    cleaned = []\n",
    "\n",
    "    for tweet in tweets:\n",
    "        # Remove mentions\n",
    "        tweet = re.sub(r'@\\w+', '', tweet)\n",
    "        # Remove URLs\n",
    "        tweet = re.sub(r'http\\S+', '', tweet)\n",
    "        # Normalize unicode quotes and dashes (optional)\n",
    "        tweet = tweet.replace('’', \"'\").replace('“', '\"').replace('”', '\"')\n",
    "        # Keep basic punctuation, remove other non-letter characters\n",
    "        tweet = re.sub(r'[^a-zA-Z0-9\\s.,!?\\'\"]', '', tweet)\n",
    "        # Remove extra whitespace\n",
    "        tweet = re.sub(r'\\s+', ' ', tweet).strip()\n",
    "        # Lowercase\n",
    "        tweet = tweet.lower()\n",
    "        # Append only if not empty\n",
    "        if tweet:\n",
    "            cleaned.append(tweet)\n",
    "\n",
    "    # Join tweets with a period and line break for readability\n",
    "    return \". \".join(cleaned)\n",
    "\n",
    "df['clean_text'] = df['posts'].apply(clean_posts)"
   ]
  },
  {
   "cell_type": "code",
   "execution_count": 4,
   "id": "5c780f40",
   "metadata": {},
   "outputs": [],
   "source": [
    "custom_stopwords = {\n",
    "    \"intj\", \"intp\", \"entj\", \"entp\",\n",
    "    \"infj\", \"infp\", \"enfj\", \"enfp\",\n",
    "    \"istj\", \"isfj\", \"estj\", \"esfj\",\n",
    "    \"istp\", \"isfp\", \"estp\", \"esfp\",\n",
    "    \"intjs\", \"intps\", \"entjs\", \"entps\",\n",
    "    \"infjs\", \"infps\", \"enfjs\", \"enfps\",\n",
    "    \"istjs\", \"isfjs\", \"estjs\", \"esfjs\",\n",
    "    \"istps\", \"isfps\", \"estps\", \"esfps\"\n",
    "}\n",
    "\n",
    "# Création d'un pattern regex pour supprimer tous les mots MBTI\n",
    "pattern = r'\\b(?:' + '|'.join(re.escape(word) for word in custom_stopwords) + r')\\b'\n",
    "\n",
    "# Suppression dans la colonne 'clean_text' (insensible à la casse)\n",
    "df['clean_text'] = df['clean_text'].str.replace(pattern, '', flags=re.IGNORECASE, regex=True)\n",
    "\n",
    "# Suppression des espaces multiples (optionnel pour nettoyer)\n",
    "df['clean_text'] = df['clean_text'].str.replace(r'\\s+', ' ', regex=True).str.strip()"
   ]
  },
  {
   "cell_type": "code",
   "execution_count": 5,
   "id": "f2b1cc47",
   "metadata": {},
   "outputs": [],
   "source": [
    "!pip install langchain --q"
   ]
  },
  {
   "cell_type": "code",
   "execution_count": null,
   "id": "8a1320ab",
   "metadata": {},
   "outputs": [],
   "source": [
    "from langchain.text_splitter import RecursiveCharacterTextSplitter\n",
    "from langchain.schema import Document\n",
    "\n",
    "# Initialize the text splitter: ~350 words ≈ 2000 characters\n",
    "text_splitter = RecursiveCharacterTextSplitter(\n",
    "    chunk_size=2000,    # chunk_size in characters, not words\n",
    "    chunk_overlap=300   # to maintain context between chunks\n",
    ")\n",
    "\n",
    "# Create a list to hold the split results\n",
    "split_rows = []\n",
    "\n",
    "# Loop through each row in the DataFrame\n",
    "for idx, row in df.iterrows():\n",
    "    doc = Document(\n",
    "        page_content=row['clean_text'],\n",
    "        metadata={'index': idx, 'type': row['type']}  # Store row metadata\n",
    "    )\n",
    "\n",
    "    # Split document into chunks\n",
    "    chunks = text_splitter.split_documents([doc])\n",
    "\n",
    "    # Append each chunk as a new row, with original metadata\n",
    "    for i, chunk in enumerate(chunks):\n",
    "        split_rows.append({\n",
    "            'original_index': idx,\n",
    "            'type': row['type'],\n",
    "            'chunk_id': i,\n",
    "            'text_chunk': chunk.page_content,\n",
    "            'text_length_words': len(chunk.page_content.split())\n",
    "        })\n",
    "\n",
    "# Create a new DataFrame with the split chunks\n",
    "df_chunks = pd.DataFrame(split_rows)"
   ]
  },
  {
   "cell_type": "code",
   "execution_count": 7,
   "id": "7eb95b6f",
   "metadata": {},
   "outputs": [
    {
     "data": {
      "text/html": [
       "<div>\n",
       "<style scoped>\n",
       "    .dataframe tbody tr th:only-of-type {\n",
       "        vertical-align: middle;\n",
       "    }\n",
       "\n",
       "    .dataframe tbody tr th {\n",
       "        vertical-align: top;\n",
       "    }\n",
       "\n",
       "    .dataframe thead th {\n",
       "        text-align: right;\n",
       "    }\n",
       "</style>\n",
       "<table border=\"1\" class=\"dataframe\">\n",
       "  <thead>\n",
       "    <tr style=\"text-align: right;\">\n",
       "      <th></th>\n",
       "      <th>original_index</th>\n",
       "      <th>type</th>\n",
       "      <th>chunk_id</th>\n",
       "      <th>text_chunk</th>\n",
       "      <th>text_length_words</th>\n",
       "    </tr>\n",
       "  </thead>\n",
       "  <tbody>\n",
       "    <tr>\n",
       "      <th>0</th>\n",
       "      <td>0</td>\n",
       "      <td>INFJ</td>\n",
       "      <td>0</td>\n",
       "      <td>'. and moments sportscenter not top ten plays ...</td>\n",
       "      <td>346</td>\n",
       "    </tr>\n",
       "    <tr>\n",
       "      <th>1</th>\n",
       "      <td>0</td>\n",
       "      <td>INFJ</td>\n",
       "      <td>1</td>\n",
       "      <td>and even then you verbally fatigue quickly.. i...</td>\n",
       "      <td>279</td>\n",
       "    </tr>\n",
       "    <tr>\n",
       "      <th>2</th>\n",
       "      <td>1</td>\n",
       "      <td>ENTP</td>\n",
       "      <td>0</td>\n",
       "      <td>'i'm finding the lack of me in these posts ver...</td>\n",
       "      <td>374</td>\n",
       "    </tr>\n",
       "    <tr>\n",
       "      <th>3</th>\n",
       "      <td>1</td>\n",
       "      <td>ENTP</td>\n",
       "      <td>1</td>\n",
       "      <td>you hear about that new first person shooter g...</td>\n",
       "      <td>394</td>\n",
       "    </tr>\n",
       "    <tr>\n",
       "      <th>4</th>\n",
       "      <td>1</td>\n",
       "      <td>ENTP</td>\n",
       "      <td>2</td>\n",
       "      <td>a little crush on me. i get red.... tt you jus...</td>\n",
       "      <td>395</td>\n",
       "    </tr>\n",
       "  </tbody>\n",
       "</table>\n",
       "</div>"
      ],
      "text/plain": [
       "   original_index  type  chunk_id  \\\n",
       "0               0  INFJ         0   \n",
       "1               0  INFJ         1   \n",
       "2               1  ENTP         0   \n",
       "3               1  ENTP         1   \n",
       "4               1  ENTP         2   \n",
       "\n",
       "                                          text_chunk  text_length_words  \n",
       "0  '. and moments sportscenter not top ten plays ...                346  \n",
       "1  and even then you verbally fatigue quickly.. i...                279  \n",
       "2  'i'm finding the lack of me in these posts ver...                374  \n",
       "3  you hear about that new first person shooter g...                394  \n",
       "4  a little crush on me. i get red.... tt you jus...                395  "
      ]
     },
     "execution_count": 7,
     "metadata": {},
     "output_type": "execute_result"
    }
   ],
   "source": [
    "df_chunks.head()"
   ]
  },
  {
   "cell_type": "code",
   "execution_count": 8,
   "id": "b3a657e4",
   "metadata": {},
   "outputs": [
    {
     "name": "stdout",
     "output_type": "stream",
     "text": [
      "<class 'pandas.core.frame.DataFrame'>\n",
      "RangeIndex: 37785 entries, 0 to 37784\n",
      "Data columns (total 5 columns):\n",
      " #   Column             Non-Null Count  Dtype \n",
      "---  ------             --------------  ----- \n",
      " 0   original_index     37785 non-null  int64 \n",
      " 1   type               37785 non-null  object\n",
      " 2   chunk_id           37785 non-null  int64 \n",
      " 3   text_chunk         37785 non-null  object\n",
      " 4   text_length_words  37785 non-null  int64 \n",
      "dtypes: int64(3), object(2)\n",
      "memory usage: 1.4+ MB\n"
     ]
    }
   ],
   "source": [
    "df_chunks.info()"
   ]
  },
  {
   "cell_type": "code",
   "execution_count": 9,
   "id": "3c875754",
   "metadata": {},
   "outputs": [
    {
     "data": {
      "image/png": "[encoded data removed]",
      "text/plain": [
       "<Figure size 1000x600 with 1 Axes>"
      ]
     },
     "metadata": {},
     "output_type": "display_data"
    }
   ],
   "source": [
    "import seaborn as sns\n",
    "import matplotlib.pyplot as plt\n",
    "\n",
    "plt.figure(figsize=(10, 6))\n",
    "sns.histplot(df_chunks['text_length_words'], bins=50, kde=True)\n",
    "plt.title(\"Distribution de la longueur des tweets (en mots)\")\n",
    "plt.xlabel(\"Nombre de mots\")\n",
    "plt.ylabel(\"Fréquence\")\n",
    "plt.grid(True)\n",
    "plt.show()"
   ]
  },
  {
   "cell_type": "code",
   "execution_count": 10,
   "id": "b094b58d",
   "metadata": {},
   "outputs": [],
   "source": [
    "df_chunks = df_chunks[df_chunks['text_length_words'] > 320]\n",
    "df_chunks = df_chunks[df_chunks['text_length_words'] < 400]"
   ]
  },
  {
   "cell_type": "code",
   "execution_count": 11,
   "id": "93d39e35",
   "metadata": {},
   "outputs": [
    {
     "data": {
      "image/png": "[encoded data removed]",
      "text/plain": [
       "<Figure size 1000x600 with 1 Axes>"
      ]
     },
     "metadata": {},
     "output_type": "display_data"
    }
   ],
   "source": [
    "plt.figure(figsize=(10, 6))\n",
    "sns.histplot(df_chunks['text_length_words'], bins=50, kde=True)\n",
    "plt.title(\"Distribution de la longueur des tweets (en mots)\")\n",
    "plt.xlabel(\"Nombre de mots\")\n",
    "plt.ylabel(\"Fréquence\")\n",
    "plt.grid(True)\n",
    "plt.show()"
   ]
  },
  {
   "cell_type": "code",
   "execution_count": 12,
   "id": "dfda56b1",
   "metadata": {},
   "outputs": [
    {
     "data": {
      "image/png": "[encoded data removed]",
      "text/plain": [
       "<Figure size 1000x1200 with 2 Axes>"
      ]
     },
     "metadata": {},
     "output_type": "display_data"
    }
   ],
   "source": [
    "type_distribution = df_chunks['type'].value_counts(normalize=True).sort_values(ascending=False)\n",
    "\n",
    "fig, axes = plt.subplots(2, 1, figsize=(10, 12))\n",
    "\n",
    "# --- pie plot ---\n",
    "axes[0].pie(\n",
    "    type_distribution,\n",
    "    labels=[f\"{t} ({p*100:.1f}%)\" for t, p in type_distribution.items()],\n",
    "    autopct=None,\n",
    "    startangle=90,\n",
    "    counterclock=False\n",
    ")\n",
    "axes[0].set_title(\"Répartition des types MBTI (camembert)\")\n",
    "\n",
    "# --- Hist plot ---\n",
    "axes[1].bar(type_distribution.index, type_distribution.values, color='skyblue')\n",
    "axes[1].set_title(\"Répartition des types MBTI (histogramme)\")\n",
    "axes[1].set_ylabel(\"Proportion\")\n",
    "axes[1].set_xlabel(\"Type MBTI\")\n",
    "\n",
    "plt.tight_layout()\n",
    "plt.show()"
   ]
  },
  {
   "cell_type": "code",
   "execution_count": 16,
   "id": "d9747c8a",
   "metadata": {},
   "outputs": [
    {
     "name": "stdout",
     "output_type": "stream",
     "text": [
      "<class 'pandas.core.frame.DataFrame'>\n",
      "Index: 30017 entries, 0 to 37783\n",
      "Data columns (total 5 columns):\n",
      " #   Column             Non-Null Count  Dtype \n",
      "---  ------             --------------  ----- \n",
      " 0   original_index     30017 non-null  int64 \n",
      " 1   type               30017 non-null  object\n",
      " 2   chunk_id           30017 non-null  int64 \n",
      " 3   text_chunk         30017 non-null  object\n",
      " 4   text_length_words  30017 non-null  int64 \n",
      "dtypes: int64(3), object(2)\n",
      "memory usage: 1.4+ MB\n"
     ]
    }
   ],
   "source": [
    "df_chunks.info()"
   ]
  },
  {
   "cell_type": "code",
   "execution_count": 17,
   "id": "bffca85d",
   "metadata": {},
   "outputs": [
    {
     "data": {
      "text/plain": [
       "\"'. and moments sportscenter not top ten plays pranks. what has been the most lifechanging experience in your life?. on repeat for most of today.. may the perc experience immerse you.. the last thing my friend posted on his facebook before committing suicide the next day. rest in peace. hello enfj7. sorry to hear of your distress. it's only natural for a relationship to not be perfection all the time in every moment of existence. try to figure the hard times as times of growth, as.... 84389 84390 .... welcome and stuff.. game. set. match.. prozac, wellbrutin, at least thirty minutes of moving your legs and i don't mean moving them while sitting in your same desk chair, weed in moderation maybe try edibles as a healthier alternative.... basically come up with three items you've determined that each type or whichever types you want to do would more than likely use, given each types' cognitive functions and whatnot, when left by.... all things in moderation. sims is indeed a video game, and a good one at that. note a good one at that is somewhat subjective in that i am not completely promoting the death of any given sim.... dear what were your favorite video games growing up and what are your now, current favorite video games? cool. it appears to be too late. sad. there's someone out there for everyone.. wait... i thought confidence was a good thing.. i just cherish the time of solitude bc i revel within my inner world more whereas most other time i'd be workin... just enjoy the me time while you can. don't worry, people will always be around to.... yo ladies... if you're into a complimentary personality,well, hey.. ... when your main social outlet is xbox live conversations and even then you verbally fatigue quickly.. i really dig the part from 146 to 250. banned because this thread requires it of me.. get high in backyard, roast and eat marshmellows in backyard while conversing over something intellectual, followed by massages and kisses.. banned for too many b's in\""
      ]
     },
     "execution_count": 17,
     "metadata": {},
     "output_type": "execute_result"
    }
   ],
   "source": [
    "df_chunks['text_chunk'][0]"
   ]
  },
  {
   "cell_type": "code",
   "execution_count": 18,
   "id": "a622260b",
   "metadata": {},
   "outputs": [],
   "source": [
    "# Create one binary column for each MBTI letter\n",
    "df_chunks['IE'] = df_chunks['type'].apply(lambda x: 1 if x[0] == 'I' else 0)\n",
    "df_chunks['NS'] = df_chunks['type'].apply(lambda x: 1 if x[1] == 'N' else 0)\n",
    "df_chunks['TF'] = df_chunks['type'].apply(lambda x: 1 if x[2] == 'T' else 0)\n",
    "df_chunks['JP'] = df_chunks['type'].apply(lambda x: 1 if x[3] == 'J' else 0)"
   ]
  },
  {
   "cell_type": "code",
   "execution_count": 19,
   "id": "a67c0bfd",
   "metadata": {},
   "outputs": [
    {
     "name": "stdout",
     "output_type": "stream",
     "text": [
      "balance of the target ie : IE\n",
      "1    0.771996\n",
      "0    0.228004\n",
      "Name: proportion, dtype: float64\n",
      "balance of the target ns :NS\n",
      "1    0.869774\n",
      "0    0.130226\n",
      "Name: proportion, dtype: float64\n",
      "balance of the target tf :TF\n",
      "0    0.551121\n",
      "1    0.448879\n",
      "Name: proportion, dtype: float64\n",
      "balance of the target jp :JP\n",
      "0    0.597961\n",
      "1    0.402039\n",
      "Name: proportion, dtype: float64\n"
     ]
    }
   ],
   "source": [
    "print(f\"balance of the target ie : {df_chunks['IE'].value_counts(normalize=True)}\")\n",
    "print(f\"balance of the target ns :{df_chunks['NS'].value_counts(normalize=True)}\")\n",
    "print(f\"balance of the target tf :{df_chunks['TF'].value_counts(normalize=True)}\")\n",
    "print(f\"balance of the target jp :{df_chunks['JP'].value_counts(normalize=True)}\")"
   ]
  },
  {
   "cell_type": "code",
   "execution_count": 20,
   "id": "d709d0ca",
   "metadata": {},
   "outputs": [],
   "source": [
    "!pip install xgboost --q"
   ]
  },
  {
   "cell_type": "code",
   "execution_count": 23,
   "id": "3c0c6e9f",
   "metadata": {},
   "outputs": [
    {
     "data": {
      "text/html": [
       "<div>\n",
       "<style scoped>\n",
       "    .dataframe tbody tr th:only-of-type {\n",
       "        vertical-align: middle;\n",
       "    }\n",
       "\n",
       "    .dataframe tbody tr th {\n",
       "        vertical-align: top;\n",
       "    }\n",
       "\n",
       "    .dataframe thead th {\n",
       "        text-align: right;\n",
       "    }\n",
       "</style>\n",
       "<table border=\"1\" class=\"dataframe\">\n",
       "  <thead>\n",
       "    <tr style=\"text-align: right;\">\n",
       "      <th></th>\n",
       "      <th>original_index</th>\n",
       "      <th>type</th>\n",
       "      <th>chunk_id</th>\n",
       "      <th>text_chunk</th>\n",
       "      <th>text_length_words</th>\n",
       "      <th>IE</th>\n",
       "      <th>NS</th>\n",
       "      <th>TF</th>\n",
       "      <th>JP</th>\n",
       "    </tr>\n",
       "  </thead>\n",
       "  <tbody>\n",
       "    <tr>\n",
       "      <th>0</th>\n",
       "      <td>0</td>\n",
       "      <td>INFJ</td>\n",
       "      <td>0</td>\n",
       "      <td>'. and moments sportscenter not top ten plays ...</td>\n",
       "      <td>346</td>\n",
       "      <td>1</td>\n",
       "      <td>1</td>\n",
       "      <td>0</td>\n",
       "      <td>1</td>\n",
       "    </tr>\n",
       "    <tr>\n",
       "      <th>2</th>\n",
       "      <td>1</td>\n",
       "      <td>ENTP</td>\n",
       "      <td>0</td>\n",
       "      <td>'i'm finding the lack of me in these posts ver...</td>\n",
       "      <td>374</td>\n",
       "      <td>0</td>\n",
       "      <td>1</td>\n",
       "      <td>1</td>\n",
       "      <td>0</td>\n",
       "    </tr>\n",
       "    <tr>\n",
       "      <th>3</th>\n",
       "      <td>1</td>\n",
       "      <td>ENTP</td>\n",
       "      <td>1</td>\n",
       "      <td>you hear about that new first person shooter g...</td>\n",
       "      <td>394</td>\n",
       "      <td>0</td>\n",
       "      <td>1</td>\n",
       "      <td>1</td>\n",
       "      <td>0</td>\n",
       "    </tr>\n",
       "    <tr>\n",
       "      <th>4</th>\n",
       "      <td>1</td>\n",
       "      <td>ENTP</td>\n",
       "      <td>2</td>\n",
       "      <td>a little crush on me. i get red.... tt you jus...</td>\n",
       "      <td>395</td>\n",
       "      <td>0</td>\n",
       "      <td>1</td>\n",
       "      <td>1</td>\n",
       "      <td>0</td>\n",
       "    </tr>\n",
       "    <tr>\n",
       "      <th>6</th>\n",
       "      <td>2</td>\n",
       "      <td>INTP</td>\n",
       "      <td>0</td>\n",
       "      <td>'good one. of course, to which i say i know th...</td>\n",
       "      <td>362</td>\n",
       "      <td>1</td>\n",
       "      <td>1</td>\n",
       "      <td>1</td>\n",
       "      <td>0</td>\n",
       "    </tr>\n",
       "  </tbody>\n",
       "</table>\n",
       "</div>"
      ],
      "text/plain": [
       "   original_index  type  chunk_id  \\\n",
       "0               0  INFJ         0   \n",
       "2               1  ENTP         0   \n",
       "3               1  ENTP         1   \n",
       "4               1  ENTP         2   \n",
       "6               2  INTP         0   \n",
       "\n",
       "                                          text_chunk  text_length_words  IE  \\\n",
       "0  '. and moments sportscenter not top ten plays ...                346   1   \n",
       "2  'i'm finding the lack of me in these posts ver...                374   0   \n",
       "3  you hear about that new first person shooter g...                394   0   \n",
       "4  a little crush on me. i get red.... tt you jus...                395   0   \n",
       "6  'good one. of course, to which i say i know th...                362   1   \n",
       "\n",
       "   NS  TF  JP  \n",
       "0   1   0   1  \n",
       "2   1   1   0  \n",
       "3   1   1   0  \n",
       "4   1   1   0  \n",
       "6   1   1   0  "
      ]
     },
     "execution_count": 23,
     "metadata": {},
     "output_type": "execute_result"
    }
   ],
   "source": [
    "df_chunks.head()"
   ]
  },
  {
   "cell_type": "code",
   "execution_count": 41,
   "id": "373d30d9",
   "metadata": {},
   "outputs": [],
   "source": [
    "from sklearn.model_selection import train_test_split\n",
    "from sklearn.feature_extraction.text import TfidfVectorizer, ENGLISH_STOP_WORDS\n",
    "from xgboost import XGBClassifier\n",
    "from sklearn.metrics import classification_report"
   ]
  },
  {
   "cell_type": "code",
   "execution_count": 42,
   "id": "5efd3d2c",
   "metadata": {},
   "outputs": [],
   "source": [
    "vectorizer = TfidfVectorizer(max_features=20000,\n",
    "                             ngram_range=(1, 2),\n",
    "                             stop_words=list(ENGLISH_STOP_WORDS)\n",
    "                             )\n",
    "\n",
    "X = vectorizer.fit_transform(df_chunks[\"text_chunk\"])"
   ]
  },
  {
   "cell_type": "code",
   "execution_count": 43,
   "id": "01e37afd",
   "metadata": {},
   "outputs": [
    {
     "name": "stdout",
     "output_type": "stream",
     "text": [
      "              precision    recall  f1-score   support\n",
      "\n",
      "           0       0.51      0.10      0.17      1356\n",
      "           1       0.79      0.97      0.87      4648\n",
      "\n",
      "    accuracy                           0.77      6004\n",
      "   macro avg       0.65      0.54      0.52      6004\n",
      "weighted avg       0.72      0.77      0.71      6004\n",
      "\n"
     ]
    }
   ],
   "source": [
    "y_ie = df_chunks[\"IE\"]\n",
    "X_train_ie, X_test_ie, y_train_ie, y_test_ie = train_test_split(X, y_ie, test_size=0.2, random_state=42)\n",
    "model_ie = XGBClassifier(eval_metric='logloss')\n",
    "model_ie.fit(X_train_ie, y_train_ie)\n",
    "y_pred_ie = model_ie.predict(X_test_ie)\n",
    "print(classification_report(y_test_ie, y_pred_ie))"
   ]
  },
  {
   "cell_type": "code",
   "execution_count": 45,
   "id": "b1a6ae10",
   "metadata": {},
   "outputs": [
    {
     "name": "stdout",
     "output_type": "stream",
     "text": [
      "7w8: 0.0050\n",
      "8w7: 0.0041\n",
      "7w6: 0.0041\n",
      "neti: 0.0040\n",
      "ne: 0.0039\n",
      "haha: 0.0032\n",
      "introverted extroverts: 0.0029\n",
      "lol: 0.0029\n",
      "dear anonymous: 0.0028\n",
      "hahaha: 0.0028\n",
      "ambivert: 0.0028\n",
      "lame: 0.0028\n",
      "plans: 0.0026\n",
      "adhd: 0.0026\n",
      "8w9: 0.0025\n",
      "nah: 0.0025\n",
      "figure: 0.0025\n",
      "boredom: 0.0025\n",
      "affect: 0.0024\n",
      "hahah: 0.0024\n"
     ]
    }
   ],
   "source": [
    "# Get feature importances\n",
    "importances_ie = model_ie.feature_importances_  # shape: (num_features,)\n",
    "\n",
    "# Get the vocabulary (i.e., words) from the vectorizer\n",
    "feature_names_ie = vectorizer.get_feature_names_out()\n",
    "\n",
    "# Combine words with importances\n",
    "word_importances_ie = list(zip(feature_names_ie, importances_ie))\n",
    "\n",
    "# Sort by importance\n",
    "word_importances_ie = sorted(word_importances_ie, key=lambda x: x[1], reverse=True)\n",
    "\n",
    "# Show top 20 most important words\n",
    "for word, importance in word_importances_ie[:20]:\n",
    "    print(f\"{word}: {importance:.4f}\")"
   ]
  },
  {
   "cell_type": "code",
   "execution_count": 46,
   "id": "e51dfb28",
   "metadata": {},
   "outputs": [
    {
     "name": "stdout",
     "output_type": "stream",
     "text": [
      "              precision    recall  f1-score   support\n",
      "\n",
      "           0       0.58      0.04      0.08       794\n",
      "           1       0.87      1.00      0.93      5210\n",
      "\n",
      "    accuracy                           0.87      6004\n",
      "   macro avg       0.73      0.52      0.51      6004\n",
      "weighted avg       0.83      0.87      0.82      6004\n",
      "\n"
     ]
    }
   ],
   "source": [
    "y_ns = df_chunks[\"NS\"]\n",
    "X_train_ns, X_test_ns, y_train_ns, y_test_ns = train_test_split(X, y_ns, test_size=0.2, random_state=42)\n",
    "model_ns = XGBClassifier(eval_metric='logloss')\n",
    "model_ns.fit(X_train_ns, y_train_ns)\n",
    "y_pred_ns = model_ns.predict(X_test_ns)\n",
    "print(classification_report(y_test_ns, y_pred_ns))"
   ]
  },
  {
   "cell_type": "code",
   "execution_count": 47,
   "id": "6ceddac9",
   "metadata": {},
   "outputs": [
    {
     "name": "stdout",
     "output_type": "stream",
     "text": [
      "rave: 0.0065\n",
      "stressful: 0.0046\n",
      "inferior ne: 0.0042\n",
      "niss: 0.0038\n",
      "biking: 0.0038\n",
      "fixing: 0.0038\n",
      "sela: 0.0037\n",
      "human: 0.0034\n",
      "clique: 0.0034\n",
      "little things: 0.0033\n",
      "tini: 0.0031\n",
      "se: 0.0031\n",
      "divorce: 0.0030\n",
      "car: 0.0029\n",
      "hobbies: 0.0029\n",
      "sport: 0.0028\n",
      "don like: 0.0028\n",
      "drives: 0.0028\n",
      "sj: 0.0028\n",
      "johnson: 0.0027\n"
     ]
    }
   ],
   "source": [
    "# Get feature importances\n",
    "importances_ns = model_ns.feature_importances_  # shape: (num_features,)\n",
    "\n",
    "# Get the vocabulary (i.e., words) from the vectorizer\n",
    "feature_names_ns = vectorizer.get_feature_names_out()\n",
    "\n",
    "# Combine words with importances\n",
    "word_importances_ns = list(zip(feature_names_ns, importances_ns))\n",
    "\n",
    "# Sort by importance\n",
    "word_importances_ns = sorted(word_importances_ns, key=lambda x: x[1], reverse=True)\n",
    "\n",
    "# Show top 20 most important words\n",
    "for word, importance in word_importances_ns[:20]:\n",
    "    print(f\"{word}: {importance:.4f}\")"
   ]
  },
  {
   "cell_type": "code",
   "execution_count": 48,
   "id": "bd191817",
   "metadata": {},
   "outputs": [
    {
     "name": "stdout",
     "output_type": "stream",
     "text": [
      "              precision    recall  f1-score   support\n",
      "\n",
      "           0       0.71      0.77      0.74      3303\n",
      "           1       0.68      0.62      0.65      2701\n",
      "\n",
      "    accuracy                           0.70      6004\n",
      "   macro avg       0.70      0.69      0.69      6004\n",
      "weighted avg       0.70      0.70      0.70      6004\n",
      "\n"
     ]
    }
   ],
   "source": [
    "y_tf = df_chunks[\"TF\"]\n",
    "X_train_tf, X_test_tf, y_train_tf, y_test_tf = train_test_split(X, y_tf, test_size=0.2, random_state=42)\n",
    "model_tf = XGBClassifier(eval_metric='logloss')\n",
    "model_tf.fit(X_train_tf, y_train_tf)\n",
    "y_pred_tf = model_tf.predict(X_test_tf)\n",
    "print(classification_report(y_test_tf, y_pred_tf))"
   ]
  },
  {
   "cell_type": "code",
   "execution_count": 49,
   "id": "ab63ce8f",
   "metadata": {},
   "outputs": [
    {
     "name": "stdout",
     "output_type": "stream",
     "text": [
      "feel: 0.0051\n",
      "physics: 0.0042\n",
      "beautiful: 0.0041\n",
      "heart: 0.0040\n",
      "rational: 0.0038\n",
      "lately: 0.0036\n",
      "happy: 0.0035\n",
      "dream: 0.0034\n",
      "requires: 0.0032\n",
      "fucking: 0.0032\n",
      "ti: 0.0032\n",
      "knowledge: 0.0031\n",
      "love: 0.0031\n",
      "dreams: 0.0030\n",
      "sensitive: 0.0030\n",
      "wonderful: 0.0029\n",
      "shy: 0.0029\n",
      "felt: 0.0028\n",
      "hi: 0.0028\n",
      "intelligence: 0.0027\n"
     ]
    }
   ],
   "source": [
    "# Get feature importances\n",
    "importances_tf = model_tf.feature_importances_  # shape: (num_features,)\n",
    "\n",
    "# Get the vocabulary (i.e., words) from the vectorizer\n",
    "feature_names_tf = vectorizer.get_feature_names_out()\n",
    "\n",
    "# Combine words with importances\n",
    "word_importances_tf = list(zip(feature_names_tf, importances_tf))\n",
    "\n",
    "# Sort by importance\n",
    "word_importances_tf = sorted(word_importances_tf, key=lambda x: x[1], reverse=True)\n",
    "\n",
    "# Show top 20 most important words\n",
    "for word, importance in word_importances_tf[:20]:\n",
    "    print(f\"{word}: {importance:.4f}\")"
   ]
  },
  {
   "cell_type": "code",
   "execution_count": 50,
   "id": "f7633cd0",
   "metadata": {},
   "outputs": [
    {
     "name": "stdout",
     "output_type": "stream",
     "text": [
      "              precision    recall  f1-score   support\n",
      "\n",
      "           0       0.64      0.82      0.72      3598\n",
      "           1       0.54      0.32      0.40      2406\n",
      "\n",
      "    accuracy                           0.62      6004\n",
      "   macro avg       0.59      0.57      0.56      6004\n",
      "weighted avg       0.60      0.62      0.59      6004\n",
      "\n"
     ]
    }
   ],
   "source": [
    "y_jp = df_chunks[\"JP\"]\n",
    "X_train_jp, X_test_jp, y_train_jp, y_test_jp = train_test_split(X, y_jp, test_size=0.2, random_state=42)\n",
    "model_jp = XGBClassifier(eval_metric='logloss')\n",
    "model_jp.fit(X_train_jp, y_train_jp)\n",
    "y_pred_jp = model_jp.predict(X_test_jp)\n",
    "print(classification_report(y_test_jp, y_pred_jp))"
   ]
  },
  {
   "cell_type": "code",
   "execution_count": 51,
   "id": "f1508298",
   "metadata": {},
   "outputs": [
    {
     "name": "stdout",
     "output_type": "stream",
     "text": [
      "ni: 0.0050\n",
      "affirmation: 0.0037\n",
      "fuck: 0.0035\n",
      "inferior se: 0.0032\n",
      "weed: 0.0031\n",
      "ne: 0.0031\n",
      "niti: 0.0029\n",
      "doorslam: 0.0028\n",
      "half: 0.0025\n",
      "observation: 0.0025\n",
      "plan: 0.0025\n",
      "friendship: 0.0025\n",
      "7w8: 0.0025\n",
      "creative: 0.0025\n",
      "typing: 0.0023\n",
      "rave: 0.0023\n",
      "medical: 0.0023\n",
      "cautious: 0.0023\n",
      "6w5: 0.0023\n",
      "dear: 0.0022\n"
     ]
    }
   ],
   "source": [
    "# Get feature importances\n",
    "importances_jp = model_jp.feature_importances_  # shape: (num_features,)\n",
    "\n",
    "# Get the vocabulary (i.e., words) from the vectorizer\n",
    "feature_names_jp = vectorizer.get_feature_names_out()\n",
    "\n",
    "# Combine words with importances\n",
    "word_importances_jp = list(zip(feature_names_jp, importances_jp))\n",
    "\n",
    "# Sort by importance\n",
    "word_importances_jp = sorted(word_importances_jp, key=lambda x: x[1], reverse=True)\n",
    "\n",
    "# Show top 20 most important words\n",
    "for word, importance in word_importances_jp[:20]:\n",
    "    print(f\"{word}: {importance:.4f}\")"
   ]
  },
  {
   "cell_type": "code",
   "execution_count": 52,
   "id": "9596e1d6",
   "metadata": {},
   "outputs": [],
   "source": [
    "ie_pred = ['i' if x == 1 else 'e' for x in y_pred_ie]\n",
    "ns_pred = ['n' if x == 1 else 's' for x in y_pred_ns]\n",
    "tf_pred = ['t' if x == 1 else 'f' for x in y_pred_tf]\n",
    "jp_pred = ['j' if x == 1 else 'p' for x in y_pred_jp]\n",
    "\n",
    "y_test_ie_l = ['i' if x == 1 else 'e' for x in y_test_ie]\n",
    "y_test_ns_l = ['n' if x == 1 else 's' for x in y_test_ns]\n",
    "y_test_tf_l = ['t' if x == 1 else 'f' for x in y_test_tf]\n",
    "y_test_jp_l = ['j' if x == 1 else 'p' for x in y_test_jp]"
   ]
  },
  {
   "cell_type": "code",
   "execution_count": 53,
   "id": "15f73d81",
   "metadata": {},
   "outputs": [],
   "source": [
    "# Create DataFrame\n",
    "df_pred = pd.DataFrame({\n",
    "    'IE': ie_pred,\n",
    "    'NS': ns_pred,\n",
    "    'TF': tf_pred,\n",
    "    'JP': jp_pred,\n",
    "    'IE_test': y_test_ie_l,\n",
    "    'NS_test': y_test_ns_l,\n",
    "    'TF_test': y_test_tf_l,\n",
    "    'JP_test': y_test_jp_l\n",
    "})\n",
    "\n",
    "df_pred['MBTI'] = df_pred['IE'] + df_pred['NS'] + df_pred['TF'] + df_pred['JP']\n",
    "df_pred['MBTI_test'] = df_pred['IE_test'] + df_pred['NS_test'] + df_pred['TF_test'] + df_pred['JP_test']"
   ]
  },
  {
   "cell_type": "code",
   "execution_count": 54,
   "id": "fcc45a20",
   "metadata": {},
   "outputs": [
    {
     "data": {
      "text/html": [
       "<div>\n",
       "<style scoped>\n",
       "    .dataframe tbody tr th:only-of-type {\n",
       "        vertical-align: middle;\n",
       "    }\n",
       "\n",
       "    .dataframe tbody tr th {\n",
       "        vertical-align: top;\n",
       "    }\n",
       "\n",
       "    .dataframe thead th {\n",
       "        text-align: right;\n",
       "    }\n",
       "</style>\n",
       "<table border=\"1\" class=\"dataframe\">\n",
       "  <thead>\n",
       "    <tr style=\"text-align: right;\">\n",
       "      <th></th>\n",
       "      <th>IE</th>\n",
       "      <th>NS</th>\n",
       "      <th>TF</th>\n",
       "      <th>JP</th>\n",
       "      <th>IE_test</th>\n",
       "      <th>NS_test</th>\n",
       "      <th>TF_test</th>\n",
       "      <th>JP_test</th>\n",
       "      <th>MBTI</th>\n",
       "      <th>MBTI_test</th>\n",
       "    </tr>\n",
       "  </thead>\n",
       "  <tbody>\n",
       "    <tr>\n",
       "      <th>0</th>\n",
       "      <td>i</td>\n",
       "      <td>n</td>\n",
       "      <td>f</td>\n",
       "      <td>p</td>\n",
       "      <td>i</td>\n",
       "      <td>n</td>\n",
       "      <td>t</td>\n",
       "      <td>j</td>\n",
       "      <td>infp</td>\n",
       "      <td>intj</td>\n",
       "    </tr>\n",
       "    <tr>\n",
       "      <th>1</th>\n",
       "      <td>i</td>\n",
       "      <td>n</td>\n",
       "      <td>t</td>\n",
       "      <td>p</td>\n",
       "      <td>e</td>\n",
       "      <td>s</td>\n",
       "      <td>t</td>\n",
       "      <td>j</td>\n",
       "      <td>intp</td>\n",
       "      <td>estj</td>\n",
       "    </tr>\n",
       "    <tr>\n",
       "      <th>2</th>\n",
       "      <td>i</td>\n",
       "      <td>n</td>\n",
       "      <td>f</td>\n",
       "      <td>j</td>\n",
       "      <td>i</td>\n",
       "      <td>n</td>\n",
       "      <td>f</td>\n",
       "      <td>j</td>\n",
       "      <td>infj</td>\n",
       "      <td>infj</td>\n",
       "    </tr>\n",
       "    <tr>\n",
       "      <th>3</th>\n",
       "      <td>i</td>\n",
       "      <td>n</td>\n",
       "      <td>f</td>\n",
       "      <td>p</td>\n",
       "      <td>i</td>\n",
       "      <td>s</td>\n",
       "      <td>f</td>\n",
       "      <td>p</td>\n",
       "      <td>infp</td>\n",
       "      <td>isfp</td>\n",
       "    </tr>\n",
       "    <tr>\n",
       "      <th>4</th>\n",
       "      <td>i</td>\n",
       "      <td>n</td>\n",
       "      <td>f</td>\n",
       "      <td>p</td>\n",
       "      <td>i</td>\n",
       "      <td>n</td>\n",
       "      <td>f</td>\n",
       "      <td>j</td>\n",
       "      <td>infp</td>\n",
       "      <td>infj</td>\n",
       "    </tr>\n",
       "    <tr>\n",
       "      <th>...</th>\n",
       "      <td>...</td>\n",
       "      <td>...</td>\n",
       "      <td>...</td>\n",
       "      <td>...</td>\n",
       "      <td>...</td>\n",
       "      <td>...</td>\n",
       "      <td>...</td>\n",
       "      <td>...</td>\n",
       "      <td>...</td>\n",
       "      <td>...</td>\n",
       "    </tr>\n",
       "    <tr>\n",
       "      <th>5999</th>\n",
       "      <td>i</td>\n",
       "      <td>n</td>\n",
       "      <td>t</td>\n",
       "      <td>p</td>\n",
       "      <td>i</td>\n",
       "      <td>n</td>\n",
       "      <td>f</td>\n",
       "      <td>j</td>\n",
       "      <td>intp</td>\n",
       "      <td>infj</td>\n",
       "    </tr>\n",
       "    <tr>\n",
       "      <th>6000</th>\n",
       "      <td>i</td>\n",
       "      <td>n</td>\n",
       "      <td>t</td>\n",
       "      <td>p</td>\n",
       "      <td>i</td>\n",
       "      <td>s</td>\n",
       "      <td>t</td>\n",
       "      <td>p</td>\n",
       "      <td>intp</td>\n",
       "      <td>istp</td>\n",
       "    </tr>\n",
       "    <tr>\n",
       "      <th>6001</th>\n",
       "      <td>i</td>\n",
       "      <td>n</td>\n",
       "      <td>f</td>\n",
       "      <td>j</td>\n",
       "      <td>i</td>\n",
       "      <td>n</td>\n",
       "      <td>f</td>\n",
       "      <td>j</td>\n",
       "      <td>infj</td>\n",
       "      <td>infj</td>\n",
       "    </tr>\n",
       "    <tr>\n",
       "      <th>6002</th>\n",
       "      <td>i</td>\n",
       "      <td>n</td>\n",
       "      <td>f</td>\n",
       "      <td>p</td>\n",
       "      <td>e</td>\n",
       "      <td>n</td>\n",
       "      <td>t</td>\n",
       "      <td>p</td>\n",
       "      <td>infp</td>\n",
       "      <td>entp</td>\n",
       "    </tr>\n",
       "    <tr>\n",
       "      <th>6003</th>\n",
       "      <td>i</td>\n",
       "      <td>n</td>\n",
       "      <td>f</td>\n",
       "      <td>p</td>\n",
       "      <td>e</td>\n",
       "      <td>n</td>\n",
       "      <td>t</td>\n",
       "      <td>j</td>\n",
       "      <td>infp</td>\n",
       "      <td>entj</td>\n",
       "    </tr>\n",
       "  </tbody>\n",
       "</table>\n",
       "<p>6004 rows × 10 columns</p>\n",
       "</div>"
      ],
      "text/plain": [
       "     IE NS TF JP IE_test NS_test TF_test JP_test  MBTI MBTI_test\n",
       "0     i  n  f  p       i       n       t       j  infp      intj\n",
       "1     i  n  t  p       e       s       t       j  intp      estj\n",
       "2     i  n  f  j       i       n       f       j  infj      infj\n",
       "3     i  n  f  p       i       s       f       p  infp      isfp\n",
       "4     i  n  f  p       i       n       f       j  infp      infj\n",
       "...  .. .. .. ..     ...     ...     ...     ...   ...       ...\n",
       "5999  i  n  t  p       i       n       f       j  intp      infj\n",
       "6000  i  n  t  p       i       s       t       p  intp      istp\n",
       "6001  i  n  f  j       i       n       f       j  infj      infj\n",
       "6002  i  n  f  p       e       n       t       p  infp      entp\n",
       "6003  i  n  f  p       e       n       t       j  infp      entj\n",
       "\n",
       "[6004 rows x 10 columns]"
      ]
     },
     "execution_count": 54,
     "metadata": {},
     "output_type": "execute_result"
    }
   ],
   "source": [
    "df_pred"
   ]
  },
  {
   "cell_type": "code",
   "execution_count": 55,
   "id": "3ff85810",
   "metadata": {},
   "outputs": [
    {
     "name": "stdout",
     "output_type": "stream",
     "text": [
      "Pourcentage de MBTI correctement prédits : 28.56%\n"
     ]
    }
   ],
   "source": [
    "accuracy = (df_pred['MBTI'] == df_pred['MBTI_test']).mean() * 100\n",
    "\n",
    "print(f\"Pourcentage de MBTI correctement prédits : {accuracy:.2f}%\")"
   ]
  },
  {
   "cell_type": "code",
   "execution_count": 56,
   "id": "1d25ca05",
   "metadata": {},
   "outputs": [
    {
     "name": "stdout",
     "output_type": "stream",
     "text": [
      "Pourcentage de IE correctement prédits : 77.48%\n",
      "Pourcentage de NS correctement prédits : 86.94%\n",
      "Pourcentage de TF correctement prédits : 69.85%\n",
      "Pourcentage de JP correctement prédits : 61.88%\n"
     ]
    }
   ],
   "source": [
    "accuracy_ie = (df_pred['IE'] == df_pred['IE_test']).mean() * 100\n",
    "accuracy_ns = (df_pred['NS'] == df_pred['NS_test']).mean() * 100\n",
    "accuracy_tf = (df_pred['TF'] == df_pred['TF_test']).mean() * 100\n",
    "accuracy_jp = (df_pred['JP'] == df_pred['JP_test']).mean() * 100\n",
    "\n",
    "\n",
    "print(f\"Pourcentage de IE correctement prédits : {accuracy_ie:.2f}%\")\n",
    "print(f\"Pourcentage de NS correctement prédits : {accuracy_ns:.2f}%\")\n",
    "print(f\"Pourcentage de TF correctement prédits : {accuracy_tf:.2f}%\")\n",
    "print(f\"Pourcentage de JP correctement prédits : {accuracy_jp:.2f}%\")"
   ]
  },
  {
   "cell_type": "code",
   "execution_count": null,
   "id": "d3c46137",
   "metadata": {},
   "outputs": [],
   "source": []
  },
  {
   "cell_type": "code",
   "execution_count": null,
   "id": "3b357199",
   "metadata": {},
   "outputs": [],
   "source": []
  },
  {
   "cell_type": "code",
   "execution_count": null,
   "id": "1a9686e7",
   "metadata": {},
   "outputs": [],
   "source": []
  },
  {
   "cell_type": "code",
   "execution_count": null,
   "id": "6043c671",
   "metadata": {},
   "outputs": [],
   "source": []
  }
 ],
 "metadata": {
  "kernelspec": {
   "display_name": "vibe",
   "language": "python",
   "name": "python3"
  },
  "language_info": {
   "codemirror_mode": {
    "name": "ipython",
    "version": 3
   },
   "file_extension": ".py",
   "mimetype": "text/x-python",
   "name": "python",
   "nbconvert_exporter": "python",
   "pygments_lexer": "ipython3",
   "version": "3.12.9"
  }
 },
 "nbformat": 4,
 "nbformat_minor": 5
}
