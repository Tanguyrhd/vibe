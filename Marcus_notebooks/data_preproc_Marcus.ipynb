{
 "cells": [
  {
   "cell_type": "code",
   "execution_count": 6,
   "id": "b98ff2fc-6e4f-482a-ac6f-6329917ea117",
   "metadata": {
    "execution": {
     "iopub.execute_input": "2025-06-02T17:58:18.937021Z",
     "iopub.status.busy": "2025-06-02T17:58:18.935473Z",
     "iopub.status.idle": "2025-06-02T17:58:18.957480Z",
     "shell.execute_reply": "2025-06-02T17:58:18.956969Z",
     "shell.execute_reply.started": "2025-06-02T17:58:18.936974Z"
    }
   },
   "outputs": [
    {
     "data": {
      "text/plain": [
       "'/Users/blaisefck/code/Tanguyrhd/vibe/notebooks'"
      ]
     },
     "execution_count": 6,
     "metadata": {},
     "output_type": "execute_result"
    }
   ],
   "source": [
    "import pandas as pd\n",
    "import os\n",
    "os.getcwd()\n"
   ]
  },
  {
   "cell_type": "code",
   "execution_count": 7,
   "id": "84ae8e91-7d68-4d98-9e10-1bf14fd4c0ac",
   "metadata": {
    "execution": {
     "iopub.execute_input": "2025-06-02T18:04:35.431874Z",
     "iopub.status.busy": "2025-06-02T18:04:35.429491Z",
     "iopub.status.idle": "2025-06-02T18:04:36.075021Z",
     "shell.execute_reply": "2025-06-02T18:04:36.074780Z",
     "shell.execute_reply.started": "2025-06-02T18:04:35.431808Z"
    }
   },
   "outputs": [
    {
     "data": {
      "text/html": [
       "<div>\n",
       "<style scoped>\n",
       "    .dataframe tbody tr th:only-of-type {\n",
       "        vertical-align: middle;\n",
       "    }\n",
       "\n",
       "    .dataframe tbody tr th {\n",
       "        vertical-align: top;\n",
       "    }\n",
       "\n",
       "    .dataframe thead th {\n",
       "        text-align: right;\n",
       "    }\n",
       "</style>\n",
       "<table border=\"1\" class=\"dataframe\">\n",
       "  <thead>\n",
       "    <tr style=\"text-align: right;\">\n",
       "      <th></th>\n",
       "      <th>Unnamed: 0</th>\n",
       "      <th>text</th>\n",
       "      <th>label</th>\n",
       "    </tr>\n",
       "  </thead>\n",
       "  <tbody>\n",
       "    <tr>\n",
       "      <th>0</th>\n",
       "      <td>0</td>\n",
       "      <td>@Pericles216 @HierBeforeTheAC @Sachinettiyil T...</td>\n",
       "      <td>intj</td>\n",
       "    </tr>\n",
       "    <tr>\n",
       "      <th>1</th>\n",
       "      <td>1</td>\n",
       "      <td>@Hispanthicckk Being you makes you look cute||...</td>\n",
       "      <td>intj</td>\n",
       "    </tr>\n",
       "    <tr>\n",
       "      <th>2</th>\n",
       "      <td>2</td>\n",
       "      <td>@Alshymi Les balles sont réelles et sont tirée...</td>\n",
       "      <td>intj</td>\n",
       "    </tr>\n",
       "    <tr>\n",
       "      <th>3</th>\n",
       "      <td>3</td>\n",
       "      <td>I'm like entp but idiotic|||Hey boy, do you wa...</td>\n",
       "      <td>intj</td>\n",
       "    </tr>\n",
       "    <tr>\n",
       "      <th>4</th>\n",
       "      <td>4</td>\n",
       "      <td>@kaeshurr1 Give it to @ZargarShanif ... He has...</td>\n",
       "      <td>intj</td>\n",
       "    </tr>\n",
       "  </tbody>\n",
       "</table>\n",
       "</div>"
      ],
      "text/plain": [
       "   Unnamed: 0                                               text label\n",
       "0           0  @Pericles216 @HierBeforeTheAC @Sachinettiyil T...  intj\n",
       "1           1  @Hispanthicckk Being you makes you look cute||...  intj\n",
       "2           2  @Alshymi Les balles sont réelles et sont tirée...  intj\n",
       "3           3  I'm like entp but idiotic|||Hey boy, do you wa...  intj\n",
       "4           4  @kaeshurr1 Give it to @ZargarShanif ... He has...  intj"
      ]
     },
     "execution_count": 7,
     "metadata": {},
     "output_type": "execute_result"
    }
   ],
   "source": [
    "df = pd.read_csv('../raw_data/twitter_MBTI.csv')\n",
    "df.head()"
   ]
  },
  {
   "cell_type": "code",
   "execution_count": 8,
   "id": "86aeeaae-1a88-4076-bace-413faa6fc66a",
   "metadata": {
    "execution": {
     "iopub.execute_input": "2025-06-02T18:05:00.532026Z",
     "iopub.status.busy": "2025-06-02T18:05:00.531153Z",
     "iopub.status.idle": "2025-06-02T18:05:00.539150Z",
     "shell.execute_reply": "2025-06-02T18:05:00.538607Z",
     "shell.execute_reply.started": "2025-06-02T18:05:00.531944Z"
    }
   },
   "outputs": [
    {
     "data": {
      "text/plain": [
       "Index(['Unnamed: 0', 'text', 'label'], dtype='object')"
      ]
     },
     "execution_count": 8,
     "metadata": {},
     "output_type": "execute_result"
    }
   ],
   "source": [
    "df.columns\n"
   ]
  },
  {
   "cell_type": "code",
   "execution_count": 9,
   "id": "576e749c-ad9b-4fa4-85b0-0b7ce27e63b2",
   "metadata": {
    "execution": {
     "iopub.execute_input": "2025-06-02T18:45:12.078915Z",
     "iopub.status.busy": "2025-06-02T18:45:12.071185Z",
     "iopub.status.idle": "2025-06-02T18:45:13.800497Z",
     "shell.execute_reply": "2025-06-02T18:45:13.797964Z",
     "shell.execute_reply.started": "2025-06-02T18:45:12.078813Z"
    }
   },
   "outputs": [],
   "source": [
    "#Turns one row of 50 tweets into 50 rows with one tweet each, but they keep the same MBTI label--400,000 tweet rows instead of 8,000\n",
    "df['tweets'] = df['text'].apply(lambda x: x.split('|||'))\n"
   ]
  },
  {
   "cell_type": "code",
   "execution_count": 10,
   "id": "b17d0b3f-914e-47a0-bbd0-148f65131779",
   "metadata": {
    "execution": {
     "iopub.execute_input": "2025-06-02T18:46:33.838850Z",
     "iopub.status.busy": "2025-06-02T18:46:33.836180Z",
     "iopub.status.idle": "2025-06-02T18:46:33.910626Z",
     "shell.execute_reply": "2025-06-02T18:46:33.910124Z",
     "shell.execute_reply.started": "2025-06-02T18:46:33.838780Z"
    }
   },
   "outputs": [
    {
     "data": {
      "text/html": [
       "<div>\n",
       "<style scoped>\n",
       "    .dataframe tbody tr th:only-of-type {\n",
       "        vertical-align: middle;\n",
       "    }\n",
       "\n",
       "    .dataframe tbody tr th {\n",
       "        vertical-align: top;\n",
       "    }\n",
       "\n",
       "    .dataframe thead th {\n",
       "        text-align: right;\n",
       "    }\n",
       "</style>\n",
       "<table border=\"1\" class=\"dataframe\">\n",
       "  <thead>\n",
       "    <tr style=\"text-align: right;\">\n",
       "      <th></th>\n",
       "      <th>Unnamed: 0</th>\n",
       "      <th>text</th>\n",
       "      <th>label</th>\n",
       "      <th>tweets</th>\n",
       "    </tr>\n",
       "  </thead>\n",
       "  <tbody>\n",
       "    <tr>\n",
       "      <th>0</th>\n",
       "      <td>0</td>\n",
       "      <td>@Pericles216 @HierBeforeTheAC @Sachinettiyil T...</td>\n",
       "      <td>intj</td>\n",
       "      <td>[@Pericles216 @HierBeforeTheAC @Sachinettiyil ...</td>\n",
       "    </tr>\n",
       "    <tr>\n",
       "      <th>1</th>\n",
       "      <td>1</td>\n",
       "      <td>@Hispanthicckk Being you makes you look cute||...</td>\n",
       "      <td>intj</td>\n",
       "      <td>[@Hispanthicckk Being you makes you look cute,...</td>\n",
       "    </tr>\n",
       "    <tr>\n",
       "      <th>2</th>\n",
       "      <td>2</td>\n",
       "      <td>@Alshymi Les balles sont réelles et sont tirée...</td>\n",
       "      <td>intj</td>\n",
       "      <td>[@Alshymi Les balles sont réelles et sont tiré...</td>\n",
       "    </tr>\n",
       "    <tr>\n",
       "      <th>3</th>\n",
       "      <td>3</td>\n",
       "      <td>I'm like entp but idiotic|||Hey boy, do you wa...</td>\n",
       "      <td>intj</td>\n",
       "      <td>[I'm like entp but idiotic, Hey boy, do you wa...</td>\n",
       "    </tr>\n",
       "    <tr>\n",
       "      <th>4</th>\n",
       "      <td>4</td>\n",
       "      <td>@kaeshurr1 Give it to @ZargarShanif ... He has...</td>\n",
       "      <td>intj</td>\n",
       "      <td>[@kaeshurr1 Give it to @ZargarShanif ... He ha...</td>\n",
       "    </tr>\n",
       "  </tbody>\n",
       "</table>\n",
       "</div>"
      ],
      "text/plain": [
       "   Unnamed: 0                                               text label  \\\n",
       "0           0  @Pericles216 @HierBeforeTheAC @Sachinettiyil T...  intj   \n",
       "1           1  @Hispanthicckk Being you makes you look cute||...  intj   \n",
       "2           2  @Alshymi Les balles sont réelles et sont tirée...  intj   \n",
       "3           3  I'm like entp but idiotic|||Hey boy, do you wa...  intj   \n",
       "4           4  @kaeshurr1 Give it to @ZargarShanif ... He has...  intj   \n",
       "\n",
       "                                              tweets  \n",
       "0  [@Pericles216 @HierBeforeTheAC @Sachinettiyil ...  \n",
       "1  [@Hispanthicckk Being you makes you look cute,...  \n",
       "2  [@Alshymi Les balles sont réelles et sont tiré...  \n",
       "3  [I'm like entp but idiotic, Hey boy, do you wa...  \n",
       "4  [@kaeshurr1 Give it to @ZargarShanif ... He ha...  "
      ]
     },
     "execution_count": 10,
     "metadata": {},
     "output_type": "execute_result"
    }
   ],
   "source": [
    "df.head()"
   ]
  },
  {
   "cell_type": "code",
   "execution_count": 11,
   "id": "859a2812-5295-4905-a90f-bb9818a1939c",
   "metadata": {
    "execution": {
     "iopub.execute_input": "2025-06-02T18:47:36.056134Z",
     "iopub.status.busy": "2025-06-02T18:47:36.054611Z",
     "iopub.status.idle": "2025-06-02T18:47:36.074395Z",
     "shell.execute_reply": "2025-06-02T18:47:36.073433Z",
     "shell.execute_reply.started": "2025-06-02T18:47:36.056076Z"
    }
   },
   "outputs": [
    {
     "data": {
      "text/plain": [
       "['@Pericles216 @HierBeforeTheAC @Sachinettiyil The Pope is infallible, this is a catholic dogma \\n\\nIt doesn’t mean the… https://t.co/qmt0ezk0Ey',\n",
       " '@HierBeforeTheAC @Pericles216 @Sachinettiyil And by perpetually it entails that the church herself can elect new po… https://t.co/OGTxKfUDHQ',\n",
       " '@HierBeforeTheAC @Pericles216 @Sachinettiyil You open the door to unironic nonsense when you believe this nonsense.… https://t.co/Y6OqVfVwuY',\n",
       " '@HierBeforeTheAC @Pericles216 @Sachinettiyil You don’t know your own faith lol you just tried to say that “perpetua… https://t.co/AUzB61Ap4H',\n",
       " '@HierBeforeTheAC @Pericles216 @Sachinettiyil That’s like me saying that I’m gonna give you a bike that will never b… https://t.co/KF7PpQwxaD',\n",
       " '@HierBeforeTheAC @Pericles216 @Sachinettiyil You have a dumb view of God’s preservation of the church. God doesn’t… https://t.co/16aNiNAwDa',\n",
       " '@HierBeforeTheAC @Pericles216 @Sachinettiyil It’s not heretical, all sedes do is take 2 quotes out of context from… https://t.co/yVquvs7lZQ',\n",
       " '@HierBeforeTheAC @Pericles216 @Sachinettiyil Vatican 2 is not a new religion you moron lol it’s an ecumenical counc… https://t.co/NjaenBA0ac',\n",
       " '@HierBeforeTheAC @Pericles216 @Sachinettiyil The issue isn’t the mere vacancy it’s the fact you don’t think it’s po… https://t.co/NkJ7ktkHjB',\n",
       " '@HierBeforeTheAC @Pericles216 @Sachinettiyil Denying dogmas and then saying “muh mystery” is such a liberal way of… https://t.co/RFTr9FRvRF',\n",
       " '@HierBeforeTheAC @Pericles216 @Sachinettiyil No it’s not just “muh mystery” it’s a blatant contradiction. God doesn… https://t.co/xOfcCEYuVY',\n",
       " '@HierBeforeTheAC @Pericles216 @Sachinettiyil It didn’t take 40 years for the Pope to have a legitimate successor pe… https://t.co/k9uAmhHQd0',\n",
       " '@HierBeforeTheAC @Pericles216 @Sachinettiyil Your position is simply heretical. It defies the indefectibility of th… https://t.co/Ae3OkYN0jA',\n",
       " '@HierBeforeTheAC @Pericles216 @Sachinettiyil it means that despite interregnum periods there will always be perpetu… https://t.co/45cQuV9yrC',\n",
       " '@HierBeforeTheAC @Pericles216 @Sachinettiyil That is a blatant misreading of Vatican 1 lol it’s twisting the text s… https://t.co/Bvtz0ny0Nb',\n",
       " '@HierBeforeTheAC @Pericles216 @Sachinettiyil So they believe that the papacy has defected, as they believe it’s bee… https://t.co/tLju3ySrfX',\n",
       " '@HierBeforeTheAC @Pericles216 @Sachinettiyil and before you say “it’s just a gap” all sedes I have spoken to admit… https://t.co/42D2BiA0De',\n",
       " '@HierBeforeTheAC @Pericles216 @Sachinettiyil I’m not a Sede and I believe everything the church has taught for 2k y… https://t.co/PAngYltA0l',\n",
       " '@HierBeforeTheAC @Pericles216 @Sachinettiyil Ur literally a sedevacantist',\n",
       " 'Industrial Revolution and its consequences have not been bussin for the squad https://t.co/lpGW7e0aCu',\n",
       " '@autistgf Bcoz you have a big heart',\n",
       " '@autistgf Are you below 100',\n",
       " 'https://t.co/JsssQ93yQE',\n",
       " 'https://t.co/4Onywq6pGT',\n",
       " '@glass_zealot Australia',\n",
       " 'Guys I feel like capitalism isn’t going to be overthrown anytime soon https://t.co/XbwY92U632',\n",
       " 'This picture Kinda goes super hard tbh https://t.co/3M3QJQSE11',\n",
       " '@UsagiTsukiyes You know how we have Mariology? \\n\\nI think Jesuits have Floydiology',\n",
       " 'Still puzzled over the fact that Fr James Martin said that George Floyd was in heaven \\n\\nIt’s so bizarre',\n",
       " 'Eucharistic procession in Sydney today, coming to an end with Eucharistic Adoration at the Cathedral https://t.co/HAC5rCT38r',\n",
       " '@bethecreed literal heretical take',\n",
       " 'Currently reading Lagrange on predestination',\n",
       " '@StJeromeFan @PDamian19 @_arrus For after [Judas] betrayed Him, and repented of it, if he prayed through Christ, he… https://t.co/P31VmYeqR8',\n",
       " '@StJeromeFan @PDamian19 @_arrus \"[T]he devil led him out of his repentance too soon, so that he should reap no frui… https://t.co/CvpAOCOL66',\n",
       " '@StJeromeFan @PDamian19 @_arrus There’s pretty much unanimous consent of the fathers that Judas is in hell, a big r… https://t.co/4r63OGkfz5',\n",
       " '@john_alitz1 @PopeLeoX1883939 @CatholicFascism In fact in numerous places hes spoken explicitly against same sex ma… https://t.co/4MwkGv5C09',\n",
       " '@john_alitz1 @PopeLeoX1883939 @CatholicFascism The position hes taken is still wrong, but he’s simply speaking in t… https://t.co/PrcnBTLUSt',\n",
       " '@john_alitz1 @PopeLeoX1883939 @CatholicFascism That title is very misleading\\n1. It’s not magisterial, he said it in… https://t.co/l8A6HBkQDG',\n",
       " '@PDamian19 @_arrus Maybe because Jesus literally directly says so \\n\\nThere is no other interpretation that could mak… https://t.co/JtiN9HHwpS',\n",
       " '@StJeromeFan @PDamian19 @_arrus The magisterium rarely infallibly teaches what a certain passage of scripture is, t… https://t.co/qAdquZVrKu',\n",
       " '@PDamian19 Yes there are infallible things taught in scripture not taught explicitly infallibly by the church. For… https://t.co/9jzTwYxMIW',\n",
       " '@settlerslament He didn’t repent he literally killed himself',\n",
       " 'If Judas is in heaven, then no amount of suffering on earth would ever make it better for Judas had he not been bor… https://t.co/4E07iHFEVw',\n",
       " 'We have infallible certainty that Judas is in hell and I’m tired of pretending we don’t\\n\\nIt’s not just “most likely… https://t.co/zM3jSTVcJ0',\n",
       " 'Based https://t.co/9mV7y8TntI',\n",
       " '@autistgf So true...',\n",
       " 'So true, demons are messed up bro they annoy me so much https://t.co/gk8p9VeLyA',\n",
       " '@CDogmatics He says that in general it seems superstitious, but that if people are doing it, then it indicates that… https://t.co/kFVQkKH1cU',\n",
       " 'This is a bruh moment',\n",
       " 'Oh no no no no no no no no no https://t.co/ackm652007',\n",
       " '@superxtianmario @MilitantThomist The Case for Catholicism by Trent Horn',\n",
       " '@MilitantThomist The Fathers know Best by Jimmy Akin',\n",
       " 'We are playing Kahoot in my University class',\n",
       " '@EsotericTF2 Real 👆👆👆',\n",
       " '@SnorkytheOrca I did (I have schizophrenia)',\n",
       " 'https://t.co/YEHnunfU1H',\n",
       " '@DrDoloresMize @wangermn @JamesMartinSJ Idk how you can be a devout Catholic while supporting abortion lol abortion… https://t.co/GyuFEs0jXa',\n",
       " '@jwmcguffee @ChiengrisUltime @Adam25088 @FeserEdward Again, I don’t think you understand what “intrinsically” means',\n",
       " '@jwmcguffee @ChiengrisUltime @Adam25088 @FeserEdward But homosexual sex is ALWAYS disordered in and of itself. \\n\\nAn… https://t.co/IWMTO2ymbG',\n",
       " '@jwmcguffee @ChiengrisUltime @Adam25088 @FeserEdward Something being intrinsically disordered means that it is diso… https://t.co/e3kjjq25Vd',\n",
       " '@ProfilStandard https://t.co/8UJKXmyZOg',\n",
       " '@souljaboy Yo Soulja Boy!! Crank dat follow button on my account 😳',\n",
       " '@jwmcguffee @ChiengrisUltime @Adam25088 @FeserEdward Again that’s not what intrinsically disordered means',\n",
       " '@ProfilStandard You are Cringe',\n",
       " '@jwmcguffee @ChiengrisUltime @Adam25088 @FeserEdward That doesn’t mean that they have commit a sin on account of th… https://t.co/Mrxu8ERe0p',\n",
       " '@jwmcguffee @ChiengrisUltime @Adam25088 @FeserEdward I think you are using the term “intrinsically disordered” to a… https://t.co/Xx0T217RA5',\n",
       " '@jwmcguffee @ChiengrisUltime @Adam25088 @FeserEdward Heterosexuality is not intrinsically disordered the way homose… https://t.co/IXwt2Mienn',\n",
       " '@jwmcguffee @ChiengrisUltime @Adam25088 @FeserEdward Having an inclination or attraction to intrinsically disordere… https://t.co/3x8IQmmjXs',\n",
       " '@SlaveToMary because sin impairs our freedom, we become slaves to sin, and God’s Grace working through us will heal… https://t.co/leaLqTBoAB',\n",
       " '@SlaveToMary That Strong predestination can’t be squared with free will by Aquinas or Scotus \\n\\nYou have an erroneou… https://t.co/zwpPaBC4yG',\n",
       " '@SlaveToMary Incorrect',\n",
       " '@OrStout Sounds made up',\n",
       " 'If Jupiter is so big then how come when I look at the sky I can’t see it? you’d think something so big would be kin… https://t.co/dIZ6gq2cEN',\n",
       " '@jwmcguffee @ChiengrisUltime @Adam25088 @FeserEdward Do you accept church teaching from the catechism that Homosexu… https://t.co/AWo8g13cU7',\n",
       " '@jwmcguffee @ChiengrisUltime @Adam25088 @FeserEdward Pope Francis is the universal shepherd of the universal church… https://t.co/iptDBcQGuI',\n",
       " '@tradcathlankan @Hidalgo_76_ @roberthedeuce I think the issue here though has more to do with the hatred part than… https://t.co/BlzvrmVu5B',\n",
       " '@tradcathlankan @Hidalgo_76_ @roberthedeuce It depends what you mean by hatred but yes \\n\\nI do think there are forms… https://t.co/Y2yvvyyFDK',\n",
       " '@Hidalgo_76_ @roberthedeuce @tradcathlankan the question is quite complex. If we are able to discern between our ow… https://t.co/LUTZHwZDNR',\n",
       " '@Hidalgo_76_ @roberthedeuce @tradcathlankan There is an order of charity and an order of justice, as St Thomas Aqui… https://t.co/Q9a7Ns2VzQ',\n",
       " '@Hidalgo_76_ @roberthedeuce @tradcathlankan There are many ways though in which we distinguish between people based… https://t.co/bwcCa9DXRT',\n",
       " '@dash_eats Damn shawty you look like that evil woman from 101 Dalmatians',\n",
       " '@settlerslament I want to start reading him tbh',\n",
       " '@TLM_Respector - certain other positions we find among other religions or philosophies or ideologies (as it pertain… https://t.co/u8v6m4ZUC7',\n",
       " '@TLM_Respector Oh I already know that Predestination is a dogma I’m just wondering what the acceptable theories are… https://t.co/yz5cl8W31X',\n",
       " 'What views on Predestination exist in the catholic tradition? Thinking of looking into each one \\n\\nI find predestination super fascinating',\n",
       " 'I kinda wanna start reading Lagrange',\n",
       " 'Hes doing a little dance https://t.co/kvERXPHqdw',\n",
       " '@jwmcguffee @ChiengrisUltime @Adam25088 @FeserEdward Do you agree with what Pope Francis teaches on transgenderism?… https://t.co/h9HRRPoEcm',\n",
       " '@Wired73813850 @GeIassenheit Don’t ask me to explain what I mean, I just like slavery https://t.co/aHzR7WeJIa',\n",
       " '@Wired73813850 @GeIassenheit We do have rights, but the modern understanding of “rights” is totally alien to the scholastic conception',\n",
       " '@marieprairiee Breaking news: pedophile runs pedophile organisation',\n",
       " '@TheRealLogosT @SnorkytheOrca What else could that mean lol',\n",
       " '@TheRealLogosT @SnorkytheOrca How would it be better for Judas had he not been born if Judas is saved?',\n",
       " '@TheRealLogosT @SnorkytheOrca Jesus himself said he was going to hell though https://t.co/qSUquQgxrU',\n",
       " '@autistgf Ooo ooo ahh ahh',\n",
       " '@Jerseycows4me @LibertyHangout So when I worship Jesus Christ, in a church covered in crosses, I am actually worshi… https://t.co/l3AJdGfYDj',\n",
       " 'Damn I messed up, missed 3 weeks of a class bcoz I didn’t realise I had it',\n",
       " 'Wtf based https://t.co/TgXQgdWoQB',\n",
       " '@CatholicHermes She’s a friend still, there’s nothing romantic dw',\n",
       " '@BPDCastellanos Yeah I’m guessing it’s partly because women are kinda redacted so it may be a universal issue',\n",
       " '@Greekcel I don’t want to date her lol I just don’t want her to ruin her life',\n",
       " '@PopCulturPriest This is blasphemy, you are cloaking Christ in a flag which represents sinful rejection of God’s order',\n",
       " 'She is a Catholic and he is an atheist, and their relationship was already weird and seemed to be unhealthy, I’m ki… https://t.co/3v1elrw58h',\n",
       " 'I hope she is not just wrapped up in the emotions of being engaged that she is now making a very poor life decision… https://t.co/IFqLe9w4sB',\n",
       " 'Dawg my ex girlfriend is engaged and I’m kinda worried about her\\n\\nshe kept telling me that this relationship is goi… https://t.co/vK0yuKro0N',\n",
       " '@superxtianmario The only trauma is that it’s not a Catholic Church 😏',\n",
       " '@SonOfCleinias @memesiwish Mirrors are only ugly if the people in them are ugly',\n",
       " '@nedkellystan I’m still considering moving out of my house and getting a little kitty cat',\n",
       " 'https://t.co/5zC33WJKI5 https://t.co/J6F75uDQjQ',\n",
       " 'I mean the real dangerousness is that it kills children, even if incredibly small and in the very earliest stages o… https://t.co/iXXQBchn3n',\n",
       " 'Idk why but this made me laugh really hard because it’s so true lol https://t.co/tqcrUZsGfy',\n",
       " '@kennethryan2 @JPatrickCronin @JamesMartinSJ I am a Catholic, Fr James Martin is a catholic, the guy I responded to… https://t.co/GNONHbuW8X',\n",
       " '@kennethryan2 @JPatrickCronin @JamesMartinSJ Do you think Catholic teaching supports priestly abuse? It clearly bel… https://t.co/2A3DVlg9cV',\n",
       " '@kennethryan2 @JPatrickCronin @JamesMartinSJ You do realise that Fr James Martin and I are Catholics right? We are… https://t.co/8Bt9mSrcc7',\n",
       " '@kennethryan2 @JPatrickCronin @JamesMartinSJ You are forcing your intolerance for Christianity down my throat by te… https://t.co/52fXCOdbvr',\n",
       " '@kennethryan2 @JPatrickCronin @JamesMartinSJ One is an objectively graver sin, although if you think sex before mar… https://t.co/01tNBdwzrc',\n",
       " '@kennethryan2 @JPatrickCronin @JamesMartinSJ The problem with LGBTQ+ is not just that it’s grave sin, it’s that the… https://t.co/0o6gD490TE',\n",
       " '@kennethryan2 @JPatrickCronin @JamesMartinSJ Wdym by “allowable”? lol all grace sin seperates us from God and all s… https://t.co/nSBpM34yaa',\n",
       " '@JPatrickCronin @JamesMartinSJ You do realise that the church considers both sodomy and premarital sex to be sins right?',\n",
       " '@AyoCaesar So you agree white people are indigenous to the British aisles?',\n",
       " 'Can you guys pray for me, I’m experiencing a lot of sudden jaw joint pain. I have TMJ and it’s quite painful lol',\n",
       " '@vying4hope @Evangelium18 @krillyboyartist @masonmennenga - successive bishops if you think the interpretation is w… https://t.co/o0ID7q3jOV',\n",
       " '@vying4hope @Evangelium18 @krillyboyartist @masonmennenga You are trying to interpret scripture in a way which is n… https://t.co/4PzNZKgWjw',\n",
       " '@vying4hope @Evangelium18 @krillyboyartist @masonmennenga You didn’t demonstrate anything you just said that they u… https://t.co/xuzQGfZBkP',\n",
       " 'The liberals who said that Trump was not their president were just Amerivacantists',\n",
       " 'We are so back... 🇬🇧 https://t.co/30692VFaXX',\n",
       " '@lifeofb0t Becoming more radicalised by them as we speak',\n",
       " '@ItsTAmerican @rembuchelover Why do you see a ten year old anime girl and immediately picture people jacking off to them? Projection much?',\n",
       " '@SussusA78965560 @PatriarchPius I was just about to ask: how do they reconcile the idea that all the gospels contra… https://t.co/l1Ij3G98Cg',\n",
       " '@PatriarchPius What’s funny is that I have like 12 other people i consistently see on those kinds of posts already who spring to mind',\n",
       " '@YakubsChild @JoeySmitz @jnyboy I’m saying that if you think that something like this is in anyway a real challenge… https://t.co/yJ7CqXYChu',\n",
       " '@squeakingmeow No it’s because the Bible says she was a virgin',\n",
       " '@Hoover93265175 @brainfruitme @ToomersWs Eugene is more ridiculous',\n",
       " '@JoeySmitz @jnyboy Imagine thinking the government is going around killing comedians lol',\n",
       " '@cesna8020 &gt; be an adult man\\n&gt; hold views about the religion that I grew out of from when I was 14',\n",
       " '@evanr992 @cesna8020 Tbf that’s not him that’s actor Bill Hader, but yeah the guy you are responding to is very cringe and gaypilled',\n",
       " 'Tomato gang 😎 https://t.co/MqdFwd7OLG',\n",
       " '@FuckWoke @Hoover93265175 @ToomersWs Do you know which arguments I’m referring to? If so then what’s wrong with the… https://t.co/3X18l5Uzs5',\n",
       " 'I’m kinda getting St Augustine pilled atm all over again\\n\\nSuch a cool father of the church and also one of my confi… https://t.co/Rfgm0hsPjE',\n",
       " '@ByzCat A lot more than half',\n",
       " '@Heath_Deadger @BossCatholic @Bebilelechian @mppcsc @WilliamA_33 The Bible itself sees Christ giving the apostles t… https://t.co/D4dz5CGlTl',\n",
       " '@Heath_Deadger @BossCatholic @Bebilelechian @mppcsc @WilliamA_33 The scriptures themselves say that Mary was a sain… https://t.co/Pi34O03FMU',\n",
       " '@Heath_Deadger @BossCatholic @Bebilelechian @mppcsc @WilliamA_33 - something no one held to until the Protestant reformation in the 1500s)',\n",
       " '@Heath_Deadger @BossCatholic @Bebilelechian @mppcsc @WilliamA_33 Wdym they were very different? Maybe they weren’t… https://t.co/S3UW18i5kl',\n",
       " '@Heath_Deadger @BossCatholic @Bebilelechian @mppcsc @WilliamA_33 That’s not what is stated in Ephesians. It says we… https://t.co/bgdeIxq1B0',\n",
       " '@Heath_Deadger @BossCatholic @Bebilelechian @mppcsc @WilliamA_33 Also St Ignatius’ letters are to the various churc… https://t.co/fgWViW0JCF',\n",
       " '@Heath_Deadger @BossCatholic @Bebilelechian @mppcsc @WilliamA_33 The fact that’s the first use of the name doesn’t… https://t.co/myymeD895q',\n",
       " '@Heath_Deadger @BossCatholic @Bebilelechian @mppcsc @WilliamA_33 - in which the Catholic Church quickly and sneakil… https://t.co/14alvEZiCX',\n",
       " '@Heath_Deadger @BossCatholic @Bebilelechian @mppcsc @WilliamA_33 Uh dude are you denying that St Ignatius was a dir… https://t.co/2J0JXuTBAg',\n",
       " '@Heath_Deadger @BossCatholic @Bebilelechian @mppcsc @WilliamA_33 St Ignatius of Antioch was a direct disciple of St… https://t.co/zl8jEbdtWr',\n",
       " 'The Mango loco monster energy drink flavour is so underrated imo \\n\\nliterally a drink for Kings',\n",
       " '@superxtianmario What’s PV',\n",
       " 'This has been fact checked by real American Patriots: true https://t.co/iC9GxPn0IQ',\n",
       " '@MalloryNoePayne &gt; parent couldn’t indoctrinate kids\\n\\nah yes now only the state can do that. Funny how it’s general… https://t.co/0w3YcEYaNz',\n",
       " 'This is so true https://t.co/K1oy2gCIEM',\n",
       " '@joseenr10375471 @DarkcelRapist88 @UPL1FT https://t.co/6AhfhxR3XT',\n",
       " '@joseenr10375471 @DarkcelRapist88 @UPL1FT &gt; fighting against our civilisation \\n\\n&gt; Portuguese \\n\\nIt’s over',\n",
       " '@Hoover93265175 @ToomersWs I cant remember entirely, I do remember that it was not that humans drink something whic… https://t.co/SwuXZLP6LB',\n",
       " '@Hoover93265175 @ToomersWs Is there a problem with doing a metaphysics that you have yet to tell me?',\n",
       " 'My tweet is kinda blowing up fr fr',\n",
       " '@Hoover93265175 @ToomersWs It’s a misreading because Plato speaks in myths and allegories to get his metaphysical p… https://t.co/vMJPv1mLTQ',\n",
       " '@Hoover93265175 @ToomersWs Aquinas literally says that what is in the mind is first in the senses',\n",
       " '@Hoover93265175 @ToomersWs You are simply stating it though, you aren’t demonstrating it to me now that the 5 proofs are false',\n",
       " '@Hoover93265175 @ToomersWs If you want a proper understanding of Plato you should read “Thinking Being” by Eric Perl',\n",
       " '@Hoover93265175 @ToomersWs Platonic, Aristotelian, Plotinian, Proclean etc metaphysics was the basis for Aquinas. N… https://t.co/6689eQyMCw',\n",
       " '@Hoover93265175 @ToomersWs Kant rejecting something is not an argument lol',\n",
       " '@Hoover93265175 @ToomersWs If we can only know things via empirical observation, then that means this proposition w… https://t.co/uPAEjVrPAa',\n",
       " '@Hoover93265175 @ToomersWs I never said “pure reason” completely detached from experience because obviously without… https://t.co/5o1EH0zd9H',\n",
       " '@back_hate @FilboTwins problem liberal?',\n",
       " '@Hoover93265175 @ToomersWs That is not the whole point of Plato’s theory of knowledge lol \\n\\nAlso Aquinas was absolu… https://t.co/t58SymxFnz',\n",
       " '@Hoover93265175 @ToomersWs Also a problem with empiricism is that you can’t actually observe empirically that we ca… https://t.co/tZQEYH6rgJ',\n",
       " '@Hoover93265175 @ToomersWs All the proofs given for God’s existence rely upon logical arguments that are rooted in… https://t.co/55dwtrJGm4',\n",
       " '@Hoover93265175 @ToomersWs Aquinas did not believe that there were innate concepts in the mind in fact I’m pretty s… https://t.co/AAzKxWLlaG',\n",
       " '@Hoover93265175 @ToomersWs This isn’t really a response, this doesn’t tell me anything substantial it just tells me… https://t.co/DQw4DD4oX8',\n",
       " '@Hoover93265175 @ToomersWs That God exists is not a matter of faith but of reason. God doesn’t need to divinely rev… https://t.co/j12FkwuRaN',\n",
       " '@Hoover93265175 @ToomersWs Why are you an atheist',\n",
       " 'Wait where did Plaza go',\n",
       " '@Video_star7 @CDogmatics @FilboTwins Yeah they either say that the Yeshua on the note means someone different or th… https://t.co/t01aQwBfZN',\n",
       " '']"
      ]
     },
     "execution_count": 11,
     "metadata": {},
     "output_type": "execute_result"
    }
   ],
   "source": [
    "df['tweets'][0]"
   ]
  },
  {
   "cell_type": "code",
   "execution_count": 12,
   "id": "9eb6877a-dc73-4a77-b8bc-2906b4dccec2",
   "metadata": {
    "execution": {
     "iopub.execute_input": "2025-06-02T18:50:02.568267Z",
     "iopub.status.busy": "2025-06-02T18:50:02.567153Z",
     "iopub.status.idle": "2025-06-02T18:50:02.794609Z",
     "shell.execute_reply": "2025-06-02T18:50:02.794294Z",
     "shell.execute_reply.started": "2025-06-02T18:50:02.568206Z"
    }
   },
   "outputs": [],
   "source": [
    "df['tweets'] = df['tweets'].apply(lambda tweets: [t.strip() for t in tweets])"
   ]
  },
  {
   "cell_type": "code",
   "execution_count": 13,
   "id": "881321a9-fa3f-4531-be80-1751f1953c43",
   "metadata": {
    "execution": {
     "iopub.execute_input": "2025-06-02T18:50:35.250276Z",
     "iopub.status.busy": "2025-06-02T18:50:35.249020Z",
     "iopub.status.idle": "2025-06-02T18:50:35.267001Z",
     "shell.execute_reply": "2025-06-02T18:50:35.265815Z",
     "shell.execute_reply.started": "2025-06-02T18:50:35.250210Z"
    }
   },
   "outputs": [
    {
     "data": {
      "text/plain": [
       "['@Pericles216 @HierBeforeTheAC @Sachinettiyil The Pope is infallible, this is a catholic dogma \\n\\nIt doesn’t mean the… https://t.co/qmt0ezk0Ey',\n",
       " '@HierBeforeTheAC @Pericles216 @Sachinettiyil And by perpetually it entails that the church herself can elect new po… https://t.co/OGTxKfUDHQ',\n",
       " '@HierBeforeTheAC @Pericles216 @Sachinettiyil You open the door to unironic nonsense when you believe this nonsense.… https://t.co/Y6OqVfVwuY',\n",
       " '@HierBeforeTheAC @Pericles216 @Sachinettiyil You don’t know your own faith lol you just tried to say that “perpetua… https://t.co/AUzB61Ap4H',\n",
       " '@HierBeforeTheAC @Pericles216 @Sachinettiyil That’s like me saying that I’m gonna give you a bike that will never b… https://t.co/KF7PpQwxaD',\n",
       " '@HierBeforeTheAC @Pericles216 @Sachinettiyil You have a dumb view of God’s preservation of the church. God doesn’t… https://t.co/16aNiNAwDa',\n",
       " '@HierBeforeTheAC @Pericles216 @Sachinettiyil It’s not heretical, all sedes do is take 2 quotes out of context from… https://t.co/yVquvs7lZQ',\n",
       " '@HierBeforeTheAC @Pericles216 @Sachinettiyil Vatican 2 is not a new religion you moron lol it’s an ecumenical counc… https://t.co/NjaenBA0ac',\n",
       " '@HierBeforeTheAC @Pericles216 @Sachinettiyil The issue isn’t the mere vacancy it’s the fact you don’t think it’s po… https://t.co/NkJ7ktkHjB',\n",
       " '@HierBeforeTheAC @Pericles216 @Sachinettiyil Denying dogmas and then saying “muh mystery” is such a liberal way of… https://t.co/RFTr9FRvRF',\n",
       " '@HierBeforeTheAC @Pericles216 @Sachinettiyil No it’s not just “muh mystery” it’s a blatant contradiction. God doesn… https://t.co/xOfcCEYuVY',\n",
       " '@HierBeforeTheAC @Pericles216 @Sachinettiyil It didn’t take 40 years for the Pope to have a legitimate successor pe… https://t.co/k9uAmhHQd0',\n",
       " '@HierBeforeTheAC @Pericles216 @Sachinettiyil Your position is simply heretical. It defies the indefectibility of th… https://t.co/Ae3OkYN0jA',\n",
       " '@HierBeforeTheAC @Pericles216 @Sachinettiyil it means that despite interregnum periods there will always be perpetu… https://t.co/45cQuV9yrC',\n",
       " '@HierBeforeTheAC @Pericles216 @Sachinettiyil That is a blatant misreading of Vatican 1 lol it’s twisting the text s… https://t.co/Bvtz0ny0Nb',\n",
       " '@HierBeforeTheAC @Pericles216 @Sachinettiyil So they believe that the papacy has defected, as they believe it’s bee… https://t.co/tLju3ySrfX',\n",
       " '@HierBeforeTheAC @Pericles216 @Sachinettiyil and before you say “it’s just a gap” all sedes I have spoken to admit… https://t.co/42D2BiA0De',\n",
       " '@HierBeforeTheAC @Pericles216 @Sachinettiyil I’m not a Sede and I believe everything the church has taught for 2k y… https://t.co/PAngYltA0l',\n",
       " '@HierBeforeTheAC @Pericles216 @Sachinettiyil Ur literally a sedevacantist',\n",
       " 'Industrial Revolution and its consequences have not been bussin for the squad https://t.co/lpGW7e0aCu',\n",
       " '@autistgf Bcoz you have a big heart',\n",
       " '@autistgf Are you below 100',\n",
       " 'https://t.co/JsssQ93yQE',\n",
       " 'https://t.co/4Onywq6pGT',\n",
       " '@glass_zealot Australia',\n",
       " 'Guys I feel like capitalism isn’t going to be overthrown anytime soon https://t.co/XbwY92U632',\n",
       " 'This picture Kinda goes super hard tbh https://t.co/3M3QJQSE11',\n",
       " '@UsagiTsukiyes You know how we have Mariology? \\n\\nI think Jesuits have Floydiology',\n",
       " 'Still puzzled over the fact that Fr James Martin said that George Floyd was in heaven \\n\\nIt’s so bizarre',\n",
       " 'Eucharistic procession in Sydney today, coming to an end with Eucharistic Adoration at the Cathedral https://t.co/HAC5rCT38r',\n",
       " '@bethecreed literal heretical take',\n",
       " 'Currently reading Lagrange on predestination',\n",
       " '@StJeromeFan @PDamian19 @_arrus For after [Judas] betrayed Him, and repented of it, if he prayed through Christ, he… https://t.co/P31VmYeqR8',\n",
       " '@StJeromeFan @PDamian19 @_arrus \"[T]he devil led him out of his repentance too soon, so that he should reap no frui… https://t.co/CvpAOCOL66',\n",
       " '@StJeromeFan @PDamian19 @_arrus There’s pretty much unanimous consent of the fathers that Judas is in hell, a big r… https://t.co/4r63OGkfz5',\n",
       " '@john_alitz1 @PopeLeoX1883939 @CatholicFascism In fact in numerous places hes spoken explicitly against same sex ma… https://t.co/4MwkGv5C09',\n",
       " '@john_alitz1 @PopeLeoX1883939 @CatholicFascism The position hes taken is still wrong, but he’s simply speaking in t… https://t.co/PrcnBTLUSt',\n",
       " '@john_alitz1 @PopeLeoX1883939 @CatholicFascism That title is very misleading\\n1. It’s not magisterial, he said it in… https://t.co/l8A6HBkQDG',\n",
       " '@PDamian19 @_arrus Maybe because Jesus literally directly says so \\n\\nThere is no other interpretation that could mak… https://t.co/JtiN9HHwpS',\n",
       " '@StJeromeFan @PDamian19 @_arrus The magisterium rarely infallibly teaches what a certain passage of scripture is, t… https://t.co/qAdquZVrKu',\n",
       " '@PDamian19 Yes there are infallible things taught in scripture not taught explicitly infallibly by the church. For… https://t.co/9jzTwYxMIW',\n",
       " '@settlerslament He didn’t repent he literally killed himself',\n",
       " 'If Judas is in heaven, then no amount of suffering on earth would ever make it better for Judas had he not been bor… https://t.co/4E07iHFEVw',\n",
       " 'We have infallible certainty that Judas is in hell and I’m tired of pretending we don’t\\n\\nIt’s not just “most likely… https://t.co/zM3jSTVcJ0',\n",
       " 'Based https://t.co/9mV7y8TntI',\n",
       " '@autistgf So true...',\n",
       " 'So true, demons are messed up bro they annoy me so much https://t.co/gk8p9VeLyA',\n",
       " '@CDogmatics He says that in general it seems superstitious, but that if people are doing it, then it indicates that… https://t.co/kFVQkKH1cU',\n",
       " 'This is a bruh moment',\n",
       " 'Oh no no no no no no no no no https://t.co/ackm652007',\n",
       " '@superxtianmario @MilitantThomist The Case for Catholicism by Trent Horn',\n",
       " '@MilitantThomist The Fathers know Best by Jimmy Akin',\n",
       " 'We are playing Kahoot in my University class',\n",
       " '@EsotericTF2 Real 👆👆👆',\n",
       " '@SnorkytheOrca I did (I have schizophrenia)',\n",
       " 'https://t.co/YEHnunfU1H',\n",
       " '@DrDoloresMize @wangermn @JamesMartinSJ Idk how you can be a devout Catholic while supporting abortion lol abortion… https://t.co/GyuFEs0jXa',\n",
       " '@jwmcguffee @ChiengrisUltime @Adam25088 @FeserEdward Again, I don’t think you understand what “intrinsically” means',\n",
       " '@jwmcguffee @ChiengrisUltime @Adam25088 @FeserEdward But homosexual sex is ALWAYS disordered in and of itself. \\n\\nAn… https://t.co/IWMTO2ymbG',\n",
       " '@jwmcguffee @ChiengrisUltime @Adam25088 @FeserEdward Something being intrinsically disordered means that it is diso… https://t.co/e3kjjq25Vd',\n",
       " '@ProfilStandard https://t.co/8UJKXmyZOg',\n",
       " '@souljaboy Yo Soulja Boy!! Crank dat follow button on my account 😳',\n",
       " '@jwmcguffee @ChiengrisUltime @Adam25088 @FeserEdward Again that’s not what intrinsically disordered means',\n",
       " '@ProfilStandard You are Cringe',\n",
       " '@jwmcguffee @ChiengrisUltime @Adam25088 @FeserEdward That doesn’t mean that they have commit a sin on account of th… https://t.co/Mrxu8ERe0p',\n",
       " '@jwmcguffee @ChiengrisUltime @Adam25088 @FeserEdward I think you are using the term “intrinsically disordered” to a… https://t.co/Xx0T217RA5',\n",
       " '@jwmcguffee @ChiengrisUltime @Adam25088 @FeserEdward Heterosexuality is not intrinsically disordered the way homose… https://t.co/IXwt2Mienn',\n",
       " '@jwmcguffee @ChiengrisUltime @Adam25088 @FeserEdward Having an inclination or attraction to intrinsically disordere… https://t.co/3x8IQmmjXs',\n",
       " '@SlaveToMary because sin impairs our freedom, we become slaves to sin, and God’s Grace working through us will heal… https://t.co/leaLqTBoAB',\n",
       " '@SlaveToMary That Strong predestination can’t be squared with free will by Aquinas or Scotus \\n\\nYou have an erroneou… https://t.co/zwpPaBC4yG',\n",
       " '@SlaveToMary Incorrect',\n",
       " '@OrStout Sounds made up',\n",
       " 'If Jupiter is so big then how come when I look at the sky I can’t see it? you’d think something so big would be kin… https://t.co/dIZ6gq2cEN',\n",
       " '@jwmcguffee @ChiengrisUltime @Adam25088 @FeserEdward Do you accept church teaching from the catechism that Homosexu… https://t.co/AWo8g13cU7',\n",
       " '@jwmcguffee @ChiengrisUltime @Adam25088 @FeserEdward Pope Francis is the universal shepherd of the universal church… https://t.co/iptDBcQGuI',\n",
       " '@tradcathlankan @Hidalgo_76_ @roberthedeuce I think the issue here though has more to do with the hatred part than… https://t.co/BlzvrmVu5B',\n",
       " '@tradcathlankan @Hidalgo_76_ @roberthedeuce It depends what you mean by hatred but yes \\n\\nI do think there are forms… https://t.co/Y2yvvyyFDK',\n",
       " '@Hidalgo_76_ @roberthedeuce @tradcathlankan the question is quite complex. If we are able to discern between our ow… https://t.co/LUTZHwZDNR',\n",
       " '@Hidalgo_76_ @roberthedeuce @tradcathlankan There is an order of charity and an order of justice, as St Thomas Aqui… https://t.co/Q9a7Ns2VzQ',\n",
       " '@Hidalgo_76_ @roberthedeuce @tradcathlankan There are many ways though in which we distinguish between people based… https://t.co/bwcCa9DXRT',\n",
       " '@dash_eats Damn shawty you look like that evil woman from 101 Dalmatians',\n",
       " '@settlerslament I want to start reading him tbh',\n",
       " '@TLM_Respector - certain other positions we find among other religions or philosophies or ideologies (as it pertain… https://t.co/u8v6m4ZUC7',\n",
       " '@TLM_Respector Oh I already know that Predestination is a dogma I’m just wondering what the acceptable theories are… https://t.co/yz5cl8W31X',\n",
       " 'What views on Predestination exist in the catholic tradition? Thinking of looking into each one \\n\\nI find predestination super fascinating',\n",
       " 'I kinda wanna start reading Lagrange',\n",
       " 'Hes doing a little dance https://t.co/kvERXPHqdw',\n",
       " '@jwmcguffee @ChiengrisUltime @Adam25088 @FeserEdward Do you agree with what Pope Francis teaches on transgenderism?… https://t.co/h9HRRPoEcm',\n",
       " '@Wired73813850 @GeIassenheit Don’t ask me to explain what I mean, I just like slavery https://t.co/aHzR7WeJIa',\n",
       " '@Wired73813850 @GeIassenheit We do have rights, but the modern understanding of “rights” is totally alien to the scholastic conception',\n",
       " '@marieprairiee Breaking news: pedophile runs pedophile organisation',\n",
       " '@TheRealLogosT @SnorkytheOrca What else could that mean lol',\n",
       " '@TheRealLogosT @SnorkytheOrca How would it be better for Judas had he not been born if Judas is saved?',\n",
       " '@TheRealLogosT @SnorkytheOrca Jesus himself said he was going to hell though https://t.co/qSUquQgxrU',\n",
       " '@autistgf Ooo ooo ahh ahh',\n",
       " '@Jerseycows4me @LibertyHangout So when I worship Jesus Christ, in a church covered in crosses, I am actually worshi… https://t.co/l3AJdGfYDj',\n",
       " 'Damn I messed up, missed 3 weeks of a class bcoz I didn’t realise I had it',\n",
       " 'Wtf based https://t.co/TgXQgdWoQB',\n",
       " '@CatholicHermes She’s a friend still, there’s nothing romantic dw',\n",
       " '@BPDCastellanos Yeah I’m guessing it’s partly because women are kinda redacted so it may be a universal issue',\n",
       " '@Greekcel I don’t want to date her lol I just don’t want her to ruin her life',\n",
       " '@PopCulturPriest This is blasphemy, you are cloaking Christ in a flag which represents sinful rejection of God’s order',\n",
       " 'She is a Catholic and he is an atheist, and their relationship was already weird and seemed to be unhealthy, I’m ki… https://t.co/3v1elrw58h',\n",
       " 'I hope she is not just wrapped up in the emotions of being engaged that she is now making a very poor life decision… https://t.co/IFqLe9w4sB',\n",
       " 'Dawg my ex girlfriend is engaged and I’m kinda worried about her\\n\\nshe kept telling me that this relationship is goi… https://t.co/vK0yuKro0N',\n",
       " '@superxtianmario The only trauma is that it’s not a Catholic Church 😏',\n",
       " '@SonOfCleinias @memesiwish Mirrors are only ugly if the people in them are ugly',\n",
       " '@nedkellystan I’m still considering moving out of my house and getting a little kitty cat',\n",
       " 'https://t.co/5zC33WJKI5 https://t.co/J6F75uDQjQ',\n",
       " 'I mean the real dangerousness is that it kills children, even if incredibly small and in the very earliest stages o… https://t.co/iXXQBchn3n',\n",
       " 'Idk why but this made me laugh really hard because it’s so true lol https://t.co/tqcrUZsGfy',\n",
       " '@kennethryan2 @JPatrickCronin @JamesMartinSJ I am a Catholic, Fr James Martin is a catholic, the guy I responded to… https://t.co/GNONHbuW8X',\n",
       " '@kennethryan2 @JPatrickCronin @JamesMartinSJ Do you think Catholic teaching supports priestly abuse? It clearly bel… https://t.co/2A3DVlg9cV',\n",
       " '@kennethryan2 @JPatrickCronin @JamesMartinSJ You do realise that Fr James Martin and I are Catholics right? We are… https://t.co/8Bt9mSrcc7',\n",
       " '@kennethryan2 @JPatrickCronin @JamesMartinSJ You are forcing your intolerance for Christianity down my throat by te… https://t.co/52fXCOdbvr',\n",
       " '@kennethryan2 @JPatrickCronin @JamesMartinSJ One is an objectively graver sin, although if you think sex before mar… https://t.co/01tNBdwzrc',\n",
       " '@kennethryan2 @JPatrickCronin @JamesMartinSJ The problem with LGBTQ+ is not just that it’s grave sin, it’s that the… https://t.co/0o6gD490TE',\n",
       " '@kennethryan2 @JPatrickCronin @JamesMartinSJ Wdym by “allowable”? lol all grace sin seperates us from God and all s… https://t.co/nSBpM34yaa',\n",
       " '@JPatrickCronin @JamesMartinSJ You do realise that the church considers both sodomy and premarital sex to be sins right?',\n",
       " '@AyoCaesar So you agree white people are indigenous to the British aisles?',\n",
       " 'Can you guys pray for me, I’m experiencing a lot of sudden jaw joint pain. I have TMJ and it’s quite painful lol',\n",
       " '@vying4hope @Evangelium18 @krillyboyartist @masonmennenga - successive bishops if you think the interpretation is w… https://t.co/o0ID7q3jOV',\n",
       " '@vying4hope @Evangelium18 @krillyboyartist @masonmennenga You are trying to interpret scripture in a way which is n… https://t.co/4PzNZKgWjw',\n",
       " '@vying4hope @Evangelium18 @krillyboyartist @masonmennenga You didn’t demonstrate anything you just said that they u… https://t.co/xuzQGfZBkP',\n",
       " 'The liberals who said that Trump was not their president were just Amerivacantists',\n",
       " 'We are so back... 🇬🇧 https://t.co/30692VFaXX',\n",
       " '@lifeofb0t Becoming more radicalised by them as we speak',\n",
       " '@ItsTAmerican @rembuchelover Why do you see a ten year old anime girl and immediately picture people jacking off to them? Projection much?',\n",
       " '@SussusA78965560 @PatriarchPius I was just about to ask: how do they reconcile the idea that all the gospels contra… https://t.co/l1Ij3G98Cg',\n",
       " '@PatriarchPius What’s funny is that I have like 12 other people i consistently see on those kinds of posts already who spring to mind',\n",
       " '@YakubsChild @JoeySmitz @jnyboy I’m saying that if you think that something like this is in anyway a real challenge… https://t.co/yJ7CqXYChu',\n",
       " '@squeakingmeow No it’s because the Bible says she was a virgin',\n",
       " '@Hoover93265175 @brainfruitme @ToomersWs Eugene is more ridiculous',\n",
       " '@JoeySmitz @jnyboy Imagine thinking the government is going around killing comedians lol',\n",
       " '@cesna8020 &gt; be an adult man\\n&gt; hold views about the religion that I grew out of from when I was 14',\n",
       " '@evanr992 @cesna8020 Tbf that’s not him that’s actor Bill Hader, but yeah the guy you are responding to is very cringe and gaypilled',\n",
       " 'Tomato gang 😎 https://t.co/MqdFwd7OLG',\n",
       " '@FuckWoke @Hoover93265175 @ToomersWs Do you know which arguments I’m referring to? If so then what’s wrong with the… https://t.co/3X18l5Uzs5',\n",
       " 'I’m kinda getting St Augustine pilled atm all over again\\n\\nSuch a cool father of the church and also one of my confi… https://t.co/Rfgm0hsPjE',\n",
       " '@ByzCat A lot more than half',\n",
       " '@Heath_Deadger @BossCatholic @Bebilelechian @mppcsc @WilliamA_33 The Bible itself sees Christ giving the apostles t… https://t.co/D4dz5CGlTl',\n",
       " '@Heath_Deadger @BossCatholic @Bebilelechian @mppcsc @WilliamA_33 The scriptures themselves say that Mary was a sain… https://t.co/Pi34O03FMU',\n",
       " '@Heath_Deadger @BossCatholic @Bebilelechian @mppcsc @WilliamA_33 - something no one held to until the Protestant reformation in the 1500s)',\n",
       " '@Heath_Deadger @BossCatholic @Bebilelechian @mppcsc @WilliamA_33 Wdym they were very different? Maybe they weren’t… https://t.co/S3UW18i5kl',\n",
       " '@Heath_Deadger @BossCatholic @Bebilelechian @mppcsc @WilliamA_33 That’s not what is stated in Ephesians. It says we… https://t.co/bgdeIxq1B0',\n",
       " '@Heath_Deadger @BossCatholic @Bebilelechian @mppcsc @WilliamA_33 Also St Ignatius’ letters are to the various churc… https://t.co/fgWViW0JCF',\n",
       " '@Heath_Deadger @BossCatholic @Bebilelechian @mppcsc @WilliamA_33 The fact that’s the first use of the name doesn’t… https://t.co/myymeD895q',\n",
       " '@Heath_Deadger @BossCatholic @Bebilelechian @mppcsc @WilliamA_33 - in which the Catholic Church quickly and sneakil… https://t.co/14alvEZiCX',\n",
       " '@Heath_Deadger @BossCatholic @Bebilelechian @mppcsc @WilliamA_33 Uh dude are you denying that St Ignatius was a dir… https://t.co/2J0JXuTBAg',\n",
       " '@Heath_Deadger @BossCatholic @Bebilelechian @mppcsc @WilliamA_33 St Ignatius of Antioch was a direct disciple of St… https://t.co/zl8jEbdtWr',\n",
       " 'The Mango loco monster energy drink flavour is so underrated imo \\n\\nliterally a drink for Kings',\n",
       " '@superxtianmario What’s PV',\n",
       " 'This has been fact checked by real American Patriots: true https://t.co/iC9GxPn0IQ',\n",
       " '@MalloryNoePayne &gt; parent couldn’t indoctrinate kids\\n\\nah yes now only the state can do that. Funny how it’s general… https://t.co/0w3YcEYaNz',\n",
       " 'This is so true https://t.co/K1oy2gCIEM',\n",
       " '@joseenr10375471 @DarkcelRapist88 @UPL1FT https://t.co/6AhfhxR3XT',\n",
       " '@joseenr10375471 @DarkcelRapist88 @UPL1FT &gt; fighting against our civilisation \\n\\n&gt; Portuguese \\n\\nIt’s over',\n",
       " '@Hoover93265175 @ToomersWs I cant remember entirely, I do remember that it was not that humans drink something whic… https://t.co/SwuXZLP6LB',\n",
       " '@Hoover93265175 @ToomersWs Is there a problem with doing a metaphysics that you have yet to tell me?',\n",
       " 'My tweet is kinda blowing up fr fr',\n",
       " '@Hoover93265175 @ToomersWs It’s a misreading because Plato speaks in myths and allegories to get his metaphysical p… https://t.co/vMJPv1mLTQ',\n",
       " '@Hoover93265175 @ToomersWs Aquinas literally says that what is in the mind is first in the senses',\n",
       " '@Hoover93265175 @ToomersWs You are simply stating it though, you aren’t demonstrating it to me now that the 5 proofs are false',\n",
       " '@Hoover93265175 @ToomersWs If you want a proper understanding of Plato you should read “Thinking Being” by Eric Perl',\n",
       " '@Hoover93265175 @ToomersWs Platonic, Aristotelian, Plotinian, Proclean etc metaphysics was the basis for Aquinas. N… https://t.co/6689eQyMCw',\n",
       " '@Hoover93265175 @ToomersWs Kant rejecting something is not an argument lol',\n",
       " '@Hoover93265175 @ToomersWs If we can only know things via empirical observation, then that means this proposition w… https://t.co/uPAEjVrPAa',\n",
       " '@Hoover93265175 @ToomersWs I never said “pure reason” completely detached from experience because obviously without… https://t.co/5o1EH0zd9H',\n",
       " '@back_hate @FilboTwins problem liberal?',\n",
       " '@Hoover93265175 @ToomersWs That is not the whole point of Plato’s theory of knowledge lol \\n\\nAlso Aquinas was absolu… https://t.co/t58SymxFnz',\n",
       " '@Hoover93265175 @ToomersWs Also a problem with empiricism is that you can’t actually observe empirically that we ca… https://t.co/tZQEYH6rgJ',\n",
       " '@Hoover93265175 @ToomersWs All the proofs given for God’s existence rely upon logical arguments that are rooted in… https://t.co/55dwtrJGm4',\n",
       " '@Hoover93265175 @ToomersWs Aquinas did not believe that there were innate concepts in the mind in fact I’m pretty s… https://t.co/AAzKxWLlaG',\n",
       " '@Hoover93265175 @ToomersWs This isn’t really a response, this doesn’t tell me anything substantial it just tells me… https://t.co/DQw4DD4oX8',\n",
       " '@Hoover93265175 @ToomersWs That God exists is not a matter of faith but of reason. God doesn’t need to divinely rev… https://t.co/j12FkwuRaN',\n",
       " '@Hoover93265175 @ToomersWs Why are you an atheist',\n",
       " 'Wait where did Plaza go',\n",
       " '@Video_star7 @CDogmatics @FilboTwins Yeah they either say that the Yeshua on the note means someone different or th… https://t.co/t01aQwBfZN',\n",
       " '']"
      ]
     },
     "execution_count": 13,
     "metadata": {},
     "output_type": "execute_result"
    }
   ],
   "source": [
    "df['tweets'][0]"
   ]
  },
  {
   "cell_type": "code",
   "execution_count": 14,
   "id": "d0ff0b28-41f4-43d5-81ec-a67c87104cbd",
   "metadata": {
    "execution": {
     "iopub.execute_input": "2025-06-02T18:58:05.997196Z",
     "iopub.status.busy": "2025-06-02T18:58:05.995458Z",
     "iopub.status.idle": "2025-06-02T18:58:06.405705Z",
     "shell.execute_reply": "2025-06-02T18:58:06.405136Z",
     "shell.execute_reply.started": "2025-06-02T18:58:05.997123Z"
    }
   },
   "outputs": [],
   "source": [
    "df_exploded = df.explode('tweets').rename(columns={'tweets': 'tweet'}).reset_index(drop=True)"
   ]
  },
  {
   "cell_type": "code",
   "execution_count": 15,
   "id": "1b99f202-c031-4b8b-8eae-5b9f65f8b94f",
   "metadata": {
    "execution": {
     "iopub.execute_input": "2025-06-02T18:58:26.186483Z",
     "iopub.status.busy": "2025-06-02T18:58:26.184659Z",
     "iopub.status.idle": "2025-06-02T18:58:26.228004Z",
     "shell.execute_reply": "2025-06-02T18:58:26.227344Z",
     "shell.execute_reply.started": "2025-06-02T18:58:26.186409Z"
    }
   },
   "outputs": [
    {
     "data": {
      "text/html": [
       "<div>\n",
       "<style scoped>\n",
       "    .dataframe tbody tr th:only-of-type {\n",
       "        vertical-align: middle;\n",
       "    }\n",
       "\n",
       "    .dataframe tbody tr th {\n",
       "        vertical-align: top;\n",
       "    }\n",
       "\n",
       "    .dataframe thead th {\n",
       "        text-align: right;\n",
       "    }\n",
       "</style>\n",
       "<table border=\"1\" class=\"dataframe\">\n",
       "  <thead>\n",
       "    <tr style=\"text-align: right;\">\n",
       "      <th></th>\n",
       "      <th>Unnamed: 0</th>\n",
       "      <th>text</th>\n",
       "      <th>label</th>\n",
       "      <th>tweet</th>\n",
       "    </tr>\n",
       "  </thead>\n",
       "  <tbody>\n",
       "    <tr>\n",
       "      <th>0</th>\n",
       "      <td>0</td>\n",
       "      <td>@Pericles216 @HierBeforeTheAC @Sachinettiyil T...</td>\n",
       "      <td>intj</td>\n",
       "      <td>@Pericles216 @HierBeforeTheAC @Sachinettiyil T...</td>\n",
       "    </tr>\n",
       "    <tr>\n",
       "      <th>1</th>\n",
       "      <td>0</td>\n",
       "      <td>@Pericles216 @HierBeforeTheAC @Sachinettiyil T...</td>\n",
       "      <td>intj</td>\n",
       "      <td>@HierBeforeTheAC @Pericles216 @Sachinettiyil A...</td>\n",
       "    </tr>\n",
       "    <tr>\n",
       "      <th>2</th>\n",
       "      <td>0</td>\n",
       "      <td>@Pericles216 @HierBeforeTheAC @Sachinettiyil T...</td>\n",
       "      <td>intj</td>\n",
       "      <td>@HierBeforeTheAC @Pericles216 @Sachinettiyil Y...</td>\n",
       "    </tr>\n",
       "    <tr>\n",
       "      <th>3</th>\n",
       "      <td>0</td>\n",
       "      <td>@Pericles216 @HierBeforeTheAC @Sachinettiyil T...</td>\n",
       "      <td>intj</td>\n",
       "      <td>@HierBeforeTheAC @Pericles216 @Sachinettiyil Y...</td>\n",
       "    </tr>\n",
       "    <tr>\n",
       "      <th>4</th>\n",
       "      <td>0</td>\n",
       "      <td>@Pericles216 @HierBeforeTheAC @Sachinettiyil T...</td>\n",
       "      <td>intj</td>\n",
       "      <td>@HierBeforeTheAC @Pericles216 @Sachinettiyil T...</td>\n",
       "    </tr>\n",
       "  </tbody>\n",
       "</table>\n",
       "</div>"
      ],
      "text/plain": [
       "   Unnamed: 0                                               text label  \\\n",
       "0           0  @Pericles216 @HierBeforeTheAC @Sachinettiyil T...  intj   \n",
       "1           0  @Pericles216 @HierBeforeTheAC @Sachinettiyil T...  intj   \n",
       "2           0  @Pericles216 @HierBeforeTheAC @Sachinettiyil T...  intj   \n",
       "3           0  @Pericles216 @HierBeforeTheAC @Sachinettiyil T...  intj   \n",
       "4           0  @Pericles216 @HierBeforeTheAC @Sachinettiyil T...  intj   \n",
       "\n",
       "                                               tweet  \n",
       "0  @Pericles216 @HierBeforeTheAC @Sachinettiyil T...  \n",
       "1  @HierBeforeTheAC @Pericles216 @Sachinettiyil A...  \n",
       "2  @HierBeforeTheAC @Pericles216 @Sachinettiyil Y...  \n",
       "3  @HierBeforeTheAC @Pericles216 @Sachinettiyil Y...  \n",
       "4  @HierBeforeTheAC @Pericles216 @Sachinettiyil T...  "
      ]
     },
     "execution_count": 15,
     "metadata": {},
     "output_type": "execute_result"
    }
   ],
   "source": [
    "df_exploded.head()"
   ]
  },
  {
   "cell_type": "code",
   "execution_count": 16,
   "id": "aa06057a-79c8-4c0f-b8e0-ec693c6a4b61",
   "metadata": {
    "execution": {
     "iopub.execute_input": "2025-06-02T18:58:54.565699Z",
     "iopub.status.busy": "2025-06-02T18:58:54.558520Z",
     "iopub.status.idle": "2025-06-02T18:58:54.589988Z",
     "shell.execute_reply": "2025-06-02T18:58:54.589240Z",
     "shell.execute_reply.started": "2025-06-02T18:58:54.565581Z"
    }
   },
   "outputs": [
    {
     "data": {
      "text/html": [
       "<div>\n",
       "<style scoped>\n",
       "    .dataframe tbody tr th:only-of-type {\n",
       "        vertical-align: middle;\n",
       "    }\n",
       "\n",
       "    .dataframe tbody tr th {\n",
       "        vertical-align: top;\n",
       "    }\n",
       "\n",
       "    .dataframe thead th {\n",
       "        text-align: right;\n",
       "    }\n",
       "</style>\n",
       "<table border=\"1\" class=\"dataframe\">\n",
       "  <thead>\n",
       "    <tr style=\"text-align: right;\">\n",
       "      <th></th>\n",
       "      <th>Unnamed: 0</th>\n",
       "      <th>text</th>\n",
       "      <th>label</th>\n",
       "      <th>tweet</th>\n",
       "    </tr>\n",
       "  </thead>\n",
       "  <tbody>\n",
       "    <tr>\n",
       "      <th>0</th>\n",
       "      <td>0</td>\n",
       "      <td>@Pericles216 @HierBeforeTheAC @Sachinettiyil T...</td>\n",
       "      <td>intj</td>\n",
       "      <td>@Pericles216 @HierBeforeTheAC @Sachinettiyil T...</td>\n",
       "    </tr>\n",
       "    <tr>\n",
       "      <th>1</th>\n",
       "      <td>0</td>\n",
       "      <td>@Pericles216 @HierBeforeTheAC @Sachinettiyil T...</td>\n",
       "      <td>intj</td>\n",
       "      <td>@HierBeforeTheAC @Pericles216 @Sachinettiyil A...</td>\n",
       "    </tr>\n",
       "    <tr>\n",
       "      <th>2</th>\n",
       "      <td>0</td>\n",
       "      <td>@Pericles216 @HierBeforeTheAC @Sachinettiyil T...</td>\n",
       "      <td>intj</td>\n",
       "      <td>@HierBeforeTheAC @Pericles216 @Sachinettiyil Y...</td>\n",
       "    </tr>\n",
       "    <tr>\n",
       "      <th>3</th>\n",
       "      <td>0</td>\n",
       "      <td>@Pericles216 @HierBeforeTheAC @Sachinettiyil T...</td>\n",
       "      <td>intj</td>\n",
       "      <td>@HierBeforeTheAC @Pericles216 @Sachinettiyil Y...</td>\n",
       "    </tr>\n",
       "    <tr>\n",
       "      <th>4</th>\n",
       "      <td>0</td>\n",
       "      <td>@Pericles216 @HierBeforeTheAC @Sachinettiyil T...</td>\n",
       "      <td>intj</td>\n",
       "      <td>@HierBeforeTheAC @Pericles216 @Sachinettiyil T...</td>\n",
       "    </tr>\n",
       "    <tr>\n",
       "      <th>...</th>\n",
       "      <td>...</td>\n",
       "      <td>...</td>\n",
       "      <td>...</td>\n",
       "      <td>...</td>\n",
       "    </tr>\n",
       "    <tr>\n",
       "      <th>1093194</th>\n",
       "      <td>7810</td>\n",
       "      <td>@harry__lambert @gucci hey can you dm me a pic...</td>\n",
       "      <td>istp</td>\n",
       "      <td>@paytonstyleslol ILL BE THINKING REAL HARD</td>\n",
       "    </tr>\n",
       "    <tr>\n",
       "      <th>1093195</th>\n",
       "      <td>7810</td>\n",
       "      <td>@harry__lambert @gucci hey can you dm me a pic...</td>\n",
       "      <td>istp</td>\n",
       "      <td>i am at olive garden and my sister ordered the...</td>\n",
       "    </tr>\n",
       "    <tr>\n",
       "      <th>1093196</th>\n",
       "      <td>7810</td>\n",
       "      <td>@harry__lambert @gucci hey can you dm me a pic...</td>\n",
       "      <td>istp</td>\n",
       "      <td>@paytonstyleslol you’re so right</td>\n",
       "    </tr>\n",
       "    <tr>\n",
       "      <th>1093197</th>\n",
       "      <td>7810</td>\n",
       "      <td>@harry__lambert @gucci hey can you dm me a pic...</td>\n",
       "      <td>istp</td>\n",
       "      <td>@paytonstyleslol THIS IS VERY TRUE I THINK</td>\n",
       "    </tr>\n",
       "    <tr>\n",
       "      <th>1093198</th>\n",
       "      <td>7810</td>\n",
       "      <td>@harry__lambert @gucci hey can you dm me a pic...</td>\n",
       "      <td>istp</td>\n",
       "      <td></td>\n",
       "    </tr>\n",
       "  </tbody>\n",
       "</table>\n",
       "<p>1093199 rows × 4 columns</p>\n",
       "</div>"
      ],
      "text/plain": [
       "         Unnamed: 0                                               text label  \\\n",
       "0                 0  @Pericles216 @HierBeforeTheAC @Sachinettiyil T...  intj   \n",
       "1                 0  @Pericles216 @HierBeforeTheAC @Sachinettiyil T...  intj   \n",
       "2                 0  @Pericles216 @HierBeforeTheAC @Sachinettiyil T...  intj   \n",
       "3                 0  @Pericles216 @HierBeforeTheAC @Sachinettiyil T...  intj   \n",
       "4                 0  @Pericles216 @HierBeforeTheAC @Sachinettiyil T...  intj   \n",
       "...             ...                                                ...   ...   \n",
       "1093194        7810  @harry__lambert @gucci hey can you dm me a pic...  istp   \n",
       "1093195        7810  @harry__lambert @gucci hey can you dm me a pic...  istp   \n",
       "1093196        7810  @harry__lambert @gucci hey can you dm me a pic...  istp   \n",
       "1093197        7810  @harry__lambert @gucci hey can you dm me a pic...  istp   \n",
       "1093198        7810  @harry__lambert @gucci hey can you dm me a pic...  istp   \n",
       "\n",
       "                                                     tweet  \n",
       "0        @Pericles216 @HierBeforeTheAC @Sachinettiyil T...  \n",
       "1        @HierBeforeTheAC @Pericles216 @Sachinettiyil A...  \n",
       "2        @HierBeforeTheAC @Pericles216 @Sachinettiyil Y...  \n",
       "3        @HierBeforeTheAC @Pericles216 @Sachinettiyil Y...  \n",
       "4        @HierBeforeTheAC @Pericles216 @Sachinettiyil T...  \n",
       "...                                                    ...  \n",
       "1093194         @paytonstyleslol ILL BE THINKING REAL HARD  \n",
       "1093195  i am at olive garden and my sister ordered the...  \n",
       "1093196                   @paytonstyleslol you’re so right  \n",
       "1093197         @paytonstyleslol THIS IS VERY TRUE I THINK  \n",
       "1093198                                                     \n",
       "\n",
       "[1093199 rows x 4 columns]"
      ]
     },
     "execution_count": 16,
     "metadata": {},
     "output_type": "execute_result"
    }
   ],
   "source": [
    "df_exploded"
   ]
  },
  {
   "cell_type": "code",
   "execution_count": 17,
   "id": "02784349-f25b-4c93-a808-de2a23b8aadc",
   "metadata": {
    "execution": {
     "iopub.execute_input": "2025-06-02T19:01:08.563894Z",
     "iopub.status.busy": "2025-06-02T19:01:08.562763Z",
     "iopub.status.idle": "2025-06-02T19:01:08.574797Z",
     "shell.execute_reply": "2025-06-02T19:01:08.574020Z",
     "shell.execute_reply.started": "2025-06-02T19:01:08.563837Z"
    }
   },
   "outputs": [
    {
     "data": {
      "text/plain": [
       "1093199"
      ]
     },
     "execution_count": 17,
     "metadata": {},
     "output_type": "execute_result"
    }
   ],
   "source": [
    "len(df_exploded)"
   ]
  },
  {
   "cell_type": "code",
   "execution_count": 18,
   "id": "4fda5b83-7355-4ede-98af-bdffefe8e940",
   "metadata": {
    "execution": {
     "iopub.execute_input": "2025-06-02T19:02:44.561899Z",
     "iopub.status.busy": "2025-06-02T19:02:44.560482Z",
     "iopub.status.idle": "2025-06-02T19:02:57.882464Z",
     "shell.execute_reply": "2025-06-02T19:02:57.881958Z",
     "shell.execute_reply.started": "2025-06-02T19:02:44.561831Z"
    }
   },
   "outputs": [
    {
     "data": {
      "text/plain": [
       "np.int64(4167)"
      ]
     },
     "execution_count": 18,
     "metadata": {},
     "output_type": "execute_result"
    }
   ],
   "source": [
    "df_exploded.duplicated().sum()"
   ]
  },
  {
   "cell_type": "code",
   "execution_count": 19,
   "id": "e02dca3d-2c5d-4679-8ff4-3bc25e8620e2",
   "metadata": {
    "execution": {
     "iopub.execute_input": "2025-06-02T19:20:33.273836Z",
     "iopub.status.busy": "2025-06-02T19:20:33.272114Z",
     "iopub.status.idle": "2025-06-02T19:20:38.267501Z",
     "shell.execute_reply": "2025-06-02T19:20:38.267288Z",
     "shell.execute_reply.started": "2025-06-02T19:20:33.273764Z"
    }
   },
   "outputs": [
    {
     "data": {
      "text/html": [
       "<div>\n",
       "<style scoped>\n",
       "    .dataframe tbody tr th:only-of-type {\n",
       "        vertical-align: middle;\n",
       "    }\n",
       "\n",
       "    .dataframe tbody tr th {\n",
       "        vertical-align: top;\n",
       "    }\n",
       "\n",
       "    .dataframe thead th {\n",
       "        text-align: right;\n",
       "    }\n",
       "</style>\n",
       "<table border=\"1\" class=\"dataframe\">\n",
       "  <thead>\n",
       "    <tr style=\"text-align: right;\">\n",
       "      <th></th>\n",
       "      <th>Unnamed: 0</th>\n",
       "      <th>text</th>\n",
       "      <th>label</th>\n",
       "      <th>tweet</th>\n",
       "      <th>clean_tweet</th>\n",
       "    </tr>\n",
       "  </thead>\n",
       "  <tbody>\n",
       "    <tr>\n",
       "      <th>0</th>\n",
       "      <td>0</td>\n",
       "      <td>@Pericles216 @HierBeforeTheAC @Sachinettiyil T...</td>\n",
       "      <td>intj</td>\n",
       "      <td>@Pericles216 @HierBeforeTheAC @Sachinettiyil T...</td>\n",
       "      <td>the pope is infallible this is a catholic dogm...</td>\n",
       "    </tr>\n",
       "    <tr>\n",
       "      <th>1</th>\n",
       "      <td>0</td>\n",
       "      <td>@Pericles216 @HierBeforeTheAC @Sachinettiyil T...</td>\n",
       "      <td>intj</td>\n",
       "      <td>@HierBeforeTheAC @Pericles216 @Sachinettiyil A...</td>\n",
       "      <td>and by perpetually it entails that the church ...</td>\n",
       "    </tr>\n",
       "    <tr>\n",
       "      <th>2</th>\n",
       "      <td>0</td>\n",
       "      <td>@Pericles216 @HierBeforeTheAC @Sachinettiyil T...</td>\n",
       "      <td>intj</td>\n",
       "      <td>@HierBeforeTheAC @Pericles216 @Sachinettiyil Y...</td>\n",
       "      <td>you open the door to unironic nonsense when yo...</td>\n",
       "    </tr>\n",
       "    <tr>\n",
       "      <th>3</th>\n",
       "      <td>0</td>\n",
       "      <td>@Pericles216 @HierBeforeTheAC @Sachinettiyil T...</td>\n",
       "      <td>intj</td>\n",
       "      <td>@HierBeforeTheAC @Pericles216 @Sachinettiyil Y...</td>\n",
       "      <td>you dont know your own faith lol you just trie...</td>\n",
       "    </tr>\n",
       "    <tr>\n",
       "      <th>4</th>\n",
       "      <td>0</td>\n",
       "      <td>@Pericles216 @HierBeforeTheAC @Sachinettiyil T...</td>\n",
       "      <td>intj</td>\n",
       "      <td>@HierBeforeTheAC @Pericles216 @Sachinettiyil T...</td>\n",
       "      <td>thats like me saying that im gonna give you a ...</td>\n",
       "    </tr>\n",
       "    <tr>\n",
       "      <th>...</th>\n",
       "      <td>...</td>\n",
       "      <td>...</td>\n",
       "      <td>...</td>\n",
       "      <td>...</td>\n",
       "      <td>...</td>\n",
       "    </tr>\n",
       "    <tr>\n",
       "      <th>1093194</th>\n",
       "      <td>7810</td>\n",
       "      <td>@harry__lambert @gucci hey can you dm me a pic...</td>\n",
       "      <td>istp</td>\n",
       "      <td>@paytonstyleslol ILL BE THINKING REAL HARD</td>\n",
       "      <td>ill be thinking real hard</td>\n",
       "    </tr>\n",
       "    <tr>\n",
       "      <th>1093195</th>\n",
       "      <td>7810</td>\n",
       "      <td>@harry__lambert @gucci hey can you dm me a pic...</td>\n",
       "      <td>istp</td>\n",
       "      <td>i am at olive garden and my sister ordered the...</td>\n",
       "      <td>i am at olive garden and my sister ordered the...</td>\n",
       "    </tr>\n",
       "    <tr>\n",
       "      <th>1093196</th>\n",
       "      <td>7810</td>\n",
       "      <td>@harry__lambert @gucci hey can you dm me a pic...</td>\n",
       "      <td>istp</td>\n",
       "      <td>@paytonstyleslol you’re so right</td>\n",
       "      <td>youre so right</td>\n",
       "    </tr>\n",
       "    <tr>\n",
       "      <th>1093197</th>\n",
       "      <td>7810</td>\n",
       "      <td>@harry__lambert @gucci hey can you dm me a pic...</td>\n",
       "      <td>istp</td>\n",
       "      <td>@paytonstyleslol THIS IS VERY TRUE I THINK</td>\n",
       "      <td>this is very true i think</td>\n",
       "    </tr>\n",
       "    <tr>\n",
       "      <th>1093198</th>\n",
       "      <td>7810</td>\n",
       "      <td>@harry__lambert @gucci hey can you dm me a pic...</td>\n",
       "      <td>istp</td>\n",
       "      <td></td>\n",
       "      <td></td>\n",
       "    </tr>\n",
       "  </tbody>\n",
       "</table>\n",
       "<p>1093199 rows × 5 columns</p>\n",
       "</div>"
      ],
      "text/plain": [
       "         Unnamed: 0                                               text label  \\\n",
       "0                 0  @Pericles216 @HierBeforeTheAC @Sachinettiyil T...  intj   \n",
       "1                 0  @Pericles216 @HierBeforeTheAC @Sachinettiyil T...  intj   \n",
       "2                 0  @Pericles216 @HierBeforeTheAC @Sachinettiyil T...  intj   \n",
       "3                 0  @Pericles216 @HierBeforeTheAC @Sachinettiyil T...  intj   \n",
       "4                 0  @Pericles216 @HierBeforeTheAC @Sachinettiyil T...  intj   \n",
       "...             ...                                                ...   ...   \n",
       "1093194        7810  @harry__lambert @gucci hey can you dm me a pic...  istp   \n",
       "1093195        7810  @harry__lambert @gucci hey can you dm me a pic...  istp   \n",
       "1093196        7810  @harry__lambert @gucci hey can you dm me a pic...  istp   \n",
       "1093197        7810  @harry__lambert @gucci hey can you dm me a pic...  istp   \n",
       "1093198        7810  @harry__lambert @gucci hey can you dm me a pic...  istp   \n",
       "\n",
       "                                                     tweet  \\\n",
       "0        @Pericles216 @HierBeforeTheAC @Sachinettiyil T...   \n",
       "1        @HierBeforeTheAC @Pericles216 @Sachinettiyil A...   \n",
       "2        @HierBeforeTheAC @Pericles216 @Sachinettiyil Y...   \n",
       "3        @HierBeforeTheAC @Pericles216 @Sachinettiyil Y...   \n",
       "4        @HierBeforeTheAC @Pericles216 @Sachinettiyil T...   \n",
       "...                                                    ...   \n",
       "1093194         @paytonstyleslol ILL BE THINKING REAL HARD   \n",
       "1093195  i am at olive garden and my sister ordered the...   \n",
       "1093196                   @paytonstyleslol you’re so right   \n",
       "1093197         @paytonstyleslol THIS IS VERY TRUE I THINK   \n",
       "1093198                                                      \n",
       "\n",
       "                                               clean_tweet  \n",
       "0        the pope is infallible this is a catholic dogm...  \n",
       "1        and by perpetually it entails that the church ...  \n",
       "2        you open the door to unironic nonsense when yo...  \n",
       "3        you dont know your own faith lol you just trie...  \n",
       "4        thats like me saying that im gonna give you a ...  \n",
       "...                                                    ...  \n",
       "1093194                          ill be thinking real hard  \n",
       "1093195  i am at olive garden and my sister ordered the...  \n",
       "1093196                                     youre so right  \n",
       "1093197                          this is very true i think  \n",
       "1093198                                                     \n",
       "\n",
       "[1093199 rows x 5 columns]"
      ]
     },
     "execution_count": 19,
     "metadata": {},
     "output_type": "execute_result"
    }
   ],
   "source": [
    "#Clean the data\n",
    "import re\n",
    "\n",
    "def clean_text(text):\n",
    "    text = text.lower()\n",
    "    text = re.sub(r\"http\\S+|www.|S+\", \"\", text)\n",
    "    text = re.sub(r\"@\\w+\", \"\", text)\n",
    "    text = re.sub(r\"#\\w+\", \"\", text)\n",
    "    text = re.sub(r\"[^a-z\\s]\", \"\", text)\n",
    "    text = re.sub(r\"\\s+\", \" \", text).strip()\n",
    "    return text\n",
    "\n",
    "df_exploded['clean_tweet'] = df_exploded['tweet'].apply(clean_text)\n",
    "\n",
    "df_exploded"
   ]
  },
  {
   "cell_type": "code",
   "execution_count": 20,
   "id": "a5c6b232-fbf2-4fd6-9b3d-5d4b79ed398f",
   "metadata": {
    "execution": {
     "iopub.execute_input": "2025-06-02T19:33:33.104429Z",
     "iopub.status.busy": "2025-06-02T19:33:33.102634Z",
     "iopub.status.idle": "2025-06-02T19:33:33.124641Z",
     "shell.execute_reply": "2025-06-02T19:33:33.124157Z",
     "shell.execute_reply.started": "2025-06-02T19:33:33.104338Z"
    }
   },
   "outputs": [
    {
     "data": {
      "text/plain": [
       "(1093199, 5)"
      ]
     },
     "execution_count": 20,
     "metadata": {},
     "output_type": "execute_result"
    }
   ],
   "source": [
    "df_exploded.shape"
   ]
  },
  {
   "cell_type": "code",
   "execution_count": 21,
   "id": "1ee6b8dd-a42a-4b65-8a8e-a65c5ebe14de",
   "metadata": {
    "execution": {
     "iopub.execute_input": "2025-06-02T19:34:14.036249Z",
     "iopub.status.busy": "2025-06-02T19:34:14.033377Z",
     "iopub.status.idle": "2025-06-02T19:34:14.059108Z",
     "shell.execute_reply": "2025-06-02T19:34:14.057763Z",
     "shell.execute_reply.started": "2025-06-02T19:34:14.036149Z"
    }
   },
   "outputs": [
    {
     "data": {
      "text/plain": [
       "Index(['Unnamed: 0', 'text', 'label', 'tweet', 'clean_tweet'], dtype='object')"
      ]
     },
     "execution_count": 21,
     "metadata": {},
     "output_type": "execute_result"
    }
   ],
   "source": [
    "df_exploded.columns"
   ]
  },
  {
   "cell_type": "code",
   "execution_count": 22,
   "id": "3d7d4511-b916-4cc2-b83e-4acf6381e395",
   "metadata": {
    "execution": {
     "iopub.execute_input": "2025-06-02T19:35:01.020569Z",
     "iopub.status.busy": "2025-06-02T19:35:01.019486Z",
     "iopub.status.idle": "2025-06-02T19:35:01.334593Z",
     "shell.execute_reply": "2025-06-02T19:35:01.334286Z",
     "shell.execute_reply.started": "2025-06-02T19:35:01.020513Z"
    }
   },
   "outputs": [
    {
     "data": {
      "text/plain": [
       "count    1.093199e+06\n",
       "mean     6.550801e+01\n",
       "std      4.084826e+01\n",
       "min      0.000000e+00\n",
       "25%      3.300000e+01\n",
       "50%      5.300000e+01\n",
       "75%      9.300000e+01\n",
       "max      2.480000e+02\n",
       "Name: tweet, dtype: float64"
      ]
     },
     "execution_count": 22,
     "metadata": {},
     "output_type": "execute_result"
    }
   ],
   "source": [
    "df_exploded['tweet'].apply(len).describe()"
   ]
  },
  {
   "cell_type": "code",
   "execution_count": 23,
   "id": "8d8f5a7f-5ca3-4287-b83e-dec1614f3cd3",
   "metadata": {
    "execution": {
     "iopub.execute_input": "2025-06-02T19:53:53.278178Z",
     "iopub.status.busy": "2025-06-02T19:53:53.276220Z",
     "iopub.status.idle": "2025-06-02T19:53:53.410103Z",
     "shell.execute_reply": "2025-06-02T19:53:53.409794Z",
     "shell.execute_reply.started": "2025-06-02T19:53:53.278073Z"
    }
   },
   "outputs": [
    {
     "data": {
      "text/plain": [
       "np.int64(0)"
      ]
     },
     "execution_count": 23,
     "metadata": {},
     "output_type": "execute_result"
    }
   ],
   "source": [
    "df_exploded['clean_tweet'].isnull().sum()"
   ]
  },
  {
   "cell_type": "code",
   "execution_count": 24,
   "id": "f965f3e8-19ea-441b-8b21-5447979c606b",
   "metadata": {
    "execution": {
     "iopub.execute_input": "2025-06-02T19:54:28.631792Z",
     "iopub.status.busy": "2025-06-02T19:54:28.630654Z",
     "iopub.status.idle": "2025-06-02T19:54:28.724022Z",
     "shell.execute_reply": "2025-06-02T19:54:28.723757Z",
     "shell.execute_reply.started": "2025-06-02T19:54:28.631724Z"
    }
   },
   "outputs": [
    {
     "data": {
      "text/plain": [
       "label\n",
       "infp    173469\n",
       "infj    143879\n",
       "intp    112524\n",
       "intj    111027\n",
       "enfp    102914\n",
       "entp     84925\n",
       "enfj     73512\n",
       "isfj     50920\n",
       "isfp     50734\n",
       "istp     46630\n",
       "entj     39886\n",
       "istj     36499\n",
       "esfp     25602\n",
       "esfj     14665\n",
       "estp     13851\n",
       "estj     12162\n",
       "Name: count, dtype: int64"
      ]
     },
     "execution_count": 24,
     "metadata": {},
     "output_type": "execute_result"
    }
   ],
   "source": [
    "df_exploded['label'].value_counts()"
   ]
  },
  {
   "cell_type": "code",
   "execution_count": 25,
   "id": "f5a7a535-e339-412d-9d81-95b22a792ada",
   "metadata": {
    "execution": {
     "iopub.execute_input": "2025-06-02T19:56:41.312159Z",
     "iopub.status.busy": "2025-06-02T19:56:41.310577Z",
     "iopub.status.idle": "2025-06-02T19:56:41.353779Z",
     "shell.execute_reply": "2025-06-02T19:56:41.352614Z",
     "shell.execute_reply.started": "2025-06-02T19:56:41.312090Z"
    }
   },
   "outputs": [
    {
     "data": {
      "text/plain": [
       "count    7811.000000\n",
       "mean      139.956344\n",
       "std        48.219292\n",
       "min        12.000000\n",
       "25%       106.000000\n",
       "50%       151.000000\n",
       "75%       181.000000\n",
       "max       201.000000\n",
       "Name: tweets, dtype: float64"
      ]
     },
     "execution_count": 25,
     "metadata": {},
     "output_type": "execute_result"
    }
   ],
   "source": [
    "df['tweets'].apply(len).describe()"
   ]
  },
  {
   "cell_type": "code",
   "execution_count": 26,
   "id": "8b77bd86-1971-4cbf-aaa3-0882e5d5ca60",
   "metadata": {
    "execution": {
     "iopub.execute_input": "2025-06-02T19:59:25.383782Z",
     "iopub.status.busy": "2025-06-02T19:59:25.382031Z",
     "iopub.status.idle": "2025-06-02T19:59:25.403821Z",
     "shell.execute_reply": "2025-06-02T19:59:25.398310Z",
     "shell.execute_reply.started": "2025-06-02T19:59:25.383650Z"
    }
   },
   "outputs": [
    {
     "data": {
      "text/plain": [
       "'the pope is infallible this is a catholic dogma it doesnt mean the'"
      ]
     },
     "execution_count": 26,
     "metadata": {},
     "output_type": "execute_result"
    }
   ],
   "source": [
    "df_exploded['clean_tweet'][0]"
   ]
  },
  {
   "cell_type": "code",
   "execution_count": 27,
   "id": "4387433f-db8c-4526-add1-f38c236c4a25",
   "metadata": {
    "execution": {
     "iopub.execute_input": "2025-06-02T20:34:45.989214Z",
     "iopub.status.busy": "2025-06-02T20:34:45.988350Z",
     "iopub.status.idle": "2025-06-02T20:34:46.677782Z",
     "shell.execute_reply": "2025-06-02T20:34:46.677319Z",
     "shell.execute_reply.started": "2025-06-02T20:34:45.989174Z"
    }
   },
   "outputs": [
    {
     "data": {
      "text/plain": [
       "count    7811.000000\n",
       "mean      139.956344\n",
       "std        48.219292\n",
       "min        12.000000\n",
       "25%       106.000000\n",
       "50%       151.000000\n",
       "75%       181.000000\n",
       "max       201.000000\n",
       "Name: tweets_per_user, dtype: float64"
      ]
     },
     "execution_count": 27,
     "metadata": {},
     "output_type": "execute_result"
    }
   ],
   "source": [
    "df['tweets_per_user'] = df['text'].apply(lambda x: len(str(x).split('|||')))\n",
    "df['tweets_per_user'].describe()"
   ]
  },
  {
   "cell_type": "code",
   "execution_count": 28,
   "id": "e17b9056-b930-455e-99b8-a2059401b157",
   "metadata": {
    "execution": {
     "iopub.execute_input": "2025-06-02T20:47:48.714001Z",
     "iopub.status.busy": "2025-06-02T20:47:48.713054Z",
     "iopub.status.idle": "2025-06-02T20:47:48.755489Z",
     "shell.execute_reply": "2025-06-02T20:47:48.754637Z",
     "shell.execute_reply.started": "2025-06-02T20:47:48.713955Z"
    }
   },
   "outputs": [],
   "source": [
    "#reassigning user_id to each tweet based on OG row #\n",
    "df_exploded['user_id'] = df_exploded['Unnamed: 0']"
   ]
  },
  {
   "cell_type": "code",
   "execution_count": 29,
   "id": "91c885f9-c448-45a0-b960-5f8a75641d78",
   "metadata": {
    "execution": {
     "iopub.execute_input": "2025-06-02T20:49:44.987862Z",
     "iopub.status.busy": "2025-06-02T20:49:44.986578Z",
     "iopub.status.idle": "2025-06-02T20:49:45.401015Z",
     "shell.execute_reply": "2025-06-02T20:49:45.400792Z",
     "shell.execute_reply.started": "2025-06-02T20:49:44.987801Z"
    }
   },
   "outputs": [],
   "source": [
    "#Grouping users\n",
    "grouped_users = df_exploded.groupby(['user_id', 'label'])['clean_tweet'].apply(lambda tweets: ' '.join(tweets)).reset_index()"
   ]
  },
  {
   "cell_type": "code",
   "execution_count": 30,
   "id": "a965d287-1bc8-4f45-a101-0e039c51f8e4",
   "metadata": {
    "execution": {
     "iopub.execute_input": "2025-06-02T20:50:29.408403Z",
     "iopub.status.busy": "2025-06-02T20:50:29.407050Z",
     "iopub.status.idle": "2025-06-02T20:50:29.440041Z",
     "shell.execute_reply": "2025-06-02T20:50:29.439286Z",
     "shell.execute_reply.started": "2025-06-02T20:50:29.408337Z"
    }
   },
   "outputs": [
    {
     "data": {
      "text/html": [
       "<div>\n",
       "<style scoped>\n",
       "    .dataframe tbody tr th:only-of-type {\n",
       "        vertical-align: middle;\n",
       "    }\n",
       "\n",
       "    .dataframe tbody tr th {\n",
       "        vertical-align: top;\n",
       "    }\n",
       "\n",
       "    .dataframe thead th {\n",
       "        text-align: right;\n",
       "    }\n",
       "</style>\n",
       "<table border=\"1\" class=\"dataframe\">\n",
       "  <thead>\n",
       "    <tr style=\"text-align: right;\">\n",
       "      <th></th>\n",
       "      <th>user_id</th>\n",
       "      <th>label</th>\n",
       "      <th>clean_tweet</th>\n",
       "    </tr>\n",
       "  </thead>\n",
       "  <tbody>\n",
       "    <tr>\n",
       "      <th>0</th>\n",
       "      <td>0</td>\n",
       "      <td>intj</td>\n",
       "      <td>the pope is infallible this is a catholic dogm...</td>\n",
       "    </tr>\n",
       "    <tr>\n",
       "      <th>1</th>\n",
       "      <td>1</td>\n",
       "      <td>intj</td>\n",
       "      <td>being you makes you look cute on because then ...</td>\n",
       "    </tr>\n",
       "    <tr>\n",
       "      <th>2</th>\n",
       "      <td>2</td>\n",
       "      <td>intj</td>\n",
       "      <td>les balles sont relles et sont tires trs rapid...</td>\n",
       "    </tr>\n",
       "    <tr>\n",
       "      <th>3</th>\n",
       "      <td>3</td>\n",
       "      <td>intj</td>\n",
       "      <td>im like entp but idiotic hey boy do you want t...</td>\n",
       "    </tr>\n",
       "    <tr>\n",
       "      <th>4</th>\n",
       "      <td>4</td>\n",
       "      <td>intj</td>\n",
       "      <td>give it to he has pica since childhood say qub...</td>\n",
       "    </tr>\n",
       "  </tbody>\n",
       "</table>\n",
       "</div>"
      ],
      "text/plain": [
       "   user_id label                                        clean_tweet\n",
       "0        0  intj  the pope is infallible this is a catholic dogm...\n",
       "1        1  intj  being you makes you look cute on because then ...\n",
       "2        2  intj  les balles sont relles et sont tires trs rapid...\n",
       "3        3  intj  im like entp but idiotic hey boy do you want t...\n",
       "4        4  intj  give it to he has pica since childhood say qub..."
      ]
     },
     "execution_count": 30,
     "metadata": {},
     "output_type": "execute_result"
    }
   ],
   "source": [
    "grouped_users.head()"
   ]
  },
  {
   "cell_type": "code",
   "execution_count": 31,
   "id": "8d772c78-053d-48ec-abab-8d071579608b",
   "metadata": {
    "execution": {
     "iopub.execute_input": "2025-06-02T21:00:12.678314Z",
     "iopub.status.busy": "2025-06-02T21:00:12.677749Z",
     "iopub.status.idle": "2025-06-02T21:00:13.457152Z",
     "shell.execute_reply": "2025-06-02T21:00:13.456872Z",
     "shell.execute_reply.started": "2025-06-02T21:00:12.678277Z"
    }
   },
   "outputs": [],
   "source": [
    "chunk_data = []\n",
    "\n",
    "for _, row in grouped_users.iterrows():\n",
    "    label = row['label']\n",
    "    words = row['clean_tweet'].split()\n",
    "    chunks = [' '.join(words[i:i+300]) for i in range(0, len(words), 300)]\n",
    "\n",
    "    for chunk in chunks:\n",
    "        if len(chunk.split()) >= 100:\n",
    "            chunk_data.append({'label': label, 'text': chunk})"
   ]
  },
  {
   "cell_type": "code",
   "execution_count": 32,
   "id": "8f9ae1f1-f03f-481e-bef7-c264ec8adc27",
   "metadata": {
    "execution": {
     "iopub.execute_input": "2025-06-02T21:01:08.909497Z",
     "iopub.status.busy": "2025-06-02T21:01:08.907354Z",
     "iopub.status.idle": "2025-06-02T21:01:08.994962Z",
     "shell.execute_reply": "2025-06-02T21:01:08.994252Z",
     "shell.execute_reply.started": "2025-06-02T21:01:08.909391Z"
    }
   },
   "outputs": [
    {
     "data": {
      "text/html": [
       "<div>\n",
       "<style scoped>\n",
       "    .dataframe tbody tr th:only-of-type {\n",
       "        vertical-align: middle;\n",
       "    }\n",
       "\n",
       "    .dataframe tbody tr th {\n",
       "        vertical-align: top;\n",
       "    }\n",
       "\n",
       "    .dataframe thead th {\n",
       "        text-align: right;\n",
       "    }\n",
       "</style>\n",
       "<table border=\"1\" class=\"dataframe\">\n",
       "  <thead>\n",
       "    <tr style=\"text-align: right;\">\n",
       "      <th></th>\n",
       "      <th>label</th>\n",
       "      <th>text</th>\n",
       "    </tr>\n",
       "  </thead>\n",
       "  <tbody>\n",
       "    <tr>\n",
       "      <th>0</th>\n",
       "      <td>intj</td>\n",
       "      <td>the pope is infallible this is a catholic dogm...</td>\n",
       "    </tr>\n",
       "    <tr>\n",
       "      <th>1</th>\n",
       "      <td>intj</td>\n",
       "      <td>martin said that george floyd was in heaven it...</td>\n",
       "    </tr>\n",
       "    <tr>\n",
       "      <th>2</th>\n",
       "      <td>intj</td>\n",
       "      <td>while supporting abortion lol abortion again i...</td>\n",
       "    </tr>\n",
       "    <tr>\n",
       "      <th>3</th>\n",
       "      <td>intj</td>\n",
       "      <td>views on predestination exist in the catholic ...</td>\n",
       "    </tr>\n",
       "    <tr>\n",
       "      <th>4</th>\n",
       "      <td>intj</td>\n",
       "      <td>a little kitty cat i mean the real dangerousne...</td>\n",
       "    </tr>\n",
       "  </tbody>\n",
       "</table>\n",
       "</div>"
      ],
      "text/plain": [
       "  label                                               text\n",
       "0  intj  the pope is infallible this is a catholic dogm...\n",
       "1  intj  martin said that george floyd was in heaven it...\n",
       "2  intj  while supporting abortion lol abortion again i...\n",
       "3  intj  views on predestination exist in the catholic ...\n",
       "4  intj  a little kitty cat i mean the real dangerousne..."
      ]
     },
     "execution_count": 32,
     "metadata": {},
     "output_type": "execute_result"
    }
   ],
   "source": [
    "chunk_df = pd.DataFrame(chunk_data)\n",
    "chunk_df.head()"
   ]
  },
  {
   "cell_type": "code",
   "execution_count": 33,
   "id": "d473b93b-6fac-42a9-b87f-715e4cc48a5d",
   "metadata": {
    "execution": {
     "iopub.execute_input": "2025-06-02T21:02:45.611660Z",
     "iopub.status.busy": "2025-06-02T21:02:45.610529Z",
     "iopub.status.idle": "2025-06-02T21:02:45.627561Z",
     "shell.execute_reply": "2025-06-02T21:02:45.626454Z",
     "shell.execute_reply.started": "2025-06-02T21:02:45.611613Z"
    }
   },
   "outputs": [],
   "source": [
    "chunk_df.index = range(1, len(chunk_df) + 1)"
   ]
  },
  {
   "cell_type": "code",
   "execution_count": 34,
   "id": "32458831-2f67-433e-9288-af5751538dd0",
   "metadata": {
    "execution": {
     "iopub.execute_input": "2025-06-02T21:03:09.010952Z",
     "iopub.status.busy": "2025-06-02T21:03:09.010530Z",
     "iopub.status.idle": "2025-06-02T21:03:09.032549Z",
     "shell.execute_reply": "2025-06-02T21:03:09.031443Z",
     "shell.execute_reply.started": "2025-06-02T21:03:09.010915Z"
    }
   },
   "outputs": [
    {
     "data": {
      "text/html": [
       "<div>\n",
       "<style scoped>\n",
       "    .dataframe tbody tr th:only-of-type {\n",
       "        vertical-align: middle;\n",
       "    }\n",
       "\n",
       "    .dataframe tbody tr th {\n",
       "        vertical-align: top;\n",
       "    }\n",
       "\n",
       "    .dataframe thead th {\n",
       "        text-align: right;\n",
       "    }\n",
       "</style>\n",
       "<table border=\"1\" class=\"dataframe\">\n",
       "  <thead>\n",
       "    <tr style=\"text-align: right;\">\n",
       "      <th></th>\n",
       "      <th>label</th>\n",
       "      <th>text</th>\n",
       "    </tr>\n",
       "  </thead>\n",
       "  <tbody>\n",
       "    <tr>\n",
       "      <th>1</th>\n",
       "      <td>intj</td>\n",
       "      <td>the pope is infallible this is a catholic dogm...</td>\n",
       "    </tr>\n",
       "    <tr>\n",
       "      <th>2</th>\n",
       "      <td>intj</td>\n",
       "      <td>martin said that george floyd was in heaven it...</td>\n",
       "    </tr>\n",
       "    <tr>\n",
       "      <th>3</th>\n",
       "      <td>intj</td>\n",
       "      <td>while supporting abortion lol abortion again i...</td>\n",
       "    </tr>\n",
       "    <tr>\n",
       "      <th>4</th>\n",
       "      <td>intj</td>\n",
       "      <td>views on predestination exist in the catholic ...</td>\n",
       "    </tr>\n",
       "    <tr>\n",
       "      <th>5</th>\n",
       "      <td>intj</td>\n",
       "      <td>a little kitty cat i mean the real dangerousne...</td>\n",
       "    </tr>\n",
       "  </tbody>\n",
       "</table>\n",
       "</div>"
      ],
      "text/plain": [
       "  label                                               text\n",
       "1  intj  the pope is infallible this is a catholic dogm...\n",
       "2  intj  martin said that george floyd was in heaven it...\n",
       "3  intj  while supporting abortion lol abortion again i...\n",
       "4  intj  views on predestination exist in the catholic ...\n",
       "5  intj  a little kitty cat i mean the real dangerousne..."
      ]
     },
     "execution_count": 34,
     "metadata": {},
     "output_type": "execute_result"
    }
   ],
   "source": [
    "chunk_df.head()"
   ]
  },
  {
   "cell_type": "code",
   "execution_count": 35,
   "id": "da0ea346-01ab-4a81-806a-9a8d30d666db",
   "metadata": {
    "execution": {
     "iopub.execute_input": "2025-06-02T21:04:00.438003Z",
     "iopub.status.busy": "2025-06-02T21:04:00.436423Z",
     "iopub.status.idle": "2025-06-02T21:04:00.452464Z",
     "shell.execute_reply": "2025-06-02T21:04:00.451039Z",
     "shell.execute_reply.started": "2025-06-02T21:04:00.437909Z"
    }
   },
   "outputs": [
    {
     "data": {
      "text/plain": [
       "'the pope is infallible this is a catholic dogma it doesnt mean the and by perpetually it entails that the church herself can elect new po you open the door to unironic nonsense when you believe this nonsense you dont know your own faith lol you just tried to say that perpetua thats like me saying that im gonna give you a bike that will never b you have a dumb view of gods preservation of the church god doesnt its not heretical all sedes do is take quotes out of context from vatican is not a new religion you moron lol its an ecumenical counc the issue isnt the mere vacancy its the fact you dont think its po denying dogmas and then saying muh mystery is such a liberal way of no its not just muh mystery its a blatant contradiction god doesn it didnt take years for the pope to have a legitimate successor pe your position is simply heretical it defies the indefectibility of th it means that despite interregnum periods there will always be perpetu that is a blatant misreading of vatican lol its twisting the text s so they believe that the papacy has defected as they believe its bee and before you say its just a gap all sedes i have spoken to admit im not a sede and i believe everything the church has taught for k y ur literally a sedevacantist industrial revolution and its consequences have not been bussin for the squad bcoz you have a big heart are you below australia guys i feel like capitalism isnt going to be overthrown anytime soon this picture kinda goes super hard tbh you know how we have mariology i think jesuits have floydiology still puzzled over the fact that fr james'"
      ]
     },
     "execution_count": 35,
     "metadata": {},
     "output_type": "execute_result"
    }
   ],
   "source": [
    "chunk_df['text'][1]"
   ]
  },
  {
   "cell_type": "code",
   "execution_count": 36,
   "id": "b31f8c12-5532-4cbe-8c48-b38c3338329a",
   "metadata": {
    "execution": {
     "iopub.execute_input": "2025-06-02T21:04:32.972509Z",
     "iopub.status.busy": "2025-06-02T21:04:32.967995Z",
     "iopub.status.idle": "2025-06-02T21:04:32.982956Z",
     "shell.execute_reply": "2025-06-02T21:04:32.982157Z",
     "shell.execute_reply.started": "2025-06-02T21:04:32.972444Z"
    }
   },
   "outputs": [
    {
     "data": {
      "text/plain": [
       "(33180, 2)"
      ]
     },
     "execution_count": 36,
     "metadata": {},
     "output_type": "execute_result"
    }
   ],
   "source": [
    "chunk_df.shape"
   ]
  },
  {
   "cell_type": "code",
   "execution_count": 37,
   "id": "275f2960-76b4-4465-8efd-59bcde9aa3d8",
   "metadata": {
    "execution": {
     "iopub.execute_input": "2025-06-02T21:07:35.071148Z",
     "iopub.status.busy": "2025-06-02T21:07:35.069088Z",
     "iopub.status.idle": "2025-06-02T21:07:35.102544Z",
     "shell.execute_reply": "2025-06-02T21:07:35.101329Z",
     "shell.execute_reply.started": "2025-06-02T21:07:35.071012Z"
    }
   },
   "outputs": [
    {
     "data": {
      "text/plain": [
       "label\n",
       "enfj    2300\n",
       "enfp    3197\n",
       "entj    1237\n",
       "entp    2497\n",
       "esfj     433\n",
       "esfp     678\n",
       "estj     396\n",
       "estp     409\n",
       "infj    4604\n",
       "infp    5246\n",
       "intj    3644\n",
       "intp    3349\n",
       "isfj    1458\n",
       "isfp    1419\n",
       "istj    1068\n",
       "istp    1245\n",
       "Name: count, dtype: int64"
      ]
     },
     "execution_count": 37,
     "metadata": {},
     "output_type": "execute_result"
    }
   ],
   "source": [
    "chunk_df['label'].value_counts().sort_index()"
   ]
  },
  {
   "cell_type": "code",
   "execution_count": 38,
   "id": "e330d459-9b7e-4fad-8f61-422fdeb1fba2",
   "metadata": {
    "execution": {
     "iopub.execute_input": "2025-06-02T21:10:53.297988Z",
     "iopub.status.busy": "2025-06-02T21:10:53.295286Z",
     "iopub.status.idle": "2025-06-02T21:10:53.410956Z",
     "shell.execute_reply": "2025-06-02T21:10:53.410640Z",
     "shell.execute_reply.started": "2025-06-02T21:10:53.297890Z"
    }
   },
   "outputs": [
    {
     "data": {
      "image/png": "[encoded data removed]",
      "text/plain": [
       "<Figure size 640x480 with 1 Axes>"
      ]
     },
     "metadata": {},
     "output_type": "display_data"
    }
   ],
   "source": [
    "chunk_df['label'].value_counts().plot(kind='bar', title='Chunks per Personality Label');"
   ]
  },
  {
   "cell_type": "code",
   "execution_count": 40,
   "id": "2925c786-c1d2-4489-9ea6-69fbbba14dac",
   "metadata": {
    "execution": {
     "iopub.execute_input": "2025-06-02T21:51:27.926399Z",
     "iopub.status.busy": "2025-06-02T21:51:27.922063Z",
     "iopub.status.idle": "2025-06-02T21:51:28.520283Z",
     "shell.execute_reply": "2025-06-02T21:51:28.515759Z",
     "shell.execute_reply.started": "2025-06-02T21:51:27.926111Z"
    }
   },
   "outputs": [],
   "source": [
    "chunk_df.to_csv('../raw_data/mbti_chunked_clean.csv', index=True, index_label='chunk_id')"
   ]
  },
  {
   "cell_type": "code",
   "execution_count": null,
   "id": "b1a5c3bf-0137-48dd-a20e-ed6412ff9656",
   "metadata": {},
   "outputs": [],
   "source": []
  }
 ],
 "metadata": {
  "kernelspec": {
   "display_name": "vibe",
   "language": "python",
   "name": "python3"
  },
  "language_info": {
   "codemirror_mode": {
    "name": "ipython",
    "version": 3
   },
   "file_extension": ".py",
   "mimetype": "text/x-python",
   "name": "python",
   "nbconvert_exporter": "python",
   "pygments_lexer": "ipython3",
   "version": "3.12.9"
  }
 },
 "nbformat": 4,
 "nbformat_minor": 5
}
