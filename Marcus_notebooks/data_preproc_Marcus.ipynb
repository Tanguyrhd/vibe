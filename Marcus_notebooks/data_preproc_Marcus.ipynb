{
 "cells": [
  {
   "cell_type": "code",
   "execution_count": 1,
   "id": "b98ff2fc-6e4f-482a-ac6f-6329917ea117",
   "metadata": {
    "execution": {
     "iopub.execute_input": "2025-06-05T19:43:04.551162Z",
     "iopub.status.busy": "2025-06-05T19:43:04.548451Z",
     "iopub.status.idle": "2025-06-05T19:43:04.992586Z",
     "shell.execute_reply": "2025-06-05T19:43:04.992380Z",
     "shell.execute_reply.started": "2025-06-05T19:43:04.551059Z"
    }
   },
   "outputs": [
    {
     "data": {
      "text/plain": [
       "'/Users/marcusmoody/code/Tanguyrhd/vibe/Marcus_notebooks'"
      ]
     },
     "execution_count": 1,
     "metadata": {},
     "output_type": "execute_result"
    }
   ],
   "source": [
    "import pandas as pd\n",
    "import os\n",
    "os.getcwd()\n"
   ]
  },
  {
   "cell_type": "code",
   "execution_count": 4,
   "id": "84ae8e91-7d68-4d98-9e10-1bf14fd4c0ac",
   "metadata": {
    "execution": {
     "iopub.execute_input": "2025-06-05T19:44:46.794769Z",
     "iopub.status.busy": "2025-06-05T19:44:46.794309Z",
     "iopub.status.idle": "2025-06-05T19:44:46.904398Z",
     "shell.execute_reply": "2025-06-05T19:44:46.903766Z",
     "shell.execute_reply.started": "2025-06-05T19:44:46.794744Z"
    }
   },
   "outputs": [
    {
     "ename": "FileNotFoundError",
     "evalue": "[Errno 2] No such file or directory: '/raw_data/twitter_MBTI.csv'",
     "output_type": "error",
     "traceback": [
      "\u001b[31m---------------------------------------------------------------------------\u001b[39m",
      "\u001b[31mFileNotFoundError\u001b[39m                         Traceback (most recent call last)",
      "\u001b[36mCell\u001b[39m\u001b[36m \u001b[39m\u001b[32mIn[4]\u001b[39m\u001b[32m, line 1\u001b[39m\n\u001b[32m----> \u001b[39m\u001b[32m1\u001b[39m df = \u001b[43mpd\u001b[49m\u001b[43m.\u001b[49m\u001b[43mread_csv\u001b[49m\u001b[43m(\u001b[49m\u001b[33;43m'\u001b[39;49m\u001b[33;43m/raw_data/twitter_MBTI.csv\u001b[39;49m\u001b[33;43m'\u001b[39;49m\u001b[43m)\u001b[49m\n\u001b[32m      2\u001b[39m df.head()\n",
      "\u001b[36mFile \u001b[39m\u001b[32m~/.pyenv/versions/3.12.9/envs/vibe/lib/python3.12/site-packages/pandas/io/parsers/readers.py:1026\u001b[39m, in \u001b[36mread_csv\u001b[39m\u001b[34m(filepath_or_buffer, sep, delimiter, header, names, index_col, usecols, dtype, engine, converters, true_values, false_values, skipinitialspace, skiprows, skipfooter, nrows, na_values, keep_default_na, na_filter, verbose, skip_blank_lines, parse_dates, infer_datetime_format, keep_date_col, date_parser, date_format, dayfirst, cache_dates, iterator, chunksize, compression, thousands, decimal, lineterminator, quotechar, quoting, doublequote, escapechar, comment, encoding, encoding_errors, dialect, on_bad_lines, delim_whitespace, low_memory, memory_map, float_precision, storage_options, dtype_backend)\u001b[39m\n\u001b[32m   1013\u001b[39m kwds_defaults = _refine_defaults_read(\n\u001b[32m   1014\u001b[39m     dialect,\n\u001b[32m   1015\u001b[39m     delimiter,\n\u001b[32m   (...)\u001b[39m\u001b[32m   1022\u001b[39m     dtype_backend=dtype_backend,\n\u001b[32m   1023\u001b[39m )\n\u001b[32m   1024\u001b[39m kwds.update(kwds_defaults)\n\u001b[32m-> \u001b[39m\u001b[32m1026\u001b[39m \u001b[38;5;28;01mreturn\u001b[39;00m \u001b[43m_read\u001b[49m\u001b[43m(\u001b[49m\u001b[43mfilepath_or_buffer\u001b[49m\u001b[43m,\u001b[49m\u001b[43m \u001b[49m\u001b[43mkwds\u001b[49m\u001b[43m)\u001b[49m\n",
      "\u001b[36mFile \u001b[39m\u001b[32m~/.pyenv/versions/3.12.9/envs/vibe/lib/python3.12/site-packages/pandas/io/parsers/readers.py:620\u001b[39m, in \u001b[36m_read\u001b[39m\u001b[34m(filepath_or_buffer, kwds)\u001b[39m\n\u001b[32m    617\u001b[39m _validate_names(kwds.get(\u001b[33m\"\u001b[39m\u001b[33mnames\u001b[39m\u001b[33m\"\u001b[39m, \u001b[38;5;28;01mNone\u001b[39;00m))\n\u001b[32m    619\u001b[39m \u001b[38;5;66;03m# Create the parser.\u001b[39;00m\n\u001b[32m--> \u001b[39m\u001b[32m620\u001b[39m parser = \u001b[43mTextFileReader\u001b[49m\u001b[43m(\u001b[49m\u001b[43mfilepath_or_buffer\u001b[49m\u001b[43m,\u001b[49m\u001b[43m \u001b[49m\u001b[43m*\u001b[49m\u001b[43m*\u001b[49m\u001b[43mkwds\u001b[49m\u001b[43m)\u001b[49m\n\u001b[32m    622\u001b[39m \u001b[38;5;28;01mif\u001b[39;00m chunksize \u001b[38;5;129;01mor\u001b[39;00m iterator:\n\u001b[32m    623\u001b[39m     \u001b[38;5;28;01mreturn\u001b[39;00m parser\n",
      "\u001b[36mFile \u001b[39m\u001b[32m~/.pyenv/versions/3.12.9/envs/vibe/lib/python3.12/site-packages/pandas/io/parsers/readers.py:1620\u001b[39m, in \u001b[36mTextFileReader.__init__\u001b[39m\u001b[34m(self, f, engine, **kwds)\u001b[39m\n\u001b[32m   1617\u001b[39m     \u001b[38;5;28mself\u001b[39m.options[\u001b[33m\"\u001b[39m\u001b[33mhas_index_names\u001b[39m\u001b[33m\"\u001b[39m] = kwds[\u001b[33m\"\u001b[39m\u001b[33mhas_index_names\u001b[39m\u001b[33m\"\u001b[39m]\n\u001b[32m   1619\u001b[39m \u001b[38;5;28mself\u001b[39m.handles: IOHandles | \u001b[38;5;28;01mNone\u001b[39;00m = \u001b[38;5;28;01mNone\u001b[39;00m\n\u001b[32m-> \u001b[39m\u001b[32m1620\u001b[39m \u001b[38;5;28mself\u001b[39m._engine = \u001b[38;5;28;43mself\u001b[39;49m\u001b[43m.\u001b[49m\u001b[43m_make_engine\u001b[49m\u001b[43m(\u001b[49m\u001b[43mf\u001b[49m\u001b[43m,\u001b[49m\u001b[43m \u001b[49m\u001b[38;5;28;43mself\u001b[39;49m\u001b[43m.\u001b[49m\u001b[43mengine\u001b[49m\u001b[43m)\u001b[49m\n",
      "\u001b[36mFile \u001b[39m\u001b[32m~/.pyenv/versions/3.12.9/envs/vibe/lib/python3.12/site-packages/pandas/io/parsers/readers.py:1880\u001b[39m, in \u001b[36mTextFileReader._make_engine\u001b[39m\u001b[34m(self, f, engine)\u001b[39m\n\u001b[32m   1878\u001b[39m     \u001b[38;5;28;01mif\u001b[39;00m \u001b[33m\"\u001b[39m\u001b[33mb\u001b[39m\u001b[33m\"\u001b[39m \u001b[38;5;129;01mnot\u001b[39;00m \u001b[38;5;129;01min\u001b[39;00m mode:\n\u001b[32m   1879\u001b[39m         mode += \u001b[33m\"\u001b[39m\u001b[33mb\u001b[39m\u001b[33m\"\u001b[39m\n\u001b[32m-> \u001b[39m\u001b[32m1880\u001b[39m \u001b[38;5;28mself\u001b[39m.handles = \u001b[43mget_handle\u001b[49m\u001b[43m(\u001b[49m\n\u001b[32m   1881\u001b[39m \u001b[43m    \u001b[49m\u001b[43mf\u001b[49m\u001b[43m,\u001b[49m\n\u001b[32m   1882\u001b[39m \u001b[43m    \u001b[49m\u001b[43mmode\u001b[49m\u001b[43m,\u001b[49m\n\u001b[32m   1883\u001b[39m \u001b[43m    \u001b[49m\u001b[43mencoding\u001b[49m\u001b[43m=\u001b[49m\u001b[38;5;28;43mself\u001b[39;49m\u001b[43m.\u001b[49m\u001b[43moptions\u001b[49m\u001b[43m.\u001b[49m\u001b[43mget\u001b[49m\u001b[43m(\u001b[49m\u001b[33;43m\"\u001b[39;49m\u001b[33;43mencoding\u001b[39;49m\u001b[33;43m\"\u001b[39;49m\u001b[43m,\u001b[49m\u001b[43m \u001b[49m\u001b[38;5;28;43;01mNone\u001b[39;49;00m\u001b[43m)\u001b[49m\u001b[43m,\u001b[49m\n\u001b[32m   1884\u001b[39m \u001b[43m    \u001b[49m\u001b[43mcompression\u001b[49m\u001b[43m=\u001b[49m\u001b[38;5;28;43mself\u001b[39;49m\u001b[43m.\u001b[49m\u001b[43moptions\u001b[49m\u001b[43m.\u001b[49m\u001b[43mget\u001b[49m\u001b[43m(\u001b[49m\u001b[33;43m\"\u001b[39;49m\u001b[33;43mcompression\u001b[39;49m\u001b[33;43m\"\u001b[39;49m\u001b[43m,\u001b[49m\u001b[43m \u001b[49m\u001b[38;5;28;43;01mNone\u001b[39;49;00m\u001b[43m)\u001b[49m\u001b[43m,\u001b[49m\n\u001b[32m   1885\u001b[39m \u001b[43m    \u001b[49m\u001b[43mmemory_map\u001b[49m\u001b[43m=\u001b[49m\u001b[38;5;28;43mself\u001b[39;49m\u001b[43m.\u001b[49m\u001b[43moptions\u001b[49m\u001b[43m.\u001b[49m\u001b[43mget\u001b[49m\u001b[43m(\u001b[49m\u001b[33;43m\"\u001b[39;49m\u001b[33;43mmemory_map\u001b[39;49m\u001b[33;43m\"\u001b[39;49m\u001b[43m,\u001b[49m\u001b[43m \u001b[49m\u001b[38;5;28;43;01mFalse\u001b[39;49;00m\u001b[43m)\u001b[49m\u001b[43m,\u001b[49m\n\u001b[32m   1886\u001b[39m \u001b[43m    \u001b[49m\u001b[43mis_text\u001b[49m\u001b[43m=\u001b[49m\u001b[43mis_text\u001b[49m\u001b[43m,\u001b[49m\n\u001b[32m   1887\u001b[39m \u001b[43m    \u001b[49m\u001b[43merrors\u001b[49m\u001b[43m=\u001b[49m\u001b[38;5;28;43mself\u001b[39;49m\u001b[43m.\u001b[49m\u001b[43moptions\u001b[49m\u001b[43m.\u001b[49m\u001b[43mget\u001b[49m\u001b[43m(\u001b[49m\u001b[33;43m\"\u001b[39;49m\u001b[33;43mencoding_errors\u001b[39;49m\u001b[33;43m\"\u001b[39;49m\u001b[43m,\u001b[49m\u001b[43m \u001b[49m\u001b[33;43m\"\u001b[39;49m\u001b[33;43mstrict\u001b[39;49m\u001b[33;43m\"\u001b[39;49m\u001b[43m)\u001b[49m\u001b[43m,\u001b[49m\n\u001b[32m   1888\u001b[39m \u001b[43m    \u001b[49m\u001b[43mstorage_options\u001b[49m\u001b[43m=\u001b[49m\u001b[38;5;28;43mself\u001b[39;49m\u001b[43m.\u001b[49m\u001b[43moptions\u001b[49m\u001b[43m.\u001b[49m\u001b[43mget\u001b[49m\u001b[43m(\u001b[49m\u001b[33;43m\"\u001b[39;49m\u001b[33;43mstorage_options\u001b[39;49m\u001b[33;43m\"\u001b[39;49m\u001b[43m,\u001b[49m\u001b[43m \u001b[49m\u001b[38;5;28;43;01mNone\u001b[39;49;00m\u001b[43m)\u001b[49m\u001b[43m,\u001b[49m\n\u001b[32m   1889\u001b[39m \u001b[43m\u001b[49m\u001b[43m)\u001b[49m\n\u001b[32m   1890\u001b[39m \u001b[38;5;28;01massert\u001b[39;00m \u001b[38;5;28mself\u001b[39m.handles \u001b[38;5;129;01mis\u001b[39;00m \u001b[38;5;129;01mnot\u001b[39;00m \u001b[38;5;28;01mNone\u001b[39;00m\n\u001b[32m   1891\u001b[39m f = \u001b[38;5;28mself\u001b[39m.handles.handle\n",
      "\u001b[36mFile \u001b[39m\u001b[32m~/.pyenv/versions/3.12.9/envs/vibe/lib/python3.12/site-packages/pandas/io/common.py:873\u001b[39m, in \u001b[36mget_handle\u001b[39m\u001b[34m(path_or_buf, mode, encoding, compression, memory_map, is_text, errors, storage_options)\u001b[39m\n\u001b[32m    868\u001b[39m \u001b[38;5;28;01melif\u001b[39;00m \u001b[38;5;28misinstance\u001b[39m(handle, \u001b[38;5;28mstr\u001b[39m):\n\u001b[32m    869\u001b[39m     \u001b[38;5;66;03m# Check whether the filename is to be opened in binary mode.\u001b[39;00m\n\u001b[32m    870\u001b[39m     \u001b[38;5;66;03m# Binary mode does not support 'encoding' and 'newline'.\u001b[39;00m\n\u001b[32m    871\u001b[39m     \u001b[38;5;28;01mif\u001b[39;00m ioargs.encoding \u001b[38;5;129;01mand\u001b[39;00m \u001b[33m\"\u001b[39m\u001b[33mb\u001b[39m\u001b[33m\"\u001b[39m \u001b[38;5;129;01mnot\u001b[39;00m \u001b[38;5;129;01min\u001b[39;00m ioargs.mode:\n\u001b[32m    872\u001b[39m         \u001b[38;5;66;03m# Encoding\u001b[39;00m\n\u001b[32m--> \u001b[39m\u001b[32m873\u001b[39m         handle = \u001b[38;5;28;43mopen\u001b[39;49m\u001b[43m(\u001b[49m\n\u001b[32m    874\u001b[39m \u001b[43m            \u001b[49m\u001b[43mhandle\u001b[49m\u001b[43m,\u001b[49m\n\u001b[32m    875\u001b[39m \u001b[43m            \u001b[49m\u001b[43mioargs\u001b[49m\u001b[43m.\u001b[49m\u001b[43mmode\u001b[49m\u001b[43m,\u001b[49m\n\u001b[32m    876\u001b[39m \u001b[43m            \u001b[49m\u001b[43mencoding\u001b[49m\u001b[43m=\u001b[49m\u001b[43mioargs\u001b[49m\u001b[43m.\u001b[49m\u001b[43mencoding\u001b[49m\u001b[43m,\u001b[49m\n\u001b[32m    877\u001b[39m \u001b[43m            \u001b[49m\u001b[43merrors\u001b[49m\u001b[43m=\u001b[49m\u001b[43merrors\u001b[49m\u001b[43m,\u001b[49m\n\u001b[32m    878\u001b[39m \u001b[43m            \u001b[49m\u001b[43mnewline\u001b[49m\u001b[43m=\u001b[49m\u001b[33;43m\"\u001b[39;49m\u001b[33;43m\"\u001b[39;49m\u001b[43m,\u001b[49m\n\u001b[32m    879\u001b[39m \u001b[43m        \u001b[49m\u001b[43m)\u001b[49m\n\u001b[32m    880\u001b[39m     \u001b[38;5;28;01melse\u001b[39;00m:\n\u001b[32m    881\u001b[39m         \u001b[38;5;66;03m# Binary mode\u001b[39;00m\n\u001b[32m    882\u001b[39m         handle = \u001b[38;5;28mopen\u001b[39m(handle, ioargs.mode)\n",
      "\u001b[31mFileNotFoundError\u001b[39m: [Errno 2] No such file or directory: '/raw_data/twitter_MBTI.csv'"
     ]
    }
   ],
   "source": [
    "df = pd.read_csv('/raw_data/twitter_MBTI.csv')\n",
    "df.head()"
   ]
  },
  {
   "cell_type": "code",
   "execution_count": null,
   "id": "86aeeaae-1a88-4076-bace-413faa6fc66a",
   "metadata": {
    "execution": {
     "iopub.status.busy": "2025-06-05T19:43:05.190351Z",
     "iopub.status.idle": "2025-06-05T19:43:05.190435Z",
     "shell.execute_reply": "2025-06-05T19:43:05.190390Z",
     "shell.execute_reply.started": "2025-06-05T19:43:05.190387Z"
    }
   },
   "outputs": [],
   "source": [
    "df.columns\n"
   ]
  },
  {
   "cell_type": "code",
   "execution_count": null,
   "id": "576e749c-ad9b-4fa4-85b0-0b7ce27e63b2",
   "metadata": {
    "execution": {
     "iopub.status.busy": "2025-06-05T19:43:05.190717Z",
     "iopub.status.idle": "2025-06-05T19:43:05.190819Z",
     "shell.execute_reply": "2025-06-05T19:43:05.190765Z",
     "shell.execute_reply.started": "2025-06-05T19:43:05.190760Z"
    }
   },
   "outputs": [],
   "source": [
    "#Turns one row of 50 tweets into 50 rows with one tweet each, but they keep the same MBTI label--400,000 tweet rows instead of 8,000\n",
    "df['tweets'] = df['text'].apply(lambda x: x.split('|||'))\n"
   ]
  },
  {
   "cell_type": "code",
   "execution_count": null,
   "id": "b17d0b3f-914e-47a0-bbd0-148f65131779",
   "metadata": {
    "execution": {
     "iopub.status.busy": "2025-06-05T19:43:05.191048Z",
     "iopub.status.idle": "2025-06-05T19:43:05.191207Z",
     "shell.execute_reply": "2025-06-05T19:43:05.191149Z",
     "shell.execute_reply.started": "2025-06-05T19:43:05.191144Z"
    }
   },
   "outputs": [],
   "source": [
    "df.head()"
   ]
  },
  {
   "cell_type": "code",
   "execution_count": null,
   "id": "859a2812-5295-4905-a90f-bb9818a1939c",
   "metadata": {
    "execution": {
     "iopub.status.busy": "2025-06-05T19:43:05.191551Z",
     "iopub.status.idle": "2025-06-05T19:43:05.191640Z",
     "shell.execute_reply": "2025-06-05T19:43:05.191590Z",
     "shell.execute_reply.started": "2025-06-05T19:43:05.191586Z"
    }
   },
   "outputs": [],
   "source": [
    "df['tweets'][0]"
   ]
  },
  {
   "cell_type": "code",
   "execution_count": null,
   "id": "9eb6877a-dc73-4a77-b8bc-2906b4dccec2",
   "metadata": {
    "execution": {
     "iopub.status.busy": "2025-06-05T19:43:05.192057Z",
     "iopub.status.idle": "2025-06-05T19:43:05.192165Z",
     "shell.execute_reply": "2025-06-05T19:43:05.192111Z",
     "shell.execute_reply.started": "2025-06-05T19:43:05.192106Z"
    }
   },
   "outputs": [],
   "source": [
    "df['tweets'] = df['tweets'].apply(lambda tweets: [t.strip() for t in tweets])"
   ]
  },
  {
   "cell_type": "code",
   "execution_count": null,
   "id": "881321a9-fa3f-4531-be80-1751f1953c43",
   "metadata": {
    "execution": {
     "iopub.status.busy": "2025-06-05T19:43:05.192480Z",
     "iopub.status.idle": "2025-06-05T19:43:05.192570Z",
     "shell.execute_reply": "2025-06-05T19:43:05.192520Z",
     "shell.execute_reply.started": "2025-06-05T19:43:05.192516Z"
    }
   },
   "outputs": [],
   "source": [
    "df['tweets'][0]"
   ]
  },
  {
   "cell_type": "code",
   "execution_count": null,
   "id": "d0ff0b28-41f4-43d5-81ec-a67c87104cbd",
   "metadata": {
    "execution": {
     "iopub.status.busy": "2025-06-05T19:43:05.192849Z",
     "iopub.status.idle": "2025-06-05T19:43:05.192933Z",
     "shell.execute_reply": "2025-06-05T19:43:05.192885Z",
     "shell.execute_reply.started": "2025-06-05T19:43:05.192881Z"
    }
   },
   "outputs": [],
   "source": [
    "df_exploded = df.explode('tweets').rename(columns={'tweets': 'tweet'}).reset_index(drop=True)"
   ]
  },
  {
   "cell_type": "code",
   "execution_count": null,
   "id": "1b99f202-c031-4b8b-8eae-5b9f65f8b94f",
   "metadata": {
    "execution": {
     "iopub.status.busy": "2025-06-05T19:43:05.193257Z",
     "iopub.status.idle": "2025-06-05T19:43:05.193349Z",
     "shell.execute_reply": "2025-06-05T19:43:05.193299Z",
     "shell.execute_reply.started": "2025-06-05T19:43:05.193294Z"
    }
   },
   "outputs": [],
   "source": [
    "df_exploded.head()"
   ]
  },
  {
   "cell_type": "code",
   "execution_count": null,
   "id": "aa06057a-79c8-4c0f-b8e0-ec693c6a4b61",
   "metadata": {
    "execution": {
     "iopub.status.busy": "2025-06-05T19:43:05.193538Z",
     "iopub.status.idle": "2025-06-05T19:43:05.193624Z",
     "shell.execute_reply": "2025-06-05T19:43:05.193575Z",
     "shell.execute_reply.started": "2025-06-05T19:43:05.193571Z"
    }
   },
   "outputs": [],
   "source": [
    "df_exploded"
   ]
  },
  {
   "cell_type": "code",
   "execution_count": null,
   "id": "02784349-f25b-4c93-a808-de2a23b8aadc",
   "metadata": {
    "execution": {
     "iopub.status.busy": "2025-06-05T19:43:05.194013Z",
     "iopub.status.idle": "2025-06-05T19:43:05.194104Z",
     "shell.execute_reply": "2025-06-05T19:43:05.194054Z",
     "shell.execute_reply.started": "2025-06-05T19:43:05.194049Z"
    }
   },
   "outputs": [],
   "source": [
    "len(df_exploded)"
   ]
  },
  {
   "cell_type": "code",
   "execution_count": null,
   "id": "4fda5b83-7355-4ede-98af-bdffefe8e940",
   "metadata": {
    "execution": {
     "iopub.status.busy": "2025-06-05T19:43:05.194358Z",
     "iopub.status.idle": "2025-06-05T19:43:05.194442Z",
     "shell.execute_reply": "2025-06-05T19:43:05.194394Z",
     "shell.execute_reply.started": "2025-06-05T19:43:05.194390Z"
    }
   },
   "outputs": [],
   "source": [
    "df_exploded.duplicated().sum()"
   ]
  },
  {
   "cell_type": "code",
   "execution_count": null,
   "id": "e02dca3d-2c5d-4679-8ff4-3bc25e8620e2",
   "metadata": {
    "execution": {
     "iopub.status.busy": "2025-06-05T19:43:05.194760Z",
     "iopub.status.idle": "2025-06-05T19:43:05.194846Z",
     "shell.execute_reply": "2025-06-05T19:43:05.194797Z",
     "shell.execute_reply.started": "2025-06-05T19:43:05.194793Z"
    }
   },
   "outputs": [],
   "source": [
    "#Clean the data\n",
    "import re\n",
    "\n",
    "def clean_text(text):\n",
    "    text = text.lower()\n",
    "    text = re.sub(r\"http\\S+|www.|S+\", \"\", text)\n",
    "    text = re.sub(r\"@\\w+\", \"\", text)\n",
    "    text = re.sub(r\"#\\w+\", \"\", text)\n",
    "    text = re.sub(r\"[^a-z\\s]\", \"\", text)\n",
    "    text = re.sub(r\"\\s+\", \" \", text).strip()\n",
    "    return text\n",
    "\n",
    "df_exploded['clean_tweet'] = df_exploded['tweet'].apply(clean_text)\n",
    "\n",
    "df_exploded"
   ]
  },
  {
   "cell_type": "code",
   "execution_count": null,
   "id": "a5c6b232-fbf2-4fd6-9b3d-5d4b79ed398f",
   "metadata": {
    "execution": {
     "iopub.status.busy": "2025-06-05T19:43:05.195078Z",
     "iopub.status.idle": "2025-06-05T19:43:05.195160Z",
     "shell.execute_reply": "2025-06-05T19:43:05.195113Z",
     "shell.execute_reply.started": "2025-06-05T19:43:05.195110Z"
    }
   },
   "outputs": [],
   "source": [
    "df_exploded.shape"
   ]
  },
  {
   "cell_type": "code",
   "execution_count": null,
   "id": "1ee6b8dd-a42a-4b65-8a8e-a65c5ebe14de",
   "metadata": {
    "execution": {
     "iopub.status.busy": "2025-06-05T19:43:05.195435Z",
     "iopub.status.idle": "2025-06-05T19:43:05.195522Z",
     "shell.execute_reply": "2025-06-05T19:43:05.195473Z",
     "shell.execute_reply.started": "2025-06-05T19:43:05.195469Z"
    }
   },
   "outputs": [],
   "source": [
    "df_exploded.columns"
   ]
  },
  {
   "cell_type": "code",
   "execution_count": null,
   "id": "3d7d4511-b916-4cc2-b83e-4acf6381e395",
   "metadata": {
    "execution": {
     "iopub.status.busy": "2025-06-05T19:43:05.195762Z",
     "iopub.status.idle": "2025-06-05T19:43:05.195851Z",
     "shell.execute_reply": "2025-06-05T19:43:05.195800Z",
     "shell.execute_reply.started": "2025-06-05T19:43:05.195796Z"
    }
   },
   "outputs": [],
   "source": [
    "df_exploded['tweet'].apply(len).describe()"
   ]
  },
  {
   "cell_type": "code",
   "execution_count": null,
   "id": "8d8f5a7f-5ca3-4287-b83e-dec1614f3cd3",
   "metadata": {
    "execution": {
     "iopub.status.busy": "2025-06-05T19:43:05.196038Z",
     "iopub.status.idle": "2025-06-05T19:43:05.196122Z",
     "shell.execute_reply": "2025-06-05T19:43:05.196074Z",
     "shell.execute_reply.started": "2025-06-05T19:43:05.196070Z"
    }
   },
   "outputs": [],
   "source": [
    "df_exploded['clean_tweet'].isnull().sum()"
   ]
  },
  {
   "cell_type": "code",
   "execution_count": null,
   "id": "f965f3e8-19ea-441b-8b21-5447979c606b",
   "metadata": {
    "execution": {
     "iopub.status.busy": "2025-06-05T19:43:05.196355Z",
     "iopub.status.idle": "2025-06-05T19:43:05.196440Z",
     "shell.execute_reply": "2025-06-05T19:43:05.196393Z",
     "shell.execute_reply.started": "2025-06-05T19:43:05.196389Z"
    }
   },
   "outputs": [],
   "source": [
    "df_exploded['label'].value_counts()"
   ]
  },
  {
   "cell_type": "code",
   "execution_count": null,
   "id": "f5a7a535-e339-412d-9d81-95b22a792ada",
   "metadata": {
    "execution": {
     "iopub.status.busy": "2025-06-05T19:43:05.196821Z",
     "iopub.status.idle": "2025-06-05T19:43:05.196905Z",
     "shell.execute_reply": "2025-06-05T19:43:05.196857Z",
     "shell.execute_reply.started": "2025-06-05T19:43:05.196854Z"
    }
   },
   "outputs": [],
   "source": [
    "df['tweets'].apply(len).describe()"
   ]
  },
  {
   "cell_type": "code",
   "execution_count": null,
   "id": "8b77bd86-1971-4cbf-aaa3-0882e5d5ca60",
   "metadata": {
    "execution": {
     "iopub.status.busy": "2025-06-05T19:43:05.197169Z",
     "iopub.status.idle": "2025-06-05T19:43:05.197283Z",
     "shell.execute_reply": "2025-06-05T19:43:05.197232Z",
     "shell.execute_reply.started": "2025-06-05T19:43:05.197228Z"
    }
   },
   "outputs": [],
   "source": [
    "df_exploded['clean_tweet'][0]"
   ]
  },
  {
   "cell_type": "code",
   "execution_count": null,
   "id": "4387433f-db8c-4526-add1-f38c236c4a25",
   "metadata": {
    "execution": {
     "iopub.status.busy": "2025-06-05T19:43:05.197528Z",
     "iopub.status.idle": "2025-06-05T19:43:05.197612Z",
     "shell.execute_reply": "2025-06-05T19:43:05.197564Z",
     "shell.execute_reply.started": "2025-06-05T19:43:05.197560Z"
    }
   },
   "outputs": [],
   "source": [
    "df['tweets_per_user'] = df['text'].apply(lambda x: len(str(x).split('|||')))\n",
    "df['tweets_per_user'].describe()"
   ]
  },
  {
   "cell_type": "code",
   "execution_count": null,
   "id": "e17b9056-b930-455e-99b8-a2059401b157",
   "metadata": {
    "execution": {
     "iopub.status.busy": "2025-06-05T19:43:05.197863Z",
     "iopub.status.idle": "2025-06-05T19:43:05.197946Z",
     "shell.execute_reply": "2025-06-05T19:43:05.197898Z",
     "shell.execute_reply.started": "2025-06-05T19:43:05.197895Z"
    }
   },
   "outputs": [],
   "source": [
    "#reassigning user_id to each tweet based on OG row #\n",
    "df_exploded['user_id'] = df_exploded['Unnamed: 0']"
   ]
  },
  {
   "cell_type": "code",
   "execution_count": null,
   "id": "91c885f9-c448-45a0-b960-5f8a75641d78",
   "metadata": {
    "execution": {
     "iopub.status.busy": "2025-06-05T19:43:05.198347Z",
     "iopub.status.idle": "2025-06-05T19:43:05.198431Z",
     "shell.execute_reply": "2025-06-05T19:43:05.198383Z",
     "shell.execute_reply.started": "2025-06-05T19:43:05.198379Z"
    }
   },
   "outputs": [],
   "source": [
    "#Grouping users\n",
    "grouped_users = df_exploded.groupby(['user_id', 'label'])['clean_tweet'].apply(lambda tweets: ' '.join(tweets)).reset_index()"
   ]
  },
  {
   "cell_type": "code",
   "execution_count": null,
   "id": "a965d287-1bc8-4f45-a101-0e039c51f8e4",
   "metadata": {
    "execution": {
     "iopub.status.busy": "2025-06-05T19:43:05.198813Z",
     "iopub.status.idle": "2025-06-05T19:43:05.198896Z",
     "shell.execute_reply": "2025-06-05T19:43:05.198848Z",
     "shell.execute_reply.started": "2025-06-05T19:43:05.198845Z"
    }
   },
   "outputs": [],
   "source": [
    "grouped_users.head()"
   ]
  },
  {
   "cell_type": "code",
   "execution_count": null,
   "id": "8d772c78-053d-48ec-abab-8d071579608b",
   "metadata": {
    "execution": {
     "iopub.status.busy": "2025-06-05T19:43:05.199158Z",
     "iopub.status.idle": "2025-06-05T19:43:05.199245Z",
     "shell.execute_reply": "2025-06-05T19:43:05.199195Z",
     "shell.execute_reply.started": "2025-06-05T19:43:05.199191Z"
    }
   },
   "outputs": [],
   "source": [
    "chunk_data = []\n",
    "\n",
    "for _, row in grouped_users.iterrows():\n",
    "    label = row['label']\n",
    "    words = row['clean_tweet'].split()\n",
    "    chunks = [' '.join(words[i:i+300]) for i in range(0, len(words), 300)]\n",
    "\n",
    "    for chunk in chunks:\n",
    "        if len(chunk.split()) >= 100:\n",
    "            chunk_data.append({'label': label, 'text': chunk})"
   ]
  },
  {
   "cell_type": "code",
   "execution_count": null,
   "id": "8f9ae1f1-f03f-481e-bef7-c264ec8adc27",
   "metadata": {
    "execution": {
     "iopub.status.busy": "2025-06-05T19:43:05.199469Z",
     "iopub.status.idle": "2025-06-05T19:43:05.199556Z",
     "shell.execute_reply": "2025-06-05T19:43:05.199507Z",
     "shell.execute_reply.started": "2025-06-05T19:43:05.199503Z"
    }
   },
   "outputs": [],
   "source": [
    "chunk_df = pd.DataFrame(chunk_data)\n",
    "chunk_df.head()"
   ]
  },
  {
   "cell_type": "code",
   "execution_count": null,
   "id": "d473b93b-6fac-42a9-b87f-715e4cc48a5d",
   "metadata": {
    "execution": {
     "iopub.status.busy": "2025-06-05T19:43:05.199822Z",
     "iopub.status.idle": "2025-06-05T19:43:05.199910Z",
     "shell.execute_reply": "2025-06-05T19:43:05.199865Z",
     "shell.execute_reply.started": "2025-06-05T19:43:05.199861Z"
    }
   },
   "outputs": [],
   "source": [
    "chunk_df.index = range(1, len(chunk_df) + 1)"
   ]
  },
  {
   "cell_type": "code",
   "execution_count": null,
   "id": "32458831-2f67-433e-9288-af5751538dd0",
   "metadata": {
    "execution": {
     "iopub.status.busy": "2025-06-05T19:43:05.200140Z",
     "iopub.status.idle": "2025-06-05T19:43:05.200224Z",
     "shell.execute_reply": "2025-06-05T19:43:05.200176Z",
     "shell.execute_reply.started": "2025-06-05T19:43:05.200172Z"
    }
   },
   "outputs": [],
   "source": [
    "chunk_df.head()"
   ]
  },
  {
   "cell_type": "code",
   "execution_count": null,
   "id": "da0ea346-01ab-4a81-806a-9a8d30d666db",
   "metadata": {
    "execution": {
     "iopub.status.busy": "2025-06-05T19:43:05.200480Z",
     "iopub.status.idle": "2025-06-05T19:43:05.200566Z",
     "shell.execute_reply": "2025-06-05T19:43:05.200515Z",
     "shell.execute_reply.started": "2025-06-05T19:43:05.200512Z"
    }
   },
   "outputs": [],
   "source": [
    "chunk_df['text'][1]"
   ]
  },
  {
   "cell_type": "code",
   "execution_count": null,
   "id": "b31f8c12-5532-4cbe-8c48-b38c3338329a",
   "metadata": {
    "execution": {
     "iopub.status.busy": "2025-06-05T19:43:05.200759Z",
     "iopub.status.idle": "2025-06-05T19:43:05.200843Z",
     "shell.execute_reply": "2025-06-05T19:43:05.200795Z",
     "shell.execute_reply.started": "2025-06-05T19:43:05.200791Z"
    }
   },
   "outputs": [],
   "source": [
    "chunk_df.shape"
   ]
  },
  {
   "cell_type": "code",
   "execution_count": null,
   "id": "275f2960-76b4-4465-8efd-59bcde9aa3d8",
   "metadata": {
    "execution": {
     "iopub.status.busy": "2025-06-05T19:43:05.201060Z",
     "iopub.status.idle": "2025-06-05T19:43:05.201146Z",
     "shell.execute_reply": "2025-06-05T19:43:05.201097Z",
     "shell.execute_reply.started": "2025-06-05T19:43:05.201093Z"
    }
   },
   "outputs": [],
   "source": [
    "chunk_df['label'].value_counts().sort_index()"
   ]
  },
  {
   "cell_type": "code",
   "execution_count": null,
   "id": "e330d459-9b7e-4fad-8f61-422fdeb1fba2",
   "metadata": {
    "execution": {
     "iopub.status.busy": "2025-06-05T19:43:05.201429Z",
     "iopub.status.idle": "2025-06-05T19:43:05.201514Z",
     "shell.execute_reply": "2025-06-05T19:43:05.201465Z",
     "shell.execute_reply.started": "2025-06-05T19:43:05.201462Z"
    }
   },
   "outputs": [],
   "source": [
    "chunk_df['label'].value_counts().plot(kind='bar', title='Chunks per Personality Label');"
   ]
  },
  {
   "cell_type": "code",
   "execution_count": null,
   "id": "2925c786-c1d2-4489-9ea6-69fbbba14dac",
   "metadata": {
    "execution": {
     "iopub.status.busy": "2025-06-05T19:43:05.201763Z",
     "iopub.status.idle": "2025-06-05T19:43:05.201850Z",
     "shell.execute_reply": "2025-06-05T19:43:05.201800Z",
     "shell.execute_reply.started": "2025-06-05T19:43:05.201796Z"
    }
   },
   "outputs": [],
   "source": [
    "chunk_df.to_csv('raw_data/mbti_chunked_clean.csv', index=True, index_label='chunk_id')"
   ]
  },
  {
   "cell_type": "code",
   "execution_count": null,
   "id": "b1a5c3bf-0137-48dd-a20e-ed6412ff9656",
   "metadata": {},
   "outputs": [],
   "source": []
  },
  {
   "cell_type": "code",
   "execution_count": null,
   "id": "e210b42c-78ec-4bf5-92e7-a14e133155dd",
   "metadata": {},
   "outputs": [],
   "source": []
  }
 ],
 "metadata": {
  "kernelspec": {
   "display_name": "Python 3 (ipykernel)",
   "language": "python",
   "name": "python3"
  },
  "language_info": {
   "codemirror_mode": {
    "name": "ipython",
    "version": 3
   },
   "file_extension": ".py",
   "mimetype": "text/x-python",
   "name": "python",
   "nbconvert_exporter": "python",
   "pygments_lexer": "ipython3",
   "version": "3.12.9"
  }
 },
 "nbformat": 4,
 "nbformat_minor": 5
}
