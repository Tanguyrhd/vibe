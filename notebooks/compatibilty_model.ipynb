{
 "cells": [
  {
   "cell_type": "code",
   "execution_count": 1,
   "id": "1ccb0961",
   "metadata": {},
   "outputs": [],
   "source": [
    "compatibility_map = {\n",
    "    \"INTJ\": [\"ENFP\", \"INFP\"],\n",
    "    \"INTP\": [\"ENFJ\", \"INFJ\"],\n",
    "    \"ENTJ\": [\"INFP\", \"ISFP\"],\n",
    "    \"ENTP\": [\"INFJ\", \"ISFJ\"],\n",
    "    \"INFJ\": [\"ENFP\", \"ENTP\"],\n",
    "    \"INFP\": [\"ENFJ\", \"ENTJ\"],\n",
    "    \"ENFJ\": [\"INFP\", \"ISFP\"],\n",
    "    \"ENFP\": [\"INFJ\", \"INTJ\"],\n",
    "    \"ISTJ\": [\"ESFP\", \"ISFJ\"],\n",
    "    \"ISFJ\": [\"ESTP\", \"ESFP\"],\n",
    "    \"ESTJ\": [\"ISFP\", \"INFP\"],\n",
    "    \"ESFJ\": [\"ISFP\", \"ISTP\"],\n",
    "    \"ISTP\": [\"ESFJ\", \"ENFJ\"],\n",
    "    \"ISFP\": [\"ESTJ\", \"ESFJ\"],\n",
    "    \"ESTP\": [\"ISFJ\", \"ISTJ\"],\n",
    "    \"ESFP\": [\"ISTJ\", \"ISFJ\"],\n",
    "}"
   ]
  },
  {
   "cell_type": "code",
   "execution_count": null,
   "id": "e5259eb7",
   "metadata": {},
   "outputs": [],
   "source": [
    "# def get_compatible_types(mbti_type):\n",
    "#     mbti_type = mbti_type.upper()\n",
    "#     return compatibility_map.get(mbti_type, [\"No match found\"])"
   ]
  },
  {
   "cell_type": "code",
   "execution_count": null,
   "id": "03909b88",
   "metadata": {},
   "outputs": [
    {
     "name": "stdout",
     "output_type": "stream",
     "text": [
      "As an INTP, you may vibe best with: ENFJ, INFJ\n"
     ]
    }
   ],
   "source": [
    "# my_type = \"INTP\"\n",
    "# matches = get_compatible_types(my_type)\n",
    "\n",
    "# print(f\"As an {my_type}, you may vibe best with: {', '.join(matches)}\")"
   ]
  },
  {
   "cell_type": "code",
   "execution_count": null,
   "id": "1772d913",
   "metadata": {},
   "outputs": [],
   "source": [
    "reason_map = {\n",
    "    (\"INTJ\", \"ENFP\"): \"ENFPs bring warmth and spontaneity that helps INTJs open up emotionally.\",\n",
    "    (\"INTJ\", \"INFP\"): \"Both value deep thinking and independence, creating an intellectually rich connection.\",\n",
    "\n",
    "    (\"INTP\", \"ENFJ\"): \"ENFJs offer structure and empathy, balancing the INTP's analytical detachment.\",\n",
    "    (\"INTP\", \"INFJ\"): \"Both crave deep ideas and authenticity — a quiet but powerful bond.\",\n",
    "\n",
    "    (\"ENTJ\", \"INFP\"): \"ENTJs offer drive and structure, while INFPs ground them with emotional insight.\",\n",
    "    (\"ENTJ\", \"ISFP\"): \"ISFPs bring calm, creativity, and balance to ENTJs' bold vision.\",\n",
    "\n",
    "    (\"ENTP\", \"INFJ\"): \"INFJs stabilize ENTPs' wild ideas with thoughtful insight and empathy.\",\n",
    "    (\"ENTP\", \"ISFJ\"): \"ISFJs offer loyalty and grounding, balancing ENTPs' spontaneity.\",\n",
    "\n",
    "    (\"INFJ\", \"ENFP\"): \"Both idealistic and deep, ENFPs energize INFJs while respecting their introspection.\",\n",
    "    (\"INFJ\", \"ENTP\"): \"INFJs help channel ENTPs' ideas, while ENTPs draw INFJs out of their shell.\",\n",
    "\n",
    "    (\"INFP\", \"ENFJ\"): \"ENFJs help bring structure to INFPs' values, while deeply appreciating their inner world.\",\n",
    "    (\"INFP\", \"ENTJ\"): \"A surprising match — ENTJs push INFPs to act, while respecting their convictions.\",\n",
    "\n",
    "    (\"ENFJ\", \"INFP\"): \"Deeply values-based pairing where ENFJ guides and INFP inspires emotionally.\",\n",
    "    (\"ENFJ\", \"ISFP\"): \"ISFPs bring calm presence and creativity to ENFJ's dynamic and caring energy.\",\n",
    "\n",
    "    (\"ENFP\", \"INFJ\"): \"INFJs offer emotional depth that resonates with ENFPs’ need for meaningful connection.\",\n",
    "    (\"ENFP\", \"INTJ\"): \"INTJs bring vision and strategy, ENFPs bring passion and people skills.\",\n",
    "\n",
    "    (\"ISTJ\", \"ESFP\"): \"ESFPs add spontaneity and warmth to ISTJs’ reliability and structure.\",\n",
    "    (\"ISTJ\", \"ISFJ\"): \"A stable, grounded match that values loyalty, tradition, and quiet support.\",\n",
    "\n",
    "    (\"ISFJ\", \"ESTP\"): \"ESTPs bring energy and action, ISFJs bring warmth and commitment — a balancing pair.\",\n",
    "    (\"ISFJ\", \"ESFP\"): \"Both value harmony and shared experiences, creating a nurturing bond.\",\n",
    "\n",
    "    (\"ESTJ\", \"ISFP\"): \"ISFPs soften ESTJs’ assertiveness with sensitivity and artistic presence.\",\n",
    "    (\"ESTJ\", \"INFP\"): \"INFPs offer idealism and reflection, helping ESTJs tune into deeper values.\",\n",
    "\n",
    "    (\"ESFJ\", \"ISFP\"): \"ISFPs bring creativity and quiet sensitivity to ESFJs’ social and caring world.\",\n",
    "    (\"ESFJ\", \"ISTP\"): \"ISTPs add independence and cool logic to balance ESFJs’ warmth.\",\n",
    "\n",
    "    (\"ISTP\", \"ESFJ\"): \"ESFJs offer connection and structure, helping ISTPs express and engage more emotionally.\",\n",
    "    (\"ISTP\", \"ENFJ\"): \"ENFJs draw ISTPs out of their head, while ISTPs keep things grounded.\",\n",
    "\n",
    "    (\"ISFP\", \"ESTJ\"): \"ESTJs provide structure and direction, ISFPs soften that with compassion.\",\n",
    "    (\"ISFP\", \"ESFJ\"): \"A warm, sensory-focused pairing with mutual appreciation for beauty and harmony.\",\n",
    "\n",
    "    (\"ESTP\", \"ISFJ\"): \"ESTPs add excitement and action, ISFJs offer steady emotional support.\",\n",
    "    (\"ESTP\", \"ISTJ\"): \"ISTJs provide responsibility and planning, ESTPs bring spontaneity and courage.\",\n",
    "\n",
    "    (\"ESFP\", \"ISTJ\"): \"ISTJs bring calm and order, while ESFPs add joy, fun, and spontaneity.\",\n",
    "    (\"ESFP\", \"ISFJ\"): \"A naturally warm pair — both want harmony and care about others deeply.\"\n",
    "}"
   ]
  },
  {
   "cell_type": "code",
   "execution_count": 5,
   "id": "40598250",
   "metadata": {},
   "outputs": [
    {
     "name": "stdout",
     "output_type": "stream",
     "text": [
      "As an INTP, you may vibe best with:\n",
      "- ENFJ: ENFJs offer structure and empathy, balancing the INTP's analytical detachment.\n",
      "- INFJ: Both crave deep ideas and authenticity — a quiet but powerful bond.\n"
     ]
    }
   ],
   "source": [
    "def get_compatible_types(mbti_type):\n",
    "    mbti_type = mbti_type.upper()\n",
    "    return compatibility_map.get(mbti_type, [\"No match found\"])\n",
    "\n",
    "def explain_compatibility(my_type, match_type):\n",
    "    return reason_map.get((my_type, match_type), \"You may share compatible thinking styles or values.\")\n",
    "\n",
    "# Use it\n",
    "my_type = \"INTP\"\n",
    "matches = get_compatible_types(my_type)\n",
    "\n",
    "print(f\"As an {my_type}, you may vibe best with:\")\n",
    "for m in matches:\n",
    "    reason = explain_compatibility(my_type, m)\n",
    "    print(f\"- {m}: {reason}\")"
   ]
  },
  {
   "cell_type": "code",
   "execution_count": null,
   "id": "93ca3d86",
   "metadata": {},
   "outputs": [],
   "source": []
  }
 ],
 "metadata": {
  "kernelspec": {
   "display_name": "vibe",
   "language": "python",
   "name": "python3"
  },
  "language_info": {
   "codemirror_mode": {
    "name": "ipython",
    "version": 3
   },
   "file_extension": ".py",
   "mimetype": "text/x-python",
   "name": "python",
   "nbconvert_exporter": "python",
   "pygments_lexer": "ipython3",
   "version": "3.12.9"
  }
 },
 "nbformat": 4,
 "nbformat_minor": 5
}
