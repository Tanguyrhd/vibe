{
 "cells": [
  {
   "cell_type": "code",
   "execution_count": 1,
   "id": "1ccb0961",
   "metadata": {},
   "outputs": [],
   "source": [
    "compatibility_map = {\n",
    "    \"INTJ\": [\"ENFP\", \"INFP\"],\n",
    "    \"INTP\": [\"ENFJ\", \"INFJ\"],\n",
    "    \"ENTJ\": [\"INFP\", \"ISFP\"],\n",
    "    \"ENTP\": [\"INFJ\", \"ISFJ\"],\n",
    "    \"INFJ\": [\"ENFP\", \"ENTP\"],\n",
    "    \"INFP\": [\"ENFJ\", \"ENTJ\"],\n",
    "    \"ENFJ\": [\"INFP\", \"ISFP\"],\n",
    "    \"ENFP\": [\"INFJ\", \"INTJ\"],\n",
    "    \"ISTJ\": [\"ESFP\", \"ISFJ\"],\n",
    "    \"ISFJ\": [\"ESTP\", \"ESFP\"],\n",
    "    \"ESTJ\": [\"ISFP\", \"INFP\"],\n",
    "    \"ESFJ\": [\"ISFP\", \"ISTP\"],\n",
    "    \"ISTP\": [\"ESFJ\", \"ENFJ\"],\n",
    "    \"ISFP\": [\"ESTJ\", \"ESFJ\"],\n",
    "    \"ESTP\": [\"ISFJ\", \"ISTJ\"],\n",
    "    \"ESFP\": [\"ISTJ\", \"ISFJ\"],\n",
    "}"
   ]
  },
  {
   "cell_type": "code",
   "execution_count": 2,
   "id": "e5259eb7",
   "metadata": {},
   "outputs": [],
   "source": [
    "def get_compatible_types(mbti_type):\n",
    "    mbti_type = mbti_type.upper()\n",
    "    return compatibility_map.get(mbti_type, [\"No match found\"])"
   ]
  },
  {
   "cell_type": "code",
   "execution_count": 3,
   "id": "03909b88",
   "metadata": {},
   "outputs": [
    {
     "name": "stdout",
     "output_type": "stream",
     "text": [
      "As an INTP, you may vibe best with: ENFJ, INFJ\n"
     ]
    }
   ],
   "source": [
    "my_type = \"INTP\"\n",
    "matches = get_compatible_types(my_type)\n",
    "\n",
    "print(f\"As an {my_type}, you may vibe best with: {', '.join(matches)}\")"
   ]
  },
  {
   "cell_type": "code",
   "execution_count": null,
   "id": "40598250",
   "metadata": {},
   "outputs": [],
   "source": []
  }
 ],
 "metadata": {
  "kernelspec": {
   "display_name": "vibe",
   "language": "python",
   "name": "python3"
  },
  "language_info": {
   "codemirror_mode": {
    "name": "ipython",
    "version": 3
   },
   "file_extension": ".py",
   "mimetype": "text/x-python",
   "name": "python",
   "nbconvert_exporter": "python",
   "pygments_lexer": "ipython3",
   "version": "3.12.9"
  }
 },
 "nbformat": 4,
 "nbformat_minor": 5
}
