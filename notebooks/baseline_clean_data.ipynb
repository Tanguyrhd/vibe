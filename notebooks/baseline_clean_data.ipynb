{
 "cells": [
  {
   "cell_type": "code",
   "execution_count": 7,
   "id": "e744af29",
   "metadata": {},
   "outputs": [],
   "source": [
    "import pandas as pd\n",
    "\n",
    "from sklearn.model_selection import train_test_split\n",
    "from sklearn.feature_extraction.text import TfidfVectorizer\n",
    "from sklearn.linear_model import LogisticRegression\n",
    "from sklearn.metrics import classification_report"
   ]
  },
  {
   "cell_type": "code",
   "execution_count": 2,
   "id": "932ce534",
   "metadata": {},
   "outputs": [],
   "source": [
    "data=pd.read_csv('../raw_data/mbti_chunked_clean.csv')"
   ]
  },
  {
   "cell_type": "code",
   "execution_count": 3,
   "id": "30ba3594",
   "metadata": {},
   "outputs": [
    {
     "data": {
      "text/html": [
       "<div>\n",
       "<style scoped>\n",
       "    .dataframe tbody tr th:only-of-type {\n",
       "        vertical-align: middle;\n",
       "    }\n",
       "\n",
       "    .dataframe tbody tr th {\n",
       "        vertical-align: top;\n",
       "    }\n",
       "\n",
       "    .dataframe thead th {\n",
       "        text-align: right;\n",
       "    }\n",
       "</style>\n",
       "<table border=\"1\" class=\"dataframe\">\n",
       "  <thead>\n",
       "    <tr style=\"text-align: right;\">\n",
       "      <th></th>\n",
       "      <th>chunk_id</th>\n",
       "      <th>label</th>\n",
       "      <th>text</th>\n",
       "    </tr>\n",
       "  </thead>\n",
       "  <tbody>\n",
       "    <tr>\n",
       "      <th>0</th>\n",
       "      <td>1</td>\n",
       "      <td>intj</td>\n",
       "      <td>the pope is infallible this is a catholic dogm...</td>\n",
       "    </tr>\n",
       "    <tr>\n",
       "      <th>1</th>\n",
       "      <td>2</td>\n",
       "      <td>intj</td>\n",
       "      <td>martin said that george floyd was in heaven it...</td>\n",
       "    </tr>\n",
       "    <tr>\n",
       "      <th>2</th>\n",
       "      <td>3</td>\n",
       "      <td>intj</td>\n",
       "      <td>while supporting abortion lol abortion again i...</td>\n",
       "    </tr>\n",
       "    <tr>\n",
       "      <th>3</th>\n",
       "      <td>4</td>\n",
       "      <td>intj</td>\n",
       "      <td>views on predestination exist in the catholic ...</td>\n",
       "    </tr>\n",
       "    <tr>\n",
       "      <th>4</th>\n",
       "      <td>5</td>\n",
       "      <td>intj</td>\n",
       "      <td>a little kitty cat i mean the real dangerousne...</td>\n",
       "    </tr>\n",
       "  </tbody>\n",
       "</table>\n",
       "</div>"
      ],
      "text/plain": [
       "   chunk_id label                                               text\n",
       "0         1  intj  the pope is infallible this is a catholic dogm...\n",
       "1         2  intj  martin said that george floyd was in heaven it...\n",
       "2         3  intj  while supporting abortion lol abortion again i...\n",
       "3         4  intj  views on predestination exist in the catholic ...\n",
       "4         5  intj  a little kitty cat i mean the real dangerousne..."
      ]
     },
     "execution_count": 3,
     "metadata": {},
     "output_type": "execute_result"
    }
   ],
   "source": [
    "data.head()"
   ]
  },
  {
   "cell_type": "code",
   "execution_count": 10,
   "id": "e05319de",
   "metadata": {},
   "outputs": [],
   "source": [
    "X=data['text']\n",
    "y=data['label']"
   ]
  },
  {
   "cell_type": "code",
   "execution_count": null,
   "id": "63cb9937",
   "metadata": {},
   "outputs": [],
   "source": [
    "# def clean_baseline(X_,y_):\n",
    "#     X_train, X_test, y_train, y_test = train_test_split(X_, y_, test_size=0.2, random_state=42)\n",
    "#     vectorizer = TfidfVectorizer(stop_words='english', max_features=5000)\n",
    "#     X_train_tfidf = vectorizer.fit_transform(X_train)\n",
    "#     X_test_tfidf = vectorizer.transform(X_test)\n",
    "\n",
    "#     model = LogisticRegression(max_iter=1000)\n",
    "#     model.fit(X_train_tfidf,y_train)\n",
    "\n",
    "#     y_pred= model.predict(X_test_tfidf)\n",
    "\n",
    "\n",
    "#     return classification_report(y_test, y_pred), y_pred, model\n"
   ]
  },
  {
   "cell_type": "code",
   "execution_count": null,
   "id": "08258894",
   "metadata": {},
   "outputs": [
    {
     "name": "stderr",
     "output_type": "stream",
     "text": [
      "/Users/blaisefck/.pyenv/versions/3.12.9/envs/vibe/lib/python3.12/site-packages/sklearn/metrics/_classification.py:1565: UndefinedMetricWarning: Precision is ill-defined and being set to 0.0 in labels with no predicted samples. Use `zero_division` parameter to control this behavior.\n",
      "  _warn_prf(average, modifier, f\"{metric.capitalize()} is\", len(result))\n",
      "/Users/blaisefck/.pyenv/versions/3.12.9/envs/vibe/lib/python3.12/site-packages/sklearn/metrics/_classification.py:1565: UndefinedMetricWarning: Precision is ill-defined and being set to 0.0 in labels with no predicted samples. Use `zero_division` parameter to control this behavior.\n",
      "  _warn_prf(average, modifier, f\"{metric.capitalize()} is\", len(result))\n",
      "/Users/blaisefck/.pyenv/versions/3.12.9/envs/vibe/lib/python3.12/site-packages/sklearn/metrics/_classification.py:1565: UndefinedMetricWarning: Precision is ill-defined and being set to 0.0 in labels with no predicted samples. Use `zero_division` parameter to control this behavior.\n",
      "  _warn_prf(average, modifier, f\"{metric.capitalize()} is\", len(result))\n"
     ]
    }
   ],
   "source": [
    "# c_report, y_prediction, model=clean_baseline(X,y)"
   ]
  },
  {
   "cell_type": "code",
   "execution_count": null,
   "id": "3893b7e4",
   "metadata": {},
   "outputs": [
    {
     "name": "stdout",
     "output_type": "stream",
     "text": [
      "              precision    recall  f1-score   support\n",
      "\n",
      "        enfj       0.34      0.17      0.23       468\n",
      "        enfp       0.26      0.23      0.24       627\n",
      "        entj       0.69      0.07      0.13       241\n",
      "        entp       0.30      0.23      0.26       525\n",
      "        esfj       0.89      0.09      0.17        85\n",
      "        esfp       0.50      0.01      0.01       132\n",
      "        estj       0.00      0.00      0.00        97\n",
      "        estp       1.00      0.01      0.02        84\n",
      "        infj       0.27      0.47      0.35       889\n",
      "        infp       0.26      0.52      0.35      1074\n",
      "        intj       0.29      0.36      0.32       729\n",
      "        intp       0.28      0.28      0.28       694\n",
      "        isfj       0.47      0.14      0.22       270\n",
      "        isfp       0.34      0.07      0.12       286\n",
      "        istj       0.55      0.06      0.11       180\n",
      "        istp       0.65      0.09      0.16       255\n",
      "\n",
      "    accuracy                           0.29      6636\n",
      "   macro avg       0.45      0.18      0.19      6636\n",
      "weighted avg       0.35      0.29      0.26      6636\n",
      "\n"
     ]
    }
   ],
   "source": [
    "# print(c_report)"
   ]
  },
  {
   "cell_type": "code",
   "execution_count": null,
   "id": "0a8acc5c",
   "metadata": {},
   "outputs": [
    {
     "name": "stdout",
     "output_type": "stream",
     "text": [
      "['infp' 'entp' 'enfj' ... 'infj' 'intp' 'istp']\n"
     ]
    }
   ],
   "source": [
    "# print(y_prediction)"
   ]
  },
  {
   "cell_type": "code",
   "execution_count": 21,
   "id": "597ec8e0",
   "metadata": {},
   "outputs": [],
   "source": [
    "X_train, X_test, y_train, y_test = train_test_split(X, y, test_size=0.2, random_state=42)\n",
    "vectorizer = TfidfVectorizer(stop_words='english', max_features=5000)\n",
    "X_train_tfidf = vectorizer.fit_transform(X_train)\n",
    "X_test_tfidf = vectorizer.transform(X_test)\n",
    "\n",
    "model = LogisticRegression(max_iter=1000)\n",
    "model.fit(X_train_tfidf,y_train)\n",
    "\n",
    "y_pred= model.predict(X_test_tfidf)"
   ]
  },
  {
   "cell_type": "code",
   "execution_count": 22,
   "id": "dd92a49b",
   "metadata": {},
   "outputs": [
    {
     "name": "stdout",
     "output_type": "stream",
     "text": [
      "              precision    recall  f1-score   support\n",
      "\n",
      "        enfj       0.34      0.17      0.23       468\n",
      "        enfp       0.26      0.23      0.24       627\n",
      "        entj       0.69      0.07      0.13       241\n",
      "        entp       0.30      0.23      0.26       525\n",
      "        esfj       0.89      0.09      0.17        85\n",
      "        esfp       0.50      0.01      0.01       132\n",
      "        estj       0.00      0.00      0.00        97\n",
      "        estp       1.00      0.01      0.02        84\n",
      "        infj       0.27      0.47      0.35       889\n",
      "        infp       0.26      0.52      0.35      1074\n",
      "        intj       0.29      0.36      0.32       729\n",
      "        intp       0.28      0.28      0.28       694\n",
      "        isfj       0.47      0.14      0.22       270\n",
      "        isfp       0.34      0.07      0.12       286\n",
      "        istj       0.55      0.06      0.11       180\n",
      "        istp       0.65      0.09      0.16       255\n",
      "\n",
      "    accuracy                           0.29      6636\n",
      "   macro avg       0.45      0.18      0.19      6636\n",
      "weighted avg       0.35      0.29      0.26      6636\n",
      "\n"
     ]
    },
    {
     "name": "stderr",
     "output_type": "stream",
     "text": [
      "/Users/blaisefck/.pyenv/versions/3.12.9/envs/vibe/lib/python3.12/site-packages/sklearn/metrics/_classification.py:1565: UndefinedMetricWarning: Precision is ill-defined and being set to 0.0 in labels with no predicted samples. Use `zero_division` parameter to control this behavior.\n",
      "  _warn_prf(average, modifier, f\"{metric.capitalize()} is\", len(result))\n",
      "/Users/blaisefck/.pyenv/versions/3.12.9/envs/vibe/lib/python3.12/site-packages/sklearn/metrics/_classification.py:1565: UndefinedMetricWarning: Precision is ill-defined and being set to 0.0 in labels with no predicted samples. Use `zero_division` parameter to control this behavior.\n",
      "  _warn_prf(average, modifier, f\"{metric.capitalize()} is\", len(result))\n",
      "/Users/blaisefck/.pyenv/versions/3.12.9/envs/vibe/lib/python3.12/site-packages/sklearn/metrics/_classification.py:1565: UndefinedMetricWarning: Precision is ill-defined and being set to 0.0 in labels with no predicted samples. Use `zero_division` parameter to control this behavior.\n",
      "  _warn_prf(average, modifier, f\"{metric.capitalize()} is\", len(result))\n"
     ]
    }
   ],
   "source": [
    "print(classification_report(y_test, y_pred))"
   ]
  },
  {
   "cell_type": "code",
   "execution_count": 24,
   "id": "0b8918d4",
   "metadata": {},
   "outputs": [],
   "source": [
    "import pickle\n",
    "\n",
    "with open(\"logistic_reg_clean_data.pkl\", \"wb\") as f:\n",
    "    pickle.dump(model, f)\n"
   ]
  },
  {
   "cell_type": "code",
   "execution_count": 25,
   "id": "3e98776c",
   "metadata": {},
   "outputs": [],
   "source": [
    "with open(\"vectorizer_clean_data.pkl\", \"wb\") as f:\n",
    "    pickle.dump(vectorizer, f)"
   ]
  },
  {
   "cell_type": "code",
   "execution_count": null,
   "id": "ef0d2712",
   "metadata": {},
   "outputs": [],
   "source": []
  }
 ],
 "metadata": {
  "kernelspec": {
   "display_name": "vibe",
   "language": "python",
   "name": "python3"
  },
  "language_info": {
   "codemirror_mode": {
    "name": "ipython",
    "version": 3
   },
   "file_extension": ".py",
   "mimetype": "text/x-python",
   "name": "python",
   "nbconvert_exporter": "python",
   "pygments_lexer": "ipython3",
   "version": "3.12.9"
  }
 },
 "nbformat": 4,
 "nbformat_minor": 5
}
