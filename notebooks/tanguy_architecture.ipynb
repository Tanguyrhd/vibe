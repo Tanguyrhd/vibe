{
 "cells": [
  {
   "cell_type": "code",
   "execution_count": 2,
   "id": "f45ad075",
   "metadata": {},
   "outputs": [],
   "source": [
    "import pandas as pd"
   ]
  },
  {
   "cell_type": "code",
   "execution_count": 6,
   "id": "47920a3e",
   "metadata": {},
   "outputs": [],
   "source": [
    "df = pd.read_csv('../raw_data/twitter_MBTI.csv')"
   ]
  },
  {
   "cell_type": "code",
   "execution_count": 7,
   "id": "35040c74",
   "metadata": {},
   "outputs": [
    {
     "data": {
      "text/html": [
       "<div>\n",
       "<style scoped>\n",
       "    .dataframe tbody tr th:only-of-type {\n",
       "        vertical-align: middle;\n",
       "    }\n",
       "\n",
       "    .dataframe tbody tr th {\n",
       "        vertical-align: top;\n",
       "    }\n",
       "\n",
       "    .dataframe thead th {\n",
       "        text-align: right;\n",
       "    }\n",
       "</style>\n",
       "<table border=\"1\" class=\"dataframe\">\n",
       "  <thead>\n",
       "    <tr style=\"text-align: right;\">\n",
       "      <th></th>\n",
       "      <th>Unnamed: 0</th>\n",
       "      <th>text</th>\n",
       "      <th>label</th>\n",
       "    </tr>\n",
       "  </thead>\n",
       "  <tbody>\n",
       "    <tr>\n",
       "      <th>0</th>\n",
       "      <td>0</td>\n",
       "      <td>@Pericles216 @HierBeforeTheAC @Sachinettiyil T...</td>\n",
       "      <td>intj</td>\n",
       "    </tr>\n",
       "    <tr>\n",
       "      <th>1</th>\n",
       "      <td>1</td>\n",
       "      <td>@Hispanthicckk Being you makes you look cute||...</td>\n",
       "      <td>intj</td>\n",
       "    </tr>\n",
       "    <tr>\n",
       "      <th>2</th>\n",
       "      <td>2</td>\n",
       "      <td>@Alshymi Les balles sont réelles et sont tirée...</td>\n",
       "      <td>intj</td>\n",
       "    </tr>\n",
       "    <tr>\n",
       "      <th>3</th>\n",
       "      <td>3</td>\n",
       "      <td>I'm like entp but idiotic|||Hey boy, do you wa...</td>\n",
       "      <td>intj</td>\n",
       "    </tr>\n",
       "    <tr>\n",
       "      <th>4</th>\n",
       "      <td>4</td>\n",
       "      <td>@kaeshurr1 Give it to @ZargarShanif ... He has...</td>\n",
       "      <td>intj</td>\n",
       "    </tr>\n",
       "  </tbody>\n",
       "</table>\n",
       "</div>"
      ],
      "text/plain": [
       "   Unnamed: 0                                               text label\n",
       "0           0  @Pericles216 @HierBeforeTheAC @Sachinettiyil T...  intj\n",
       "1           1  @Hispanthicckk Being you makes you look cute||...  intj\n",
       "2           2  @Alshymi Les balles sont réelles et sont tirée...  intj\n",
       "3           3  I'm like entp but idiotic|||Hey boy, do you wa...  intj\n",
       "4           4  @kaeshurr1 Give it to @ZargarShanif ... He has...  intj"
      ]
     },
     "execution_count": 7,
     "metadata": {},
     "output_type": "execute_result"
    }
   ],
   "source": [
    "df.head()"
   ]
  },
  {
   "cell_type": "code",
   "execution_count": 8,
   "id": "b117a8a7",
   "metadata": {},
   "outputs": [
    {
     "data": {
      "text/plain": [
       "'@Hispanthicckk Being you makes you look cute|||@ThiccWhiteDuke_ On, because then I can have the fun of peeling it off...|||@whedonesque \"Bored now.\"|||@biggeradn Less is more 😏|||@biggeradn Sweetie, I’d suck your dick even if there were no shake inducement  😉|||@tintinpp @biggeradn Leg day?  Looks more like crotch day.  (Which is not a bad thing) 🤤|||@BuzzFeed Goth pairs figure skating|||@whedonesque The West Wing, The Closer, M*A*S*H, Orphan Black, Sense8|||@thiccbruja Are you a good spice, or a bad spice?|||@thiccbruja It looks enticing...|||I\\'m tired of corporations profiting from the LGBTQ  community while actively funding our persecution. Join me in ca… https://t.co/8gDDS6zWyp|||@gdtdpodcast https://t.co/i0X4sztB4o|||@gwenstefani Do you support Disney funding anti-LGBTQ+ politicians?  They still use you in their advertising.… https://t.co/j5T1iaSZez|||@chancetherapper Do you support Disney funding anti-LGBTQ+ politicians?  They still use you in their advertising.… https://t.co/gWUxzeYKtI|||@NorahJones Do you support Disney funding anti-LGBTQ+ politicians?  They still use you in their advertising.… https://t.co/naGDRSGU9e|||@PTXofficial Do you support Disney funding anti-LGBTQ+ politicians?  They still use you in their advertising.… https://t.co/zCUIl3bGB7|||@DarrenCriss Do you support Disney funding anti-LGBTQ+ politicians?  They still use you in their advertising.… https://t.co/CfuGLtkSSA|||@derekhough Do you support Disney funding anti-LGBTQ+ politicians?  They still use you in their advertising.… https://t.co/z9fx83w7vF|||@juliannehough Do you support Disney funding anti-LGBTQ+ politicians?  They still use you in their advertising.… https://t.co/EQGnnHYZkn|||@KChenoweth Do you support Disney funding anti-LGBTQ+ politicians?  They still use you in their advertising.… https://t.co/ktBBuhBGXq|||Disney supports anti LGBTQ+ politicians in Florida.  #Shameonyoudisney|||Poor Peter doesn’t understand what “worthy adversary” means because he’s never been one. https://t.co/ErV7r9nVI4|||@Hispanthicckk That\\'s horrible.  I\\'m so sorry that happened.  Did you report them?|||@dontlickchalk @SHEsus__Christ I\\'m pretty sure they already have 3 second pricks, but not in their arms...|||@cpoliticditto Having air conditioning.  Or a dishwasher|||@Martini_Art_ Chubby|||@Hispanthicckk I hope this hiatus brings you peace|||@glaad Lito from Sense8---What a man, what a man, what a man, what a mighty fine man https://t.co/pQlJvo10j7|||@biggeradn Good evening, gorgeous 😘|||@Hispanthicckk I just want to hug you every time I see you post 🙂|||I am an INTJ! We are independent, analytical and enjoy logical reasoning and complex problem-solving. What is your… https://t.co/PTqHhslF0e|||@whedonesque Willow|||@thiccbruja No!  You gain the weight back every time you diet because this body is the one you want.  Don’t torture yourself|||I would also suggest that the converse is true, “Moral politics is good policy.” https://t.co/Y3s1IqtPcq|||@EllenTroxclair To quote Nancy Reagan, “Who does this bitch think she is!?!”|||@ThiccWhiteDuke_ You wore it better|||@brunobaba11 Outfit #1–There’s something to be said for getting to undress you…|||@brunobaba11 Shave it off|||@brunobaba11 Right baby, Oh so right|||@criminalmoots Scruffy Reed!|||@ProjectLincoln Apparently he didn\\'t take his own advice, that Republicans need to stop being the Party of stupid.|||@meganhilty Any performance of “On My Own” from Les Mis.  Stunning in its own right, it’s also the unofficial Anthe… https://t.co/3dqGhnvBNW|||@myfaceisitchy Dick and pecs for me|||@gainerology Beauty, Majesty, behold Gainerology|||@fatprivateparts I belong to your patreon.  My name is Silentommy there|||@GeorgeTakei Storm from the X-men|||@Big_belly_lover As long as it fits over your head, no tank top is too small|||@Mr_Cublet Genius!  And Yum 🤤|||@nichefixation I’m partial to Ao3|||@funcookiedough Absolutely|||@Hispanthicckk Yes you do.|||@cbouzy I’m not sure.  All Republicans look the same to me|||@Hispanthicckk I don’t know if I’m that flexible, but it would be fun finding out 😉|||@meganhilty She’s been a vibe in every decade|||@biggeradn Both sweetie.  Both.|||@biggeradn Nice ass 😘|||@biggeradn Sweetie, my thighs would have snapped you in two back then 😎|||@biggeradn We absolutely celebrate it|||@biggeradn It wouldn’t look so small if you’re arms weren’t straining the poor shirt 😏|||@Astro_dough You amaze me|||@SarahKSilverman Hunky men in tightly whites kissing|||@Astro_dough Absolutely.  Being that you\\'re already out driving, you\\'ll end up saving gas, which is good for your wallet and the planet 😉|||@GeorgeTakei Idiocy|||@biggeradn @hotbearsboys @BearsDailyy @BGBG on YouTube.  He\\'s gorgeous, and I know he\\'s done OnlyFans collabs before|||@SpedetheRed @biggeradn @hotbearsboys @BearsDailyy @BGBG from YouTube.  I know he\\'s done OnlyFans collabs before|||@localtotoro Call child protective services NOW.|||@DKmate1 I want in|||@biggeradn Sweetie, I don\\'t think my waist has been that small since the seventies 😂|||@biggeradn Retweet accomplished|||@Astro_dough How did you know you were my favorite? 😏|||@LoViLu @3DMacD @Marina_Sirtis Heck, she looks good for 35 or older😉|||@Marina_Sirtis \"Why is OUR Elderly having to WAIT\"\\n\\nWow.  These people really are exactly who we think they are.|||@conorjrogers Diet Proud Boy.  There’s a bit of poetry in your prose|||#DietProudBoy https://t.co/GdHg75CF2q|||@MondaireJones Where was your outrage before the inauguration when McConnell was Senate Majority leader and Trump w… https://t.co/F2NL6olaD6|||@Rasmussen_Poll This is current?  People actually believe there is still a caravan coming.  These people really are… https://t.co/sxniDVJ3d0|||@whedonesque I. Am. Gutted.|||@GeorgeTakei Fake hair, fake tan.  Can’t decide which will end up on top|||@Hispanthicckk I love how bouncy you are|||@JoshMalina And just how, exactly, did you do that, Marjorie?|||@SenTedCruz As opposed to the bang up job you Republicans have done?  Resign.|||@GeorgeTakei Moscow.  And not Moscow, Idaho.|||@Lesdoggg Wow.  These people are even more exactly who I thought they are than I thought they were|||@Hispanthicckk No, cuz you’re beautiful|||@GeorgeTakei And that is not America’s ass.|||@meganhilty Waking up and hearing my dog snoring next to me in bed|||@whedonesque I’m trying to decide what it says about me that my top two I can’t decide between are Spike and Adele Dewitt|||@Hispanthicckk Big brain|||@QuillOtt And do you remember how fat you thought you were, Lol?|||@QuillOtt A4$|||@fl33twoodbigmac Done and Done!|||@RepBonnie @chrislhayes Representative Watson Coleman, you need to name your colleagues who refused to wear masks.… https://t.co/eG8m9ZryW5|||@whedonesque Feeling happy/nostalgic and so, so very old|||@Lcars24 @LinkedHD @ZeroFuelEnviro And Idiotatry|||@HawleyMO @simonschuster In the words of my people, “Bitch, Please”|||@thealexnewell https://t.co/yD2XNMq4Yl|||@Hispanthicckk How rude.  Don’t they know they are supposed to buy you food? https://t.co/xCdw2Ife5T|||@GeorgeTakei Or Treasonous|||@GeorgeTakei Malicious|||@gaylor_swift13 Now is so much better|||@jeiwaii2000 Ok, so who\\'s Kevin and how do we meet? 😉|||#fuckers https://t.co/upt71cX0YO|||@zeusray22 1|||#fuckers https://t.co/fqqx99sDKy|||#fuckers https://t.co/7RHrwbZfvb|||#fuckers https://t.co/p6TSP9urCb|||#fuckers https://t.co/7nsSzx9KBB|||#fuckers https://t.co/VkWv5ErYcu|||#fuckers https://t.co/rHy9jimw2S|||#fuckers https://t.co/qVz3gxEDVp|||@iansomerhalder Good night beautiful man...|||@GeorgeTakei On top of his grave.  We always knew his headstone would be oversized and gaudy.|||'"
      ]
     },
     "execution_count": 8,
     "metadata": {},
     "output_type": "execute_result"
    }
   ],
   "source": [
    "df['text'][1]"
   ]
  },
  {
   "cell_type": "code",
   "execution_count": 10,
   "id": "2502a88f",
   "metadata": {},
   "outputs": [
    {
     "data": {
      "text/plain": [
       "array(['intj', 'intp', 'entj', 'entp', 'infj', 'infp', 'enfj', 'enfp',\n",
       "       'istj', 'isfj', 'estj', 'esfj', 'istp', 'isfp', 'estp', 'esfp'],\n",
       "      dtype=object)"
      ]
     },
     "execution_count": 10,
     "metadata": {},
     "output_type": "execute_result"
    }
   ],
   "source": [
    "df['label'].unique()"
   ]
  },
  {
   "cell_type": "code",
   "execution_count": 11,
   "id": "cd860fbc",
   "metadata": {},
   "outputs": [
    {
     "name": "stdout",
     "output_type": "stream",
     "text": [
      "<class 'pandas.core.frame.DataFrame'>\n",
      "RangeIndex: 7811 entries, 0 to 7810\n",
      "Data columns (total 3 columns):\n",
      " #   Column      Non-Null Count  Dtype \n",
      "---  ------      --------------  ----- \n",
      " 0   Unnamed: 0  7811 non-null   int64 \n",
      " 1   text        7811 non-null   object\n",
      " 2   label       7811 non-null   object\n",
      "dtypes: int64(1), object(2)\n",
      "memory usage: 183.2+ KB\n"
     ]
    }
   ],
   "source": [
    "df.info()"
   ]
  },
  {
   "cell_type": "markdown",
   "id": "0c6aa656",
   "metadata": {},
   "source": [
    "we want our X\n",
    "we want our Y\n",
    "we want our model\n",
    "we want our pipeline\n"
   ]
  }
 ],
 "metadata": {
  "kernelspec": {
   "display_name": "vibe",
   "language": "python",
   "name": "python3"
  },
  "language_info": {
   "codemirror_mode": {
    "name": "ipython",
    "version": 3
   },
   "file_extension": ".py",
   "mimetype": "text/x-python",
   "name": "python",
   "nbconvert_exporter": "python",
   "pygments_lexer": "ipython3",
   "version": "3.12.9"
  }
 },
 "nbformat": 4,
 "nbformat_minor": 5
}
