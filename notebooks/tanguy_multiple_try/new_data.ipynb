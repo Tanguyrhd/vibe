{
 "cells": [
  {
   "cell_type": "code",
   "execution_count": 11,
   "id": "8ae97ae7",
   "metadata": {
    "executionInfo": {
     "elapsed": 15,
     "status": "ok",
     "timestamp": 1749218068009,
     "user": {
      "displayName": "richard tanguy",
      "userId": "17083172873806882243"
     },
     "user_tz": 240
    },
    "id": "8ae97ae7"
   },
   "outputs": [],
   "source": [
    "import pandas as pd\n",
    "from sklearn.model_selection import train_test_split\n",
    "import numpy as np\n",
    "from sklearn.metrics import classification_report\n",
    "from sklearn.utils import class_weight"
   ]
  },
  {
   "cell_type": "code",
   "execution_count": 12,
   "id": "kBwV3tr84VNH",
   "metadata": {
    "colab": {
     "base_uri": "https://localhost:8080/"
    },
    "executionInfo": {
     "elapsed": 644,
     "status": "ok",
     "timestamp": 1749218068655,
     "user": {
      "displayName": "richard tanguy",
      "userId": "17083172873806882243"
     },
     "user_tz": 240
    },
    "id": "kBwV3tr84VNH",
    "outputId": "d6ede492-42f5-4cc8-aebb-6250d0bd9590"
   },
   "outputs": [],
   "source": [
    "# from google.colab import drive\n",
    "# drive.mount('/content/drive')"
   ]
  },
  {
   "cell_type": "code",
   "execution_count": 13,
   "id": "441a4843",
   "metadata": {
    "executionInfo": {
     "elapsed": 1049,
     "status": "ok",
     "timestamp": 1749218069703,
     "user": {
      "displayName": "richard tanguy",
      "userId": "17083172873806882243"
     },
     "user_tz": 240
    },
    "id": "441a4843"
   },
   "outputs": [
    {
     "data": {
      "text/html": [
       "<div>\n",
       "<style scoped>\n",
       "    .dataframe tbody tr th:only-of-type {\n",
       "        vertical-align: middle;\n",
       "    }\n",
       "\n",
       "    .dataframe tbody tr th {\n",
       "        vertical-align: top;\n",
       "    }\n",
       "\n",
       "    .dataframe thead th {\n",
       "        text-align: right;\n",
       "    }\n",
       "</style>\n",
       "<table border=\"1\" class=\"dataframe\">\n",
       "  <thead>\n",
       "    <tr style=\"text-align: right;\">\n",
       "      <th></th>\n",
       "      <th>type</th>\n",
       "      <th>posts</th>\n",
       "    </tr>\n",
       "  </thead>\n",
       "  <tbody>\n",
       "    <tr>\n",
       "      <th>0</th>\n",
       "      <td>INFJ</td>\n",
       "      <td>'http://www.youtube.com/watch?v=qsXHcwe3krw|||...</td>\n",
       "    </tr>\n",
       "    <tr>\n",
       "      <th>1</th>\n",
       "      <td>ENTP</td>\n",
       "      <td>'I'm finding the lack of me in these posts ver...</td>\n",
       "    </tr>\n",
       "    <tr>\n",
       "      <th>2</th>\n",
       "      <td>INTP</td>\n",
       "      <td>'Good one  _____   https://www.youtube.com/wat...</td>\n",
       "    </tr>\n",
       "    <tr>\n",
       "      <th>3</th>\n",
       "      <td>INTJ</td>\n",
       "      <td>'Dear INTP,   I enjoyed our conversation the o...</td>\n",
       "    </tr>\n",
       "    <tr>\n",
       "      <th>4</th>\n",
       "      <td>ENTJ</td>\n",
       "      <td>'You're fired.|||That's another silly misconce...</td>\n",
       "    </tr>\n",
       "  </tbody>\n",
       "</table>\n",
       "</div>"
      ],
      "text/plain": [
       "   type                                              posts\n",
       "0  INFJ  'http://www.youtube.com/watch?v=qsXHcwe3krw|||...\n",
       "1  ENTP  'I'm finding the lack of me in these posts ver...\n",
       "2  INTP  'Good one  _____   https://www.youtube.com/wat...\n",
       "3  INTJ  'Dear INTP,   I enjoyed our conversation the o...\n",
       "4  ENTJ  'You're fired.|||That's another silly misconce..."
      ]
     },
     "execution_count": 13,
     "metadata": {},
     "output_type": "execute_result"
    }
   ],
   "source": [
    "df = pd.read_csv('../../raw_data/mbti_1.csv')\n",
    "df.head(5)"
   ]
  },
  {
   "cell_type": "code",
   "execution_count": 14,
   "id": "642b7948",
   "metadata": {
    "executionInfo": {
     "elapsed": 3,
     "status": "ok",
     "timestamp": 1749218069726,
     "user": {
      "displayName": "richard tanguy",
      "userId": "17083172873806882243"
     },
     "user_tz": 240
    },
    "id": "642b7948"
   },
   "outputs": [],
   "source": [
    "# Create one binary column for each MBTI letter\n",
    "df['IE'] = df['type'].apply(lambda x: 1 if x[0] == 'I' else 0)\n",
    "df['NS'] = df['type'].apply(lambda x: 1 if x[1] == 'N' else 0)\n",
    "df['TF'] = df['type'].apply(lambda x: 1 if x[2] == 'T' else 0)\n",
    "df['JP'] = df['type'].apply(lambda x: 1 if x[3] == 'J' else 0)"
   ]
  },
  {
   "cell_type": "code",
   "execution_count": 15,
   "id": "a06baa14",
   "metadata": {},
   "outputs": [],
   "source": [
    "import re\n",
    "\n",
    "def clean_posts(text):\n",
    "    # Split the tweets on ||||\n",
    "    tweets = text.split(\"|||\")\n",
    "    cleaned = []\n",
    "\n",
    "    for tweet in tweets:\n",
    "        # Remove mentions\n",
    "        tweet = re.sub(r'@\\w+', '', tweet)\n",
    "        # Remove URLs\n",
    "        tweet = re.sub(r'http\\S+', '', tweet)\n",
    "        # Normalize unicode quotes and dashes (optional)\n",
    "        tweet = tweet.replace('’', \"'\").replace('“', '\"').replace('”', '\"')\n",
    "        # Keep basic punctuation, remove other non-letter characters\n",
    "        tweet = re.sub(r'[^a-zA-Z0-9\\s.,!?\\'\"]', '', tweet)\n",
    "        # Remove extra whitespace\n",
    "        tweet = re.sub(r'\\s+', ' ', tweet).strip()\n",
    "        # Lowercase\n",
    "        tweet = tweet.lower()\n",
    "        # Append only if not empty\n",
    "        if tweet:\n",
    "            cleaned.append(tweet)\n",
    "\n",
    "    # Join tweets with a period and line break for readability\n",
    "    return \". \".join(cleaned)"
   ]
  },
  {
   "cell_type": "code",
   "execution_count": 16,
   "id": "Fqq_CRygvBYe",
   "metadata": {
    "executionInfo": {
     "elapsed": 5424,
     "status": "ok",
     "timestamp": 1749218075165,
     "user": {
      "displayName": "richard tanguy",
      "userId": "17083172873806882243"
     },
     "user_tz": 240
    },
    "id": "Fqq_CRygvBYe"
   },
   "outputs": [],
   "source": [
    "df['clean_text'] = df['posts'].apply(clean_posts)"
   ]
  },
  {
   "cell_type": "code",
   "execution_count": 17,
   "id": "ca5b700b",
   "metadata": {},
   "outputs": [
    {
     "name": "stdout",
     "output_type": "stream",
     "text": [
      "'i'm finding the lack of me in these posts very alarming.. sex can be boring if it's in the same position often. for example me and my girlfriend are currently in an environment where we have to creatively use cowgirl and missionary. there isn't enough.... giving new meaning to 'game' theory.. hello entp grin that's all it takes. than we converse and they do most of the flirting while i acknowledge their presence and return their words with smooth wordplay and more cheeky grins.. this lack of balance and hand eye coordination.. real iq test i score 127. internet iq tests are funny. i score 140s or higher. now, like the former responses of this thread i will mention that i don't believe in the iq test. before you banish.... you know you're an entp when you vanish from a site for a year and a half, return, and find people are still commenting on your posts and liking your ideasthoughts. you know you're an entp when you.... i over think things sometimes. i go by the old sherlock holmes quote. perhaps, when a man has special knowledge and special powers like my own, it rather encourages him to seek a complex.... cheshirewolf.tumblr.com so is i d. 400,000 post. not really i've never thought of ei or jp as real functions. i judge myself on what i use. i use ne and ti as my dominates. fe for emotions and rarely si. i also use ni due to me strength.... you know though. that was ingenious. after saying it i really want to try it and see what happens with me playing a first person shooter in the back while we drive around. i want to see the look on.... out of all of them the rock paper one is the best. it makes me lol. you guys are lucky d i'm really high up on the tumblr system.. so did you hear about that new first person shooter game? i've been rocking the hell out of the soundtrack on my auto sound equipment that will shake the heavens. we managed to put a couple ps3's in.... no the way he connected things was very ne. ne dominates are just as aware of their environments as se dominates. example shawn spencer or patrick jane both entps.. well charlie i will be the first to admit i do get jealous like you do. i chalk it up to my 4w3 heart mixed with my dominate 7w8. 7s and 8s both like to be noticed. 4's like to be known not the same.... d i'll upload the same clip with the mic away from my mouth. than you won't hear anything. ninja assassin style but with splatter.. tik tok is a really great song. as long as you can mental block out the singer. i love the beat it makes me bounce.. drop.io v1swck0 d mic really close to my mouth and smokin aces assassins ball playing in the background.. sociable extrovert i'm an extrovert and i'm not sociable.. sherlock in the movie was an entp. normally he's played as a extj. in the books he's an estj. as i said. the movie looked good except for it being called sherlock holmes.. oh, i never had fear of kissing a guy. i will kiss an animal too. so there was nothing to vanish. just personal taste and me not liking it. the guy i kissed didn't know me. it was one of those.... sounds pretty much like my area and what i'm going through right now trying to figure out which way i want to take my life. i want to do so many things. the biggest problem is that i know if i don't.... d i was operating under the impression that you were female. i never looked at your boxy. okay, i help out my gay friends all the time and one of them has developed a little crush on me. i get red.... tt you just described me and i'm living the worst nightmare. i'm trapped in one place with one one around. only dull woods. if i was a serial killer this would be the perfect place but sadly i'm.... tbh, and biased, sounds like a shadowed infp. i think maybe he was hurt and turned estj. i can tell because he has some of the typical infp traits left over.. checks list i'm sorry. it seems that you have came at a bad time. we've already reached our quota of infjs. however, being you're female and i like females i will make you a deal. i will kick one.... i'm antp leaning toward e. i'm easy for both entps and intps to identify with.. i also imagine entp's interrogations would go a little bit like jack's from 24 except more mechanical. rigging up shock treatment equipment in an abandoned building out of an old car batty, jumper.... it was a compliment trust me. i'm just as psychopathic d except i have emoticons. they're just weird ones. like laughing when i get hurt or at people running themselves over with their lawn mower.... no. it's like a theme for where i live and that is why i know it by heart.. and i usual don't leave until the thing ends. but in the mean time. in between times. you work your thing. i'll work mine d d i'm the mbp pleasure to meet you.. damn, need to trust my instincts more i would have been closer i was going to say infp.. exfp? leaning toward s with the way she responded. d my friends, even my gay and lesbian ones, always come to me for advice.. i bow to my entp masters entps are so great. if it wasn't for entps i wouldn't have been able to build what i'm building duck duck duck shotgun. what? me? i never do that . .. because its hard to be sad about losing someone you like when you knew you were right and give yourself a big pat on the back because you're awesome and always correct.. oh, you don't have to tell me that most of them are stupid. i know this. that is why i play with them and it makes me laugh. d as i'm going to take neuropsychology and i have a few psychologist.... d i'm a nightowl. i wake up between 67pm and stay awake till 101130am.. personal opinion backed by theory would suggest that intps are the most socially difficult. while intjs can be socially indifferent but they will also use social situations if the the need arises..... personal stocks that i have on my desktop that i've downloaded from random stock sites and stock photobuckets.. i'll tell you when i open photoshop. glad you like it static.. d thanks.. made for a friend. several hours of work. i constructed every line by.... static i'll have to get to your avatar later if one of my fellow teammates doesn't.. psychologist don't keep me around long enough to diagnosis me. i like to toy with them. what i have diagnosis myself with and had a few psychologist friends a few other friends tell me i have is...'\n"
     ]
    }
   ],
   "source": [
    "print(df['clean_text'].iloc[1])"
   ]
  },
  {
   "cell_type": "code",
   "execution_count": 18,
   "id": "ee08a3b2",
   "metadata": {
    "colab": {
     "base_uri": "https://localhost:8080/"
    },
    "executionInfo": {
     "elapsed": 21,
     "status": "ok",
     "timestamp": 1749218076340,
     "user": {
      "displayName": "richard tanguy",
      "userId": "17083172873806882243"
     },
     "user_tz": 240
    },
    "id": "ee08a3b2",
    "outputId": "29736148-2287-4352-c003-c629ca1376ad"
   },
   "outputs": [
    {
     "name": "stdout",
     "output_type": "stream",
     "text": [
      "balance of the target ie : IE\n",
      "1    0.769568\n",
      "0    0.230432\n",
      "Name: proportion, dtype: float64\n",
      "balance of the target ns :NS\n",
      "1    0.862017\n",
      "0    0.137983\n",
      "Name: proportion, dtype: float64\n",
      "balance of the target tf :TF\n",
      "0    0.541095\n",
      "1    0.458905\n",
      "Name: proportion, dtype: float64\n",
      "balance of the target jp :JP\n",
      "0    0.60415\n",
      "1    0.39585\n",
      "Name: proportion, dtype: float64\n"
     ]
    }
   ],
   "source": [
    "print(f\"balance of the target ie : {df['IE'].value_counts(normalize=True)}\")\n",
    "print(f\"balance of the target ns :{df['NS'].value_counts(normalize=True)}\")\n",
    "print(f\"balance of the target tf :{df['TF'].value_counts(normalize=True)}\")\n",
    "print(f\"balance of the target jp :{df['JP'].value_counts(normalize=True)}\")"
   ]
  },
  {
   "cell_type": "code",
   "execution_count": 19,
   "id": "VVgX-iFOAFFE",
   "metadata": {
    "executionInfo": {
     "elapsed": 689,
     "status": "ok",
     "timestamp": 1749218077031,
     "user": {
      "displayName": "richard tanguy",
      "userId": "17083172873806882243"
     },
     "user_tz": 240
    },
    "id": "VVgX-iFOAFFE"
   },
   "outputs": [],
   "source": [
    "df['text_length_words'] = df['clean_text'].str.split().apply(len)"
   ]
  },
  {
   "cell_type": "code",
   "execution_count": 20,
   "id": "4XVghXKbAKMv",
   "metadata": {
    "colab": {
     "base_uri": "https://localhost:8080/",
     "height": 564
    },
    "executionInfo": {
     "elapsed": 361,
     "status": "ok",
     "timestamp": 1749218077397,
     "user": {
      "displayName": "richard tanguy",
      "userId": "17083172873806882243"
     },
     "user_tz": 240
    },
    "id": "4XVghXKbAKMv",
    "outputId": "773a04b5-8216-4e6f-c788-3b2e3aded7a0"
   },
   "outputs": [
    {
     "data": {
      "image/png": "[encoded data removed]",
      "text/plain": [
       "<Figure size 1000x600 with 1 Axes>"
      ]
     },
     "metadata": {},
     "output_type": "display_data"
    }
   ],
   "source": [
    "import seaborn as sns\n",
    "import matplotlib.pyplot as plt\n",
    "\n",
    "plt.figure(figsize=(10, 6))\n",
    "sns.histplot(df['text_length_words'], bins=50, kde=True)\n",
    "plt.title(\"Distribution de la longueur des tweets (en mots)\")\n",
    "plt.xlabel(\"Nombre de mots\")\n",
    "plt.ylabel(\"Fréquence\")\n",
    "plt.grid(True)\n",
    "plt.show()"
   ]
  },
  {
   "cell_type": "code",
   "execution_count": 21,
   "id": "uvKGu_hGDGBr",
   "metadata": {
    "executionInfo": {
     "elapsed": 562,
     "status": "ok",
     "timestamp": 1749218077961,
     "user": {
      "displayName": "richard tanguy",
      "userId": "17083172873806882243"
     },
     "user_tz": 240
    },
    "id": "uvKGu_hGDGBr"
   },
   "outputs": [],
   "source": [
    "df = df[df['clean_text'].apply(lambda x: len(x.split()) < 1700 and len(x.split()) > 1000)].reset_index(drop=True)"
   ]
  },
  {
   "cell_type": "code",
   "execution_count": 22,
   "id": "36w_s4AqDWB6",
   "metadata": {
    "colab": {
     "base_uri": "https://localhost:8080/",
     "height": 300
    },
    "executionInfo": {
     "elapsed": 30,
     "status": "ok",
     "timestamp": 1749218077993,
     "user": {
      "displayName": "richard tanguy",
      "userId": "17083172873806882243"
     },
     "user_tz": 240
    },
    "id": "36w_s4AqDWB6",
    "outputId": "9f310572-abbc-424c-8b9d-d7005f1ddb4d"
   },
   "outputs": [
    {
     "data": {
      "text/html": [
       "<div>\n",
       "<style scoped>\n",
       "    .dataframe tbody tr th:only-of-type {\n",
       "        vertical-align: middle;\n",
       "    }\n",
       "\n",
       "    .dataframe tbody tr th {\n",
       "        vertical-align: top;\n",
       "    }\n",
       "\n",
       "    .dataframe thead th {\n",
       "        text-align: right;\n",
       "    }\n",
       "</style>\n",
       "<table border=\"1\" class=\"dataframe\">\n",
       "  <thead>\n",
       "    <tr style=\"text-align: right;\">\n",
       "      <th></th>\n",
       "      <th>IE</th>\n",
       "      <th>NS</th>\n",
       "      <th>TF</th>\n",
       "      <th>JP</th>\n",
       "      <th>text_length_words</th>\n",
       "    </tr>\n",
       "  </thead>\n",
       "  <tbody>\n",
       "    <tr>\n",
       "      <th>count</th>\n",
       "      <td>6688.000000</td>\n",
       "      <td>6688.000000</td>\n",
       "      <td>6688.000000</td>\n",
       "      <td>6688.000000</td>\n",
       "      <td>6688.000000</td>\n",
       "    </tr>\n",
       "    <tr>\n",
       "      <th>mean</th>\n",
       "      <td>0.767793</td>\n",
       "      <td>0.872309</td>\n",
       "      <td>0.452901</td>\n",
       "      <td>0.399821</td>\n",
       "      <td>1364.697069</td>\n",
       "    </tr>\n",
       "    <tr>\n",
       "      <th>std</th>\n",
       "      <td>0.422272</td>\n",
       "      <td>0.333771</td>\n",
       "      <td>0.497814</td>\n",
       "      <td>0.489898</td>\n",
       "      <td>181.364192</td>\n",
       "    </tr>\n",
       "    <tr>\n",
       "      <th>min</th>\n",
       "      <td>0.000000</td>\n",
       "      <td>0.000000</td>\n",
       "      <td>0.000000</td>\n",
       "      <td>0.000000</td>\n",
       "      <td>1001.000000</td>\n",
       "    </tr>\n",
       "    <tr>\n",
       "      <th>25%</th>\n",
       "      <td>1.000000</td>\n",
       "      <td>1.000000</td>\n",
       "      <td>0.000000</td>\n",
       "      <td>0.000000</td>\n",
       "      <td>1224.000000</td>\n",
       "    </tr>\n",
       "    <tr>\n",
       "      <th>50%</th>\n",
       "      <td>1.000000</td>\n",
       "      <td>1.000000</td>\n",
       "      <td>0.000000</td>\n",
       "      <td>0.000000</td>\n",
       "      <td>1373.000000</td>\n",
       "    </tr>\n",
       "    <tr>\n",
       "      <th>75%</th>\n",
       "      <td>1.000000</td>\n",
       "      <td>1.000000</td>\n",
       "      <td>1.000000</td>\n",
       "      <td>1.000000</td>\n",
       "      <td>1511.000000</td>\n",
       "    </tr>\n",
       "    <tr>\n",
       "      <th>max</th>\n",
       "      <td>1.000000</td>\n",
       "      <td>1.000000</td>\n",
       "      <td>1.000000</td>\n",
       "      <td>1.000000</td>\n",
       "      <td>1699.000000</td>\n",
       "    </tr>\n",
       "  </tbody>\n",
       "</table>\n",
       "</div>"
      ],
      "text/plain": [
       "                IE           NS           TF           JP  text_length_words\n",
       "count  6688.000000  6688.000000  6688.000000  6688.000000        6688.000000\n",
       "mean      0.767793     0.872309     0.452901     0.399821        1364.697069\n",
       "std       0.422272     0.333771     0.497814     0.489898         181.364192\n",
       "min       0.000000     0.000000     0.000000     0.000000        1001.000000\n",
       "25%       1.000000     1.000000     0.000000     0.000000        1224.000000\n",
       "50%       1.000000     1.000000     0.000000     0.000000        1373.000000\n",
       "75%       1.000000     1.000000     1.000000     1.000000        1511.000000\n",
       "max       1.000000     1.000000     1.000000     1.000000        1699.000000"
      ]
     },
     "execution_count": 22,
     "metadata": {},
     "output_type": "execute_result"
    }
   ],
   "source": [
    "df.describe()"
   ]
  },
  {
   "cell_type": "code",
   "execution_count": 23,
   "id": "6a764f89",
   "metadata": {},
   "outputs": [
    {
     "data": {
      "text/plain": [
       "\"'i'm finding the lack of me in these posts very alarming.. sex can be boring if it's in the same position often. for example me and my girlfriend are currently in an environment where we have to creatively use cowgirl and missionary. there isn't enough.... giving new meaning to 'game' theory.. hello entp grin that's all it takes. than we converse and they do most of the flirting while i acknowledge their presence and return their words with smooth wordplay and more cheeky grins.. this lack of balance and hand eye coordination.. real iq test i score 127. internet iq tests are funny. i score 140s or higher. now, like the former responses of this thread i will mention that i don't believe in the iq test. before you banish.... you know you're an entp when you vanish from a site for a year and a half, return, and find people are still commenting on your posts and liking your ideasthoughts. you know you're an entp when you.... i over think things sometimes. i go by the old sherlock holmes quote. perhaps, when a man has special knowledge and special powers like my own, it rather encourages him to seek a complex.... cheshirewolf.tumblr.com so is i d. 400,000 post. not really i've never thought of ei or jp as real functions. i judge myself on what i use. i use ne and ti as my dominates. fe for emotions and rarely si. i also use ni due to me strength.... you know though. that was ingenious. after saying it i really want to try it and see what happens with me playing a first person shooter in the back while we drive around. i want to see the look on.... out of all of them the rock paper one is the best. it makes me lol. you guys are lucky d i'm really high up on the tumblr system.. so did you hear about that new first person shooter game? i've been rocking the hell out of the soundtrack on my auto sound equipment that will shake the heavens. we managed to put a couple ps3's in.... no the way he connected things was very ne. ne dominates are just as aware of their environments as se dominates. example shawn spencer or patrick jane both entps.. well charlie i will be the first to admit i do get jealous like you do. i chalk it up to my 4w3 heart mixed with my dominate 7w8. 7s and 8s both like to be noticed. 4's like to be known not the same.... d i'll upload the same clip with the mic away from my mouth. than you won't hear anything. ninja assassin style but with splatter.. tik tok is a really great song. as long as you can mental block out the singer. i love the beat it makes me bounce.. drop.io v1swck0 d mic really close to my mouth and smokin aces assassins ball playing in the background.. sociable extrovert i'm an extrovert and i'm not sociable.. sherlock in the movie was an entp. normally he's played as a extj. in the books he's an estj. as i said. the movie looked good except for it being called sherlock holmes.. oh, i never had fear of kissing a guy. i will kiss an animal too. so there was nothing to vanish. just personal taste and me not liking it. the guy i kissed didn't know me. it was one of those.... sounds pretty much like my area and what i'm going through right now trying to figure out which way i want to take my life. i want to do so many things. the biggest problem is that i know if i don't.... d i was operating under the impression that you were female. i never looked at your boxy. okay, i help out my gay friends all the time and one of them has developed a little crush on me. i get red.... tt you just described me and i'm living the worst nightmare. i'm trapped in one place with one one around. only dull woods. if i was a serial killer this would be the perfect place but sadly i'm.... tbh, and biased, sounds like a shadowed infp. i think maybe he was hurt and turned estj. i can tell because he has some of the typical infp traits left over.. checks list i'm sorry. it seems that you have came at a bad time. we've already reached our quota of infjs. however, being you're female and i like females i will make you a deal. i will kick one.... i'm antp leaning toward e. i'm easy for both entps and intps to identify with.. i also imagine entp's interrogations would go a little bit like jack's from 24 except more mechanical. rigging up shock treatment equipment in an abandoned building out of an old car batty, jumper.... it was a compliment trust me. i'm just as psychopathic d except i have emoticons. they're just weird ones. like laughing when i get hurt or at people running themselves over with their lawn mower.... no. it's like a theme for where i live and that is why i know it by heart.. and i usual don't leave until the thing ends. but in the mean time. in between times. you work your thing. i'll work mine d d i'm the mbp pleasure to meet you.. damn, need to trust my instincts more i would have been closer i was going to say infp.. exfp? leaning toward s with the way she responded. d my friends, even my gay and lesbian ones, always come to me for advice.. i bow to my entp masters entps are so great. if it wasn't for entps i wouldn't have been able to build what i'm building duck duck duck shotgun. what? me? i never do that . .. because its hard to be sad about losing someone you like when you knew you were right and give yourself a big pat on the back because you're awesome and always correct.. oh, you don't have to tell me that most of them are stupid. i know this. that is why i play with them and it makes me laugh. d as i'm going to take neuropsychology and i have a few psychologist.... d i'm a nightowl. i wake up between 67pm and stay awake till 101130am.. personal opinion backed by theory would suggest that intps are the most socially difficult. while intjs can be socially indifferent but they will also use social situations if the the need arises..... personal stocks that i have on my desktop that i've downloaded from random stock sites and stock photobuckets.. i'll tell you when i open photoshop. glad you like it static.. d thanks.. made for a friend. several hours of work. i constructed every line by.... static i'll have to get to your avatar later if one of my fellow teammates doesn't.. psychologist don't keep me around long enough to diagnosis me. i like to toy with them. what i have diagnosis myself with and had a few psychologist friends a few other friends tell me i have is...'\""
      ]
     },
     "execution_count": 23,
     "metadata": {},
     "output_type": "execute_result"
    }
   ],
   "source": [
    "df['clean_text'][0]"
   ]
  },
  {
   "cell_type": "code",
   "execution_count": 24,
   "id": "ae030d43",
   "metadata": {
    "colab": {
     "base_uri": "https://localhost:8080/"
    },
    "executionInfo": {
     "elapsed": 2239,
     "status": "ok",
     "timestamp": 1749218080771,
     "user": {
      "displayName": "richard tanguy",
      "userId": "17083172873806882243"
     },
     "user_tz": 240
    },
    "id": "ae030d43",
    "outputId": "b91e56a7-b24d-47d4-9ed1-e3f1aa35dff2"
   },
   "outputs": [
    {
     "name": "stdout",
     "output_type": "stream",
     "text": [
      "Requirement already satisfied: xgboost in /home/tanguy/.pyenv/versions/3.12.9/envs/vibe/lib/python3.12/site-packages (3.0.2)\n",
      "Requirement already satisfied: numpy in /home/tanguy/.pyenv/versions/3.12.9/envs/vibe/lib/python3.12/site-packages (from xgboost) (2.1.3)\n",
      "Requirement already satisfied: nvidia-nccl-cu12 in /home/tanguy/.pyenv/versions/3.12.9/envs/vibe/lib/python3.12/site-packages (from xgboost) (2.27.3)\n",
      "Requirement already satisfied: scipy in /home/tanguy/.pyenv/versions/3.12.9/envs/vibe/lib/python3.12/site-packages (from xgboost) (1.15.3)\n"
     ]
    }
   ],
   "source": [
    "!pip install xgboost"
   ]
  },
  {
   "cell_type": "code",
   "execution_count": 25,
   "id": "lyUTXgmZzQ0S",
   "metadata": {
    "executionInfo": {
     "elapsed": 2,
     "status": "ok",
     "timestamp": 1749218080775,
     "user": {
      "displayName": "richard tanguy",
      "userId": "17083172873806882243"
     },
     "user_tz": 240
    },
    "id": "lyUTXgmZzQ0S"
   },
   "outputs": [],
   "source": [
    "import pandas as pd\n",
    "from sklearn.model_selection import train_test_split\n",
    "from sklearn.feature_extraction.text import TfidfVectorizer, ENGLISH_STOP_WORDS\n",
    "from xgboost import XGBClassifier\n",
    "from sklearn.metrics import classification_report"
   ]
  },
  {
   "cell_type": "code",
   "execution_count": 26,
   "id": "kiST2vLW68RG",
   "metadata": {
    "executionInfo": {
     "elapsed": 22690,
     "status": "ok",
     "timestamp": 1749218103476,
     "user": {
      "displayName": "richard tanguy",
      "userId": "17083172873806882243"
     },
     "user_tz": 240
    },
    "id": "kiST2vLW68RG"
   },
   "outputs": [],
   "source": [
    "custom_stopwords = {\n",
    "    \"intj\", \"intp\", \"entj\", \"entp\",\n",
    "    \"infj\", \"infp\", \"enfj\", \"enfp\",\n",
    "    \"istj\", \"isfj\", \"estj\", \"esfj\",\n",
    "    \"istp\", \"isfp\", \"estp\", \"esfp\",\n",
    "    \"intjs\", \"intps\", \"entjs\", \"entps\",\n",
    "    \"infjs\", \"infps\", \"enfjs\", \"enfps\",\n",
    "    \"istjs\", \"isfjs\", \"estjs\", \"esfjs\",\n",
    "    \"istps\", \"isfps\", \"estps\", \"esfps\",\n",
    "}\n",
    "\n",
    "# Fusionner avec les stopwords anglais\n",
    "combined_stopwords = list(ENGLISH_STOP_WORDS.union(custom_stopwords))\n",
    "\n",
    "vectorizer = TfidfVectorizer(max_features=20000,\n",
    "                             ngram_range=(1, 2),\n",
    "                             stop_words=combined_stopwords)\n",
    "\n",
    "X = vectorizer.fit_transform(df[\"clean_text\"])"
   ]
  },
  {
   "cell_type": "code",
   "execution_count": 27,
   "id": "2e36b0e6",
   "metadata": {
    "colab": {
     "base_uri": "https://localhost:8080/"
    },
    "executionInfo": {
     "elapsed": 26867,
     "status": "ok",
     "timestamp": 1749218130342,
     "user": {
      "displayName": "richard tanguy",
      "userId": "17083172873806882243"
     },
     "user_tz": 240
    },
    "id": "2e36b0e6",
    "outputId": "8ec428e1-2f28-4ded-f1b3-5354463cc207"
   },
   "outputs": [
    {
     "name": "stderr",
     "output_type": "stream",
     "text": [
      "/home/tanguy/.pyenv/versions/vibe/lib/python3.12/site-packages/xgboost/training.py:183: UserWarning: [16:33:42] WARNING: /workspace/src/learner.cc:738: \n",
      "Parameters: { \"use_label_encoder\" } are not used.\n",
      "\n",
      "  bst.update(dtrain, iteration=i, fobj=obj)\n"
     ]
    },
    {
     "name": "stdout",
     "output_type": "stream",
     "text": [
      "              precision    recall  f1-score   support\n",
      "\n",
      "           0       0.77      0.79      0.78       740\n",
      "           1       0.73      0.70      0.71       598\n",
      "\n",
      "    accuracy                           0.75      1338\n",
      "   macro avg       0.75      0.75      0.75      1338\n",
      "weighted avg       0.75      0.75      0.75      1338\n",
      "\n"
     ]
    }
   ],
   "source": [
    "y_tf = df[\"TF\"]\n",
    "X_train_tf, X_test_tf, y_train_tf, y_test_tf = train_test_split(X, y_tf, test_size=0.2, random_state=42)\n",
    "model_tf = XGBClassifier(use_label_encoder=False, eval_metric='logloss')\n",
    "model_tf.fit(X_train_tf, y_train_tf)\n",
    "y_pred_tf = model_tf.predict(X_test_tf)\n",
    "print(classification_report(y_test_tf, y_pred_tf))"
   ]
  },
  {
   "cell_type": "code",
   "execution_count": 28,
   "id": "CVOOrI6K6pGu",
   "metadata": {
    "colab": {
     "base_uri": "https://localhost:8080/"
    },
    "executionInfo": {
     "elapsed": 31,
     "status": "ok",
     "timestamp": 1749218130384,
     "user": {
      "displayName": "richard tanguy",
      "userId": "17083172873806882243"
     },
     "user_tz": 240
    },
    "id": "CVOOrI6K6pGu",
    "outputId": "0485a3ad-6771-471a-925f-f6789430c49c"
   },
   "outputs": [
    {
     "name": "stdout",
     "output_type": "stream",
     "text": [
      "feel: 0.0078\n",
      "love: 0.0054\n",
      "beautiful: 0.0049\n",
      "exciting: 0.0045\n",
      "4w5: 0.0043\n",
      "things think: 0.0037\n",
      "networking: 0.0037\n",
      "xd: 0.0037\n",
      "sharing: 0.0037\n",
      "struggling: 0.0037\n",
      "bands: 0.0036\n",
      "4w3: 0.0036\n",
      "article: 0.0035\n",
      "arguments: 0.0034\n",
      "tv: 0.0032\n",
      "nts: 0.0032\n",
      "project: 0.0032\n",
      "result: 0.0032\n",
      "glad: 0.0032\n",
      "sports: 0.0031\n"
     ]
    }
   ],
   "source": [
    "# Get feature importances\n",
    "importances_tf = model_tf.feature_importances_  # shape: (num_features,)\n",
    "\n",
    "# Get the vocabulary (i.e., words) from the vectorizer\n",
    "feature_names_tf = vectorizer.get_feature_names_out()\n",
    "\n",
    "# Combine words with importances\n",
    "word_importances_tf = list(zip(feature_names_tf, importances_tf))\n",
    "\n",
    "# Sort by importance\n",
    "word_importances_tf = sorted(word_importances_tf, key=lambda x: x[1], reverse=True)\n",
    "\n",
    "# Show top 20 most important words\n",
    "for word, importance in word_importances_tf[:20]:\n",
    "    print(f\"{word}: {importance:.4f}\")"
   ]
  },
  {
   "cell_type": "code",
   "execution_count": 29,
   "id": "66552f6b",
   "metadata": {
    "colab": {
     "base_uri": "https://localhost:8080/"
    },
    "executionInfo": {
     "elapsed": 23277,
     "status": "ok",
     "timestamp": 1749218153666,
     "user": {
      "displayName": "richard tanguy",
      "userId": "17083172873806882243"
     },
     "user_tz": 240
    },
    "id": "66552f6b",
    "outputId": "bfbe3fe5-6cd5-442f-a411-fa73118c6e1f"
   },
   "outputs": [
    {
     "name": "stderr",
     "output_type": "stream",
     "text": [
      "/home/tanguy/.pyenv/versions/vibe/lib/python3.12/site-packages/xgboost/training.py:183: UserWarning: [16:34:59] WARNING: /workspace/src/learner.cc:738: \n",
      "Parameters: { \"use_label_encoder\" } are not used.\n",
      "\n",
      "  bst.update(dtrain, iteration=i, fobj=obj)\n"
     ]
    },
    {
     "name": "stdout",
     "output_type": "stream",
     "text": [
      "              precision    recall  f1-score   support\n",
      "\n",
      "           0       0.58      0.19      0.28       301\n",
      "           1       0.80      0.96      0.87      1037\n",
      "\n",
      "    accuracy                           0.79      1338\n",
      "   macro avg       0.69      0.57      0.58      1338\n",
      "weighted avg       0.75      0.79      0.74      1338\n",
      "\n"
     ]
    }
   ],
   "source": [
    "y_ie = df[\"IE\"]\n",
    "X_train_ie, X_test_ie, y_train_ie, y_test_ie = train_test_split(X, y_ie, test_size=0.2, random_state=42)\n",
    "model_ie = XGBClassifier(use_label_encoder=False, eval_metric='logloss')\n",
    "model_ie.fit(X_train_ie, y_train_ie)\n",
    "y_pred_ie = model_ie.predict(X_test_ie)\n",
    "print(classification_report(y_test_ie, y_pred_ie))"
   ]
  },
  {
   "cell_type": "code",
   "execution_count": 30,
   "id": "NwV_fm0Q7tKf",
   "metadata": {
    "colab": {
     "base_uri": "https://localhost:8080/"
    },
    "executionInfo": {
     "elapsed": 22,
     "status": "ok",
     "timestamp": 1749218153687,
     "user": {
      "displayName": "richard tanguy",
      "userId": "17083172873806882243"
     },
     "user_tz": 240
    },
    "id": "NwV_fm0Q7tKf",
    "outputId": "f32f8cc0-bee8-4717-d9da-54d5484e8bbe"
   },
   "outputs": [
    {
     "name": "stdout",
     "output_type": "stream",
     "text": [
      "rainbows: 0.0054\n",
      "guys: 0.0053\n",
      "7w8: 0.0050\n",
      "die: 0.0045\n",
      "dear anonymous: 0.0045\n",
      "remembered: 0.0043\n",
      "boo: 0.0042\n",
      "communicate: 0.0042\n",
      "manager: 0.0040\n",
      "trouble: 0.0039\n",
      "social butterfly: 0.0039\n",
      "hahaha: 0.0039\n",
      "ne: 0.0038\n",
      "extremely: 0.0038\n",
      "reminds: 0.0037\n",
      "dancing: 0.0036\n",
      "angry: 0.0036\n",
      "just like: 0.0035\n",
      "nts: 0.0034\n",
      "convincing: 0.0034\n"
     ]
    }
   ],
   "source": [
    "# Get feature importances\n",
    "importances_ie = model_ie.feature_importances_  # shape: (num_features,)\n",
    "\n",
    "# Get the vocabulary (i.e., words) from the vectorizer\n",
    "feature_names_ie = vectorizer.get_feature_names_out()\n",
    "\n",
    "# Combine words with importances\n",
    "word_importances_ie = list(zip(feature_names_ie, importances_ie))\n",
    "\n",
    "# Sort by importance\n",
    "word_importances_ie = sorted(word_importances_ie, key=lambda x: x[1], reverse=True)\n",
    "\n",
    "# Show top 20 most important words\n",
    "for word, importance in word_importances_ie[:20]:\n",
    "    print(f\"{word}: {importance:.4f}\")"
   ]
  },
  {
   "cell_type": "code",
   "execution_count": 31,
   "id": "3dyeZy8_6Uoi",
   "metadata": {
    "colab": {
     "base_uri": "https://localhost:8080/"
    },
    "executionInfo": {
     "elapsed": 22497,
     "status": "ok",
     "timestamp": 1749218176187,
     "user": {
      "displayName": "richard tanguy",
      "userId": "17083172873806882243"
     },
     "user_tz": 240
    },
    "id": "3dyeZy8_6Uoi",
    "outputId": "ac877c4f-9daf-4cb6-d03b-257c60c0dc64"
   },
   "outputs": [
    {
     "name": "stderr",
     "output_type": "stream",
     "text": [
      "/home/tanguy/.pyenv/versions/vibe/lib/python3.12/site-packages/xgboost/training.py:183: UserWarning: [16:36:09] WARNING: /workspace/src/learner.cc:738: \n",
      "Parameters: { \"use_label_encoder\" } are not used.\n",
      "\n",
      "  bst.update(dtrain, iteration=i, fobj=obj)\n"
     ]
    },
    {
     "name": "stdout",
     "output_type": "stream",
     "text": [
      "              precision    recall  f1-score   support\n",
      "\n",
      "           0       0.55      0.03      0.06       184\n",
      "           1       0.87      1.00      0.93      1154\n",
      "\n",
      "    accuracy                           0.86      1338\n",
      "   macro avg       0.71      0.51      0.49      1338\n",
      "weighted avg       0.82      0.86      0.81      1338\n",
      "\n"
     ]
    }
   ],
   "source": [
    "y_ns = df[\"NS\"]\n",
    "X_train_ns, X_test_ns, y_train_ns, y_test_ns = train_test_split(X, y_ns, test_size=0.2, random_state=42)\n",
    "model_ns = XGBClassifier(use_label_encoder=False, eval_metric='logloss')\n",
    "model_ns.fit(X_train_ns, y_train_ns)\n",
    "y_pred_ns = model_ns.predict(X_test_ns)\n",
    "print(classification_report(y_test_ns, y_pred_ns))"
   ]
  },
  {
   "cell_type": "code",
   "execution_count": 32,
   "id": "gYx1wHoo8PtU",
   "metadata": {
    "colab": {
     "base_uri": "https://localhost:8080/"
    },
    "executionInfo": {
     "elapsed": 14,
     "status": "ok",
     "timestamp": 1749218176200,
     "user": {
      "displayName": "richard tanguy",
      "userId": "17083172873806882243"
     },
     "user_tz": 240
    },
    "id": "gYx1wHoo8PtU",
    "outputId": "4090d7c7-fdbb-4a75-af06-38fe2ca65e9b"
   },
   "outputs": [
    {
     "name": "stdout",
     "output_type": "stream",
     "text": [
      "inferior ne: 0.0096\n",
      "snowboarding: 0.0082\n",
      "se ni: 0.0064\n",
      "battery: 0.0063\n",
      "garlic: 0.0062\n",
      "cars: 0.0061\n",
      "come conclusion: 0.0061\n",
      "niss: 0.0055\n",
      "child: 0.0053\n",
      "wtf: 0.0053\n",
      "eventually: 0.0052\n",
      "job: 0.0051\n",
      "tini: 0.0051\n",
      "mechanic: 0.0051\n",
      "tbh: 0.0051\n",
      "don like: 0.0049\n",
      "wants: 0.0048\n",
      "guessing: 0.0047\n",
      "makes lot: 0.0043\n",
      "schedule: 0.0041\n"
     ]
    }
   ],
   "source": [
    "# Get feature importances\n",
    "importances_ns = model_ns.feature_importances_  # shape: (num_features,)\n",
    "\n",
    "# Get the vocabulary (i.e., words) from the vectorizer\n",
    "feature_names_ns = vectorizer.get_feature_names_out()\n",
    "\n",
    "# Combine words with importances\n",
    "word_importances_ns = list(zip(feature_names_ns, importances_ns))\n",
    "\n",
    "# Sort by importance\n",
    "word_importances_ns = sorted(word_importances_ns, key=lambda x: x[1], reverse=True)\n",
    "\n",
    "# Show top 20 most important words\n",
    "for word, importance in word_importances_ns[:20]:\n",
    "    print(f\"{word}: {importance:.4f}\")"
   ]
  },
  {
   "cell_type": "code",
   "execution_count": 33,
   "id": "99227621",
   "metadata": {
    "colab": {
     "base_uri": "https://localhost:8080/"
    },
    "executionInfo": {
     "elapsed": 31,
     "status": "ok",
     "timestamp": 1749218219128,
     "user": {
      "displayName": "richard tanguy",
      "userId": "17083172873806882243"
     },
     "user_tz": 240
    },
    "id": "99227621",
    "outputId": "f6b61c0f-240d-4695-a19c-548247a033c6"
   },
   "outputs": [
    {
     "name": "stdout",
     "output_type": "stream",
     "text": [
      "inferior ne: 0.0096\n",
      "snowboarding: 0.0082\n",
      "se ni: 0.0064\n",
      "battery: 0.0063\n",
      "garlic: 0.0062\n",
      "cars: 0.0061\n",
      "come conclusion: 0.0061\n",
      "niss: 0.0055\n",
      "child: 0.0053\n",
      "wtf: 0.0053\n",
      "eventually: 0.0052\n",
      "job: 0.0051\n",
      "tini: 0.0051\n",
      "mechanic: 0.0051\n",
      "tbh: 0.0051\n",
      "don like: 0.0049\n",
      "wants: 0.0048\n",
      "guessing: 0.0047\n",
      "makes lot: 0.0043\n",
      "schedule: 0.0041\n"
     ]
    }
   ],
   "source": [
    "# Get feature importances\n",
    "importances_jp = model_ns.feature_importances_  # shape: (num_features,)\n",
    "\n",
    "# Get the vocabulary (i.e., words) from the vectorizer\n",
    "feature_names_jp = vectorizer.get_feature_names_out()\n",
    "\n",
    "# Combine words with importances\n",
    "word_importances_jp = list(zip(feature_names_jp, importances_jp))\n",
    "\n",
    "# Sort by importance\n",
    "word_importances_jp = sorted(word_importances_jp, key=lambda x: x[1], reverse=True)\n",
    "\n",
    "# Show top 20 most important words\n",
    "for word, importance in word_importances_jp[:20]:\n",
    "    print(f\"{word}: {importance:.4f}\")"
   ]
  },
  {
   "cell_type": "code",
   "execution_count": 34,
   "id": "nQxF_-I8EoYr",
   "metadata": {
    "colab": {
     "base_uri": "https://localhost:8080/"
    },
    "executionInfo": {
     "elapsed": 45284,
     "status": "ok",
     "timestamp": 1749218314401,
     "user": {
      "displayName": "richard tanguy",
      "userId": "17083172873806882243"
     },
     "user_tz": 240
    },
    "id": "nQxF_-I8EoYr",
    "outputId": "81b21b5a-f4e3-4a68-a6ae-314b291c108b"
   },
   "outputs": [
    {
     "name": "stderr",
     "output_type": "stream",
     "text": [
      "/home/tanguy/.pyenv/versions/vibe/lib/python3.12/site-packages/xgboost/training.py:183: UserWarning: [16:37:34] WARNING: /workspace/src/learner.cc:738: \n",
      "Parameters: { \"use_label_encoder\" } are not used.\n",
      "\n",
      "  bst.update(dtrain, iteration=i, fobj=obj)\n"
     ]
    },
    {
     "name": "stdout",
     "output_type": "stream",
     "text": [
      "              precision    recall  f1-score   support\n",
      "\n",
      "           0       0.66      0.79      0.72       802\n",
      "           1       0.56      0.40      0.47       536\n",
      "\n",
      "    accuracy                           0.63      1338\n",
      "   macro avg       0.61      0.59      0.59      1338\n",
      "weighted avg       0.62      0.63      0.62      1338\n",
      "\n"
     ]
    }
   ],
   "source": [
    "y_jp = df[\"JP\"]\n",
    "X_train_jp, X_test_jp, y_train_jp, y_test_jp = train_test_split(X, y_jp, test_size=0.2, random_state=42)\n",
    "model_jp = XGBClassifier(use_label_encoder=False, eval_metric='logloss')\n",
    "model_jp.fit(X_train_jp, y_train_jp)\n",
    "y_pred_jp = model_jp.predict(X_test_jp)\n",
    "print(classification_report(y_test_jp, y_pred_jp))"
   ]
  },
  {
   "cell_type": "code",
   "execution_count": 35,
   "id": "q18365-DE0-X",
   "metadata": {
    "colab": {
     "base_uri": "https://localhost:8080/"
    },
    "executionInfo": {
     "elapsed": 6,
     "status": "ok",
     "timestamp": 1749218314409,
     "user": {
      "displayName": "richard tanguy",
      "userId": "17083172873806882243"
     },
     "user_tz": 240
    },
    "id": "q18365-DE0-X",
    "outputId": "4ec073e0-d680-4971-af5e-bfaf0638f851"
   },
   "outputs": [
    {
     "name": "stdout",
     "output_type": "stream",
     "text": [
      "inferior ne: 0.0096\n",
      "snowboarding: 0.0082\n",
      "se ni: 0.0064\n",
      "battery: 0.0063\n",
      "garlic: 0.0062\n",
      "cars: 0.0061\n",
      "come conclusion: 0.0061\n",
      "niss: 0.0055\n",
      "child: 0.0053\n",
      "wtf: 0.0053\n",
      "eventually: 0.0052\n",
      "job: 0.0051\n",
      "tini: 0.0051\n",
      "mechanic: 0.0051\n",
      "tbh: 0.0051\n",
      "don like: 0.0049\n",
      "wants: 0.0048\n",
      "guessing: 0.0047\n",
      "makes lot: 0.0043\n",
      "schedule: 0.0041\n"
     ]
    }
   ],
   "source": [
    "# Get feature importances\n",
    "importances_jp = model_ns.feature_importances_  # shape: (num_features,)\n",
    "\n",
    "# Get the vocabulary (i.e., words) from the vectorizer\n",
    "feature_names_jp = vectorizer.get_feature_names_out()\n",
    "\n",
    "# Combine words with importances\n",
    "word_importances_jp = list(zip(feature_names_jp, importances_jp))\n",
    "\n",
    "# Sort by importance\n",
    "word_importances_jp = sorted(word_importances_jp, key=lambda x: x[1], reverse=True)\n",
    "\n",
    "# Show top 20 most important words\n",
    "for word, importance in word_importances_jp[:20]:\n",
    "    print(f\"{word}: {importance:.4f}\")"
   ]
  },
  {
   "cell_type": "code",
   "execution_count": 36,
   "id": "fdDK6O1iFCp_",
   "metadata": {
    "executionInfo": {
     "elapsed": 4,
     "status": "ok",
     "timestamp": 1749218314432,
     "user": {
      "displayName": "richard tanguy",
      "userId": "17083172873806882243"
     },
     "user_tz": 240
    },
    "id": "fdDK6O1iFCp_"
   },
   "outputs": [],
   "source": [
    "ie_pred = ['i' if x == 1 else 'e' for x in y_pred_ie]\n",
    "ns_pred = ['n' if x == 1 else 's' for x in y_pred_ns]\n",
    "tf_pred = ['t' if x == 1 else 'f' for x in y_pred_tf]\n",
    "jp_pred = ['j' if x == 1 else 'p' for x in y_pred_jp]\n",
    "\n",
    "y_test_ie_l = ['i' if x == 1 else 'e' for x in y_test_ie]\n",
    "y_test_ns_l = ['n' if x == 1 else 's' for x in y_test_ns]\n",
    "y_test_tf_l = ['t' if x == 1 else 'f' for x in y_test_tf]\n",
    "y_test_jp_l = ['j' if x == 1 else 'p' for x in y_test_jp]"
   ]
  },
  {
   "cell_type": "code",
   "execution_count": 37,
   "id": "EeOJq6T7cEoK",
   "metadata": {
    "executionInfo": {
     "elapsed": 13,
     "status": "ok",
     "timestamp": 1749218314448,
     "user": {
      "displayName": "richard tanguy",
      "userId": "17083172873806882243"
     },
     "user_tz": 240
    },
    "id": "EeOJq6T7cEoK"
   },
   "outputs": [],
   "source": [
    "# Create DataFrame\n",
    "df_pred = pd.DataFrame({\n",
    "    'IE': ie_pred,\n",
    "    'NS': ns_pred,\n",
    "    'TF': tf_pred,\n",
    "    'JP': jp_pred,\n",
    "    'IE_test': y_test_ie_l,\n",
    "    'NS_test': y_test_ns_l,\n",
    "    'TF_test': y_test_tf_l,\n",
    "    'JP_test': y_test_jp_l\n",
    "})\n",
    "\n",
    "df_pred['MBTI'] = df_pred['IE'] + df_pred['NS'] + df_pred['TF'] + df_pred['JP']\n",
    "df_pred['MBTI_test'] = df_pred['IE_test'] + df_pred['NS_test'] + df_pred['TF_test'] + df_pred['JP_test']"
   ]
  },
  {
   "cell_type": "code",
   "execution_count": 38,
   "id": "YAJws5BYcazR",
   "metadata": {
    "colab": {
     "base_uri": "https://localhost:8080/",
     "height": 423
    },
    "executionInfo": {
     "elapsed": 20,
     "status": "ok",
     "timestamp": 1749218314470,
     "user": {
      "displayName": "richard tanguy",
      "userId": "17083172873806882243"
     },
     "user_tz": 240
    },
    "id": "YAJws5BYcazR",
    "outputId": "dc858998-203b-4ecf-a32f-defbd4b89ebf"
   },
   "outputs": [
    {
     "data": {
      "text/html": [
       "<div>\n",
       "<style scoped>\n",
       "    .dataframe tbody tr th:only-of-type {\n",
       "        vertical-align: middle;\n",
       "    }\n",
       "\n",
       "    .dataframe tbody tr th {\n",
       "        vertical-align: top;\n",
       "    }\n",
       "\n",
       "    .dataframe thead th {\n",
       "        text-align: right;\n",
       "    }\n",
       "</style>\n",
       "<table border=\"1\" class=\"dataframe\">\n",
       "  <thead>\n",
       "    <tr style=\"text-align: right;\">\n",
       "      <th></th>\n",
       "      <th>IE</th>\n",
       "      <th>NS</th>\n",
       "      <th>TF</th>\n",
       "      <th>JP</th>\n",
       "      <th>IE_test</th>\n",
       "      <th>NS_test</th>\n",
       "      <th>TF_test</th>\n",
       "      <th>JP_test</th>\n",
       "      <th>MBTI</th>\n",
       "      <th>MBTI_test</th>\n",
       "    </tr>\n",
       "  </thead>\n",
       "  <tbody>\n",
       "    <tr>\n",
       "      <th>0</th>\n",
       "      <td>i</td>\n",
       "      <td>n</td>\n",
       "      <td>f</td>\n",
       "      <td>p</td>\n",
       "      <td>i</td>\n",
       "      <td>n</td>\n",
       "      <td>f</td>\n",
       "      <td>p</td>\n",
       "      <td>infp</td>\n",
       "      <td>infp</td>\n",
       "    </tr>\n",
       "    <tr>\n",
       "      <th>1</th>\n",
       "      <td>e</td>\n",
       "      <td>n</td>\n",
       "      <td>f</td>\n",
       "      <td>p</td>\n",
       "      <td>e</td>\n",
       "      <td>n</td>\n",
       "      <td>f</td>\n",
       "      <td>p</td>\n",
       "      <td>enfp</td>\n",
       "      <td>enfp</td>\n",
       "    </tr>\n",
       "    <tr>\n",
       "      <th>2</th>\n",
       "      <td>i</td>\n",
       "      <td>n</td>\n",
       "      <td>t</td>\n",
       "      <td>p</td>\n",
       "      <td>i</td>\n",
       "      <td>n</td>\n",
       "      <td>f</td>\n",
       "      <td>j</td>\n",
       "      <td>intp</td>\n",
       "      <td>infj</td>\n",
       "    </tr>\n",
       "    <tr>\n",
       "      <th>3</th>\n",
       "      <td>i</td>\n",
       "      <td>n</td>\n",
       "      <td>t</td>\n",
       "      <td>p</td>\n",
       "      <td>i</td>\n",
       "      <td>n</td>\n",
       "      <td>t</td>\n",
       "      <td>p</td>\n",
       "      <td>intp</td>\n",
       "      <td>intp</td>\n",
       "    </tr>\n",
       "    <tr>\n",
       "      <th>4</th>\n",
       "      <td>i</td>\n",
       "      <td>n</td>\n",
       "      <td>t</td>\n",
       "      <td>j</td>\n",
       "      <td>e</td>\n",
       "      <td>n</td>\n",
       "      <td>t</td>\n",
       "      <td>p</td>\n",
       "      <td>intj</td>\n",
       "      <td>entp</td>\n",
       "    </tr>\n",
       "    <tr>\n",
       "      <th>...</th>\n",
       "      <td>...</td>\n",
       "      <td>...</td>\n",
       "      <td>...</td>\n",
       "      <td>...</td>\n",
       "      <td>...</td>\n",
       "      <td>...</td>\n",
       "      <td>...</td>\n",
       "      <td>...</td>\n",
       "      <td>...</td>\n",
       "      <td>...</td>\n",
       "    </tr>\n",
       "    <tr>\n",
       "      <th>1333</th>\n",
       "      <td>i</td>\n",
       "      <td>n</td>\n",
       "      <td>f</td>\n",
       "      <td>p</td>\n",
       "      <td>i</td>\n",
       "      <td>n</td>\n",
       "      <td>t</td>\n",
       "      <td>p</td>\n",
       "      <td>infp</td>\n",
       "      <td>intp</td>\n",
       "    </tr>\n",
       "    <tr>\n",
       "      <th>1334</th>\n",
       "      <td>e</td>\n",
       "      <td>n</td>\n",
       "      <td>f</td>\n",
       "      <td>j</td>\n",
       "      <td>i</td>\n",
       "      <td>n</td>\n",
       "      <td>f</td>\n",
       "      <td>j</td>\n",
       "      <td>enfj</td>\n",
       "      <td>infj</td>\n",
       "    </tr>\n",
       "    <tr>\n",
       "      <th>1335</th>\n",
       "      <td>i</td>\n",
       "      <td>n</td>\n",
       "      <td>t</td>\n",
       "      <td>p</td>\n",
       "      <td>i</td>\n",
       "      <td>n</td>\n",
       "      <td>t</td>\n",
       "      <td>p</td>\n",
       "      <td>intp</td>\n",
       "      <td>intp</td>\n",
       "    </tr>\n",
       "    <tr>\n",
       "      <th>1336</th>\n",
       "      <td>i</td>\n",
       "      <td>n</td>\n",
       "      <td>f</td>\n",
       "      <td>p</td>\n",
       "      <td>i</td>\n",
       "      <td>n</td>\n",
       "      <td>f</td>\n",
       "      <td>p</td>\n",
       "      <td>infp</td>\n",
       "      <td>infp</td>\n",
       "    </tr>\n",
       "    <tr>\n",
       "      <th>1337</th>\n",
       "      <td>i</td>\n",
       "      <td>n</td>\n",
       "      <td>f</td>\n",
       "      <td>p</td>\n",
       "      <td>i</td>\n",
       "      <td>n</td>\n",
       "      <td>f</td>\n",
       "      <td>p</td>\n",
       "      <td>infp</td>\n",
       "      <td>infp</td>\n",
       "    </tr>\n",
       "  </tbody>\n",
       "</table>\n",
       "<p>1338 rows × 10 columns</p>\n",
       "</div>"
      ],
      "text/plain": [
       "     IE NS TF JP IE_test NS_test TF_test JP_test  MBTI MBTI_test\n",
       "0     i  n  f  p       i       n       f       p  infp      infp\n",
       "1     e  n  f  p       e       n       f       p  enfp      enfp\n",
       "2     i  n  t  p       i       n       f       j  intp      infj\n",
       "3     i  n  t  p       i       n       t       p  intp      intp\n",
       "4     i  n  t  j       e       n       t       p  intj      entp\n",
       "...  .. .. .. ..     ...     ...     ...     ...   ...       ...\n",
       "1333  i  n  f  p       i       n       t       p  infp      intp\n",
       "1334  e  n  f  j       i       n       f       j  enfj      infj\n",
       "1335  i  n  t  p       i       n       t       p  intp      intp\n",
       "1336  i  n  f  p       i       n       f       p  infp      infp\n",
       "1337  i  n  f  p       i       n       f       p  infp      infp\n",
       "\n",
       "[1338 rows x 10 columns]"
      ]
     },
     "execution_count": 38,
     "metadata": {},
     "output_type": "execute_result"
    }
   ],
   "source": [
    "df_pred"
   ]
  },
  {
   "cell_type": "code",
   "execution_count": 39,
   "id": "c76a5NkEdGUD",
   "metadata": {
    "colab": {
     "base_uri": "https://localhost:8080/"
    },
    "executionInfo": {
     "elapsed": 8,
     "status": "ok",
     "timestamp": 1749218314479,
     "user": {
      "displayName": "richard tanguy",
      "userId": "17083172873806882243"
     },
     "user_tz": 240
    },
    "id": "c76a5NkEdGUD",
    "outputId": "dd90a26a-86ad-41c4-8501-89b27222b8b7"
   },
   "outputs": [
    {
     "name": "stdout",
     "output_type": "stream",
     "text": [
      "Pourcentage de MBTI correctement prédits : 31.84%\n"
     ]
    }
   ],
   "source": [
    "accuracy = (df_pred['MBTI'] == df_pred['MBTI_test']).mean() * 100\n",
    "\n",
    "print(f\"Pourcentage de MBTI correctement prédits : {accuracy:.2f}%\")"
   ]
  },
  {
   "cell_type": "code",
   "execution_count": 40,
   "id": "u88YVrbqeIdK",
   "metadata": {
    "colab": {
     "base_uri": "https://localhost:8080/"
    },
    "executionInfo": {
     "elapsed": 61,
     "status": "ok",
     "timestamp": 1749218314543,
     "user": {
      "displayName": "richard tanguy",
      "userId": "17083172873806882243"
     },
     "user_tz": 240
    },
    "id": "u88YVrbqeIdK",
    "outputId": "6880e8f9-a826-4de0-999c-344535ce7a5c"
   },
   "outputs": [
    {
     "name": "stdout",
     "output_type": "stream",
     "text": [
      "Pourcentage de IE correctement prédits : 78.62%\n",
      "Pourcentage de NS correctement prédits : 86.32%\n",
      "Pourcentage de TF correctement prédits : 75.04%\n",
      "Pourcentage de JP correctement prédits : 63.30%\n"
     ]
    }
   ],
   "source": [
    "accuracy_ie = (df_pred['IE'] == df_pred['IE_test']).mean() * 100\n",
    "accuracy_ns = (df_pred['NS'] == df_pred['NS_test']).mean() * 100\n",
    "accuracy_tf = (df_pred['TF'] == df_pred['TF_test']).mean() * 100\n",
    "accuracy_jp = (df_pred['JP'] == df_pred['JP_test']).mean() * 100\n",
    "\n",
    "\n",
    "print(f\"Pourcentage de IE correctement prédits : {accuracy_ie:.2f}%\")\n",
    "print(f\"Pourcentage de NS correctement prédits : {accuracy_ns:.2f}%\")\n",
    "print(f\"Pourcentage de TF correctement prédits : {accuracy_tf:.2f}%\")\n",
    "print(f\"Pourcentage de JP correctement prédits : {accuracy_jp:.2f}%\")"
   ]
  },
  {
   "cell_type": "code",
   "execution_count": 41,
   "id": "SsVS-RUTeVgG",
   "metadata": {
    "executionInfo": {
     "elapsed": 2,
     "status": "ok",
     "timestamp": 1749218314548,
     "user": {
      "displayName": "richard tanguy",
      "userId": "17083172873806882243"
     },
     "user_tz": 240
    },
    "id": "SsVS-RUTeVgG"
   },
   "outputs": [],
   "source": [
    "df_last_model = pd.DataFrame({\n",
    "        'IE': y_pred_ie,\n",
    "        'NS': y_pred_ns,\n",
    "        'TF': y_pred_tf,\n",
    "        'JP': y_pred_jp,\n",
    "        'IE_test': y_test_ie,\n",
    "        'NS_test': y_test_ns,\n",
    "        'TF_test': y_test_tf,\n",
    "        'JP_test': y_test_jp\n",
    "    })"
   ]
  },
  {
   "cell_type": "code",
   "execution_count": 42,
   "id": "dJUsh4s1ffr2",
   "metadata": {
    "colab": {
     "base_uri": "https://localhost:8080/",
     "height": 423
    },
    "executionInfo": {
     "elapsed": 18,
     "status": "ok",
     "timestamp": 1749218314567,
     "user": {
      "displayName": "richard tanguy",
      "userId": "17083172873806882243"
     },
     "user_tz": 240
    },
    "id": "dJUsh4s1ffr2",
    "outputId": "8e3ab26c-0afb-4345-857e-d72298a9f5aa"
   },
   "outputs": [
    {
     "data": {
      "text/html": [
       "<div>\n",
       "<style scoped>\n",
       "    .dataframe tbody tr th:only-of-type {\n",
       "        vertical-align: middle;\n",
       "    }\n",
       "\n",
       "    .dataframe tbody tr th {\n",
       "        vertical-align: top;\n",
       "    }\n",
       "\n",
       "    .dataframe thead th {\n",
       "        text-align: right;\n",
       "    }\n",
       "</style>\n",
       "<table border=\"1\" class=\"dataframe\">\n",
       "  <thead>\n",
       "    <tr style=\"text-align: right;\">\n",
       "      <th></th>\n",
       "      <th>IE</th>\n",
       "      <th>NS</th>\n",
       "      <th>TF</th>\n",
       "      <th>JP</th>\n",
       "      <th>IE_test</th>\n",
       "      <th>NS_test</th>\n",
       "      <th>TF_test</th>\n",
       "      <th>JP_test</th>\n",
       "    </tr>\n",
       "  </thead>\n",
       "  <tbody>\n",
       "    <tr>\n",
       "      <th>247</th>\n",
       "      <td>1</td>\n",
       "      <td>1</td>\n",
       "      <td>0</td>\n",
       "      <td>0</td>\n",
       "      <td>1</td>\n",
       "      <td>1</td>\n",
       "      <td>0</td>\n",
       "      <td>0</td>\n",
       "    </tr>\n",
       "    <tr>\n",
       "      <th>2464</th>\n",
       "      <td>0</td>\n",
       "      <td>1</td>\n",
       "      <td>0</td>\n",
       "      <td>0</td>\n",
       "      <td>0</td>\n",
       "      <td>1</td>\n",
       "      <td>0</td>\n",
       "      <td>0</td>\n",
       "    </tr>\n",
       "    <tr>\n",
       "      <th>6081</th>\n",
       "      <td>1</td>\n",
       "      <td>1</td>\n",
       "      <td>1</td>\n",
       "      <td>0</td>\n",
       "      <td>1</td>\n",
       "      <td>1</td>\n",
       "      <td>0</td>\n",
       "      <td>1</td>\n",
       "    </tr>\n",
       "    <tr>\n",
       "      <th>5944</th>\n",
       "      <td>1</td>\n",
       "      <td>1</td>\n",
       "      <td>1</td>\n",
       "      <td>0</td>\n",
       "      <td>1</td>\n",
       "      <td>1</td>\n",
       "      <td>1</td>\n",
       "      <td>0</td>\n",
       "    </tr>\n",
       "    <tr>\n",
       "      <th>6566</th>\n",
       "      <td>1</td>\n",
       "      <td>1</td>\n",
       "      <td>1</td>\n",
       "      <td>1</td>\n",
       "      <td>0</td>\n",
       "      <td>1</td>\n",
       "      <td>1</td>\n",
       "      <td>0</td>\n",
       "    </tr>\n",
       "    <tr>\n",
       "      <th>...</th>\n",
       "      <td>...</td>\n",
       "      <td>...</td>\n",
       "      <td>...</td>\n",
       "      <td>...</td>\n",
       "      <td>...</td>\n",
       "      <td>...</td>\n",
       "      <td>...</td>\n",
       "      <td>...</td>\n",
       "    </tr>\n",
       "    <tr>\n",
       "      <th>5922</th>\n",
       "      <td>1</td>\n",
       "      <td>1</td>\n",
       "      <td>0</td>\n",
       "      <td>0</td>\n",
       "      <td>1</td>\n",
       "      <td>1</td>\n",
       "      <td>1</td>\n",
       "      <td>0</td>\n",
       "    </tr>\n",
       "    <tr>\n",
       "      <th>4864</th>\n",
       "      <td>0</td>\n",
       "      <td>1</td>\n",
       "      <td>0</td>\n",
       "      <td>1</td>\n",
       "      <td>1</td>\n",
       "      <td>1</td>\n",
       "      <td>0</td>\n",
       "      <td>1</td>\n",
       "    </tr>\n",
       "    <tr>\n",
       "      <th>1760</th>\n",
       "      <td>1</td>\n",
       "      <td>1</td>\n",
       "      <td>1</td>\n",
       "      <td>0</td>\n",
       "      <td>1</td>\n",
       "      <td>1</td>\n",
       "      <td>1</td>\n",
       "      <td>0</td>\n",
       "    </tr>\n",
       "    <tr>\n",
       "      <th>807</th>\n",
       "      <td>1</td>\n",
       "      <td>1</td>\n",
       "      <td>0</td>\n",
       "      <td>0</td>\n",
       "      <td>1</td>\n",
       "      <td>1</td>\n",
       "      <td>0</td>\n",
       "      <td>0</td>\n",
       "    </tr>\n",
       "    <tr>\n",
       "      <th>462</th>\n",
       "      <td>1</td>\n",
       "      <td>1</td>\n",
       "      <td>0</td>\n",
       "      <td>0</td>\n",
       "      <td>1</td>\n",
       "      <td>1</td>\n",
       "      <td>0</td>\n",
       "      <td>0</td>\n",
       "    </tr>\n",
       "  </tbody>\n",
       "</table>\n",
       "<p>1338 rows × 8 columns</p>\n",
       "</div>"
      ],
      "text/plain": [
       "      IE  NS  TF  JP  IE_test  NS_test  TF_test  JP_test\n",
       "247    1   1   0   0        1        1        0        0\n",
       "2464   0   1   0   0        0        1        0        0\n",
       "6081   1   1   1   0        1        1        0        1\n",
       "5944   1   1   1   0        1        1        1        0\n",
       "6566   1   1   1   1        0        1        1        0\n",
       "...   ..  ..  ..  ..      ...      ...      ...      ...\n",
       "5922   1   1   0   0        1        1        1        0\n",
       "4864   0   1   0   1        1        1        0        1\n",
       "1760   1   1   1   0        1        1        1        0\n",
       "807    1   1   0   0        1        1        0        0\n",
       "462    1   1   0   0        1        1        0        0\n",
       "\n",
       "[1338 rows x 8 columns]"
      ]
     },
     "execution_count": 42,
     "metadata": {},
     "output_type": "execute_result"
    }
   ],
   "source": [
    "df_last_model"
   ]
  },
  {
   "cell_type": "code",
   "execution_count": 43,
   "id": "e9hZlwgWnf0m",
   "metadata": {
    "colab": {
     "base_uri": "https://localhost:8080/",
     "height": 487
    },
    "executionInfo": {
     "elapsed": 35,
     "status": "ok",
     "timestamp": 1749219982892,
     "user": {
      "displayName": "richard tanguy",
      "userId": "17083172873806882243"
     },
     "user_tz": 240
    },
    "id": "e9hZlwgWnf0m",
    "outputId": "3ba6acff-5821-4432-e252-ba12f3442dfc"
   },
   "outputs": [
    {
     "data": {
      "image/png": "[encoded data removed]",
      "text/plain": [
       "<Figure size 640x480 with 1 Axes>"
      ]
     },
     "metadata": {},
     "output_type": "display_data"
    }
   ],
   "source": [
    "# Count the values of 0 and 1 for prediction and true labels\n",
    "ie_pred_counts = df_last_model['IE'].value_counts().sort_index()\n",
    "ie_test_counts = df_last_model['IE_test'].value_counts().sort_index()\n",
    "\n",
    "# Define labels\n",
    "labels = ['e (0)', 'i (1)']\n",
    "x = range(len(labels))\n",
    "\n",
    "# Bar plot side by side\n",
    "plt.bar([i - 0.2 for i in x], [ie_test_counts.get(i, 0) for i in range(2)], width=0.4, label='IE_test')\n",
    "plt.bar([i + 0.2 for i in x], [ie_pred_counts.get(i, 0) for i in range(2)], width=0.4, label='IE_pred')\n",
    "\n",
    "plt.xticks(x, labels)\n",
    "plt.xlabel('MBTI - IE dimension')\n",
    "plt.ylabel('Count')\n",
    "plt.title('Comparison of Predicted vs True IE values')\n",
    "plt.legend()\n",
    "plt.grid(axis='y', linestyle='--', alpha=0.7)\n",
    "plt.tight_layout()\n",
    "plt.show()"
   ]
  },
  {
   "cell_type": "code",
   "execution_count": 44,
   "id": "KxuxmcLvoY2b",
   "metadata": {
    "colab": {
     "base_uri": "https://localhost:8080/",
     "height": 487
    },
    "executionInfo": {
     "elapsed": 25,
     "status": "ok",
     "timestamp": 1749220080847,
     "user": {
      "displayName": "richard tanguy",
      "userId": "17083172873806882243"
     },
     "user_tz": 240
    },
    "id": "KxuxmcLvoY2b",
    "outputId": "4421d51a-c9b8-48e2-da32-2b45977a22f5"
   },
   "outputs": [
    {
     "data": {
      "image/png": "[encoded data removed]",
      "text/plain": [
       "<Figure size 640x480 with 1 Axes>"
      ]
     },
     "metadata": {},
     "output_type": "display_data"
    }
   ],
   "source": [
    "# Count the values of 0 and 1 for prediction and true labels\n",
    "ns_pred_counts = df_last_model['NS'].value_counts().sort_index()\n",
    "ns_test_counts = df_last_model['NS_test'].value_counts().sort_index()\n",
    "\n",
    "# Define labels\n",
    "labels = ['s (0)', 'e (1)']\n",
    "x = range(len(labels))\n",
    "\n",
    "# Bar plot side by side\n",
    "plt.bar([i - 0.2 for i in x], [ns_test_counts.get(i, 0) for i in range(2)], width=0.4, label='NS_test')\n",
    "plt.bar([i + 0.2 for i in x], [ns_pred_counts.get(i, 0) for i in range(2)], width=0.4, label='NS_pred')\n",
    "\n",
    "plt.xticks(x, labels)\n",
    "plt.xlabel('MBTI - NS dimension')\n",
    "plt.ylabel('Count')\n",
    "plt.title('Comparison of Predicted vs True NS values')\n",
    "plt.legend()\n",
    "plt.grid(axis='y', linestyle='--', alpha=0.7)\n",
    "plt.tight_layout()\n",
    "plt.show()"
   ]
  },
  {
   "cell_type": "code",
   "execution_count": 45,
   "id": "Jz5TN2j5o8Y8",
   "metadata": {
    "colab": {
     "base_uri": "https://localhost:8080/",
     "height": 487
    },
    "executionInfo": {
     "elapsed": 146,
     "status": "ok",
     "timestamp": 1749220210855,
     "user": {
      "displayName": "richard tanguy",
      "userId": "17083172873806882243"
     },
     "user_tz": 240
    },
    "id": "Jz5TN2j5o8Y8",
    "outputId": "fff1e9b3-d668-4095-a5cd-527f584a4368"
   },
   "outputs": [
    {
     "data": {
      "image/png": "[encoded data removed]",
      "text/plain": [
       "<Figure size 640x480 with 1 Axes>"
      ]
     },
     "metadata": {},
     "output_type": "display_data"
    }
   ],
   "source": [
    "# Count the values of 0 and 1 for prediction and true labels\n",
    "tf_pred_counts = df_last_model['TF'].value_counts().sort_index()\n",
    "tf_test_counts = df_last_model['TF_test'].value_counts().sort_index()\n",
    "\n",
    "# Define labels\n",
    "labels = ['f (0)', 't (1)']\n",
    "x = range(len(labels))\n",
    "\n",
    "# Bar plot side by side\n",
    "plt.bar([i - 0.2 for i in x], [tf_test_counts.get(i, 0) for i in range(2)], width=0.4, label='TF_test')\n",
    "plt.bar([i + 0.2 for i in x], [tf_pred_counts.get(i, 0) for i in range(2)], width=0.4, label='TF_pred')\n",
    "\n",
    "plt.xticks(x, labels)\n",
    "plt.xlabel('MBTI - TF dimension')\n",
    "plt.ylabel('Count')\n",
    "plt.title('Comparison of Predicted vs True TF values')\n",
    "plt.legend()\n",
    "plt.grid(axis='y', linestyle='--', alpha=0.7)\n",
    "plt.tight_layout()\n",
    "plt.show()"
   ]
  },
  {
   "cell_type": "code",
   "execution_count": 46,
   "id": "oc_-Bkojpjao",
   "metadata": {
    "colab": {
     "base_uri": "https://localhost:8080/",
     "height": 487
    },
    "executionInfo": {
     "elapsed": 52,
     "status": "ok",
     "timestamp": 1749220266926,
     "user": {
      "displayName": "richard tanguy",
      "userId": "17083172873806882243"
     },
     "user_tz": 240
    },
    "id": "oc_-Bkojpjao",
    "outputId": "f0b40c66-bc1b-4a2d-a4aa-c9733543dfb8"
   },
   "outputs": [
    {
     "data": {
      "image/png": "[encoded data removed]",
      "text/plain": [
       "<Figure size 640x480 with 1 Axes>"
      ]
     },
     "metadata": {},
     "output_type": "display_data"
    }
   ],
   "source": [
    "# Count the values of 0 and 1 for prediction and true labels\n",
    "jp_pred_counts = df_last_model['JP'].value_counts().sort_index()\n",
    "jp_test_counts = df_last_model['JP_test'].value_counts().sort_index()\n",
    "\n",
    "# Define labels\n",
    "labels = ['p (0)', 'j (1)']\n",
    "x = range(len(labels))\n",
    "\n",
    "# Bar plot side by side\n",
    "plt.bar([i - 0.2 for i in x], [jp_test_counts.get(i, 0) for i in range(2)], width=0.4, label='JP_test')\n",
    "plt.bar([i + 0.2 for i in x], [jp_pred_counts.get(i, 0) for i in range(2)], width=0.4, label='JP_pred')\n",
    "\n",
    "plt.xticks(x, labels)\n",
    "plt.xlabel('MBTI - JP dimension')\n",
    "plt.ylabel('Count')\n",
    "plt.title('Comparison of Predicted vs True JP values')\n",
    "plt.legend()\n",
    "plt.grid(axis='y', linestyle='--', alpha=0.7)\n",
    "plt.tight_layout()\n",
    "plt.show()"
   ]
  },
  {
   "cell_type": "code",
   "execution_count": null,
   "id": "wzN7Gv2xpxGY",
   "metadata": {
    "id": "wzN7Gv2xpxGY"
   },
   "outputs": [],
   "source": []
  }
 ],
 "metadata": {
  "accelerator": "GPU",
  "colab": {
   "gpuType": "A100",
   "machine_shape": "hm",
   "provenance": []
  },
  "kernelspec": {
   "display_name": "vibe",
   "language": "python",
   "name": "python3"
  },
  "language_info": {
   "codemirror_mode": {
    "name": "ipython",
    "version": 3
   },
   "file_extension": ".py",
   "mimetype": "text/x-python",
   "name": "python",
   "nbconvert_exporter": "python",
   "pygments_lexer": "ipython3",
   "version": "3.12.9"
  }
 },
 "nbformat": 4,
 "nbformat_minor": 5
}
