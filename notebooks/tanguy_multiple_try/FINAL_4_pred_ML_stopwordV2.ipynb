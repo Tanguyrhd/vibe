{
 "cells": [
  {
   "cell_type": "code",
   "execution_count": 1,
   "id": "8ae97ae7",
   "metadata": {
    "executionInfo": {
     "elapsed": 15,
     "status": "ok",
     "timestamp": 1749218068009,
     "user": {
      "displayName": "richard tanguy",
      "userId": "17083172873806882243"
     },
     "user_tz": 240
    },
    "id": "8ae97ae7"
   },
   "outputs": [
    {
     "name": "stderr",
     "output_type": "stream",
     "text": [
      "2025-06-06 13:45:11.264315: I external/local_xla/xla/tsl/cuda/cudart_stub.cc:32] Could not find cuda drivers on your machine, GPU will not be used.\n",
      "2025-06-06 13:45:11.476341: I external/local_xla/xla/tsl/cuda/cudart_stub.cc:32] Could not find cuda drivers on your machine, GPU will not be used.\n",
      "2025-06-06 13:45:11.655788: E external/local_xla/xla/stream_executor/cuda/cuda_fft.cc:467] Unable to register cuFFT factory: Attempting to register factory for plugin cuFFT when one has already been registered\n",
      "WARNING: All log messages before absl::InitializeLog() is called are written to STDERR\n",
      "E0000 00:00:1749231911.822350   78237 cuda_dnn.cc:8579] Unable to register cuDNN factory: Attempting to register factory for plugin cuDNN when one has already been registered\n",
      "E0000 00:00:1749231911.865459   78237 cuda_blas.cc:1407] Unable to register cuBLAS factory: Attempting to register factory for plugin cuBLAS when one has already been registered\n",
      "W0000 00:00:1749231912.229175   78237 computation_placer.cc:177] computation placer already registered. Please check linkage and avoid linking the same target more than once.\n",
      "W0000 00:00:1749231912.229202   78237 computation_placer.cc:177] computation placer already registered. Please check linkage and avoid linking the same target more than once.\n",
      "W0000 00:00:1749231912.229203   78237 computation_placer.cc:177] computation placer already registered. Please check linkage and avoid linking the same target more than once.\n",
      "W0000 00:00:1749231912.229204   78237 computation_placer.cc:177] computation placer already registered. Please check linkage and avoid linking the same target more than once.\n",
      "2025-06-06 13:45:12.271712: I tensorflow/core/platform/cpu_feature_guard.cc:210] This TensorFlow binary is optimized to use available CPU instructions in performance-critical operations.\n",
      "To enable the following instructions: AVX2 FMA, in other operations, rebuild TensorFlow with the appropriate compiler flags.\n",
      "/home/tanguy/.pyenv/versions/vibe/lib/python3.12/site-packages/tqdm/auto.py:21: TqdmWarning: IProgress not found. Please update jupyter and ipywidgets. See https://ipywidgets.readthedocs.io/en/stable/user_install.html\n",
      "  from .autonotebook import tqdm as notebook_tqdm\n"
     ]
    }
   ],
   "source": [
    "import pandas as pd\n",
    "from sklearn.model_selection import train_test_split\n",
    "import tensorflow as tf\n",
    "from transformers import AutoTokenizer, AutoModel\n",
    "import numpy as np\n",
    "from sklearn.metrics import classification_report\n",
    "from sklearn.utils import class_weight"
   ]
  },
  {
   "cell_type": "code",
   "execution_count": 2,
   "id": "kBwV3tr84VNH",
   "metadata": {
    "colab": {
     "base_uri": "https://localhost:8080/"
    },
    "executionInfo": {
     "elapsed": 644,
     "status": "ok",
     "timestamp": 1749218068655,
     "user": {
      "displayName": "richard tanguy",
      "userId": "17083172873806882243"
     },
     "user_tz": 240
    },
    "id": "kBwV3tr84VNH",
    "outputId": "d6ede492-42f5-4cc8-aebb-6250d0bd9590"
   },
   "outputs": [],
   "source": [
    "# from google.colab import drive\n",
    "# drive.mount('/content/drive')"
   ]
  },
  {
   "cell_type": "code",
   "execution_count": 3,
   "id": "441a4843",
   "metadata": {
    "executionInfo": {
     "elapsed": 1049,
     "status": "ok",
     "timestamp": 1749218069703,
     "user": {
      "displayName": "richard tanguy",
      "userId": "17083172873806882243"
     },
     "user_tz": 240
    },
    "id": "441a4843"
   },
   "outputs": [],
   "source": [
    "df = pd.read_csv('../../raw_data/twitter_MBTI.csv')"
   ]
  },
  {
   "cell_type": "code",
   "execution_count": 4,
   "id": "44eab20b",
   "metadata": {
    "executionInfo": {
     "elapsed": 5,
     "status": "ok",
     "timestamp": 1749218069709,
     "user": {
      "displayName": "richard tanguy",
      "userId": "17083172873806882243"
     },
     "user_tz": 240
    },
    "id": "44eab20b"
   },
   "outputs": [],
   "source": [
    "df = df[['text', 'label']]  # Keep only what's necessary\n",
    "df.dropna(inplace=True)     # Drop rows with missing values"
   ]
  },
  {
   "cell_type": "code",
   "execution_count": 5,
   "id": "642b7948",
   "metadata": {
    "executionInfo": {
     "elapsed": 3,
     "status": "ok",
     "timestamp": 1749218069726,
     "user": {
      "displayName": "richard tanguy",
      "userId": "17083172873806882243"
     },
     "user_tz": 240
    },
    "id": "642b7948"
   },
   "outputs": [],
   "source": [
    "# Create one binary column for each MBTI letter\n",
    "df['IE'] = df['label'].apply(lambda x: 1 if x[0] == 'i' else 0)\n",
    "df['NS'] = df['label'].apply(lambda x: 1 if x[1] == 'n' else 0)\n",
    "df['TF'] = df['label'].apply(lambda x: 1 if x[2] == 't' else 0)\n",
    "df['JP'] = df['label'].apply(lambda x: 1 if x[3] == 'j' else 0)"
   ]
  },
  {
   "cell_type": "code",
   "execution_count": 6,
   "id": "e7dca216",
   "metadata": {
    "executionInfo": {
     "elapsed": 2,
     "status": "ok",
     "timestamp": 1749218069737,
     "user": {
      "displayName": "richard tanguy",
      "userId": "17083172873806882243"
     },
     "user_tz": 240
    },
    "id": "e7dca216"
   },
   "outputs": [],
   "source": [
    "# import re\n",
    "\n",
    "# def clean_posts(text):\n",
    "#     # Sépare les tweets si concaténés par ||||\n",
    "#     tweets = text.split(\"||||\")\n",
    "\n",
    "#     cleaned = []\n",
    "#     for tweet in tweets:\n",
    "#         # Supprime les mentions @utilisateur\n",
    "#         tweet = re.sub(r'@\\w+', '', tweet)\n",
    "#         # Supprime les liens\n",
    "#         tweet = re.sub(r'http\\S+', '', tweet)\n",
    "#         # Supprime les caractères non alphabétiques (en gardant les espaces)\n",
    "#         tweet = re.sub(r'[^a-zA-Z\\s]', '', tweet)\n",
    "#         # Met en minuscules\n",
    "#         tweet = tweet.lower()\n",
    "#         # Supprime les espaces multiples\n",
    "#         tweet = re.sub(r'\\s+', ' ', tweet).strip()\n",
    "#         cleaned.append(tweet)\n",
    "\n",
    "#     # Rejoint les tweets nettoyés en une seule chaîne\n",
    "#     return \". \".join(cleaned)"
   ]
  },
  {
   "cell_type": "code",
   "execution_count": 7,
   "id": "a06baa14",
   "metadata": {},
   "outputs": [],
   "source": [
    "import re\n",
    "\n",
    "def clean_posts(text):\n",
    "    # Split the tweets on ||||\n",
    "    tweets = text.split(\"|||\")\n",
    "    cleaned = []\n",
    "\n",
    "    for tweet in tweets:\n",
    "        # Remove mentions\n",
    "        tweet = re.sub(r'@\\w+', '', tweet)\n",
    "        # Remove URLs\n",
    "        tweet = re.sub(r'http\\S+', '', tweet)\n",
    "        # Normalize unicode quotes and dashes (optional)\n",
    "        tweet = tweet.replace('’', \"'\").replace('“', '\"').replace('”', '\"')\n",
    "        # Keep basic punctuation, remove other non-letter characters\n",
    "        tweet = re.sub(r'[^a-zA-Z0-9\\s.,!?\\'\"]', '', tweet)\n",
    "        # Remove extra whitespace\n",
    "        tweet = re.sub(r'\\s+', ' ', tweet).strip()\n",
    "        # Lowercase\n",
    "        tweet = tweet.lower()\n",
    "        # Append only if not empty\n",
    "        if tweet:\n",
    "            cleaned.append(tweet)\n",
    "\n",
    "    # Join tweets with a period and line break for readability\n",
    "    return \". \".join(cleaned)"
   ]
  },
  {
   "cell_type": "code",
   "execution_count": 8,
   "id": "Fqq_CRygvBYe",
   "metadata": {
    "executionInfo": {
     "elapsed": 5424,
     "status": "ok",
     "timestamp": 1749218075165,
     "user": {
      "displayName": "richard tanguy",
      "userId": "17083172873806882243"
     },
     "user_tz": 240
    },
    "id": "Fqq_CRygvBYe"
   },
   "outputs": [],
   "source": [
    "df['clean_text'] = df['text'].apply(clean_posts)"
   ]
  },
  {
   "cell_type": "code",
   "execution_count": 9,
   "id": "OVF5yeEhwBXI",
   "metadata": {
    "colab": {
     "base_uri": "https://localhost:8080/",
     "height": 206
    },
    "executionInfo": {
     "elapsed": 1153,
     "status": "ok",
     "timestamp": 1749218076317,
     "user": {
      "displayName": "richard tanguy",
      "userId": "17083172873806882243"
     },
     "user_tz": 240
    },
    "id": "OVF5yeEhwBXI",
    "outputId": "921062ab-ac9d-4d69-b5f3-3bf4ff928118"
   },
   "outputs": [
    {
     "data": {
      "text/html": [
       "<div>\n",
       "<style scoped>\n",
       "    .dataframe tbody tr th:only-of-type {\n",
       "        vertical-align: middle;\n",
       "    }\n",
       "\n",
       "    .dataframe tbody tr th {\n",
       "        vertical-align: top;\n",
       "    }\n",
       "\n",
       "    .dataframe thead th {\n",
       "        text-align: right;\n",
       "    }\n",
       "</style>\n",
       "<table border=\"1\" class=\"dataframe\">\n",
       "  <thead>\n",
       "    <tr style=\"text-align: right;\">\n",
       "      <th></th>\n",
       "      <th>text</th>\n",
       "      <th>label</th>\n",
       "      <th>IE</th>\n",
       "      <th>NS</th>\n",
       "      <th>TF</th>\n",
       "      <th>JP</th>\n",
       "      <th>clean_text</th>\n",
       "    </tr>\n",
       "  </thead>\n",
       "  <tbody>\n",
       "    <tr>\n",
       "      <th>0</th>\n",
       "      <td>@Pericles216 @HierBeforeTheAC @Sachinettiyil T...</td>\n",
       "      <td>intj</td>\n",
       "      <td>1</td>\n",
       "      <td>1</td>\n",
       "      <td>1</td>\n",
       "      <td>1</td>\n",
       "      <td>the pope is infallible, this is a catholic dog...</td>\n",
       "    </tr>\n",
       "    <tr>\n",
       "      <th>1</th>\n",
       "      <td>@Hispanthicckk Being you makes you look cute||...</td>\n",
       "      <td>intj</td>\n",
       "      <td>1</td>\n",
       "      <td>1</td>\n",
       "      <td>1</td>\n",
       "      <td>1</td>\n",
       "      <td>being you makes you look cute. on, because the...</td>\n",
       "    </tr>\n",
       "    <tr>\n",
       "      <th>2</th>\n",
       "      <td>@Alshymi Les balles sont réelles et sont tirée...</td>\n",
       "      <td>intj</td>\n",
       "      <td>1</td>\n",
       "      <td>1</td>\n",
       "      <td>1</td>\n",
       "      <td>1</td>\n",
       "      <td>les balles sont relles et sont tires trs rapid...</td>\n",
       "    </tr>\n",
       "    <tr>\n",
       "      <th>3</th>\n",
       "      <td>I'm like entp but idiotic|||Hey boy, do you wa...</td>\n",
       "      <td>intj</td>\n",
       "      <td>1</td>\n",
       "      <td>1</td>\n",
       "      <td>1</td>\n",
       "      <td>1</td>\n",
       "      <td>i'm like entp but idiotic. hey boy, do you wan...</td>\n",
       "    </tr>\n",
       "    <tr>\n",
       "      <th>4</th>\n",
       "      <td>@kaeshurr1 Give it to @ZargarShanif ... He has...</td>\n",
       "      <td>intj</td>\n",
       "      <td>1</td>\n",
       "      <td>1</td>\n",
       "      <td>1</td>\n",
       "      <td>1</td>\n",
       "      <td>give it to ... he has pica since childhood. sa...</td>\n",
       "    </tr>\n",
       "  </tbody>\n",
       "</table>\n",
       "</div>"
      ],
      "text/plain": [
       "                                                text label  IE  NS  TF  JP  \\\n",
       "0  @Pericles216 @HierBeforeTheAC @Sachinettiyil T...  intj   1   1   1   1   \n",
       "1  @Hispanthicckk Being you makes you look cute||...  intj   1   1   1   1   \n",
       "2  @Alshymi Les balles sont réelles et sont tirée...  intj   1   1   1   1   \n",
       "3  I'm like entp but idiotic|||Hey boy, do you wa...  intj   1   1   1   1   \n",
       "4  @kaeshurr1 Give it to @ZargarShanif ... He has...  intj   1   1   1   1   \n",
       "\n",
       "                                          clean_text  \n",
       "0  the pope is infallible, this is a catholic dog...  \n",
       "1  being you makes you look cute. on, because the...  \n",
       "2  les balles sont relles et sont tires trs rapid...  \n",
       "3  i'm like entp but idiotic. hey boy, do you wan...  \n",
       "4  give it to ... he has pica since childhood. sa...  "
      ]
     },
     "execution_count": 9,
     "metadata": {},
     "output_type": "execute_result"
    }
   ],
   "source": [
    "df.head()"
   ]
  },
  {
   "cell_type": "code",
   "execution_count": 10,
   "id": "ca5b700b",
   "metadata": {},
   "outputs": [
    {
     "name": "stdout",
     "output_type": "stream",
     "text": [
      "sin. he wants to take a ride on the wild side... but with plushies.. i disagree that they are being presented as unproblematic. i think t. i think there's a reason it's problematic. we're not looking through a lens of norma. do you think they gonna show up for jinki?. manifest it!. i want him to disrespect all over me.... disrespect!. behave!. .... you'd let him touch yer butt.. welp you know what i am going to do.. i am less than average. only the chicago river. the disrespect!. could you imagine me without a budget.... if anyone gets a line on be the sun pickets, specifically vernon, please give me a heads up. thanks!. looking cute as always!. he'll be good in the wind and the rain.... like when the dimples come out it's like sir... ask for anything.. i'm happy when people do what brings them joy. if it's a book, a film, listening to music or just taking a walk do. oh. he's rude.. we all want to get a grip.... i've been around for so many.. dirty ones.. love as thou wilt.. if only for the protein. right?. honey, you know this is the \"safe\" photo.. i am not a big gg kpop enjoyer.. welp. you know what i am doing.. sin your name is changkyun.. i am on a magazine no buy... but one does what one must.. you know how i feel about vernon. speak to me. look what i just got for the concert.. tomorrow is sunday, but god is good everyday. i love you toya. to the moon and back.. so cute. anitra all the ass talk. watch us get caught up with btob i brought out the big bottle of wine, but i haven't got tipsy yet!. all of lucas!. sir?. i want superm lucas back . . . . and nct lucas. but i am in my superm feels.. me too! he's coming back. i know it.. my all!. oh my don't pop the idols!. i have a big heart, but me and jinyoung had that moment.... oh she's running with all the angels.. i can't agree at all, but everyone's taste is different. lol. omg you are showing me magazine shots. not my weakness. i may be thinking thoughts.. um. i have not really got into wei enough, but.... this is a safe space for all that's inappropriate. and its just like honey when your love comes over me oh baby, i've got a dependency always strung out. sign language asl specifically korean mandarin spanish english. um. i need some water i think.. vicious words hurt like a bullet.. she's like \"i made this, you're welcome\" peace!. um.. seunghun's pretty should be on your tl.. why does jooheon make me instantly think of mariah carey hits?. nope.. oh when you walk by every night talkin sweet and lookin' fine i get kinda hectic inside mm baby i'm so into you dar. nothing low key about my love for vernon. lol even if he's not your bias... he's a bias.. i love his face.. he owns the fountain that the sm water comes from.. maybe they just think you and the husband have a good relationship.... his pretty hits you like a fucking train.. they locking in those appointments. a good hairdresser is hard to find and they got this one on lock.. i mean... it doesn't take much from victon to cause obsession. lets be honest.. thank god for that!.... frankie hanse is promising to accommodate!. the guys are giving it good good!. only inches between us.. btw. stupid o'clock is about sex. everyone just glosses over the fact that they be talking about making the \"night\". click. i just think all that thigh.. what you talking about! they have friends!!!! and there's 23 of them and more on the way. being f. to have been a fly on the wall.... probably. lol. he better give me strength too cause i am feeling some type of way!. jo i have solid evidence that i contributed at least 30 millions views. and reviews of certain \"segments\".... pretty much!. an exoskeleton and a fairly simple circulatory system?. i will be in the comments heckling. i am very tipsy please forgive me.. just keep saying guilty! in a really loud voice and they'll get rid of you.. he just walks around looking like that. who told him he had the right?!. one of the best.. why do i think of when i see him now.. a fucking men. speak not or die in fire.. um.... amen.. but jackson... what a good reason to burn.. okay chrissy i am gonna go watch sweet. it's all your fault.. there's looking and looking and i will be damned if i stop appreciating beautiful talented people.. they are pretty!. i appreciate the pretty for sure. lol. do you see his waist?!. well.... not going near any of that with a 6 foot poll.. mask can't hide his level of pretty.. all of them and at least 3 of each.. again i feel seen in this tweet.. imagine if it was abs.. ateez.. the depth of my affection knows no bounds... idk if you've caught any of the latest ila with kibum and min. like... there's love in this picture. and how fucking beautiful are they!!!. you know i love him so much it's too fucking funny. like of all the members tbt he was the last i warmed. he's beauty made flesh.. like how is he real?!. i have no biases!. this one is... dangerous. so baby can i be your boyfriend can i?. you see nothing!. so i will send you my magazine order and if you buy them it doesn't count toward my no buy. sound good?. .... like, imho that sounds like a blessing.. is your soul on the table?. sounds like a good time. embrace the freedom of letting loose with someone you live and trust. you deserve it.. can we just talk about how pretty shinee is and how jinki is doing so awesome instead of muting anyone?. omg reading my mind! stop that!. i love the girl cuddles, but i want boy cuddles too!!!!. i did not type this!! yes i did.. in my bed.... i think they are flirting with sin mode. i am being attacked!. i see success in your future. yes.. it's only fear that makes you run the demons that you're hiding from when all your promises are gone.... sometimes when you ask the world provides.. he's doing fashion week right?. taemin is always classy, but always disrespectful.. all the mesh!. i am literally planning on having a 17 hour work day tomorrow lol am i jealous of you? .... i want brunch!. you crazy, but am i tempted?. i can't give you the energy, but i can show you one of the brightest smiles on this planet.. this popped up on my tl again and i immediately said \"i want this\" then i remembered. i own this. praise jesus fo. i feel seen in this tweet.. i know what we'll be doing.... san is expensive.. there will be mesh!. i have no clue what this is, but i support you!. using moonbin i see.. the kentucky gotta come out of me sometimes.. sigh. well god bless his heart.. why not both?. they don't teach people how to yield enough in the us. like, it's an essential skill, but most don'. you can't talk if your mouth is otherwise occupied.... mean!. i'm unsubscribing because you scratch your nose funny!. so someone that should be in jail?. um... yeah let's bring this back to the tl. i am on a magazine no buy.. i'm on a magazine no buy!. .... lets not start smoking crack!. never!. now if there was 10... that would really be something.. .... well yes. you do.. lol i feel this on a spiritual level.... no lies spoken.. i am distracted by arms.. years young!. just a little.. dpr ian nerves. that's like me saying i'm from chicago when i break out the shorts in march.... he can do it right.... well... we know who we are.. yep, he's like this is for the thirsty bitches.... that's a lot of um blonde.. you just jealous of the makeup artist.. you see.... ravi to the moon and back.. sir. attacking with that face and all those legs. i know what you are hiding!!. ryan gossling. don't do my ravi dirty like this. omg. i mean the random shindong totally threw me out.. i am very confused.. i want more disrespect.. i was about to reply... rofl\n"
     ]
    }
   ],
   "source": [
    "print(df['clean_text'].iloc[10])"
   ]
  },
  {
   "cell_type": "code",
   "execution_count": 11,
   "id": "ee08a3b2",
   "metadata": {
    "colab": {
     "base_uri": "https://localhost:8080/"
    },
    "executionInfo": {
     "elapsed": 21,
     "status": "ok",
     "timestamp": 1749218076340,
     "user": {
      "displayName": "richard tanguy",
      "userId": "17083172873806882243"
     },
     "user_tz": 240
    },
    "id": "ee08a3b2",
    "outputId": "29736148-2287-4352-c003-c629ca1376ad"
   },
   "outputs": [
    {
     "name": "stdout",
     "output_type": "stream",
     "text": [
      "balance of the target ie : IE\n",
      "1    0.671873\n",
      "0    0.328127\n",
      "Name: proportion, dtype: float64\n",
      "balance of the target ns :NS\n",
      "1    0.7725\n",
      "0    0.2275\n",
      "Name: proportion, dtype: float64\n",
      "balance of the target tf :TF\n",
      "0    0.588401\n",
      "1    0.411599\n",
      "Name: proportion, dtype: float64\n",
      "balance of the target jp :JP\n",
      "0    0.559083\n",
      "1    0.440917\n",
      "Name: proportion, dtype: float64\n"
     ]
    }
   ],
   "source": [
    "print(f\"balance of the target ie : {df['IE'].value_counts(normalize=True)}\")\n",
    "print(f\"balance of the target ns :{df['NS'].value_counts(normalize=True)}\")\n",
    "print(f\"balance of the target tf :{df['TF'].value_counts(normalize=True)}\")\n",
    "print(f\"balance of the target jp :{df['JP'].value_counts(normalize=True)}\")"
   ]
  },
  {
   "cell_type": "code",
   "execution_count": 12,
   "id": "VVgX-iFOAFFE",
   "metadata": {
    "executionInfo": {
     "elapsed": 689,
     "status": "ok",
     "timestamp": 1749218077031,
     "user": {
      "displayName": "richard tanguy",
      "userId": "17083172873806882243"
     },
     "user_tz": 240
    },
    "id": "VVgX-iFOAFFE"
   },
   "outputs": [],
   "source": [
    "df['text_length_words'] = df['clean_text'].str.split().apply(len)"
   ]
  },
  {
   "cell_type": "code",
   "execution_count": 13,
   "id": "4XVghXKbAKMv",
   "metadata": {
    "colab": {
     "base_uri": "https://localhost:8080/",
     "height": 564
    },
    "executionInfo": {
     "elapsed": 361,
     "status": "ok",
     "timestamp": 1749218077397,
     "user": {
      "displayName": "richard tanguy",
      "userId": "17083172873806882243"
     },
     "user_tz": 240
    },
    "id": "4XVghXKbAKMv",
    "outputId": "773a04b5-8216-4e6f-c788-3b2e3aded7a0"
   },
   "outputs": [
    {
     "data": {
      "image/png": "[encoded data removed]",
      "text/plain": [
       "<Figure size 1000x600 with 1 Axes>"
      ]
     },
     "metadata": {},
     "output_type": "display_data"
    }
   ],
   "source": [
    "import seaborn as sns\n",
    "import matplotlib.pyplot as plt\n",
    "\n",
    "plt.figure(figsize=(10, 6))\n",
    "sns.histplot(df['text_length_words'], bins=50, kde=True)\n",
    "plt.title(\"Distribution de la longueur des tweets (en mots)\")\n",
    "plt.xlabel(\"Nombre de mots\")\n",
    "plt.ylabel(\"Fréquence\")\n",
    "plt.grid(True)\n",
    "plt.show()"
   ]
  },
  {
   "cell_type": "code",
   "execution_count": 14,
   "id": "uvKGu_hGDGBr",
   "metadata": {
    "executionInfo": {
     "elapsed": 562,
     "status": "ok",
     "timestamp": 1749218077961,
     "user": {
      "displayName": "richard tanguy",
      "userId": "17083172873806882243"
     },
     "user_tz": 240
    },
    "id": "uvKGu_hGDGBr"
   },
   "outputs": [],
   "source": [
    "df = df[df['clean_text'].apply(lambda x: len(x.split()) < 1500 and len(x.split()) > 500)].reset_index(drop=True)"
   ]
  },
  {
   "cell_type": "code",
   "execution_count": 15,
   "id": "36w_s4AqDWB6",
   "metadata": {
    "colab": {
     "base_uri": "https://localhost:8080/",
     "height": 300
    },
    "executionInfo": {
     "elapsed": 30,
     "status": "ok",
     "timestamp": 1749218077993,
     "user": {
      "displayName": "richard tanguy",
      "userId": "17083172873806882243"
     },
     "user_tz": 240
    },
    "id": "36w_s4AqDWB6",
    "outputId": "9f310572-abbc-424c-8b9d-d7005f1ddb4d"
   },
   "outputs": [
    {
     "data": {
      "text/html": [
       "<div>\n",
       "<style scoped>\n",
       "    .dataframe tbody tr th:only-of-type {\n",
       "        vertical-align: middle;\n",
       "    }\n",
       "\n",
       "    .dataframe tbody tr th {\n",
       "        vertical-align: top;\n",
       "    }\n",
       "\n",
       "    .dataframe thead th {\n",
       "        text-align: right;\n",
       "    }\n",
       "</style>\n",
       "<table border=\"1\" class=\"dataframe\">\n",
       "  <thead>\n",
       "    <tr style=\"text-align: right;\">\n",
       "      <th></th>\n",
       "      <th>IE</th>\n",
       "      <th>NS</th>\n",
       "      <th>TF</th>\n",
       "      <th>JP</th>\n",
       "      <th>text_length_words</th>\n",
       "    </tr>\n",
       "  </thead>\n",
       "  <tbody>\n",
       "    <tr>\n",
       "      <th>count</th>\n",
       "      <td>4583.000000</td>\n",
       "      <td>4583.000000</td>\n",
       "      <td>4583.000000</td>\n",
       "      <td>4583.000000</td>\n",
       "      <td>4583.000000</td>\n",
       "    </tr>\n",
       "    <tr>\n",
       "      <th>mean</th>\n",
       "      <td>0.670521</td>\n",
       "      <td>0.762601</td>\n",
       "      <td>0.401702</td>\n",
       "      <td>0.413921</td>\n",
       "      <td>1017.560986</td>\n",
       "    </tr>\n",
       "    <tr>\n",
       "      <th>std</th>\n",
       "      <td>0.470075</td>\n",
       "      <td>0.425535</td>\n",
       "      <td>0.490296</td>\n",
       "      <td>0.492588</td>\n",
       "      <td>273.105957</td>\n",
       "    </tr>\n",
       "    <tr>\n",
       "      <th>min</th>\n",
       "      <td>0.000000</td>\n",
       "      <td>0.000000</td>\n",
       "      <td>0.000000</td>\n",
       "      <td>0.000000</td>\n",
       "      <td>501.000000</td>\n",
       "    </tr>\n",
       "    <tr>\n",
       "      <th>25%</th>\n",
       "      <td>0.000000</td>\n",
       "      <td>1.000000</td>\n",
       "      <td>0.000000</td>\n",
       "      <td>0.000000</td>\n",
       "      <td>799.000000</td>\n",
       "    </tr>\n",
       "    <tr>\n",
       "      <th>50%</th>\n",
       "      <td>1.000000</td>\n",
       "      <td>1.000000</td>\n",
       "      <td>0.000000</td>\n",
       "      <td>0.000000</td>\n",
       "      <td>1016.000000</td>\n",
       "    </tr>\n",
       "    <tr>\n",
       "      <th>75%</th>\n",
       "      <td>1.000000</td>\n",
       "      <td>1.000000</td>\n",
       "      <td>1.000000</td>\n",
       "      <td>1.000000</td>\n",
       "      <td>1246.500000</td>\n",
       "    </tr>\n",
       "    <tr>\n",
       "      <th>max</th>\n",
       "      <td>1.000000</td>\n",
       "      <td>1.000000</td>\n",
       "      <td>1.000000</td>\n",
       "      <td>1.000000</td>\n",
       "      <td>1499.000000</td>\n",
       "    </tr>\n",
       "  </tbody>\n",
       "</table>\n",
       "</div>"
      ],
      "text/plain": [
       "                IE           NS           TF           JP  text_length_words\n",
       "count  4583.000000  4583.000000  4583.000000  4583.000000        4583.000000\n",
       "mean      0.670521     0.762601     0.401702     0.413921        1017.560986\n",
       "std       0.470075     0.425535     0.490296     0.492588         273.105957\n",
       "min       0.000000     0.000000     0.000000     0.000000         501.000000\n",
       "25%       0.000000     1.000000     0.000000     0.000000         799.000000\n",
       "50%       1.000000     1.000000     0.000000     0.000000        1016.000000\n",
       "75%       1.000000     1.000000     1.000000     1.000000        1246.500000\n",
       "max       1.000000     1.000000     1.000000     1.000000        1499.000000"
      ]
     },
     "execution_count": 15,
     "metadata": {},
     "output_type": "execute_result"
    }
   ],
   "source": [
    "df.describe()"
   ]
  },
  {
   "cell_type": "code",
   "execution_count": 16,
   "id": "VqchX1gMD1MQ",
   "metadata": {
    "colab": {
     "base_uri": "https://localhost:8080/",
     "height": 206
    },
    "executionInfo": {
     "elapsed": 532,
     "status": "ok",
     "timestamp": 1749218078529,
     "user": {
      "displayName": "richard tanguy",
      "userId": "17083172873806882243"
     },
     "user_tz": 240
    },
    "id": "VqchX1gMD1MQ",
    "outputId": "66404520-eb1b-4547-9444-721807ff8f44"
   },
   "outputs": [
    {
     "data": {
      "text/html": [
       "<div>\n",
       "<style scoped>\n",
       "    .dataframe tbody tr th:only-of-type {\n",
       "        vertical-align: middle;\n",
       "    }\n",
       "\n",
       "    .dataframe tbody tr th {\n",
       "        vertical-align: top;\n",
       "    }\n",
       "\n",
       "    .dataframe thead th {\n",
       "        text-align: right;\n",
       "    }\n",
       "</style>\n",
       "<table border=\"1\" class=\"dataframe\">\n",
       "  <thead>\n",
       "    <tr style=\"text-align: right;\">\n",
       "      <th></th>\n",
       "      <th>text</th>\n",
       "      <th>label</th>\n",
       "      <th>IE</th>\n",
       "      <th>NS</th>\n",
       "      <th>TF</th>\n",
       "      <th>JP</th>\n",
       "      <th>clean_text</th>\n",
       "      <th>text_length_words</th>\n",
       "    </tr>\n",
       "  </thead>\n",
       "  <tbody>\n",
       "    <tr>\n",
       "      <th>0</th>\n",
       "      <td>@Hispanthicckk Being you makes you look cute||...</td>\n",
       "      <td>intj</td>\n",
       "      <td>1</td>\n",
       "      <td>1</td>\n",
       "      <td>1</td>\n",
       "      <td>1</td>\n",
       "      <td>being you makes you look cute. on, because the...</td>\n",
       "      <td>898</td>\n",
       "    </tr>\n",
       "    <tr>\n",
       "      <th>1</th>\n",
       "      <td>I'm like entp but idiotic|||Hey boy, do you wa...</td>\n",
       "      <td>intj</td>\n",
       "      <td>1</td>\n",
       "      <td>1</td>\n",
       "      <td>1</td>\n",
       "      <td>1</td>\n",
       "      <td>i'm like entp but idiotic. hey boy, do you wan...</td>\n",
       "      <td>1122</td>\n",
       "    </tr>\n",
       "    <tr>\n",
       "      <th>2</th>\n",
       "      <td>@kaeshurr1 Give it to @ZargarShanif ... He has...</td>\n",
       "      <td>intj</td>\n",
       "      <td>1</td>\n",
       "      <td>1</td>\n",
       "      <td>1</td>\n",
       "      <td>1</td>\n",
       "      <td>give it to ... he has pica since childhood. sa...</td>\n",
       "      <td>863</td>\n",
       "    </tr>\n",
       "    <tr>\n",
       "      <th>3</th>\n",
       "      <td>proud of this one it goes hard https://t.co/RQ...</td>\n",
       "      <td>intj</td>\n",
       "      <td>1</td>\n",
       "      <td>1</td>\n",
       "      <td>1</td>\n",
       "      <td>1</td>\n",
       "      <td>proud of this one it goes hard. fucking disgus...</td>\n",
       "      <td>615</td>\n",
       "    </tr>\n",
       "    <tr>\n",
       "      <th>4</th>\n",
       "      <td>@Ieokuras so amazing!|||@hxhrats @ETTUKILLUG w...</td>\n",
       "      <td>intj</td>\n",
       "      <td>1</td>\n",
       "      <td>1</td>\n",
       "      <td>1</td>\n",
       "      <td>1</td>\n",
       "      <td>so amazing!. well... mozart was a composer, to...</td>\n",
       "      <td>933</td>\n",
       "    </tr>\n",
       "  </tbody>\n",
       "</table>\n",
       "</div>"
      ],
      "text/plain": [
       "                                                text label  IE  NS  TF  JP  \\\n",
       "0  @Hispanthicckk Being you makes you look cute||...  intj   1   1   1   1   \n",
       "1  I'm like entp but idiotic|||Hey boy, do you wa...  intj   1   1   1   1   \n",
       "2  @kaeshurr1 Give it to @ZargarShanif ... He has...  intj   1   1   1   1   \n",
       "3  proud of this one it goes hard https://t.co/RQ...  intj   1   1   1   1   \n",
       "4  @Ieokuras so amazing!|||@hxhrats @ETTUKILLUG w...  intj   1   1   1   1   \n",
       "\n",
       "                                          clean_text  text_length_words  \n",
       "0  being you makes you look cute. on, because the...                898  \n",
       "1  i'm like entp but idiotic. hey boy, do you wan...               1122  \n",
       "2  give it to ... he has pica since childhood. sa...                863  \n",
       "3  proud of this one it goes hard. fucking disgus...                615  \n",
       "4  so amazing!. well... mozart was a composer, to...                933  "
      ]
     },
     "execution_count": 16,
     "metadata": {},
     "output_type": "execute_result"
    }
   ],
   "source": [
    "df.head()"
   ]
  },
  {
   "cell_type": "code",
   "execution_count": 17,
   "id": "6a764f89",
   "metadata": {},
   "outputs": [
    {
     "data": {
      "text/plain": [
       "'being you makes you look cute. on, because then i can have the fun of peeling it off.... \"bored now.\". less is more. sweetie, i\\'d suck your dick even if there were no shake inducement. leg day? looks more like crotch day. which is not a bad thing. goth pairs figure skating. the west wing, the closer, mash, orphan black, sense8. are you a good spice, or a bad spice?. it looks enticing.... i\\'m tired of corporations profiting from the lgbtq community while actively funding our persecution. join me in ca. do you support disney funding antilgbtq politicians? they still use you in their advertising.. do you support disney funding antilgbtq politicians? they still use you in their advertising.. do you support disney funding antilgbtq politicians? they still use you in their advertising.. do you support disney funding antilgbtq politicians? they still use you in their advertising.. do you support disney funding antilgbtq politicians? they still use you in their advertising.. do you support disney funding antilgbtq politicians? they still use you in their advertising.. do you support disney funding antilgbtq politicians? they still use you in their advertising.. do you support disney funding antilgbtq politicians? they still use you in their advertising.. disney supports anti lgbtq politicians in florida. shameonyoudisney. poor peter doesn\\'t understand what \"worthy adversary\" means because he\\'s never been one.. that\\'s horrible. i\\'m so sorry that happened. did you report them?. i\\'m pretty sure they already have 3 second pricks, but not in their arms.... having air conditioning. or a dishwasher. chubby. i hope this hiatus brings you peace. lito from sense8what a man, what a man, what a man, what a mighty fine man. good evening, gorgeous. i just want to hug you every time i see you post. i am an intj! we are independent, analytical and enjoy logical reasoning and complex problemsolving. what is your. willow. no! you gain the weight back every time you diet because this body is the one you want. don\\'t torture yourself. i would also suggest that the converse is true, \"moral politics is good policy.\". to quote nancy reagan, \"who does this bitch think she is!?!\". you wore it better. outfit 1there\\'s something to be said for getting to undress you. shave it off. right baby, oh so right. scruffy reed!. apparently he didn\\'t take his own advice, that republicans need to stop being the party of stupid.. any performance of \"on my own\" from les mis. stunning in its own right, it\\'s also the unofficial anthe. dick and pecs for me. beauty, majesty, behold gainerology. i belong to your patreon. my name is silentommy there. storm from the xmen. as long as it fits over your head, no tank top is too small. genius! and yum. i\\'m partial to ao3. absolutely. yes you do.. i\\'m not sure. all republicans look the same to me. i don\\'t know if i\\'m that flexible, but it would be fun finding out. she\\'s been a vibe in every decade. both sweetie. both.. nice ass. sweetie, my thighs would have snapped you in two back then. we absolutely celebrate it. it wouldn\\'t look so small if you\\'re arms weren\\'t straining the poor shirt. you amaze me. hunky men in tightly whites kissing. absolutely. being that you\\'re already out driving, you\\'ll end up saving gas, which is good for your wallet and the planet. idiocy. on youtube. he\\'s gorgeous, and i know he\\'s done onlyfans collabs before. from youtube. i know he\\'s done onlyfans collabs before. call child protective services now.. i want in. sweetie, i don\\'t think my waist has been that small since the seventies. retweet accomplished. how did you know you were my favorite?. heck, she looks good for 35 or older. \"why is our elderly having to wait\" wow. these people really are exactly who we think they are.. diet proud boy. there\\'s a bit of poetry in your prose. dietproudboy. where was your outrage before the inauguration when mcconnell was senate majority leader and trump w. this is current? people actually believe there is still a caravan coming. these people really are. i. am. gutted.. fake hair, fake tan. can\\'t decide which will end up on top. i love how bouncy you are. and just how, exactly, did you do that, marjorie?. as opposed to the bang up job you republicans have done? resign.. moscow. and not moscow, idaho.. wow. these people are even more exactly who i thought they are than i thought they were. no, cuz you\\'re beautiful. and that is not america\\'s ass.. waking up and hearing my dog snoring next to me in bed. i\\'m trying to decide what it says about me that my top two i can\\'t decide between are spike and adele dewitt. big brain. and do you remember how fat you thought you were, lol?. a4. done and done!. representative watson coleman, you need to name your colleagues who refused to wear masks.. feeling happynostalgic and so, so very old. and idiotatry. in the words of my people, \"bitch, please\". how rude. don\\'t they know they are supposed to buy you food?. or treasonous. malicious. now is so much better. ok, so who\\'s kevin and how do we meet?. fuckers. 1. fuckers. fuckers. fuckers. fuckers. fuckers. fuckers. fuckers. good night beautiful man.... on top of his grave. we always knew his headstone would be oversized and gaudy.'"
      ]
     },
     "execution_count": 17,
     "metadata": {},
     "output_type": "execute_result"
    }
   ],
   "source": [
    "df['clean_text'][0]"
   ]
  },
  {
   "cell_type": "code",
   "execution_count": 18,
   "id": "ae030d43",
   "metadata": {
    "colab": {
     "base_uri": "https://localhost:8080/"
    },
    "executionInfo": {
     "elapsed": 2239,
     "status": "ok",
     "timestamp": 1749218080771,
     "user": {
      "displayName": "richard tanguy",
      "userId": "17083172873806882243"
     },
     "user_tz": 240
    },
    "id": "ae030d43",
    "outputId": "b91e56a7-b24d-47d4-9ed1-e3f1aa35dff2"
   },
   "outputs": [
    {
     "name": "stdout",
     "output_type": "stream",
     "text": [
      "Requirement already satisfied: xgboost in /home/tanguy/.pyenv/versions/3.12.9/envs/vibe/lib/python3.12/site-packages (3.0.2)\n",
      "Requirement already satisfied: numpy in /home/tanguy/.pyenv/versions/3.12.9/envs/vibe/lib/python3.12/site-packages (from xgboost) (2.1.3)\n",
      "Requirement already satisfied: nvidia-nccl-cu12 in /home/tanguy/.pyenv/versions/3.12.9/envs/vibe/lib/python3.12/site-packages (from xgboost) (2.27.3)\n",
      "Requirement already satisfied: scipy in /home/tanguy/.pyenv/versions/3.12.9/envs/vibe/lib/python3.12/site-packages (from xgboost) (1.15.3)\n"
     ]
    }
   ],
   "source": [
    "!pip install xgboost"
   ]
  },
  {
   "cell_type": "code",
   "execution_count": 19,
   "id": "lyUTXgmZzQ0S",
   "metadata": {
    "executionInfo": {
     "elapsed": 2,
     "status": "ok",
     "timestamp": 1749218080775,
     "user": {
      "displayName": "richard tanguy",
      "userId": "17083172873806882243"
     },
     "user_tz": 240
    },
    "id": "lyUTXgmZzQ0S"
   },
   "outputs": [],
   "source": [
    "import pandas as pd\n",
    "from sklearn.model_selection import train_test_split\n",
    "from sklearn.feature_extraction.text import TfidfVectorizer, ENGLISH_STOP_WORDS\n",
    "from xgboost import XGBClassifier\n",
    "from sklearn.metrics import classification_report"
   ]
  },
  {
   "cell_type": "code",
   "execution_count": 20,
   "id": "kiST2vLW68RG",
   "metadata": {
    "executionInfo": {
     "elapsed": 22690,
     "status": "ok",
     "timestamp": 1749218103476,
     "user": {
      "displayName": "richard tanguy",
      "userId": "17083172873806882243"
     },
     "user_tz": 240
    },
    "id": "kiST2vLW68RG"
   },
   "outputs": [],
   "source": [
    "custom_stopwords = {\n",
    "    \"intj\", \"intp\", \"entj\", \"entp\",\n",
    "    \"infj\", \"infp\", \"enfj\", \"enfp\",\n",
    "    \"istj\", \"isfj\", \"estj\", \"esfj\",\n",
    "    \"istp\", \"isfp\", \"estp\", \"esfp\", \"https\"\n",
    "}\n",
    "\n",
    "# Fusionner avec les stopwords anglais\n",
    "combined_stopwords = list(ENGLISH_STOP_WORDS.union(custom_stopwords))\n",
    "\n",
    "vectorizer = TfidfVectorizer(max_features=20000,\n",
    "                             ngram_range=(1, 2),\n",
    "                             stop_words=combined_stopwords)\n",
    "\n",
    "X = vectorizer.fit_transform(df[\"clean_text\"])"
   ]
  },
  {
   "cell_type": "code",
   "execution_count": 21,
   "id": "2e36b0e6",
   "metadata": {
    "colab": {
     "base_uri": "https://localhost:8080/"
    },
    "executionInfo": {
     "elapsed": 26867,
     "status": "ok",
     "timestamp": 1749218130342,
     "user": {
      "displayName": "richard tanguy",
      "userId": "17083172873806882243"
     },
     "user_tz": 240
    },
    "id": "2e36b0e6",
    "outputId": "8ec428e1-2f28-4ded-f1b3-5354463cc207"
   },
   "outputs": [
    {
     "name": "stderr",
     "output_type": "stream",
     "text": [
      "/home/tanguy/.pyenv/versions/vibe/lib/python3.12/site-packages/xgboost/training.py:183: UserWarning: [13:46:04] WARNING: /workspace/src/learner.cc:738: \n",
      "Parameters: { \"use_label_encoder\" } are not used.\n",
      "\n",
      "  bst.update(dtrain, iteration=i, fobj=obj)\n"
     ]
    },
    {
     "name": "stdout",
     "output_type": "stream",
     "text": [
      "              precision    recall  f1-score   support\n",
      "\n",
      "           0       0.67      0.79      0.73       554\n",
      "           1       0.57      0.42      0.48       363\n",
      "\n",
      "    accuracy                           0.64       917\n",
      "   macro avg       0.62      0.60      0.60       917\n",
      "weighted avg       0.63      0.64      0.63       917\n",
      "\n"
     ]
    }
   ],
   "source": [
    "y_tf = df[\"TF\"]\n",
    "X_train_tf, X_test_tf, y_train_tf, y_test_tf = train_test_split(X, y_tf, test_size=0.2, random_state=42)\n",
    "model_tf = XGBClassifier(use_label_encoder=False, eval_metric='logloss')\n",
    "model_tf.fit(X_train_tf, y_train_tf)\n",
    "y_pred_tf = model_tf.predict(X_test_tf)\n",
    "print(classification_report(y_test_tf, y_pred_tf))"
   ]
  },
  {
   "cell_type": "code",
   "execution_count": 22,
   "id": "CVOOrI6K6pGu",
   "metadata": {
    "colab": {
     "base_uri": "https://localhost:8080/"
    },
    "executionInfo": {
     "elapsed": 31,
     "status": "ok",
     "timestamp": 1749218130384,
     "user": {
      "displayName": "richard tanguy",
      "userId": "17083172873806882243"
     },
     "user_tz": 240
    },
    "id": "CVOOrI6K6pGu",
    "outputId": "0485a3ad-6771-471a-925f-f6789430c49c"
   },
   "outputs": [
    {
     "name": "stdout",
     "output_type": "stream",
     "text": [
      "hat: 0.0066\n",
      "studying: 0.0046\n",
      "google: 0.0045\n",
      "ahhh: 0.0040\n",
      "universe: 0.0037\n",
      "joined: 0.0035\n",
      "rumors: 0.0035\n",
      "dick: 0.0035\n",
      "friday: 0.0034\n",
      "sending: 0.0034\n",
      "yall think: 0.0034\n",
      "villains: 0.0033\n",
      "insecure: 0.0032\n",
      "summer: 0.0032\n",
      "married: 0.0031\n",
      "tour: 0.0031\n",
      "movie: 0.0031\n",
      "everybody: 0.0031\n",
      "hobby: 0.0030\n",
      "doc: 0.0029\n"
     ]
    }
   ],
   "source": [
    "# Get feature importances\n",
    "importances_tf = model_tf.feature_importances_  # shape: (num_features,)\n",
    "\n",
    "# Get the vocabulary (i.e., words) from the vectorizer\n",
    "feature_names_tf = vectorizer.get_feature_names_out()\n",
    "\n",
    "# Combine words with importances\n",
    "word_importances_tf = list(zip(feature_names_tf, importances_tf))\n",
    "\n",
    "# Sort by importance\n",
    "word_importances_tf = sorted(word_importances_tf, key=lambda x: x[1], reverse=True)\n",
    "\n",
    "# Show top 20 most important words\n",
    "for word, importance in word_importances_tf[:20]:\n",
    "    print(f\"{word}: {importance:.4f}\")"
   ]
  },
  {
   "cell_type": "code",
   "execution_count": 23,
   "id": "66552f6b",
   "metadata": {
    "colab": {
     "base_uri": "https://localhost:8080/"
    },
    "executionInfo": {
     "elapsed": 23277,
     "status": "ok",
     "timestamp": 1749218153666,
     "user": {
      "displayName": "richard tanguy",
      "userId": "17083172873806882243"
     },
     "user_tz": 240
    },
    "id": "66552f6b",
    "outputId": "bfbe3fe5-6cd5-442f-a411-fa73118c6e1f"
   },
   "outputs": [
    {
     "name": "stderr",
     "output_type": "stream",
     "text": [
      "/home/tanguy/.pyenv/versions/vibe/lib/python3.12/site-packages/xgboost/training.py:183: UserWarning: [13:47:36] WARNING: /workspace/src/learner.cc:738: \n",
      "Parameters: { \"use_label_encoder\" } are not used.\n",
      "\n",
      "  bst.update(dtrain, iteration=i, fobj=obj)\n"
     ]
    },
    {
     "name": "stdout",
     "output_type": "stream",
     "text": [
      "              precision    recall  f1-score   support\n",
      "\n",
      "           0       0.52      0.23      0.32       291\n",
      "           1       0.72      0.90      0.80       626\n",
      "\n",
      "    accuracy                           0.69       917\n",
      "   macro avg       0.62      0.56      0.56       917\n",
      "weighted avg       0.65      0.69      0.65       917\n",
      "\n"
     ]
    }
   ],
   "source": [
    "y_ie = df[\"IE\"]\n",
    "X_train_ie, X_test_ie, y_train_ie, y_test_ie = train_test_split(X, y_ie, test_size=0.2, random_state=42)\n",
    "model_ie = XGBClassifier(use_label_encoder=False, eval_metric='logloss')\n",
    "model_ie.fit(X_train_ie, y_train_ie)\n",
    "y_pred_ie = model_ie.predict(X_test_ie)\n",
    "print(classification_report(y_test_ie, y_pred_ie))"
   ]
  },
  {
   "cell_type": "code",
   "execution_count": 24,
   "id": "NwV_fm0Q7tKf",
   "metadata": {
    "colab": {
     "base_uri": "https://localhost:8080/"
    },
    "executionInfo": {
     "elapsed": 22,
     "status": "ok",
     "timestamp": 1749218153687,
     "user": {
      "displayName": "richard tanguy",
      "userId": "17083172873806882243"
     },
     "user_tz": 240
    },
    "id": "NwV_fm0Q7tKf",
    "outputId": "f32f8cc0-bee8-4717-d9da-54d5484e8bbe"
   },
   "outputs": [
    {
     "name": "stdout",
     "output_type": "stream",
     "text": [
      "surrounded: 0.0042\n",
      "la: 0.0041\n",
      "raya: 0.0041\n",
      "gift: 0.0041\n",
      "questions: 0.0040\n",
      "emotionally: 0.0040\n",
      "ako na: 0.0040\n",
      "gay: 0.0039\n",
      "loved: 0.0039\n",
      "people getting: 0.0037\n",
      "bi: 0.0037\n",
      "relationship: 0.0037\n",
      "ms: 0.0036\n",
      "power: 0.0035\n",
      "posting: 0.0035\n",
      "dumb: 0.0035\n",
      "exact: 0.0034\n",
      "finished: 0.0034\n",
      "ate: 0.0034\n",
      "mbti: 0.0033\n"
     ]
    }
   ],
   "source": [
    "# Get feature importances\n",
    "importances_ie = model_ie.feature_importances_  # shape: (num_features,)\n",
    "\n",
    "# Get the vocabulary (i.e., words) from the vectorizer\n",
    "feature_names_ie = vectorizer.get_feature_names_out()\n",
    "\n",
    "# Combine words with importances\n",
    "word_importances_ie = list(zip(feature_names_ie, importances_ie))\n",
    "\n",
    "# Sort by importance\n",
    "word_importances_ie = sorted(word_importances_ie, key=lambda x: x[1], reverse=True)\n",
    "\n",
    "# Show top 20 most important words\n",
    "for word, importance in word_importances_ie[:20]:\n",
    "    print(f\"{word}: {importance:.4f}\")"
   ]
  },
  {
   "cell_type": "code",
   "execution_count": 25,
   "id": "3dyeZy8_6Uoi",
   "metadata": {
    "colab": {
     "base_uri": "https://localhost:8080/"
    },
    "executionInfo": {
     "elapsed": 22497,
     "status": "ok",
     "timestamp": 1749218176187,
     "user": {
      "displayName": "richard tanguy",
      "userId": "17083172873806882243"
     },
     "user_tz": 240
    },
    "id": "3dyeZy8_6Uoi",
    "outputId": "ac877c4f-9daf-4cb6-d03b-257c60c0dc64"
   },
   "outputs": [
    {
     "name": "stderr",
     "output_type": "stream",
     "text": [
      "/home/tanguy/.pyenv/versions/vibe/lib/python3.12/site-packages/xgboost/training.py:183: UserWarning: [13:48:13] WARNING: /workspace/src/learner.cc:738: \n",
      "Parameters: { \"use_label_encoder\" } are not used.\n",
      "\n",
      "  bst.update(dtrain, iteration=i, fobj=obj)\n"
     ]
    },
    {
     "name": "stdout",
     "output_type": "stream",
     "text": [
      "              precision    recall  f1-score   support\n",
      "\n",
      "           0       0.40      0.13      0.20       210\n",
      "           1       0.79      0.94      0.86       707\n",
      "\n",
      "    accuracy                           0.76       917\n",
      "   macro avg       0.59      0.54      0.53       917\n",
      "weighted avg       0.70      0.76      0.71       917\n",
      "\n"
     ]
    }
   ],
   "source": [
    "y_ns = df[\"NS\"]\n",
    "X_train_ns, X_test_ns, y_train_ns, y_test_ns = train_test_split(X, y_ns, test_size=0.2, random_state=42)\n",
    "model_ns = XGBClassifier(use_label_encoder=False, eval_metric='logloss')\n",
    "model_ns.fit(X_train_ns, y_train_ns)\n",
    "y_pred_ns = model_ns.predict(X_test_ns)\n",
    "print(classification_report(y_test_ns, y_pred_ns))"
   ]
  },
  {
   "cell_type": "code",
   "execution_count": 26,
   "id": "gYx1wHoo8PtU",
   "metadata": {
    "colab": {
     "base_uri": "https://localhost:8080/"
    },
    "executionInfo": {
     "elapsed": 14,
     "status": "ok",
     "timestamp": 1749218176200,
     "user": {
      "displayName": "richard tanguy",
      "userId": "17083172873806882243"
     },
     "user_tz": 240
    },
    "id": "gYx1wHoo8PtU",
    "outputId": "4090d7c7-fdbb-4a75-af06-38fe2ca65e9b"
   },
   "outputs": [
    {
     "name": "stdout",
     "output_type": "stream",
     "text": [
      "cutie: 0.0061\n",
      "thoughts: 0.0058\n",
      "piercing: 0.0053\n",
      "taehyun: 0.0053\n",
      "la: 0.0053\n",
      "video: 0.0052\n",
      "know thing: 0.0049\n",
      "moot: 0.0048\n",
      "walang: 0.0046\n",
      "earlier: 0.0046\n",
      "enstars: 0.0046\n",
      "february: 0.0045\n",
      "press: 0.0044\n",
      "cursed: 0.0044\n",
      "insta: 0.0044\n",
      "14: 0.0040\n",
      "brownies: 0.0040\n",
      "extremely: 0.0040\n",
      "run: 0.0039\n",
      "sounds good: 0.0039\n"
     ]
    }
   ],
   "source": [
    "# Get feature importances\n",
    "importances_ns = model_ns.feature_importances_  # shape: (num_features,)\n",
    "\n",
    "# Get the vocabulary (i.e., words) from the vectorizer\n",
    "feature_names_ns = vectorizer.get_feature_names_out()\n",
    "\n",
    "# Combine words with importances\n",
    "word_importances_ns = list(zip(feature_names_ns, importances_ns))\n",
    "\n",
    "# Sort by importance\n",
    "word_importances_ns = sorted(word_importances_ns, key=lambda x: x[1], reverse=True)\n",
    "\n",
    "# Show top 20 most important words\n",
    "for word, importance in word_importances_ns[:20]:\n",
    "    print(f\"{word}: {importance:.4f}\")"
   ]
  },
  {
   "cell_type": "code",
   "execution_count": 27,
   "id": "87fba324",
   "metadata": {
    "colab": {
     "base_uri": "https://localhost:8080/"
    },
    "executionInfo": {
     "elapsed": 19716,
     "status": "ok",
     "timestamp": 1749218195917,
     "user": {
      "displayName": "richard tanguy",
      "userId": "17083172873806882243"
     },
     "user_tz": 240
    },
    "id": "87fba324",
    "outputId": "e96e2db3-ac43-4128-fd8d-4b52444c563c"
   },
   "outputs": [
    {
     "name": "stderr",
     "output_type": "stream",
     "text": [
      "/home/tanguy/.pyenv/versions/vibe/lib/python3.12/site-packages/xgboost/training.py:183: UserWarning: [13:48:48] WARNING: /workspace/src/learner.cc:738: \n",
      "Parameters: { \"use_label_encoder\" } are not used.\n",
      "\n",
      "  bst.update(dtrain, iteration=i, fobj=obj)\n"
     ]
    },
    {
     "name": "stdout",
     "output_type": "stream",
     "text": [
      "              precision    recall  f1-score   support\n",
      "\n",
      "           0       0.31      0.20      0.25       210\n",
      "           1       0.79      0.86      0.82       707\n",
      "\n",
      "    accuracy                           0.71       917\n",
      "   macro avg       0.55      0.53      0.53       917\n",
      "weighted avg       0.68      0.71      0.69       917\n",
      "\n"
     ]
    }
   ],
   "source": [
    "y = df[\"NS\"]\n",
    "X_train, X_test, y_train, y_test = train_test_split(X, y, test_size=0.2, random_state=42)\n",
    "\n",
    "#Dealing with class imbalanced\n",
    "num_pos = sum(y_train)\n",
    "num_neg = len(y_train) - num_pos\n",
    "scale = num_neg / num_pos\n",
    "\n",
    "model = XGBClassifier(\n",
    "    use_label_encoder=False,\n",
    "    eval_metric=\"logloss\",\n",
    "    scale_pos_weight=scale  # 👈 Boosts minority class\n",
    ")\n",
    "model.fit(X_train, y_train)\n",
    "y_pred = model.predict(X_test)\n",
    "print(classification_report(y_test, y_pred))"
   ]
  },
  {
   "cell_type": "code",
   "execution_count": 28,
   "id": "3b20d481",
   "metadata": {
    "colab": {
     "base_uri": "https://localhost:8080/"
    },
    "executionInfo": {
     "elapsed": 23177,
     "status": "ok",
     "timestamp": 1749218219096,
     "user": {
      "displayName": "richard tanguy",
      "userId": "17083172873806882243"
     },
     "user_tz": 240
    },
    "id": "3b20d481",
    "outputId": "fb3f75b1-5ce8-4b3e-f24c-112113f049c0"
   },
   "outputs": [
    {
     "name": "stderr",
     "output_type": "stream",
     "text": [
      "/home/tanguy/.pyenv/versions/vibe/lib/python3.12/site-packages/xgboost/training.py:183: UserWarning: [13:49:22] WARNING: /workspace/src/learner.cc:738: \n",
      "Parameters: { \"use_label_encoder\" } are not used.\n",
      "\n",
      "  bst.update(dtrain, iteration=i, fobj=obj)\n"
     ]
    },
    {
     "name": "stdout",
     "output_type": "stream",
     "text": [
      "              precision    recall  f1-score   support\n",
      "\n",
      "           0       0.66      0.78      0.72       534\n",
      "           1       0.60      0.45      0.51       383\n",
      "\n",
      "    accuracy                           0.64       917\n",
      "   macro avg       0.63      0.61      0.61       917\n",
      "weighted avg       0.64      0.64      0.63       917\n",
      "\n"
     ]
    }
   ],
   "source": [
    "y_jp = df[\"JP\"]\n",
    "X_train_jp, X_test_jp, y_train_jp, y_test_jp = train_test_split(X, y_jp, test_size=0.2, random_state=42)\n",
    "model_jp = XGBClassifier(use_label_encoder=False, eval_metric='logloss')\n",
    "model_jp.fit(X_train_jp, y_train_jp)\n",
    "y_pred_jp = model_jp.predict(X_test_jp)\n",
    "print(classification_report(y_test_jp, y_pred_jp))"
   ]
  },
  {
   "cell_type": "code",
   "execution_count": 29,
   "id": "99227621",
   "metadata": {
    "colab": {
     "base_uri": "https://localhost:8080/"
    },
    "executionInfo": {
     "elapsed": 31,
     "status": "ok",
     "timestamp": 1749218219128,
     "user": {
      "displayName": "richard tanguy",
      "userId": "17083172873806882243"
     },
     "user_tz": 240
    },
    "id": "99227621",
    "outputId": "f6b61c0f-240d-4695-a19c-548247a033c6"
   },
   "outputs": [
    {
     "name": "stdout",
     "output_type": "stream",
     "text": [
      "cutie: 0.0061\n",
      "thoughts: 0.0058\n",
      "piercing: 0.0053\n",
      "taehyun: 0.0053\n",
      "la: 0.0053\n",
      "video: 0.0052\n",
      "know thing: 0.0049\n",
      "moot: 0.0048\n",
      "walang: 0.0046\n",
      "earlier: 0.0046\n",
      "enstars: 0.0046\n",
      "february: 0.0045\n",
      "press: 0.0044\n",
      "cursed: 0.0044\n",
      "insta: 0.0044\n",
      "14: 0.0040\n",
      "brownies: 0.0040\n",
      "extremely: 0.0040\n",
      "run: 0.0039\n",
      "sounds good: 0.0039\n"
     ]
    }
   ],
   "source": [
    "# Get feature importances\n",
    "importances_jp = model_ns.feature_importances_  # shape: (num_features,)\n",
    "\n",
    "# Get the vocabulary (i.e., words) from the vectorizer\n",
    "feature_names_jp = vectorizer.get_feature_names_out()\n",
    "\n",
    "# Combine words with importances\n",
    "word_importances_jp = list(zip(feature_names_jp, importances_jp))\n",
    "\n",
    "# Sort by importance\n",
    "word_importances_jp = sorted(word_importances_jp, key=lambda x: x[1], reverse=True)\n",
    "\n",
    "# Show top 20 most important words\n",
    "for word, importance in word_importances_jp[:20]:\n",
    "    print(f\"{word}: {importance:.4f}\")"
   ]
  },
  {
   "cell_type": "code",
   "execution_count": 30,
   "id": "DzSsEECI80Ag",
   "metadata": {
    "executionInfo": {
     "elapsed": 49950,
     "status": "ok",
     "timestamp": 1749218269099,
     "user": {
      "displayName": "richard tanguy",
      "userId": "17083172873806882243"
     },
     "user_tz": 240
    },
    "id": "DzSsEECI80Ag"
   },
   "outputs": [],
   "source": [
    "custom_stopwords = [\n",
    "    \"intj\", \"intp\", \"entj\", \"entp\",\n",
    "    \"infj\", \"infp\", \"enfj\", \"enfp\",\n",
    "    \"istj\", \"isfj\", \"estj\", \"esfj\",\n",
    "    \"istp\", \"isfp\", \"estp\", \"esfp\"\n",
    "]\n",
    "\n",
    "vectorizer = TfidfVectorizer(max_features=20000,\n",
    "                             ngram_range=(1, 3),\n",
    "                             stop_words=custom_stopwords)\n",
    "\n",
    "X = vectorizer.fit_transform(df[\"text\"])"
   ]
  },
  {
   "cell_type": "code",
   "execution_count": 31,
   "id": "nQxF_-I8EoYr",
   "metadata": {
    "colab": {
     "base_uri": "https://localhost:8080/"
    },
    "executionInfo": {
     "elapsed": 45284,
     "status": "ok",
     "timestamp": 1749218314401,
     "user": {
      "displayName": "richard tanguy",
      "userId": "17083172873806882243"
     },
     "user_tz": 240
    },
    "id": "nQxF_-I8EoYr",
    "outputId": "81b21b5a-f4e3-4a68-a6ae-314b291c108b"
   },
   "outputs": [
    {
     "name": "stderr",
     "output_type": "stream",
     "text": [
      "/home/tanguy/.pyenv/versions/vibe/lib/python3.12/site-packages/xgboost/training.py:183: UserWarning: [13:51:11] WARNING: /workspace/src/learner.cc:738: \n",
      "Parameters: { \"use_label_encoder\" } are not used.\n",
      "\n",
      "  bst.update(dtrain, iteration=i, fobj=obj)\n"
     ]
    },
    {
     "name": "stdout",
     "output_type": "stream",
     "text": [
      "              precision    recall  f1-score   support\n",
      "\n",
      "           0       0.63      0.77      0.70       534\n",
      "           1       0.54      0.37      0.44       383\n",
      "\n",
      "    accuracy                           0.61       917\n",
      "   macro avg       0.59      0.57      0.57       917\n",
      "weighted avg       0.59      0.61      0.59       917\n",
      "\n"
     ]
    }
   ],
   "source": [
    "y_jp = df[\"JP\"]\n",
    "X_train_jp, X_test_jp, y_train_jp, y_test_jp = train_test_split(X, y_jp, test_size=0.2, random_state=42)\n",
    "model_jp = XGBClassifier(use_label_encoder=False, eval_metric='logloss')\n",
    "model_jp.fit(X_train_jp, y_train_jp)\n",
    "y_pred_jp = model_jp.predict(X_test_jp)\n",
    "print(classification_report(y_test_jp, y_pred_jp))"
   ]
  },
  {
   "cell_type": "code",
   "execution_count": 32,
   "id": "q18365-DE0-X",
   "metadata": {
    "colab": {
     "base_uri": "https://localhost:8080/"
    },
    "executionInfo": {
     "elapsed": 6,
     "status": "ok",
     "timestamp": 1749218314409,
     "user": {
      "displayName": "richard tanguy",
      "userId": "17083172873806882243"
     },
     "user_tz": 240
    },
    "id": "q18365-DE0-X",
    "outputId": "4ec073e0-d680-4971-af5e-bfaf0638f851"
   },
   "outputs": [
    {
     "name": "stdout",
     "output_type": "stream",
     "text": [
      "daw: 0.0061\n",
      "trop: 0.0058\n",
      "ri: 0.0053\n",
      "time in: 0.0053\n",
      "lonely: 0.0053\n",
      "what makes: 0.0052\n",
      "little too: 0.0049\n",
      "off of: 0.0048\n",
      "who the: 0.0046\n",
      "experiences: 0.0046\n",
      "file: 0.0046\n",
      "from her: 0.0045\n",
      "seattle: 0.0044\n",
      "da: 0.0044\n",
      "its: 0.0044\n",
      "2017: 0.0040\n",
      "boring: 0.0040\n",
      "for mtvlafandomexo: 0.0040\n",
      "sry: 0.0039\n",
      "the thing: 0.0039\n"
     ]
    }
   ],
   "source": [
    "# Get feature importances\n",
    "importances_jp = model_ns.feature_importances_  # shape: (num_features,)\n",
    "\n",
    "# Get the vocabulary (i.e., words) from the vectorizer\n",
    "feature_names_jp = vectorizer.get_feature_names_out()\n",
    "\n",
    "# Combine words with importances\n",
    "word_importances_jp = list(zip(feature_names_jp, importances_jp))\n",
    "\n",
    "# Sort by importance\n",
    "word_importances_jp = sorted(word_importances_jp, key=lambda x: x[1], reverse=True)\n",
    "\n",
    "# Show top 20 most important words\n",
    "for word, importance in word_importances_jp[:20]:\n",
    "    print(f\"{word}: {importance:.4f}\")"
   ]
  },
  {
   "cell_type": "code",
   "execution_count": 33,
   "id": "fdDK6O1iFCp_",
   "metadata": {
    "executionInfo": {
     "elapsed": 4,
     "status": "ok",
     "timestamp": 1749218314432,
     "user": {
      "displayName": "richard tanguy",
      "userId": "17083172873806882243"
     },
     "user_tz": 240
    },
    "id": "fdDK6O1iFCp_"
   },
   "outputs": [],
   "source": [
    "ie_pred = ['i' if x == 1 else 'e' for x in y_pred_ie]\n",
    "ns_pred = ['n' if x == 1 else 's' for x in y_pred_ns]\n",
    "tf_pred = ['t' if x == 1 else 'f' for x in y_pred_tf]\n",
    "jp_pred = ['j' if x == 1 else 'p' for x in y_pred_jp]\n",
    "\n",
    "y_test_ie_l = ['i' if x == 1 else 'e' for x in y_test_ie]\n",
    "y_test_ns_l = ['n' if x == 1 else 's' for x in y_test_ns]\n",
    "y_test_tf_l = ['t' if x == 1 else 'f' for x in y_test_tf]\n",
    "y_test_jp_l = ['j' if x == 1 else 'p' for x in y_test_jp]"
   ]
  },
  {
   "cell_type": "code",
   "execution_count": 34,
   "id": "EeOJq6T7cEoK",
   "metadata": {
    "executionInfo": {
     "elapsed": 13,
     "status": "ok",
     "timestamp": 1749218314448,
     "user": {
      "displayName": "richard tanguy",
      "userId": "17083172873806882243"
     },
     "user_tz": 240
    },
    "id": "EeOJq6T7cEoK"
   },
   "outputs": [],
   "source": [
    "# Create DataFrame\n",
    "df_pred = pd.DataFrame({\n",
    "    'IE': ie_pred,\n",
    "    'NS': ns_pred,\n",
    "    'TF': tf_pred,\n",
    "    'JP': jp_pred,\n",
    "    'IE_test': y_test_ie_l,\n",
    "    'NS_test': y_test_ns_l,\n",
    "    'TF_test': y_test_tf_l,\n",
    "    'JP_test': y_test_jp_l\n",
    "})\n",
    "\n",
    "df_pred['MBTI'] = df_pred['IE'] + df_pred['NS'] + df_pred['TF'] + df_pred['JP']\n",
    "df_pred['MBTI_test'] = df_pred['IE_test'] + df_pred['NS_test'] + df_pred['TF_test'] + df_pred['JP_test']"
   ]
  },
  {
   "cell_type": "code",
   "execution_count": 35,
   "id": "YAJws5BYcazR",
   "metadata": {
    "colab": {
     "base_uri": "https://localhost:8080/",
     "height": 423
    },
    "executionInfo": {
     "elapsed": 20,
     "status": "ok",
     "timestamp": 1749218314470,
     "user": {
      "displayName": "richard tanguy",
      "userId": "17083172873806882243"
     },
     "user_tz": 240
    },
    "id": "YAJws5BYcazR",
    "outputId": "dc858998-203b-4ecf-a32f-defbd4b89ebf"
   },
   "outputs": [
    {
     "data": {
      "text/html": [
       "<div>\n",
       "<style scoped>\n",
       "    .dataframe tbody tr th:only-of-type {\n",
       "        vertical-align: middle;\n",
       "    }\n",
       "\n",
       "    .dataframe tbody tr th {\n",
       "        vertical-align: top;\n",
       "    }\n",
       "\n",
       "    .dataframe thead th {\n",
       "        text-align: right;\n",
       "    }\n",
       "</style>\n",
       "<table border=\"1\" class=\"dataframe\">\n",
       "  <thead>\n",
       "    <tr style=\"text-align: right;\">\n",
       "      <th></th>\n",
       "      <th>IE</th>\n",
       "      <th>NS</th>\n",
       "      <th>TF</th>\n",
       "      <th>JP</th>\n",
       "      <th>IE_test</th>\n",
       "      <th>NS_test</th>\n",
       "      <th>TF_test</th>\n",
       "      <th>JP_test</th>\n",
       "      <th>MBTI</th>\n",
       "      <th>MBTI_test</th>\n",
       "    </tr>\n",
       "  </thead>\n",
       "  <tbody>\n",
       "    <tr>\n",
       "      <th>0</th>\n",
       "      <td>e</td>\n",
       "      <td>n</td>\n",
       "      <td>t</td>\n",
       "      <td>p</td>\n",
       "      <td>e</td>\n",
       "      <td>n</td>\n",
       "      <td>t</td>\n",
       "      <td>p</td>\n",
       "      <td>entp</td>\n",
       "      <td>entp</td>\n",
       "    </tr>\n",
       "    <tr>\n",
       "      <th>1</th>\n",
       "      <td>i</td>\n",
       "      <td>n</td>\n",
       "      <td>t</td>\n",
       "      <td>p</td>\n",
       "      <td>i</td>\n",
       "      <td>n</td>\n",
       "      <td>f</td>\n",
       "      <td>p</td>\n",
       "      <td>intp</td>\n",
       "      <td>infp</td>\n",
       "    </tr>\n",
       "    <tr>\n",
       "      <th>2</th>\n",
       "      <td>i</td>\n",
       "      <td>n</td>\n",
       "      <td>f</td>\n",
       "      <td>p</td>\n",
       "      <td>i</td>\n",
       "      <td>n</td>\n",
       "      <td>t</td>\n",
       "      <td>p</td>\n",
       "      <td>infp</td>\n",
       "      <td>intp</td>\n",
       "    </tr>\n",
       "    <tr>\n",
       "      <th>3</th>\n",
       "      <td>i</td>\n",
       "      <td>n</td>\n",
       "      <td>f</td>\n",
       "      <td>p</td>\n",
       "      <td>i</td>\n",
       "      <td>n</td>\n",
       "      <td>f</td>\n",
       "      <td>p</td>\n",
       "      <td>infp</td>\n",
       "      <td>infp</td>\n",
       "    </tr>\n",
       "    <tr>\n",
       "      <th>4</th>\n",
       "      <td>i</td>\n",
       "      <td>n</td>\n",
       "      <td>f</td>\n",
       "      <td>j</td>\n",
       "      <td>i</td>\n",
       "      <td>n</td>\n",
       "      <td>f</td>\n",
       "      <td>j</td>\n",
       "      <td>infj</td>\n",
       "      <td>infj</td>\n",
       "    </tr>\n",
       "    <tr>\n",
       "      <th>...</th>\n",
       "      <td>...</td>\n",
       "      <td>...</td>\n",
       "      <td>...</td>\n",
       "      <td>...</td>\n",
       "      <td>...</td>\n",
       "      <td>...</td>\n",
       "      <td>...</td>\n",
       "      <td>...</td>\n",
       "      <td>...</td>\n",
       "      <td>...</td>\n",
       "    </tr>\n",
       "    <tr>\n",
       "      <th>912</th>\n",
       "      <td>i</td>\n",
       "      <td>n</td>\n",
       "      <td>f</td>\n",
       "      <td>p</td>\n",
       "      <td>e</td>\n",
       "      <td>n</td>\n",
       "      <td>f</td>\n",
       "      <td>j</td>\n",
       "      <td>infp</td>\n",
       "      <td>enfj</td>\n",
       "    </tr>\n",
       "    <tr>\n",
       "      <th>913</th>\n",
       "      <td>i</td>\n",
       "      <td>n</td>\n",
       "      <td>f</td>\n",
       "      <td>j</td>\n",
       "      <td>i</td>\n",
       "      <td>s</td>\n",
       "      <td>t</td>\n",
       "      <td>j</td>\n",
       "      <td>infj</td>\n",
       "      <td>istj</td>\n",
       "    </tr>\n",
       "    <tr>\n",
       "      <th>914</th>\n",
       "      <td>i</td>\n",
       "      <td>n</td>\n",
       "      <td>f</td>\n",
       "      <td>p</td>\n",
       "      <td>i</td>\n",
       "      <td>s</td>\n",
       "      <td>f</td>\n",
       "      <td>j</td>\n",
       "      <td>infp</td>\n",
       "      <td>isfj</td>\n",
       "    </tr>\n",
       "    <tr>\n",
       "      <th>915</th>\n",
       "      <td>e</td>\n",
       "      <td>n</td>\n",
       "      <td>f</td>\n",
       "      <td>p</td>\n",
       "      <td>i</td>\n",
       "      <td>n</td>\n",
       "      <td>f</td>\n",
       "      <td>p</td>\n",
       "      <td>enfp</td>\n",
       "      <td>infp</td>\n",
       "    </tr>\n",
       "    <tr>\n",
       "      <th>916</th>\n",
       "      <td>i</td>\n",
       "      <td>n</td>\n",
       "      <td>f</td>\n",
       "      <td>p</td>\n",
       "      <td>i</td>\n",
       "      <td>n</td>\n",
       "      <td>t</td>\n",
       "      <td>j</td>\n",
       "      <td>infp</td>\n",
       "      <td>intj</td>\n",
       "    </tr>\n",
       "  </tbody>\n",
       "</table>\n",
       "<p>917 rows × 10 columns</p>\n",
       "</div>"
      ],
      "text/plain": [
       "    IE NS TF JP IE_test NS_test TF_test JP_test  MBTI MBTI_test\n",
       "0    e  n  t  p       e       n       t       p  entp      entp\n",
       "1    i  n  t  p       i       n       f       p  intp      infp\n",
       "2    i  n  f  p       i       n       t       p  infp      intp\n",
       "3    i  n  f  p       i       n       f       p  infp      infp\n",
       "4    i  n  f  j       i       n       f       j  infj      infj\n",
       "..  .. .. .. ..     ...     ...     ...     ...   ...       ...\n",
       "912  i  n  f  p       e       n       f       j  infp      enfj\n",
       "913  i  n  f  j       i       s       t       j  infj      istj\n",
       "914  i  n  f  p       i       s       f       j  infp      isfj\n",
       "915  e  n  f  p       i       n       f       p  enfp      infp\n",
       "916  i  n  f  p       i       n       t       j  infp      intj\n",
       "\n",
       "[917 rows x 10 columns]"
      ]
     },
     "execution_count": 35,
     "metadata": {},
     "output_type": "execute_result"
    }
   ],
   "source": [
    "df_pred"
   ]
  },
  {
   "cell_type": "code",
   "execution_count": 36,
   "id": "c76a5NkEdGUD",
   "metadata": {
    "colab": {
     "base_uri": "https://localhost:8080/"
    },
    "executionInfo": {
     "elapsed": 8,
     "status": "ok",
     "timestamp": 1749218314479,
     "user": {
      "displayName": "richard tanguy",
      "userId": "17083172873806882243"
     },
     "user_tz": 240
    },
    "id": "c76a5NkEdGUD",
    "outputId": "dd90a26a-86ad-41c4-8501-89b27222b8b7"
   },
   "outputs": [
    {
     "name": "stdout",
     "output_type": "stream",
     "text": [
      "Pourcentage de MBTI correctement prédits : 23.01%\n"
     ]
    }
   ],
   "source": [
    "accuracy = (df_pred['MBTI'] == df_pred['MBTI_test']).mean() * 100\n",
    "\n",
    "print(f\"Pourcentage de MBTI correctement prédits : {accuracy:.2f}%\")"
   ]
  },
  {
   "cell_type": "code",
   "execution_count": 37,
   "id": "u88YVrbqeIdK",
   "metadata": {
    "colab": {
     "base_uri": "https://localhost:8080/"
    },
    "executionInfo": {
     "elapsed": 61,
     "status": "ok",
     "timestamp": 1749218314543,
     "user": {
      "displayName": "richard tanguy",
      "userId": "17083172873806882243"
     },
     "user_tz": 240
    },
    "id": "u88YVrbqeIdK",
    "outputId": "6880e8f9-a826-4de0-999c-344535ce7a5c"
   },
   "outputs": [
    {
     "name": "stdout",
     "output_type": "stream",
     "text": [
      "Pourcentage de IE correctement prédits : 68.70%\n",
      "Pourcentage de NS correctement prédits : 75.57%\n",
      "Pourcentage de TF correctement prédits : 64.34%\n",
      "Pourcentage de JP correctement prédits : 60.52%\n"
     ]
    }
   ],
   "source": [
    "accuracy_ie = (df_pred['IE'] == df_pred['IE_test']).mean() * 100\n",
    "accuracy_ns = (df_pred['NS'] == df_pred['NS_test']).mean() * 100\n",
    "accuracy_tf = (df_pred['TF'] == df_pred['TF_test']).mean() * 100\n",
    "accuracy_jp = (df_pred['JP'] == df_pred['JP_test']).mean() * 100\n",
    "\n",
    "\n",
    "print(f\"Pourcentage de IE correctement prédits : {accuracy_ie:.2f}%\")\n",
    "print(f\"Pourcentage de NS correctement prédits : {accuracy_ns:.2f}%\")\n",
    "print(f\"Pourcentage de TF correctement prédits : {accuracy_tf:.2f}%\")\n",
    "print(f\"Pourcentage de JP correctement prédits : {accuracy_jp:.2f}%\")"
   ]
  },
  {
   "cell_type": "code",
   "execution_count": 38,
   "id": "SsVS-RUTeVgG",
   "metadata": {
    "executionInfo": {
     "elapsed": 2,
     "status": "ok",
     "timestamp": 1749218314548,
     "user": {
      "displayName": "richard tanguy",
      "userId": "17083172873806882243"
     },
     "user_tz": 240
    },
    "id": "SsVS-RUTeVgG"
   },
   "outputs": [],
   "source": [
    "df_last_model = pd.DataFrame({\n",
    "        'IE': y_pred_ie,\n",
    "        'NS': y_pred_ns,\n",
    "        'TF': y_pred_tf,\n",
    "        'JP': y_pred_jp,\n",
    "        'IE_test': y_test_ie,\n",
    "        'NS_test': y_test_ns,\n",
    "        'TF_test': y_test_tf,\n",
    "        'JP_test': y_test_jp\n",
    "    })"
   ]
  },
  {
   "cell_type": "code",
   "execution_count": 39,
   "id": "dJUsh4s1ffr2",
   "metadata": {
    "colab": {
     "base_uri": "https://localhost:8080/",
     "height": 423
    },
    "executionInfo": {
     "elapsed": 18,
     "status": "ok",
     "timestamp": 1749218314567,
     "user": {
      "displayName": "richard tanguy",
      "userId": "17083172873806882243"
     },
     "user_tz": 240
    },
    "id": "dJUsh4s1ffr2",
    "outputId": "8e3ab26c-0afb-4345-857e-d72298a9f5aa"
   },
   "outputs": [
    {
     "data": {
      "text/html": [
       "<div>\n",
       "<style scoped>\n",
       "    .dataframe tbody tr th:only-of-type {\n",
       "        vertical-align: middle;\n",
       "    }\n",
       "\n",
       "    .dataframe tbody tr th {\n",
       "        vertical-align: top;\n",
       "    }\n",
       "\n",
       "    .dataframe thead th {\n",
       "        text-align: right;\n",
       "    }\n",
       "</style>\n",
       "<table border=\"1\" class=\"dataframe\">\n",
       "  <thead>\n",
       "    <tr style=\"text-align: right;\">\n",
       "      <th></th>\n",
       "      <th>IE</th>\n",
       "      <th>NS</th>\n",
       "      <th>TF</th>\n",
       "      <th>JP</th>\n",
       "      <th>IE_test</th>\n",
       "      <th>NS_test</th>\n",
       "      <th>TF_test</th>\n",
       "      <th>JP_test</th>\n",
       "    </tr>\n",
       "  </thead>\n",
       "  <tbody>\n",
       "    <tr>\n",
       "      <th>1207</th>\n",
       "      <td>0</td>\n",
       "      <td>1</td>\n",
       "      <td>1</td>\n",
       "      <td>0</td>\n",
       "      <td>0</td>\n",
       "      <td>1</td>\n",
       "      <td>1</td>\n",
       "      <td>0</td>\n",
       "    </tr>\n",
       "    <tr>\n",
       "      <th>3910</th>\n",
       "      <td>1</td>\n",
       "      <td>1</td>\n",
       "      <td>1</td>\n",
       "      <td>0</td>\n",
       "      <td>1</td>\n",
       "      <td>1</td>\n",
       "      <td>0</td>\n",
       "      <td>0</td>\n",
       "    </tr>\n",
       "    <tr>\n",
       "      <th>1183</th>\n",
       "      <td>1</td>\n",
       "      <td>1</td>\n",
       "      <td>0</td>\n",
       "      <td>0</td>\n",
       "      <td>1</td>\n",
       "      <td>1</td>\n",
       "      <td>1</td>\n",
       "      <td>0</td>\n",
       "    </tr>\n",
       "    <tr>\n",
       "      <th>100</th>\n",
       "      <td>1</td>\n",
       "      <td>1</td>\n",
       "      <td>0</td>\n",
       "      <td>0</td>\n",
       "      <td>1</td>\n",
       "      <td>1</td>\n",
       "      <td>0</td>\n",
       "      <td>0</td>\n",
       "    </tr>\n",
       "    <tr>\n",
       "      <th>3879</th>\n",
       "      <td>1</td>\n",
       "      <td>1</td>\n",
       "      <td>0</td>\n",
       "      <td>1</td>\n",
       "      <td>1</td>\n",
       "      <td>1</td>\n",
       "      <td>0</td>\n",
       "      <td>1</td>\n",
       "    </tr>\n",
       "    <tr>\n",
       "      <th>...</th>\n",
       "      <td>...</td>\n",
       "      <td>...</td>\n",
       "      <td>...</td>\n",
       "      <td>...</td>\n",
       "      <td>...</td>\n",
       "      <td>...</td>\n",
       "      <td>...</td>\n",
       "      <td>...</td>\n",
       "    </tr>\n",
       "    <tr>\n",
       "      <th>1717</th>\n",
       "      <td>1</td>\n",
       "      <td>1</td>\n",
       "      <td>0</td>\n",
       "      <td>0</td>\n",
       "      <td>0</td>\n",
       "      <td>1</td>\n",
       "      <td>0</td>\n",
       "      <td>1</td>\n",
       "    </tr>\n",
       "    <tr>\n",
       "      <th>3960</th>\n",
       "      <td>1</td>\n",
       "      <td>1</td>\n",
       "      <td>0</td>\n",
       "      <td>1</td>\n",
       "      <td>1</td>\n",
       "      <td>0</td>\n",
       "      <td>1</td>\n",
       "      <td>1</td>\n",
       "    </tr>\n",
       "    <tr>\n",
       "      <th>1803</th>\n",
       "      <td>1</td>\n",
       "      <td>1</td>\n",
       "      <td>0</td>\n",
       "      <td>0</td>\n",
       "      <td>1</td>\n",
       "      <td>0</td>\n",
       "      <td>0</td>\n",
       "      <td>1</td>\n",
       "    </tr>\n",
       "    <tr>\n",
       "      <th>3737</th>\n",
       "      <td>0</td>\n",
       "      <td>1</td>\n",
       "      <td>0</td>\n",
       "      <td>0</td>\n",
       "      <td>1</td>\n",
       "      <td>1</td>\n",
       "      <td>0</td>\n",
       "      <td>0</td>\n",
       "    </tr>\n",
       "    <tr>\n",
       "      <th>227</th>\n",
       "      <td>1</td>\n",
       "      <td>1</td>\n",
       "      <td>0</td>\n",
       "      <td>0</td>\n",
       "      <td>1</td>\n",
       "      <td>1</td>\n",
       "      <td>1</td>\n",
       "      <td>1</td>\n",
       "    </tr>\n",
       "  </tbody>\n",
       "</table>\n",
       "<p>917 rows × 8 columns</p>\n",
       "</div>"
      ],
      "text/plain": [
       "      IE  NS  TF  JP  IE_test  NS_test  TF_test  JP_test\n",
       "1207   0   1   1   0        0        1        1        0\n",
       "3910   1   1   1   0        1        1        0        0\n",
       "1183   1   1   0   0        1        1        1        0\n",
       "100    1   1   0   0        1        1        0        0\n",
       "3879   1   1   0   1        1        1        0        1\n",
       "...   ..  ..  ..  ..      ...      ...      ...      ...\n",
       "1717   1   1   0   0        0        1        0        1\n",
       "3960   1   1   0   1        1        0        1        1\n",
       "1803   1   1   0   0        1        0        0        1\n",
       "3737   0   1   0   0        1        1        0        0\n",
       "227    1   1   0   0        1        1        1        1\n",
       "\n",
       "[917 rows x 8 columns]"
      ]
     },
     "execution_count": 39,
     "metadata": {},
     "output_type": "execute_result"
    }
   ],
   "source": [
    "df_last_model"
   ]
  },
  {
   "cell_type": "code",
   "execution_count": 40,
   "id": "e9hZlwgWnf0m",
   "metadata": {
    "colab": {
     "base_uri": "https://localhost:8080/",
     "height": 487
    },
    "executionInfo": {
     "elapsed": 35,
     "status": "ok",
     "timestamp": 1749219982892,
     "user": {
      "displayName": "richard tanguy",
      "userId": "17083172873806882243"
     },
     "user_tz": 240
    },
    "id": "e9hZlwgWnf0m",
    "outputId": "3ba6acff-5821-4432-e252-ba12f3442dfc"
   },
   "outputs": [
    {
     "data": {
      "image/png": "[encoded data removed]",
      "text/plain": [
       "<Figure size 640x480 with 1 Axes>"
      ]
     },
     "metadata": {},
     "output_type": "display_data"
    }
   ],
   "source": [
    "# Count the values of 0 and 1 for prediction and true labels\n",
    "ie_pred_counts = df_last_model['IE'].value_counts().sort_index()\n",
    "ie_test_counts = df_last_model['IE_test'].value_counts().sort_index()\n",
    "\n",
    "# Define labels\n",
    "labels = ['e (0)', 'i (1)']\n",
    "x = range(len(labels))\n",
    "\n",
    "# Bar plot side by side\n",
    "plt.bar([i - 0.2 for i in x], [ie_test_counts.get(i, 0) for i in range(2)], width=0.4, label='IE_test')\n",
    "plt.bar([i + 0.2 for i in x], [ie_pred_counts.get(i, 0) for i in range(2)], width=0.4, label='IE_pred')\n",
    "\n",
    "plt.xticks(x, labels)\n",
    "plt.xlabel('MBTI - IE dimension')\n",
    "plt.ylabel('Count')\n",
    "plt.title('Comparison of Predicted vs True IE values')\n",
    "plt.legend()\n",
    "plt.grid(axis='y', linestyle='--', alpha=0.7)\n",
    "plt.tight_layout()\n",
    "plt.show()"
   ]
  },
  {
   "cell_type": "code",
   "execution_count": 41,
   "id": "KxuxmcLvoY2b",
   "metadata": {
    "colab": {
     "base_uri": "https://localhost:8080/",
     "height": 487
    },
    "executionInfo": {
     "elapsed": 25,
     "status": "ok",
     "timestamp": 1749220080847,
     "user": {
      "displayName": "richard tanguy",
      "userId": "17083172873806882243"
     },
     "user_tz": 240
    },
    "id": "KxuxmcLvoY2b",
    "outputId": "4421d51a-c9b8-48e2-da32-2b45977a22f5"
   },
   "outputs": [
    {
     "data": {
      "image/png": "[encoded data removed]",
      "text/plain": [
       "<Figure size 640x480 with 1 Axes>"
      ]
     },
     "metadata": {},
     "output_type": "display_data"
    }
   ],
   "source": [
    "# Count the values of 0 and 1 for prediction and true labels\n",
    "ns_pred_counts = df_last_model['NS'].value_counts().sort_index()\n",
    "ns_test_counts = df_last_model['NS_test'].value_counts().sort_index()\n",
    "\n",
    "# Define labels\n",
    "labels = ['s (0)', 'e (1)']\n",
    "x = range(len(labels))\n",
    "\n",
    "# Bar plot side by side\n",
    "plt.bar([i - 0.2 for i in x], [ns_test_counts.get(i, 0) for i in range(2)], width=0.4, label='NS_test')\n",
    "plt.bar([i + 0.2 for i in x], [ns_pred_counts.get(i, 0) for i in range(2)], width=0.4, label='NS_pred')\n",
    "\n",
    "plt.xticks(x, labels)\n",
    "plt.xlabel('MBTI - NS dimension')\n",
    "plt.ylabel('Count')\n",
    "plt.title('Comparison of Predicted vs True NS values')\n",
    "plt.legend()\n",
    "plt.grid(axis='y', linestyle='--', alpha=0.7)\n",
    "plt.tight_layout()\n",
    "plt.show()"
   ]
  },
  {
   "cell_type": "code",
   "execution_count": 42,
   "id": "Jz5TN2j5o8Y8",
   "metadata": {
    "colab": {
     "base_uri": "https://localhost:8080/",
     "height": 487
    },
    "executionInfo": {
     "elapsed": 146,
     "status": "ok",
     "timestamp": 1749220210855,
     "user": {
      "displayName": "richard tanguy",
      "userId": "17083172873806882243"
     },
     "user_tz": 240
    },
    "id": "Jz5TN2j5o8Y8",
    "outputId": "fff1e9b3-d668-4095-a5cd-527f584a4368"
   },
   "outputs": [
    {
     "data": {
      "image/png": "[encoded data removed]",
      "text/plain": [
       "<Figure size 640x480 with 1 Axes>"
      ]
     },
     "metadata": {},
     "output_type": "display_data"
    }
   ],
   "source": [
    "# Count the values of 0 and 1 for prediction and true labels\n",
    "tf_pred_counts = df_last_model['TF'].value_counts().sort_index()\n",
    "tf_test_counts = df_last_model['TF_test'].value_counts().sort_index()\n",
    "\n",
    "# Define labels\n",
    "labels = ['f (0)', 't (1)']\n",
    "x = range(len(labels))\n",
    "\n",
    "# Bar plot side by side\n",
    "plt.bar([i - 0.2 for i in x], [tf_test_counts.get(i, 0) for i in range(2)], width=0.4, label='TF_test')\n",
    "plt.bar([i + 0.2 for i in x], [tf_pred_counts.get(i, 0) for i in range(2)], width=0.4, label='TF_pred')\n",
    "\n",
    "plt.xticks(x, labels)\n",
    "plt.xlabel('MBTI - TF dimension')\n",
    "plt.ylabel('Count')\n",
    "plt.title('Comparison of Predicted vs True TF values')\n",
    "plt.legend()\n",
    "plt.grid(axis='y', linestyle='--', alpha=0.7)\n",
    "plt.tight_layout()\n",
    "plt.show()"
   ]
  },
  {
   "cell_type": "code",
   "execution_count": 43,
   "id": "oc_-Bkojpjao",
   "metadata": {
    "colab": {
     "base_uri": "https://localhost:8080/",
     "height": 487
    },
    "executionInfo": {
     "elapsed": 52,
     "status": "ok",
     "timestamp": 1749220266926,
     "user": {
      "displayName": "richard tanguy",
      "userId": "17083172873806882243"
     },
     "user_tz": 240
    },
    "id": "oc_-Bkojpjao",
    "outputId": "f0b40c66-bc1b-4a2d-a4aa-c9733543dfb8"
   },
   "outputs": [
    {
     "data": {
      "image/png": "[encoded data removed]",
      "text/plain": [
       "<Figure size 640x480 with 1 Axes>"
      ]
     },
     "metadata": {},
     "output_type": "display_data"
    }
   ],
   "source": [
    "# Count the values of 0 and 1 for prediction and true labels\n",
    "jp_pred_counts = df_last_model['JP'].value_counts().sort_index()\n",
    "jp_test_counts = df_last_model['JP_test'].value_counts().sort_index()\n",
    "\n",
    "# Define labels\n",
    "labels = ['p (0)', 'j (1)']\n",
    "x = range(len(labels))\n",
    "\n",
    "# Bar plot side by side\n",
    "plt.bar([i - 0.2 for i in x], [jp_test_counts.get(i, 0) for i in range(2)], width=0.4, label='JP_test')\n",
    "plt.bar([i + 0.2 for i in x], [jp_pred_counts.get(i, 0) for i in range(2)], width=0.4, label='JP_pred')\n",
    "\n",
    "plt.xticks(x, labels)\n",
    "plt.xlabel('MBTI - JP dimension')\n",
    "plt.ylabel('Count')\n",
    "plt.title('Comparison of Predicted vs True JP values')\n",
    "plt.legend()\n",
    "plt.grid(axis='y', linestyle='--', alpha=0.7)\n",
    "plt.tight_layout()\n",
    "plt.show()"
   ]
  },
  {
   "cell_type": "code",
   "execution_count": null,
   "id": "wzN7Gv2xpxGY",
   "metadata": {
    "id": "wzN7Gv2xpxGY"
   },
   "outputs": [],
   "source": []
  }
 ],
 "metadata": {
  "accelerator": "GPU",
  "colab": {
   "gpuType": "A100",
   "machine_shape": "hm",
   "provenance": []
  },
  "kernelspec": {
   "display_name": "vibe",
   "language": "python",
   "name": "python3"
  },
  "language_info": {
   "codemirror_mode": {
    "name": "ipython",
    "version": 3
   },
   "file_extension": ".py",
   "mimetype": "text/x-python",
   "name": "python",
   "nbconvert_exporter": "python",
   "pygments_lexer": "ipython3",
   "version": "3.12.9"
  }
 },
 "nbformat": 4,
 "nbformat_minor": 5
}
