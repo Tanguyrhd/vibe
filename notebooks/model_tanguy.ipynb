{
 "cells": [
  {
   "cell_type": "code",
   "execution_count": 1,
   "id": "9b629ab2",
   "metadata": {},
   "outputs": [
    {
     "name": "stderr",
     "output_type": "stream",
     "text": [
      "/home/tanguy/.pyenv/versions/3.12.9/envs/vibe/lib/python3.12/site-packages/tqdm/auto.py:21: TqdmWarning: IProgress not found. Please update jupyter and ipywidgets. See https://ipywidgets.readthedocs.io/en/stable/user_install.html\n",
      "  from .autonotebook import tqdm as notebook_tqdm\n"
     ]
    }
   ],
   "source": [
    "import pandas as pd\n",
    "from transformers import AutoTokenizer\n",
    "from transformers import TFAutoModelForSequenceClassification\n",
    "from sklearn.model_selection import train_test_split"
   ]
  },
  {
   "cell_type": "code",
   "execution_count": 2,
   "id": "a19e153a",
   "metadata": {},
   "outputs": [
    {
     "name": "stdout",
     "output_type": "stream",
     "text": [
      "the pope is infallible this is a catholic dogma it doesnt mean the and by perpetually it entails that the church herself can elect new po you open the door to unironic nonsense when you believe this nonsense you dont know your own faith lol you just tried to say that perpetua thats like me saying that im gonna give you a bike that will never b you have a dumb view of gods preservation of the church god doesnt its not heretical all sedes do is take quotes out of context from vatican is not a new religion you moron lol its an ecumenical counc the issue isnt the mere vacancy its the fact you dont think its po denying dogmas and then saying muh mystery is such a liberal way of no its not just muh mystery its a blatant contradiction god doesn it didnt take years for the pope to have a legitimate successor pe your position is simply heretical it defies the indefectibility of th it means that despite interregnum periods there will always be perpetu that is a blatant misreading of vatican lol its twisting the text s so they believe that the papacy has defected as they believe its bee and before you say its just a gap all sedes i have spoken to admit im not a sede and i believe everything the church has taught for k y ur literally a sedevacantist industrial revolution and its consequences have not been bussin for the squad bcoz you have a big heart are you below australia guys i feel like capitalism isnt going to be overthrown anytime soon this picture kinda goes super hard tbh you know how we have mariology i think jesuits have floydiology still puzzled over the fact that fr james\n",
      "intj\n"
     ]
    }
   ],
   "source": [
    "df = pd.read_csv(\"../raw_data/mbti_chunked_clean.csv\")\n",
    "\n",
    "print(df[\"text\"][0])\n",
    "print(df[\"label\"][0])"
   ]
  },
  {
   "cell_type": "code",
   "execution_count": 3,
   "id": "1d8091bd",
   "metadata": {},
   "outputs": [
    {
     "data": {
      "text/html": [
       "<div>\n",
       "<style scoped>\n",
       "    .dataframe tbody tr th:only-of-type {\n",
       "        vertical-align: middle;\n",
       "    }\n",
       "\n",
       "    .dataframe tbody tr th {\n",
       "        vertical-align: top;\n",
       "    }\n",
       "\n",
       "    .dataframe thead th {\n",
       "        text-align: right;\n",
       "    }\n",
       "</style>\n",
       "<table border=\"1\" class=\"dataframe\">\n",
       "  <thead>\n",
       "    <tr style=\"text-align: right;\">\n",
       "      <th></th>\n",
       "      <th>chunk_id</th>\n",
       "      <th>label</th>\n",
       "      <th>text</th>\n",
       "    </tr>\n",
       "  </thead>\n",
       "  <tbody>\n",
       "    <tr>\n",
       "      <th>0</th>\n",
       "      <td>1</td>\n",
       "      <td>intj</td>\n",
       "      <td>the pope is infallible this is a catholic dogm...</td>\n",
       "    </tr>\n",
       "    <tr>\n",
       "      <th>1</th>\n",
       "      <td>2</td>\n",
       "      <td>intj</td>\n",
       "      <td>martin said that george floyd was in heaven it...</td>\n",
       "    </tr>\n",
       "    <tr>\n",
       "      <th>2</th>\n",
       "      <td>3</td>\n",
       "      <td>intj</td>\n",
       "      <td>while supporting abortion lol abortion again i...</td>\n",
       "    </tr>\n",
       "    <tr>\n",
       "      <th>3</th>\n",
       "      <td>4</td>\n",
       "      <td>intj</td>\n",
       "      <td>views on predestination exist in the catholic ...</td>\n",
       "    </tr>\n",
       "    <tr>\n",
       "      <th>4</th>\n",
       "      <td>5</td>\n",
       "      <td>intj</td>\n",
       "      <td>a little kitty cat i mean the real dangerousne...</td>\n",
       "    </tr>\n",
       "  </tbody>\n",
       "</table>\n",
       "</div>"
      ],
      "text/plain": [
       "   chunk_id label                                               text\n",
       "0         1  intj  the pope is infallible this is a catholic dogm...\n",
       "1         2  intj  martin said that george floyd was in heaven it...\n",
       "2         3  intj  while supporting abortion lol abortion again i...\n",
       "3         4  intj  views on predestination exist in the catholic ...\n",
       "4         5  intj  a little kitty cat i mean the real dangerousne..."
      ]
     },
     "execution_count": 3,
     "metadata": {},
     "output_type": "execute_result"
    }
   ],
   "source": [
    "df.head()"
   ]
  },
  {
   "cell_type": "code",
   "execution_count": 4,
   "id": "768ed8b6",
   "metadata": {},
   "outputs": [],
   "source": [
    "X = df['text']\n",
    "y = df['label']"
   ]
  },
  {
   "cell_type": "code",
   "execution_count": 5,
   "id": "6d01ee39",
   "metadata": {},
   "outputs": [],
   "source": [
    "tokenizer = AutoTokenizer.from_pretrained(\"roberta-base\")"
   ]
  },
  {
   "cell_type": "code",
   "execution_count": 6,
   "id": "f8bfeb15",
   "metadata": {},
   "outputs": [],
   "source": [
    "X_train, X_test, y_train, y_test = train_test_split(X, y)"
   ]
  },
  {
   "cell_type": "code",
   "execution_count": 7,
   "id": "ffee6430",
   "metadata": {},
   "outputs": [
    {
     "name": "stderr",
     "output_type": "stream",
     "text": [
      "2025-06-03 16:45:03.415009: I external/local_xla/xla/tsl/cuda/cudart_stub.cc:32] Could not find cuda drivers on your machine, GPU will not be used.\n",
      "2025-06-03 16:45:03.696475: I external/local_xla/xla/tsl/cuda/cudart_stub.cc:32] Could not find cuda drivers on your machine, GPU will not be used.\n",
      "2025-06-03 16:45:03.998377: E external/local_xla/xla/stream_executor/cuda/cuda_fft.cc:467] Unable to register cuFFT factory: Attempting to register factory for plugin cuFFT when one has already been registered\n",
      "WARNING: All log messages before absl::InitializeLog() is called are written to STDERR\n",
      "E0000 00:00:1748983504.209527    1784 cuda_dnn.cc:8579] Unable to register cuDNN factory: Attempting to register factory for plugin cuDNN when one has already been registered\n",
      "E0000 00:00:1748983504.265875    1784 cuda_blas.cc:1407] Unable to register cuBLAS factory: Attempting to register factory for plugin cuBLAS when one has already been registered\n",
      "W0000 00:00:1748983505.311514    1784 computation_placer.cc:177] computation placer already registered. Please check linkage and avoid linking the same target more than once.\n",
      "W0000 00:00:1748983505.311563    1784 computation_placer.cc:177] computation placer already registered. Please check linkage and avoid linking the same target more than once.\n",
      "W0000 00:00:1748983505.311568    1784 computation_placer.cc:177] computation placer already registered. Please check linkage and avoid linking the same target more than once.\n",
      "W0000 00:00:1748983505.311572    1784 computation_placer.cc:177] computation placer already registered. Please check linkage and avoid linking the same target more than once.\n",
      "2025-06-03 16:45:05.452136: I tensorflow/core/platform/cpu_feature_guard.cc:210] This TensorFlow binary is optimized to use available CPU instructions in performance-critical operations.\n",
      "To enable the following instructions: AVX2 FMA, in other operations, rebuild TensorFlow with the appropriate compiler flags.\n",
      "2025-06-03 16:45:15.885959: E external/local_xla/xla/stream_executor/cuda/cuda_platform.cc:51] failed call to cuInit: INTERNAL: CUDA error: Failed call to cuInit: UNKNOWN ERROR (303)\n"
     ]
    }
   ],
   "source": [
    "X_train_tok = tokenizer(X_train.tolist(), padding=True, truncation=True, max_length=512, return_tensors=\"tf\")\n",
    "X_test_tok = tokenizer(X_test.tolist(), padding=True, truncation=True, max_length=512, return_tensors=\"tf\")"
   ]
  },
  {
   "cell_type": "code",
   "execution_count": 8,
   "id": "939fe27c",
   "metadata": {},
   "outputs": [
    {
     "data": {
      "text/plain": [
       "<tf.Tensor: shape=(24885, 512), dtype=int32, numpy=\n",
       "array([[    0,   282,   117, ...,     1,     1,     1],\n",
       "       [    0,   118,   657, ...,     1,     1,     1],\n",
       "       [    0,  4183,  4157, ...,     1,     1,     1],\n",
       "       ...,\n",
       "       [    0, 25382, 34946, ...,     1,     1,     1],\n",
       "       [    0, 25667,   579, ...,     1,     1,     1],\n",
       "       [    0,  2871,  2590, ...,     1,     1,     1]], dtype=int32)>"
      ]
     },
     "execution_count": 8,
     "metadata": {},
     "output_type": "execute_result"
    }
   ],
   "source": [
    "X_train_tok['input_ids']"
   ]
  },
  {
   "cell_type": "code",
   "execution_count": 9,
   "id": "a64d0b8a",
   "metadata": {},
   "outputs": [
    {
     "name": "stderr",
     "output_type": "stream",
     "text": [
      "2025-06-03 16:45:38.404289: W external/local_xla/xla/tsl/framework/cpu_allocator_impl.cc:83] Allocation of 154414080 exceeds 10% of free system memory.\n",
      "2025-06-03 16:45:38.900875: W external/local_xla/xla/tsl/framework/cpu_allocator_impl.cc:83] Allocation of 154414080 exceeds 10% of free system memory.\n",
      "2025-06-03 16:45:38.962415: W external/local_xla/xla/tsl/framework/cpu_allocator_impl.cc:83] Allocation of 154414080 exceeds 10% of free system memory.\n",
      "2025-06-03 16:45:41.721868: W external/local_xla/xla/tsl/framework/cpu_allocator_impl.cc:83] Allocation of 154414080 exceeds 10% of free system memory.\n",
      "Some weights of the PyTorch model were not used when initializing the TF 2.0 model TFRobertaForSequenceClassification: ['roberta.embeddings.position_ids']\n",
      "- This IS expected if you are initializing TFRobertaForSequenceClassification from a PyTorch model trained on another task or with another architecture (e.g. initializing a TFBertForSequenceClassification model from a BertForPreTraining model).\n",
      "- This IS NOT expected if you are initializing TFRobertaForSequenceClassification from a PyTorch model that you expect to be exactly identical (e.g. initializing a TFBertForSequenceClassification model from a BertForSequenceClassification model).\n",
      "Some weights or buffers of the TF 2.0 model TFRobertaForSequenceClassification were not initialized from the PyTorch model and are newly initialized: ['classifier.dense.weight', 'classifier.dense.bias', 'classifier.out_proj.weight', 'classifier.out_proj.bias']\n",
      "You should probably TRAIN this model on a down-stream task to be able to use it for predictions and inference.\n"
     ]
    },
    {
     "name": "stdout",
     "output_type": "stream",
     "text": [
      "Epoch 1/5\n"
     ]
    },
    {
     "name": "stderr",
     "output_type": "stream",
     "text": [
      "2025-06-03 16:45:56.358918: W external/local_xla/xla/tsl/framework/cpu_allocator_impl.cc:83] Allocation of 154414080 exceeds 10% of free system memory.\n",
      "2025-06-03 16:46:27.121846: W tensorflow/core/framework/op_kernel.cc:1833] OP_REQUIRES failed at cast_op.cc:122 : UNIMPLEMENTED: Cast string to float is not supported\n"
     ]
    },
    {
     "ename": "UnimplementedError",
     "evalue": "Graph execution error:\n\nDetected at node Cast_1 defined at (most recent call last):\n  File \"<frozen runpy>\", line 198, in _run_module_as_main\n\n  File \"<frozen runpy>\", line 88, in _run_code\n\n  File \"/home/tanguy/.pyenv/versions/3.12.9/envs/vibe/lib/python3.12/site-packages/ipykernel_launcher.py\", line 18, in <module>\n\n  File \"/home/tanguy/.pyenv/versions/3.12.9/envs/vibe/lib/python3.12/site-packages/traitlets/config/application.py\", line 1075, in launch_instance\n\n  File \"/home/tanguy/.pyenv/versions/3.12.9/envs/vibe/lib/python3.12/site-packages/ipykernel/kernelapp.py\", line 739, in start\n\n  File \"/home/tanguy/.pyenv/versions/3.12.9/envs/vibe/lib/python3.12/site-packages/tornado/platform/asyncio.py\", line 211, in start\n\n  File \"/home/tanguy/.pyenv/versions/3.12.9/lib/python3.12/asyncio/base_events.py\", line 645, in run_forever\n\n  File \"/home/tanguy/.pyenv/versions/3.12.9/lib/python3.12/asyncio/base_events.py\", line 1999, in _run_once\n\n  File \"/home/tanguy/.pyenv/versions/3.12.9/lib/python3.12/asyncio/events.py\", line 88, in _run\n\n  File \"/home/tanguy/.pyenv/versions/3.12.9/envs/vibe/lib/python3.12/site-packages/ipykernel/kernelbase.py\", line 545, in dispatch_queue\n\n  File \"/home/tanguy/.pyenv/versions/3.12.9/envs/vibe/lib/python3.12/site-packages/ipykernel/kernelbase.py\", line 534, in process_one\n\n  File \"/home/tanguy/.pyenv/versions/3.12.9/envs/vibe/lib/python3.12/site-packages/ipykernel/kernelbase.py\", line 437, in dispatch_shell\n\n  File \"/home/tanguy/.pyenv/versions/3.12.9/envs/vibe/lib/python3.12/site-packages/ipykernel/ipkernel.py\", line 362, in execute_request\n\n  File \"/home/tanguy/.pyenv/versions/3.12.9/envs/vibe/lib/python3.12/site-packages/ipykernel/kernelbase.py\", line 778, in execute_request\n\n  File \"/home/tanguy/.pyenv/versions/3.12.9/envs/vibe/lib/python3.12/site-packages/ipykernel/ipkernel.py\", line 449, in do_execute\n\n  File \"/home/tanguy/.pyenv/versions/3.12.9/envs/vibe/lib/python3.12/site-packages/ipykernel/zmqshell.py\", line 549, in run_cell\n\n  File \"/home/tanguy/.pyenv/versions/3.12.9/envs/vibe/lib/python3.12/site-packages/IPython/core/interactiveshell.py\", line 3100, in run_cell\n\n  File \"/home/tanguy/.pyenv/versions/3.12.9/envs/vibe/lib/python3.12/site-packages/IPython/core/interactiveshell.py\", line 3155, in _run_cell\n\n  File \"/home/tanguy/.pyenv/versions/3.12.9/envs/vibe/lib/python3.12/site-packages/IPython/core/async_helpers.py\", line 128, in _pseudo_sync_runner\n\n  File \"/home/tanguy/.pyenv/versions/3.12.9/envs/vibe/lib/python3.12/site-packages/IPython/core/interactiveshell.py\", line 3367, in run_cell_async\n\n  File \"/home/tanguy/.pyenv/versions/3.12.9/envs/vibe/lib/python3.12/site-packages/IPython/core/interactiveshell.py\", line 3612, in run_ast_nodes\n\n  File \"/home/tanguy/.pyenv/versions/3.12.9/envs/vibe/lib/python3.12/site-packages/IPython/core/interactiveshell.py\", line 3672, in run_code\n\n  File \"/tmp/ipykernel_1784/8865460.py\", line 3, in <module>\n\n  File \"/home/tanguy/.pyenv/versions/3.12.9/envs/vibe/lib/python3.12/site-packages/transformers/modeling_tf_utils.py\", line 1209, in fit\n\n  File \"/home/tanguy/.pyenv/versions/3.12.9/envs/vibe/lib/python3.12/site-packages/tf_keras/src/utils/traceback_utils.py\", line 65, in error_handler\n\n  File \"/home/tanguy/.pyenv/versions/3.12.9/envs/vibe/lib/python3.12/site-packages/tf_keras/src/engine/training.py\", line 1804, in fit\n\n  File \"/home/tanguy/.pyenv/versions/3.12.9/envs/vibe/lib/python3.12/site-packages/tf_keras/src/engine/training.py\", line 1398, in train_function\n\n  File \"/home/tanguy/.pyenv/versions/3.12.9/envs/vibe/lib/python3.12/site-packages/tf_keras/src/engine/training.py\", line 1381, in step_function\n\n  File \"/home/tanguy/.pyenv/versions/3.12.9/envs/vibe/lib/python3.12/site-packages/tf_keras/src/engine/training.py\", line 1370, in run_step\n\n  File \"/home/tanguy/.pyenv/versions/3.12.9/envs/vibe/lib/python3.12/site-packages/transformers/modeling_tf_utils.py\", line 1691, in train_step\n\n  File \"/home/tanguy/.pyenv/versions/3.12.9/envs/vibe/lib/python3.12/site-packages/tf_keras/src/engine/compile_utils.py\", line 620, in update_state\n\n  File \"/home/tanguy/.pyenv/versions/3.12.9/envs/vibe/lib/python3.12/site-packages/tf_keras/src/utils/metrics_utils.py\", line 77, in decorated\n\n  File \"/home/tanguy/.pyenv/versions/3.12.9/envs/vibe/lib/python3.12/site-packages/tf_keras/src/metrics/base_metric.py\", line 140, in update_state_fn\n\n  File \"/home/tanguy/.pyenv/versions/3.12.9/envs/vibe/lib/python3.12/site-packages/tf_keras/src/metrics/base_metric.py\", line 707, in update_state\n\nCast string to float is not supported\n\t [[{{node Cast_1}}]] [Op:__inference_train_function_34337]",
     "output_type": "error",
     "traceback": [
      "\u001b[31m---------------------------------------------------------------------------\u001b[39m",
      "\u001b[31mUnimplementedError\u001b[39m                        Traceback (most recent call last)",
      "\u001b[36mCell\u001b[39m\u001b[36m \u001b[39m\u001b[32mIn[9]\u001b[39m\u001b[32m, line 3\u001b[39m\n\u001b[32m      1\u001b[39m model = TFAutoModelForSequenceClassification.from_pretrained(\u001b[33m\"\u001b[39m\u001b[33mroberta-base\u001b[39m\u001b[33m\"\u001b[39m, num_labels=\u001b[32m16\u001b[39m)\n\u001b[32m      2\u001b[39m model.compile(optimizer= \u001b[33m\"\u001b[39m\u001b[33madam\u001b[39m\u001b[33m\"\u001b[39m, metrics= \u001b[33m\"\u001b[39m\u001b[33maccuracy\u001b[39m\u001b[33m\"\u001b[39m)\n\u001b[32m----> \u001b[39m\u001b[32m3\u001b[39m \u001b[43mmodel\u001b[49m\u001b[43m.\u001b[49m\u001b[43mfit\u001b[49m\u001b[43m(\u001b[49m\u001b[43mX_train_tok\u001b[49m\u001b[43m,\u001b[49m\u001b[43m \u001b[49m\u001b[43my_train\u001b[49m\u001b[43m,\u001b[49m\u001b[43m \u001b[49m\u001b[43mvalidation_split\u001b[49m\u001b[43m=\u001b[49m\u001b[32;43m0.2\u001b[39;49m\u001b[43m,\u001b[49m\u001b[43m \u001b[49m\u001b[43mbatch_size\u001b[49m\u001b[43m=\u001b[49m\u001b[32;43m32\u001b[39;49m\u001b[43m,\u001b[49m\u001b[43m \u001b[49m\u001b[43mepochs\u001b[49m\u001b[43m=\u001b[49m\u001b[32;43m5\u001b[39;49m\u001b[43m)\u001b[49m\n\u001b[32m      5\u001b[39m model.evaluate(X_test_tok, y_test)\n",
      "\u001b[36mFile \u001b[39m\u001b[32m~/.pyenv/versions/3.12.9/envs/vibe/lib/python3.12/site-packages/transformers/modeling_tf_utils.py:1209\u001b[39m, in \u001b[36mTFPreTrainedModel.fit\u001b[39m\u001b[34m(self, *args, **kwargs)\u001b[39m\n\u001b[32m   1206\u001b[39m \u001b[38;5;129m@functools\u001b[39m.wraps(keras.Model.fit)\n\u001b[32m   1207\u001b[39m \u001b[38;5;28;01mdef\u001b[39;00m\u001b[38;5;250m \u001b[39m\u001b[34mfit\u001b[39m(\u001b[38;5;28mself\u001b[39m, *args, **kwargs):\n\u001b[32m   1208\u001b[39m     args, kwargs = convert_batch_encoding(*args, **kwargs)\n\u001b[32m-> \u001b[39m\u001b[32m1209\u001b[39m     \u001b[38;5;28;01mreturn\u001b[39;00m \u001b[38;5;28;43msuper\u001b[39;49m\u001b[43m(\u001b[49m\u001b[43m)\u001b[49m\u001b[43m.\u001b[49m\u001b[43mfit\u001b[49m\u001b[43m(\u001b[49m\u001b[43m*\u001b[49m\u001b[43margs\u001b[49m\u001b[43m,\u001b[49m\u001b[43m \u001b[49m\u001b[43m*\u001b[49m\u001b[43m*\u001b[49m\u001b[43mkwargs\u001b[49m\u001b[43m)\u001b[49m\n",
      "\u001b[36mFile \u001b[39m\u001b[32m~/.pyenv/versions/3.12.9/envs/vibe/lib/python3.12/site-packages/tf_keras/src/utils/traceback_utils.py:70\u001b[39m, in \u001b[36mfilter_traceback.<locals>.error_handler\u001b[39m\u001b[34m(*args, **kwargs)\u001b[39m\n\u001b[32m     67\u001b[39m     filtered_tb = _process_traceback_frames(e.__traceback__)\n\u001b[32m     68\u001b[39m     \u001b[38;5;66;03m# To get the full stack trace, call:\u001b[39;00m\n\u001b[32m     69\u001b[39m     \u001b[38;5;66;03m# `tf.debugging.disable_traceback_filtering()`\u001b[39;00m\n\u001b[32m---> \u001b[39m\u001b[32m70\u001b[39m     \u001b[38;5;28;01mraise\u001b[39;00m e.with_traceback(filtered_tb) \u001b[38;5;28;01mfrom\u001b[39;00m\u001b[38;5;250m \u001b[39m\u001b[38;5;28;01mNone\u001b[39;00m\n\u001b[32m     71\u001b[39m \u001b[38;5;28;01mfinally\u001b[39;00m:\n\u001b[32m     72\u001b[39m     \u001b[38;5;28;01mdel\u001b[39;00m filtered_tb\n",
      "\u001b[36mFile \u001b[39m\u001b[32m~/.pyenv/versions/3.12.9/envs/vibe/lib/python3.12/site-packages/tensorflow/python/eager/execute.py:53\u001b[39m, in \u001b[36mquick_execute\u001b[39m\u001b[34m(op_name, num_outputs, inputs, attrs, ctx, name)\u001b[39m\n\u001b[32m     51\u001b[39m \u001b[38;5;28;01mtry\u001b[39;00m:\n\u001b[32m     52\u001b[39m   ctx.ensure_initialized()\n\u001b[32m---> \u001b[39m\u001b[32m53\u001b[39m   tensors = pywrap_tfe.TFE_Py_Execute(ctx._handle, device_name, op_name,\n\u001b[32m     54\u001b[39m                                       inputs, attrs, num_outputs)\n\u001b[32m     55\u001b[39m \u001b[38;5;28;01mexcept\u001b[39;00m core._NotOkStatusException \u001b[38;5;28;01mas\u001b[39;00m e:\n\u001b[32m     56\u001b[39m   \u001b[38;5;28;01mif\u001b[39;00m name \u001b[38;5;129;01mis\u001b[39;00m \u001b[38;5;129;01mnot\u001b[39;00m \u001b[38;5;28;01mNone\u001b[39;00m:\n",
      "\u001b[31mUnimplementedError\u001b[39m: Graph execution error:\n\nDetected at node Cast_1 defined at (most recent call last):\n  File \"<frozen runpy>\", line 198, in _run_module_as_main\n\n  File \"<frozen runpy>\", line 88, in _run_code\n\n  File \"/home/tanguy/.pyenv/versions/3.12.9/envs/vibe/lib/python3.12/site-packages/ipykernel_launcher.py\", line 18, in <module>\n\n  File \"/home/tanguy/.pyenv/versions/3.12.9/envs/vibe/lib/python3.12/site-packages/traitlets/config/application.py\", line 1075, in launch_instance\n\n  File \"/home/tanguy/.pyenv/versions/3.12.9/envs/vibe/lib/python3.12/site-packages/ipykernel/kernelapp.py\", line 739, in start\n\n  File \"/home/tanguy/.pyenv/versions/3.12.9/envs/vibe/lib/python3.12/site-packages/tornado/platform/asyncio.py\", line 211, in start\n\n  File \"/home/tanguy/.pyenv/versions/3.12.9/lib/python3.12/asyncio/base_events.py\", line 645, in run_forever\n\n  File \"/home/tanguy/.pyenv/versions/3.12.9/lib/python3.12/asyncio/base_events.py\", line 1999, in _run_once\n\n  File \"/home/tanguy/.pyenv/versions/3.12.9/lib/python3.12/asyncio/events.py\", line 88, in _run\n\n  File \"/home/tanguy/.pyenv/versions/3.12.9/envs/vibe/lib/python3.12/site-packages/ipykernel/kernelbase.py\", line 545, in dispatch_queue\n\n  File \"/home/tanguy/.pyenv/versions/3.12.9/envs/vibe/lib/python3.12/site-packages/ipykernel/kernelbase.py\", line 534, in process_one\n\n  File \"/home/tanguy/.pyenv/versions/3.12.9/envs/vibe/lib/python3.12/site-packages/ipykernel/kernelbase.py\", line 437, in dispatch_shell\n\n  File \"/home/tanguy/.pyenv/versions/3.12.9/envs/vibe/lib/python3.12/site-packages/ipykernel/ipkernel.py\", line 362, in execute_request\n\n  File \"/home/tanguy/.pyenv/versions/3.12.9/envs/vibe/lib/python3.12/site-packages/ipykernel/kernelbase.py\", line 778, in execute_request\n\n  File \"/home/tanguy/.pyenv/versions/3.12.9/envs/vibe/lib/python3.12/site-packages/ipykernel/ipkernel.py\", line 449, in do_execute\n\n  File \"/home/tanguy/.pyenv/versions/3.12.9/envs/vibe/lib/python3.12/site-packages/ipykernel/zmqshell.py\", line 549, in run_cell\n\n  File \"/home/tanguy/.pyenv/versions/3.12.9/envs/vibe/lib/python3.12/site-packages/IPython/core/interactiveshell.py\", line 3100, in run_cell\n\n  File \"/home/tanguy/.pyenv/versions/3.12.9/envs/vibe/lib/python3.12/site-packages/IPython/core/interactiveshell.py\", line 3155, in _run_cell\n\n  File \"/home/tanguy/.pyenv/versions/3.12.9/envs/vibe/lib/python3.12/site-packages/IPython/core/async_helpers.py\", line 128, in _pseudo_sync_runner\n\n  File \"/home/tanguy/.pyenv/versions/3.12.9/envs/vibe/lib/python3.12/site-packages/IPython/core/interactiveshell.py\", line 3367, in run_cell_async\n\n  File \"/home/tanguy/.pyenv/versions/3.12.9/envs/vibe/lib/python3.12/site-packages/IPython/core/interactiveshell.py\", line 3612, in run_ast_nodes\n\n  File \"/home/tanguy/.pyenv/versions/3.12.9/envs/vibe/lib/python3.12/site-packages/IPython/core/interactiveshell.py\", line 3672, in run_code\n\n  File \"/tmp/ipykernel_1784/8865460.py\", line 3, in <module>\n\n  File \"/home/tanguy/.pyenv/versions/3.12.9/envs/vibe/lib/python3.12/site-packages/transformers/modeling_tf_utils.py\", line 1209, in fit\n\n  File \"/home/tanguy/.pyenv/versions/3.12.9/envs/vibe/lib/python3.12/site-packages/tf_keras/src/utils/traceback_utils.py\", line 65, in error_handler\n\n  File \"/home/tanguy/.pyenv/versions/3.12.9/envs/vibe/lib/python3.12/site-packages/tf_keras/src/engine/training.py\", line 1804, in fit\n\n  File \"/home/tanguy/.pyenv/versions/3.12.9/envs/vibe/lib/python3.12/site-packages/tf_keras/src/engine/training.py\", line 1398, in train_function\n\n  File \"/home/tanguy/.pyenv/versions/3.12.9/envs/vibe/lib/python3.12/site-packages/tf_keras/src/engine/training.py\", line 1381, in step_function\n\n  File \"/home/tanguy/.pyenv/versions/3.12.9/envs/vibe/lib/python3.12/site-packages/tf_keras/src/engine/training.py\", line 1370, in run_step\n\n  File \"/home/tanguy/.pyenv/versions/3.12.9/envs/vibe/lib/python3.12/site-packages/transformers/modeling_tf_utils.py\", line 1691, in train_step\n\n  File \"/home/tanguy/.pyenv/versions/3.12.9/envs/vibe/lib/python3.12/site-packages/tf_keras/src/engine/compile_utils.py\", line 620, in update_state\n\n  File \"/home/tanguy/.pyenv/versions/3.12.9/envs/vibe/lib/python3.12/site-packages/tf_keras/src/utils/metrics_utils.py\", line 77, in decorated\n\n  File \"/home/tanguy/.pyenv/versions/3.12.9/envs/vibe/lib/python3.12/site-packages/tf_keras/src/metrics/base_metric.py\", line 140, in update_state_fn\n\n  File \"/home/tanguy/.pyenv/versions/3.12.9/envs/vibe/lib/python3.12/site-packages/tf_keras/src/metrics/base_metric.py\", line 707, in update_state\n\nCast string to float is not supported\n\t [[{{node Cast_1}}]] [Op:__inference_train_function_34337]"
     ]
    }
   ],
   "source": [
    "model = TFAutoModelForSequenceClassification.from_pretrained(\"roberta-base\", num_labels=16)\n",
    "model.compile(optimizer= \"adam\", metrics= \"accuracy\")\n",
    "model.fit(X_train_tok, y_train, validation_split=0.2, batch_size=32, epochs=5)\n",
    "\n",
    "model.evaluate(X_test_tok, y_test)"
   ]
  },
  {
   "cell_type": "code",
   "execution_count": null,
   "id": "37a174a7",
   "metadata": {},
   "outputs": [],
   "source": []
  }
 ],
 "metadata": {
  "kernelspec": {
   "display_name": "vibe",
   "language": "python",
   "name": "python3"
  },
  "language_info": {
   "codemirror_mode": {
    "name": "ipython",
    "version": 3
   },
   "file_extension": ".py",
   "mimetype": "text/x-python",
   "name": "python",
   "nbconvert_exporter": "python",
   "pygments_lexer": "ipython3",
   "version": "3.12.9"
  }
 },
 "nbformat": 4,
 "nbformat_minor": 5
}
