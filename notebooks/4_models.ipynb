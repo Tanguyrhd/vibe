{
 "cells": [
  {
   "cell_type": "code",
   "execution_count": 2,
   "id": "8ae97ae7",
   "metadata": {},
   "outputs": [],
   "source": [
    "import pandas as pd"
   ]
  },
  {
   "cell_type": "code",
   "execution_count": 3,
   "id": "441a4843",
   "metadata": {},
   "outputs": [],
   "source": [
    "df = pd.read_csv('../raw_data/mbti_chunked_clean.csv')"
   ]
  },
  {
   "cell_type": "code",
   "execution_count": 4,
   "id": "44eab20b",
   "metadata": {},
   "outputs": [
    {
     "data": {
      "text/html": [
       "<div>\n",
       "<style scoped>\n",
       "    .dataframe tbody tr th:only-of-type {\n",
       "        vertical-align: middle;\n",
       "    }\n",
       "\n",
       "    .dataframe tbody tr th {\n",
       "        vertical-align: top;\n",
       "    }\n",
       "\n",
       "    .dataframe thead th {\n",
       "        text-align: right;\n",
       "    }\n",
       "</style>\n",
       "<table border=\"1\" class=\"dataframe\">\n",
       "  <thead>\n",
       "    <tr style=\"text-align: right;\">\n",
       "      <th></th>\n",
       "      <th>chunk_id</th>\n",
       "      <th>label</th>\n",
       "      <th>text</th>\n",
       "    </tr>\n",
       "  </thead>\n",
       "  <tbody>\n",
       "    <tr>\n",
       "      <th>0</th>\n",
       "      <td>1</td>\n",
       "      <td>intj</td>\n",
       "      <td>the pope is infallible this is a catholic dogm...</td>\n",
       "    </tr>\n",
       "    <tr>\n",
       "      <th>1</th>\n",
       "      <td>2</td>\n",
       "      <td>intj</td>\n",
       "      <td>martin said that george floyd was in heaven it...</td>\n",
       "    </tr>\n",
       "    <tr>\n",
       "      <th>2</th>\n",
       "      <td>3</td>\n",
       "      <td>intj</td>\n",
       "      <td>while supporting abortion lol abortion again i...</td>\n",
       "    </tr>\n",
       "    <tr>\n",
       "      <th>3</th>\n",
       "      <td>4</td>\n",
       "      <td>intj</td>\n",
       "      <td>views on predestination exist in the catholic ...</td>\n",
       "    </tr>\n",
       "    <tr>\n",
       "      <th>4</th>\n",
       "      <td>5</td>\n",
       "      <td>intj</td>\n",
       "      <td>a little kitty cat i mean the real dangerousne...</td>\n",
       "    </tr>\n",
       "  </tbody>\n",
       "</table>\n",
       "</div>"
      ],
      "text/plain": [
       "   chunk_id label                                               text\n",
       "0         1  intj  the pope is infallible this is a catholic dogm...\n",
       "1         2  intj  martin said that george floyd was in heaven it...\n",
       "2         3  intj  while supporting abortion lol abortion again i...\n",
       "3         4  intj  views on predestination exist in the catholic ...\n",
       "4         5  intj  a little kitty cat i mean the real dangerousne..."
      ]
     },
     "execution_count": 4,
     "metadata": {},
     "output_type": "execute_result"
    }
   ],
   "source": [
    "df.head()"
   ]
  },
  {
   "cell_type": "code",
   "execution_count": 8,
   "id": "642b7948",
   "metadata": {},
   "outputs": [
    {
     "data": {
      "text/plain": [
       "array(['intj', 'intp', 'entj', 'entp', 'infj', 'infp', 'enfj', 'enfp',\n",
       "       'istj', 'isfj', 'estj', 'esfj', 'istp', 'isfp', 'estp', 'esfp'],\n",
       "      dtype=object)"
      ]
     },
     "execution_count": 8,
     "metadata": {},
     "output_type": "execute_result"
    }
   ],
   "source": [
    "df['label'].unique()"
   ]
  },
  {
   "cell_type": "code",
   "execution_count": 9,
   "id": "f1db85fe",
   "metadata": {},
   "outputs": [],
   "source": [
    "# Séparer chaque lettre du type MBTI dans une nouvelle colonne\n",
    "df['ie'] = df['label'].str[0].str.upper()  # I ou E\n",
    "df['ns'] = df['label'].str[1].str.upper()  # N ou S\n",
    "df['tf'] = df['label'].str[2].str.upper()  # T ou F\n",
    "df['jp'] = df['label'].str[3].str.upper()  # J ou P"
   ]
  },
  {
   "cell_type": "code",
   "execution_count": 11,
   "id": "fcbe193a",
   "metadata": {},
   "outputs": [],
   "source": [
    "df['I'] = (df['ie'] == 'I').astype(int)\n",
    "df['N'] = (df['ns'] == 'N').astype(int)\n",
    "df['T'] = (df['tf'] == 'T').astype(int)\n",
    "df['J'] = (df['jp'] == 'J').astype(int)"
   ]
  },
  {
   "cell_type": "code",
   "execution_count": 12,
   "id": "e7dca216",
   "metadata": {},
   "outputs": [
    {
     "data": {
      "text/html": [
       "<div>\n",
       "<style scoped>\n",
       "    .dataframe tbody tr th:only-of-type {\n",
       "        vertical-align: middle;\n",
       "    }\n",
       "\n",
       "    .dataframe tbody tr th {\n",
       "        vertical-align: top;\n",
       "    }\n",
       "\n",
       "    .dataframe thead th {\n",
       "        text-align: right;\n",
       "    }\n",
       "</style>\n",
       "<table border=\"1\" class=\"dataframe\">\n",
       "  <thead>\n",
       "    <tr style=\"text-align: right;\">\n",
       "      <th></th>\n",
       "      <th>chunk_id</th>\n",
       "      <th>label</th>\n",
       "      <th>text</th>\n",
       "      <th>ie</th>\n",
       "      <th>ns</th>\n",
       "      <th>tf</th>\n",
       "      <th>jp</th>\n",
       "      <th>I</th>\n",
       "      <th>N</th>\n",
       "      <th>T</th>\n",
       "      <th>J</th>\n",
       "    </tr>\n",
       "  </thead>\n",
       "  <tbody>\n",
       "    <tr>\n",
       "      <th>0</th>\n",
       "      <td>1</td>\n",
       "      <td>intj</td>\n",
       "      <td>the pope is infallible this is a catholic dogm...</td>\n",
       "      <td>I</td>\n",
       "      <td>N</td>\n",
       "      <td>T</td>\n",
       "      <td>J</td>\n",
       "      <td>1</td>\n",
       "      <td>1</td>\n",
       "      <td>1</td>\n",
       "      <td>1</td>\n",
       "    </tr>\n",
       "    <tr>\n",
       "      <th>1</th>\n",
       "      <td>2</td>\n",
       "      <td>intj</td>\n",
       "      <td>martin said that george floyd was in heaven it...</td>\n",
       "      <td>I</td>\n",
       "      <td>N</td>\n",
       "      <td>T</td>\n",
       "      <td>J</td>\n",
       "      <td>1</td>\n",
       "      <td>1</td>\n",
       "      <td>1</td>\n",
       "      <td>1</td>\n",
       "    </tr>\n",
       "    <tr>\n",
       "      <th>2</th>\n",
       "      <td>3</td>\n",
       "      <td>intj</td>\n",
       "      <td>while supporting abortion lol abortion again i...</td>\n",
       "      <td>I</td>\n",
       "      <td>N</td>\n",
       "      <td>T</td>\n",
       "      <td>J</td>\n",
       "      <td>1</td>\n",
       "      <td>1</td>\n",
       "      <td>1</td>\n",
       "      <td>1</td>\n",
       "    </tr>\n",
       "    <tr>\n",
       "      <th>3</th>\n",
       "      <td>4</td>\n",
       "      <td>intj</td>\n",
       "      <td>views on predestination exist in the catholic ...</td>\n",
       "      <td>I</td>\n",
       "      <td>N</td>\n",
       "      <td>T</td>\n",
       "      <td>J</td>\n",
       "      <td>1</td>\n",
       "      <td>1</td>\n",
       "      <td>1</td>\n",
       "      <td>1</td>\n",
       "    </tr>\n",
       "    <tr>\n",
       "      <th>4</th>\n",
       "      <td>5</td>\n",
       "      <td>intj</td>\n",
       "      <td>a little kitty cat i mean the real dangerousne...</td>\n",
       "      <td>I</td>\n",
       "      <td>N</td>\n",
       "      <td>T</td>\n",
       "      <td>J</td>\n",
       "      <td>1</td>\n",
       "      <td>1</td>\n",
       "      <td>1</td>\n",
       "      <td>1</td>\n",
       "    </tr>\n",
       "  </tbody>\n",
       "</table>\n",
       "</div>"
      ],
      "text/plain": [
       "   chunk_id label                                               text ie ns tf  \\\n",
       "0         1  intj  the pope is infallible this is a catholic dogm...  I  N  T   \n",
       "1         2  intj  martin said that george floyd was in heaven it...  I  N  T   \n",
       "2         3  intj  while supporting abortion lol abortion again i...  I  N  T   \n",
       "3         4  intj  views on predestination exist in the catholic ...  I  N  T   \n",
       "4         5  intj  a little kitty cat i mean the real dangerousne...  I  N  T   \n",
       "\n",
       "  jp  I  N  T  J  \n",
       "0  J  1  1  1  1  \n",
       "1  J  1  1  1  1  \n",
       "2  J  1  1  1  1  \n",
       "3  J  1  1  1  1  \n",
       "4  J  1  1  1  1  "
      ]
     },
     "execution_count": 12,
     "metadata": {},
     "output_type": "execute_result"
    }
   ],
   "source": [
    "df.head()"
   ]
  },
  {
   "cell_type": "code",
   "execution_count": 24,
   "id": "ee08a3b2",
   "metadata": {},
   "outputs": [
    {
     "name": "stdout",
     "output_type": "stream",
     "text": [
      "balance of the target ie : I\n",
      "1    0.664045\n",
      "0    0.335955\n",
      "Name: proportion, dtype: float64\n",
      "balance of the target ns :N\n",
      "1    0.785835\n",
      "0    0.214165\n",
      "Name: proportion, dtype: float64\n",
      "balance of the target tf :T\n",
      "0    0.582731\n",
      "1    0.417269\n",
      "Name: proportion, dtype: float64\n",
      "balance of the target jp :J\n",
      "0    0.543701\n",
      "1    0.456299\n",
      "Name: proportion, dtype: float64\n"
     ]
    }
   ],
   "source": [
    "print(f'balance of the target ie : {df['I'].value_counts(normalize=True)}')\n",
    "print(f'balance of the target ns :{df['N'].value_counts(normalize=True)}')\n",
    "print(f'balance of the target tf :{df['T'].value_counts(normalize=True)}')\n",
    "print(f'balance of the target jp :{df['J'].value_counts(normalize=True)}')"
   ]
  },
  {
   "cell_type": "code",
   "execution_count": null,
   "id": "bb8aea6b",
   "metadata": {},
   "outputs": [],
   "source": []
  }
 ],
 "metadata": {
  "kernelspec": {
   "display_name": "vibe",
   "language": "python",
   "name": "python3"
  },
  "language_info": {
   "codemirror_mode": {
    "name": "ipython",
    "version": 3
   },
   "file_extension": ".py",
   "mimetype": "text/x-python",
   "name": "python",
   "nbconvert_exporter": "python",
   "pygments_lexer": "ipython3",
   "version": "3.12.9"
  }
 },
 "nbformat": 4,
 "nbformat_minor": 5
}
