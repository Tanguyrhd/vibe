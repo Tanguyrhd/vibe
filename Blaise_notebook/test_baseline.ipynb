{
 "cells": [
  {
   "cell_type": "code",
   "execution_count": 1,
   "id": "9c70715d",
   "metadata": {},
   "outputs": [],
   "source": [
    "import pickle"
   ]
  },
  {
   "cell_type": "code",
   "execution_count": 2,
   "id": "3a4c196a",
   "metadata": {},
   "outputs": [],
   "source": [
    "with open(\"logistic_reg.pkl\", \"rb\") as f:\n",
    "    model = pickle.load(f)"
   ]
  },
  {
   "cell_type": "code",
   "execution_count": 3,
   "id": "b8fcb359",
   "metadata": {},
   "outputs": [],
   "source": [
    "\n",
    "with open(\"vectorizer.pkl\", \"rb\") as f:\n",
    "    vectorizer = pickle.load(f)"
   ]
  },
  {
   "cell_type": "code",
   "execution_count": 20,
   "id": "43f84cdb",
   "metadata": {},
   "outputs": [],
   "source": [
    "new_ex= \"\"\"\n",
    "“THE ONE, BIG, BEAUTIFUL BILL” has PASSED the House of Representatives! This is arguably the most significant piece of Legislation that will ever be signed in the History of our Country! The Bill includes MASSIVE Tax CUTS, No Tax on Tips, No Tax on Overtime, Tax Deductions when you purchase an American Made Vehicle, along with strong Border Security measures, Pay Raises for our ICE and Border Patrol Agents, Funding for the Golden Dome, “TRUMP Savings Accounts” for newborn babies, and much more! Great job by Speaker Mike Johnson, and the House Leadership, and thank you to every Republican who voted YES on this Historic Bill! Now, it’s time for our friends in the United States Senate to get to work, and send this Bill to my desk AS SOON AS POSSIBLE! There is no time to waste. The Democrats have lost control of themselves, and are aimlessly wandering around, showing no confidence, grit, or determination. They have forgotten their landslide loss in the Presidential Election, and are warped in the past, hoping someday to revive Open Borders for the World’s criminals to be able to pour into our Country, men to be able to play in women’s sports, and transgender for everybody. They don’t realize that these things, and so many more like them, will NEVER AGAIN happen!\n",
    "\"\"\""
   ]
  },
  {
   "cell_type": "code",
   "execution_count": 21,
   "id": "3816a2e7",
   "metadata": {},
   "outputs": [],
   "source": [
    "X_input=vectorizer.transform([new_ex])"
   ]
  },
  {
   "cell_type": "code",
   "execution_count": 22,
   "id": "28e3b050",
   "metadata": {},
   "outputs": [],
   "source": [
    "pred=model.predict(X_input)[0]"
   ]
  },
  {
   "cell_type": "code",
   "execution_count": 23,
   "id": "ae2b6b0f",
   "metadata": {},
   "outputs": [
    {
     "name": "stdout",
     "output_type": "stream",
     "text": [
      "Predicted MBTI type: infj\n"
     ]
    }
   ],
   "source": [
    "print(\"Predicted MBTI type:\", pred)"
   ]
  },
  {
   "cell_type": "code",
   "execution_count": null,
   "id": "4f0e1604",
   "metadata": {},
   "outputs": [],
   "source": []
  }
 ],
 "metadata": {
  "kernelspec": {
   "display_name": "lewagon",
   "language": "python",
   "name": "python3"
  },
  "language_info": {
   "codemirror_mode": {
    "name": "ipython",
    "version": 3
   },
   "file_extension": ".py",
   "mimetype": "text/x-python",
   "name": "python",
   "nbconvert_exporter": "python",
   "pygments_lexer": "ipython3",
   "version": "3.12.9"
  }
 },
 "nbformat": 4,
 "nbformat_minor": 5
}
